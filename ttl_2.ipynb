{
  "nbformat": 4,
  "nbformat_minor": 0,
  "metadata": {
    "colab": {
      "provenance": [],
      "mount_file_id": "https://github.com/Sujeet2003/Machine-Learning/blob/main/ttl_2.ipynb",
      "authorship_tag": "ABX9TyPL5wNYyU9j0+LAE4L8P2Qq",
      "include_colab_link": true
    },
    "kernelspec": {
      "name": "python3",
      "display_name": "Python 3"
    },
    "language_info": {
      "name": "python"
    }
  },
  "cells": [
    {
      "cell_type": "markdown",
      "metadata": {
        "id": "view-in-github",
        "colab_type": "text"
      },
      "source": [
        "<a href=\"https://colab.research.google.com/github/Sujeet2003/Machine-Learning/blob/main/ttl_2.ipynb\" target=\"_parent\"><img src=\"https://colab.research.google.com/assets/colab-badge.svg\" alt=\"Open In Colab\"/></a>"
      ]
    },
    {
      "cell_type": "code",
      "source": [
        "import pandas as pd"
      ],
      "metadata": {
        "id": "EdZfIcIy1qWO"
      },
      "execution_count": 181,
      "outputs": []
    },
    {
      "cell_type": "code",
      "source": [
        "!pip install PyPDF2 --quiet"
      ],
      "metadata": {
        "id": "_mS_8SqSt1Hj"
      },
      "execution_count": 182,
      "outputs": []
    },
    {
      "cell_type": "code",
      "source": [
        "! pip install PyMuPDF --quiet\n",
        "! pip install pytesseract --quiet\n",
        "! pip install pillow --quiet"
      ],
      "metadata": {
        "id": "IDsUV3ZcvKUf"
      },
      "execution_count": 183,
      "outputs": []
    },
    {
      "cell_type": "code",
      "source": [
        "!apt-get install tesseract-ocr --quiet"
      ],
      "metadata": {
        "colab": {
          "base_uri": "https://localhost:8080/"
        },
        "collapsed": true,
        "id": "QtaXHaqfvvVT",
        "outputId": "23dc6bfa-2d06-480a-af6c-5ff32c3310bf"
      },
      "execution_count": 184,
      "outputs": [
        {
          "output_type": "stream",
          "name": "stdout",
          "text": [
            "Reading package lists...\n",
            "Building dependency tree...\n",
            "Reading state information...\n",
            "tesseract-ocr is already the newest version (4.1.1-2.1build1).\n",
            "0 upgraded, 0 newly installed, 0 to remove and 49 not upgraded.\n"
          ]
        }
      ]
    },
    {
      "cell_type": "code",
      "execution_count": 185,
      "metadata": {
        "collapsed": true,
        "id": "D-Ps6-AQtKyv"
      },
      "outputs": [],
      "source": [
        "import PyPDF2\n",
        "\n",
        "def extract_text_from_pdf(pdf_path, num_pages=30):\n",
        "\n",
        "  extracted_text = \"\"\n",
        "  with open(pdf_path, 'rb') as pdf_file:\n",
        "    pdf_reader = PyPDF2.PdfReader(pdf_file)\n",
        "    num_pages_in_pdf = len(pdf_reader.pages)\n",
        "\n",
        "    for page_num in range(min(num_pages, num_pages_in_pdf)):\n",
        "      page = pdf_reader.pages[page_num]\n",
        "      extracted_text += page.extract_text()\n",
        "\n",
        "  return extracted_text\n",
        "\n",
        "\n",
        "pdf_path = '/content/Technical Deliverable Specification_SnPS _SP2103303_V1 2 (1) (1).pdf'\n",
        "\n",
        "extracted_text = extract_text_from_pdf(pdf_path)"
      ]
    },
    {
      "cell_type": "code",
      "source": [
        "extracted_text.replace('\\n', ' ')"
      ],
      "metadata": {
        "colab": {
          "base_uri": "https://localhost:8080/",
          "height": 163
        },
        "id": "BopmY7hg7h3o",
        "outputId": "11e79644-7060-4126-f6c8-5cf7f8555342"
      },
      "execution_count": 186,
      "outputs": [
        {
          "output_type": "execute_result",
          "data": {
            "text/plain": [
              "'     Technical Deliverable Specification Appendix F     © AIRBUS   Date: 19/02/2022 AIRBUS AMBER  Reference_TDS_SP2103303  Page 1 of 432     Technical Deliverable Specification (TDS)  Airbus India Simulation & Physical  System activities     Technical Deliverable Specification  reference SP2103303      This document specifies the Engineering & Intellectual services contracted by Airbus Group to a Service  Provider. It is the Appendix F of the Work Specification for engineering referenced SP2103303     This Technical Deliverable Specification shall be initialled on each page solely by the selected Service  Provider at the outcome of the selection process accomplished by the Procurement Department.    Record of revisions    Issue /  versio n Date Subject Purchaser’s author  FAMILY NAME, First  name Phone  Mail  1.0. 19/02/2022  Creation VASHISTHA, Kartikey  RANGANATH, Pavan  +91-80-66380199  kartikey.vashistha@airbus.com   pavan.ranganath@airbus.com             Other Airbus Group’ contacts    Requestors, Technical leaders / coordinators, technical contacts, persons in charge of specific means  +91 80 66380282     Guru Prasad Raghavendra, <guru.g.raghavendra@airbus.com > HO Simulation & Physical System • AIOEY  Nitin Mohan, < nitin.n.mohan@airbus.com  >Subcontracting Manager, Senior Transversal Leader  • AIOEO  Jegathambigai Balaji < jegathambigai.balaji@airbus.com >  HO Engineering Quality • AIOEQ  Nitish-Saroj Kumar, nitish-saroj.kumar@airbus.com,  HO Physical Systems Architecture AIOEYP   Susam Borthakur susam.borthakur@airbus.com , HO Aircraft Controls • AIOEYC   Praveena Slathia <praveena.slathia@airbus.com >HO Navigation & Communication • AIOEYN  Ghati, Sayantan < sayantan.ghati@airbus.com >HO Industrial Systems • AIOEYI  Pankaj BHUTANI < pankaj.bhutani@airbus.com> HO Simulation Platforms & Frameworks • AIOEYS  Veena Venugopal < veena.venugopal@airbus.com >HO Maintenance • AIOEYH  Srivats Srinivasan < srivats.srinivasan@airbus.com> HO Systems Modeling • AIOEYM       Technical Deliverable Specification Appendix F     © AIRBUS   Date: 19/02/2022 AIRBUS AMBER  Reference_TDS_SP2103303 Page 2 of 432   Security classification synthesis.   CLASSIFICATION  Company Governmental/Defence Export Control Privacy (GDPR)  Airbus AMBER x OCCAR  Dual Use x Personal Data   Airbus RED  Governmental  EAR  Personal Sensitive  Data   Third Party  Classification  NATO  Military/  Assimilated       National Military  (FR, DE, UK, ES)          ITAR         EAR600                PROGRAMS OR PROJECTS CONCERNED  CIVIL PROGRAM  ◻ MILITARY PROGRAM   ◻ INNOVATION  ◻ OTHERS PROJECTS   ◻  specify the name(s): A350, SA,  LR,A380,XLR  specify the name(s):  specify the name(s):  specify the name(s): R&T          Note: The Service Provider shall protect from loss, destruction, falsification, corruption,  unauthorized access and unauthorized release all relevant information that it accesses,  operates or processes.                                                          Technical Deliverable Specification Appendix F     © AIRBUS  Date: 19/02/2022 AIRBUS AMBER  Reference_TDS_SP2103303  Page 3 of 432   ADDITIONAL TERMS AND ACRONYMS   This list amends the list of terms and acronyms provided in the chapter 1 of the Standard Work  Specification for Engineering.  A/C Aircraft  ABD AIRBUS Directives  ACMS Aircraft Condition Monitoring System   A-D Airbus Deutschland  ADC Aircraft Data Collection  ADL Applicable Documentation List   ADSR Aircraft Drawing System Rules  AECI Airbus Engineering Centre India   A-F Airbus France  AI Airbus India Operations   AL Activity Lead  APID Airbus Process instruction Deviation  ARL Applicable Requirements List  ATD Applicable Technical Document   BAT Business Acceptance Test  BOM Bill of material  BOS Business Operational Support  CAD Computer Aided Design   CACAU Case Configurator for ADC Usage  CAM Compliance Analysis Matrix  CCGRL Compliance Commitment on GRAMS Requirement List  CCS Change Control Sheet  CDR Critical Design Review  CDS Component Delivery Specification  CILAT Current Injection and Length Assumption Table  CIRCE Conception Informatisée et Rationalisée des Câblages Electriques  CN Change Note  CoC Centre of Competence  CoE Centre of Excellence  CPPR Capture Process product Request   CR Change request  CRM Contractual Review Meeting   CTS Customized Technical Specification  DA Drawing Assembly  DAL Development Assurance Level  DAN Delivery Acceptance Note  DBD Data Basis for Design   DCN Design change note  DDP Declaration of Design and Performance   DDQC Definition dossier quality check  DDMS Digital Design & Manufacturing Systems  DES Discrete Event Simulation  DM Data Management  DMU Digital Mock-Up  DOA Design Organization Approval  DOORS  Dynamic Object Orientated Requirements System   DQN Design Queries Notes  DRCL Deliverable Release Checklist  DRL Documentation Requirement List  DS Design Solution  DWG Drawing  EASA European Aviation Safety Agency  EBOM Engineering Bill Of Materials   ECM Engineering Coordination Memo  ECN Engineering Change Note  ECP Engineering Change Proposal  EETL Applicable Tools List for Design Service providers      Technical Deliverable Specification Appendix F     © AIRBUS  Date: 19/02/2022 AIRBUS AMBER  Reference_TDS_SP2103303  Page 4 of 432   EP Enabling Platform   ERHC Electrical Routing and Harness Concept  ESDCR Extended Schematics Diagram Configured Repository   EU European Union  FDIMU Flight Data Interface and Management Unit  FEM Finite Element Models  FP/FPWU Fix Price Work Package  FPM Final Project Meeting  FPQ First Part Qualification  FTA First Technical Acceptance  FTR First Time Right  FTS File Transfer Service  FSVS Functional sizing, verification and support activities  GAM Global Architecture Mock-up  GRAMS General Requirements for Aero structure and Material Suppliers   GRESS General Requirements for Equipment and System Suppliers  GRM Geometric Reference Mock-up  HMG Harmonized Material Group  HoV Head of Version  HW Hardware  IC Installation Case  ICT Information and Communication Technology   ICY Interchangeability   INCOSE International Council on Systems Engineering  IPT Integrated Project Team   J&T Jigs & Tools  KOR Kick Off Review  KPI Key Performance Indicator  LR Long Range (A330 / A340)  LSBM Load Secure Batch Media   LT Lead time  MAPIS Material And Process, Interior & Structure   MBOM Manufacturing Bill Of Materials  iMBSE Industrial Model Based Systems Engineering  MCA Major Component Assembly  ME Spec. Manufacturing Engineering Specification  MoM Minutes of Meeting  MTTR Mean Time To Repair  MTBF Mean Time Before Failure   MSN Manufacturing Serial Number  N/A Not applicable  NSPI New Standard Part Introduction  NDB Navigation Database  OPC Operational Program Configuration  OBS Organization Breakdown Structure  OTD On Time Delivery   OSAM Overall System Architecture Model  P&M Processes and Methods  PDB Performance Database  PDM Product Data Management  PDR Preliminary Design Review  PI Product Increment  PO Purchase Order   PLM Product Lifecycle Management  PPRDCA Product Process Resource Data Centric Approach  PQN Process Query Note  PQP  Project Quality Plan  PRA Particular Risk Analysis  PRM Progress Review Meeting  PSA Physical System Architecture  PTS Product Technical Specification  PZ Part Zone  QAP Quality Assurance Plan      Technical Deliverable Specification Appendix F     © AIRBUS  Date: 19/02/2022 AIRBUS AMBER  Reference_TDS_SP2103303  Page 5 of 432   QRM Quality Review Meeting   RBE Requirement Based Engineering  RDF Requirement Discrepancy Form   RFC Request For Change  RFP Request for Proposal  RSDP Reference Structure Design Principles  S/C Subcontracting / subcontractor  SA A320 family  SAM Subcontracting Acceptance Memo  SDD Software Description Dossier  SFS Secure File Storage  sFMS Simulated Flight Management System  SNS Secure Network Storage  SI System Installation  SIDP System Installation Design Principles   SIIKDB System Installation Industrial Knowledge database  SIPT Systems Installation Patterns & Tools  SIRD System Installation Requirement Document  SLA Service Level Agreement  SP-AC0 Simulation Product Aircraft-0 (Simulator)  SPAN Supplier and Partners Airbus Network  SPE Simulation Product Engineer   SR Support/Service Request  SRD Software Requirements Document   SSCI Structure System Cabin Integration  STES Series Design Subcontracting  SubWU Sub Work Unit  SVCP Software Validation Control Plan  SVN Subversion   SVR Software Verification Report  SW Software  TBC To be confirmed  TBD To be decided/ defined  TDD  Technical Design Directive  TDP Technical Data Package  TDS Technical Deliverable Specification  TDU Technical Definition Unit  TDM Technical Database Management   TN Technical Note  TR Tooling Register  TrEsti Treatment Estimation  TRM Technical Review Meeting  TRS Technical Repercussion Sheet   UFP Unit Fixed Price  UI User Interface   UMS User Modifiable Software  UN United Nations  USA United State of America  V&V Verification and Validation  VPM Virtual Product Management  VR Virtual reality  VSIM-D Versatile Simulator - Design  VSIM-I Versatile Simulator - Integration  VSIM-T Versatile Simulator - Training  WB Wide Body (A300 / A310)  WBS Work Breakdown Structure  WD / FD Wiring Diagram / Function Diagram  WU Work Unit     This list amends the list of terms and acronyms provided in the Standard Work Specification     Technical Deliverable Specification Appendix F     © AIRBUS S.A.S.  Date: 19/02/2022 AIRBUS AMBER  Reference_TDS_SP2103303  Page 6 of 432     TABLE OF CONTENTS     Contents  ADDITIONAL TERMS AND ACRONYMS  3   TABLE OF CONTENTS  6   1 SUBCONTRACTED ACTIVITIES DESCRIPTION  10   THE SUBCONTRACTING PERIMETER ENCOMPASSES SUPPORT TO THE SIMULATION AND  PHYSICAL SYSTEM DEPARTMENT ACTIVITIES IN TERMS OF FULFILLING WORK-UNITS, WORK- PACKAGES , OR SKILLED RESOURCE PROVISIONS IN WORK-PROGRESS MODE . VARIOUS  GROUPS IN S&PS DEPARTMENTS ARE : 10   2 RESPONSIBILITY EXERCISED ON DELIVERABLES AND CRITICALITY OF THE ACTIVITY 10   2.1 Design Organisation Approval (DOA) Requirements 10   Not Applicable  10   2.2 Targeted Responsibility/Signatory Exercised on Deliverables 10   2.3 Criticality of the deliverables 10   PROJECT MANAGEMENT  11   3.1 Steering and Review Meetings 11   3.2 General Requirements Addendum 13   4 WORK PACKAGE ENABLING DATA 13   5 SUBCONTRACTED  ACTIVITIES  DESCRIPTION  (WORK UNIT) 14   5.1 AIOEYS - Simulation platforms & Frameworks 14   5.1.1 Model Integration - Minor 14   5.1.2 Model Integration - Medium 19   5.1.3 Model Integration - High 24   5.1.4 Platform Validation 28   5.1.5 Documentation 32   5.1.6 Analysis and Implementation - Minor 36   5.1.7 Analysis and Implementation - Medium 40   5.1.8 Analysis and Implementation - Major 44   5.1.9 Further Requirements for 5.1.1 to 5.1.8 50   5.1.10 Validation and Verification requirements 50   5.1.11 Purchaser enabled products and specific means 50   5.1.12 Forecast quantity and lead-time per work unit 50   5.2 AIOEYM - Systems Modeling 51   5.2.1 Model Development - Minor 51   5.2.2 Model Development - Medium 55   5.2.3 Model Development - Major 59   5.2.4 Platform Validation for Model development 62   5.2.5 Model Development Documentation 66   5.2.6 Model Delivery Support 69   5.2.7 Model Development Support 72   5.2.8 Model Loading In SimWorks 75   5.2.9 Further Requirements for 5.2.1 to 5.2.8 80   5.2.10 Validation and Verification requirements 80   5.2.11 Purchaser enabled products and specific means 80       Technical Deliverable Specification Appendix F     © AIRBUS S.A.S.  Date: 19/02/2022 AIRBUS AMBER  Reference_TDS_SP2103303  Page 7 of 432   5.2.12 Forecast quantity and lead-time per work unit 80   5.3 AIOEYN – FMS & Navigation activities 81   5.3.1 Bore sighting load generation work package 81   5.3.2   OPC PDB Work Package 84   5.3.3 sFMS DEFINED SCOPE Work Package 88   5.3.4 Further Requirements for 5.3.1 to 5.3.3  91   5.3.5 Validation and Verification requirements 91   5.3.6 Purchaser enabled products and specific means 91   5.3.7 Forecast quantity and lead-time per work unit 92   5.4 AIOEYP – Physical System Architecture 92   5.4.1 Equipment Model Management (EMM) 92   5.4.2 Electrical-Insitu 116   5.4.3 Electrical–Exsitu 127   5.4.4 Multi System Physical Architecture (MSPA) 142   5.4.5 Electrical Installation Design Directives (EIDD) 160   5.4.6 Further Requirements for 5.4.1 to 5.4.5 167   5.4.7 Validation and Verification requirements 167   5.4.8 Purchaser enabled products and specific means 167   5.4.9 Forecast quantity and lead-time per work unit 167   5.5 AIOEYI – Industrial Systems 169   5.5.1 Industry Flow Simulation-Discrete event simulation & Process Engineering-  Exsitu 169   5.5.2 3DX DELMIA - Prepare Manufacturing Bill Of Material and Process View- Exsitu  174  5.5.3 3DX DELMIA-create static plant Layout- Exsitu 178   5.5.4 3DX DELMIA - 3D Flow simulations and record animations-ExSitu 182   5.5.5 3DX DELMIA - Analyze and compare simulation scenario- Exsitu 186   5.5.6 Export process and 3D data to VR applications- Exsitu 190   5.5.7 Cameo modelling -1- Exsitu 194   5.5.8 Cameo modelling -2- Exsitu 198   5.5.9 Validate Tooling Registers-Low Volume- Exsitu 202   5.5.10 Validate Tooling Registers-Medium Volume- Exsitu 206   5.5.11 Validate Tooling Registers- High Volume- Exsitu 210   5.5.12  Write Manufacturing Engineering Specification- Exsitu 214   5.5.13 Write Component Delivery Specification (CDS)- Exsitu 218   5.5.14 System Installation Knowledge Database creation- Exsitu 222   5.5.15 Product Process Resource Data model creation (XML)- Exsitu 226   5.5.16 PPR DCA Industrial Architecture trades (Low complexity)- Exsitu 230   5.5.17 PPR DCA Industrial Architecture trades (Medium complexity)- Exsitu 234   5.5.18 PPR DCA Industrial Architecture trades (High complexity)- Exsitu 238   5.5.19 Further Requirements for 5.5.1 to 5.5.18 242   5.5.20 Validation and Verification requirements 242   5.5.21 Purchaser enabled products and specific means 242   5.5.22 Forecast quantity and lead-time per work unit 242   5.6 AIOEYH – Health Engineering 244   5.6.1 Support to ADC Loads Creation - Certification and UMS- Exsitu 244   5.6.2  Support ADC Loads Creation - Test Loads- Exsitu 249   5.6.3  Support ADC Certification, Test and UMS LoadR Creation- Exsitu 253   5.6.4  Support ADC CACAU Use Case Review- Exsitu 256   5.6.5  Yellow Pages Filling – normalization of ATAxx ICD – Minor- Exsitu 260   5.6.6  Customization – Conversion of PD/WD for ATA31 - Complexity: Low- Exsitu  264      Technical Deliverable Specification Appendix F     © AIRBUS S.A.S.  Date: 19/02/2022 AIRBUS AMBER  Reference_TDS_SP2103303  Page 8 of 432   5.6.7  Customization – Conversion of PD/WD for ATA31 - Complexity: Medium-  Exsitu 266   5.6.8  Customization – Conversion of PD/WD for ATA31 - Complexity: High- Exsitu  269  5.6.9  Customization – ATA 31 System Definition Activity - Low workload (< 100  MSNs)- Exsitu 272   5.6.10 Customization - ATA 31 System Definition Activity - High workload (> 100  MSNs)- Exsitu 275   5.6.11 Customization - ATA 31 System Definition Activity - SKYWISE extract  analysis- Exsitu 278   5.6.12 Yellow Pages Filling – normalization of ATAxx ICD – Medium- Exsitu 281   5.6.13 Yellow Pages Filling – normalization of ATAxx ICD – large- Exsitu 284   5.6.14 Yellow Pages Filling – Albatross Data Synchronization – Minor- Exsitu 287   5.6.15 Yellow Pages Filling – Albatross Data Synchronization – Medium- Exsitu 291   5.6.16 Yellow Pages Filling – Albatross Data Synchronization – Large- Exsitu 295   5.6.17 Support for Tool Development in Health Engineering - minor complexity- Insitu  299  5.6.18 Support for Tool Development in Health Engineering - major complexity- Insitu  303  5.6.19 Support for Data Collection Activity - minor complexity- Insitu 308   5.6.20 Support for Data Collection Activity - major complexity- Insitu 312   5.6.21 Customization – Updating PD/WD for ATA31 - Complexity: Low- Exsitu 318   5.6.22 Customization – Updating PD/WD for ATA31 - Complexity: Medium- Exsitu320   5.6.23 Customization – Updating PD/WD for ATA31 - Complexity: High- Exsitu 323   5.6.24 Further Requirements for HWU_01 to HWU_23 328   5.6.25 Validation and Verification requirements 328   5.6.26 Purchaser enabled products and specific means 328   5.6.27 Forecast quantity and lead-time per work unit 328   5.7 AIOEYC- Aircraft Controls 330   5.7.1    Support to package development- Flight Controls (Medium Complexity) 330   5.7.2 Further Requirements for 5.7.1 335   5.7.3 Validation and Verification requirements 335   5.7.4 Purchaser enabled products and specific means 335   5.7.5 Forecast quantity and lead-time per work unit 335   6 SUBCONTRACTED  ACTIVITIES  DESCRIPTION  (T&M) 336   6.1 AIOEYS - Simulation platforms & frameworks 336   6.1.1 Support to simulation platforms 336   6.1.2 Support to Simulation Frameworks 340   6.1.3 Further Requirements for 6.1.1 and 6.1.2 345   6.1.4 Validation and Verification requirements 345   6.1.5 Forecast quantity per deliverable, per year 345   6.1.6 Schedule, plan, milestones 345   6.2 AIOEYM - Systems Modeling 346   6.2.1 Support to simulation model development 346   6.2.2 Support to Overall System Architecture Modelling (OSAM) Activities 350   6.2.3 Further Requirements for 6.2.1 and 6.2.2 355   None 355   6.2.4 Validation and Verification requirements 355   6.2.5 Forecast quantity per deliverable, per year 355   6.2.6 Schedule, plan, milestones: NA 355   6.3 AIOEYN - – FMS & Navigation activities 356   6.3.1 sFMS MODEL DEV WORK PACKAGE 356   6.3.2 Further Requirements for 6.3.1 360       Technical Deliverable Specification Appendix F     © AIRBUS S.A.S.  Date: 19/02/2022 AIRBUS AMBER  Reference_TDS_SP2103303  Page 9 of 432   None 360   6.3.3 Validation and Verification requirements 360   6.3.4 Forecast quantity per deliverable, per year 360   6.3.5 Schedule, plan, milestones: NA 360   6.4 AIOEYP – Physical System Architecture 361   6.4.1 Support to MSPA Activities 361   6.4.2 Technical Requests related to Elec 364   6.4.3 Further Requirements for 6.4.1 to 6.4.2 369   6.4.4 Forecast quantity per deliverable, per year 369   6.4.5 Schedule, plan, milestones:  NA 369   6.5 AIOEYI - Industrial Systems 370   6.5.1 Industrial Flow Simulation - Discrete Event Simulation & Process Engineering  370  6.5.2 Industrial Digital Mock-up and process Engineering 374   6.5.3 Industrial Model Based System Engineering & Industrial Robotics 379   6.5.4 Manufacturing Engineering Specification Management 383   6.5.5 Support to Industrial Architecture & trade studies 388   6.5.6 Further Requirements for 6.5.1 to 6.5.5 393   6.5.7 Forecast quantity per deliverable, per year 393   6.5.8 Schedule, plan, milestones: NA 393   6.6 AIOEYH –Health Engineering 394   6.6.1 Support to BITE Integration Activity 394   6.6.2 Support for Filter File Generation Activity 400   6.6.3 Support for Tool Development in Health Engineering 404   6.6.4 Support for Modelling in Health Engineering Development 407   6.6.5 Support for Data Collection Activity 412   6.6.6 Further Requirements for 6.6.1 to 6.6.5 417   6.6.7 Validation and Verification requirements 417   6.6.8 Forecast quantity per deliverable, per year 417   6.6.9 Schedule, plan, milestones: NA 417   6.7 AIOEYC- Aircraft Controls 418   6.7.1 Support to simulation model development- Flight Controls 418   6.7.2 Support to simulation model development- Hydraulics 422   6.7.3 Support to data analysis and dashboard development 427   6.7.4 Further Requirements for 6.7.1 to 6.7.3 - None 432   6.7.5 Validation and Verification requirements - None 432   6.7.6 Forecast quantity per deliverable, per year 432   6.7.7 Schedule, plan, milestones: None 432              Technical Deliverable Specification Appendix F     © AIRBUS S.A.S.  Date: 19/02/2022 AIRBUS AMBER  Reference_TDS_SP2103303  Page 10 of 432   1 SUBCONTRACTED ACTIVITIES DESCRIPTION   The subcontracting perimeter encompasses support to the Simulation and Physical System  department activities  in terms of fulfilling Work-units, Work-packages, or Skilled Resource  provisions in Work-progress mode. Various groups in S&PS departments are:  \\uf0b7 Physical Systems Architecture (AIOEYP)  \\uf0b7 Aircraft Controls (AIOEYC)  \\uf0b7 Navigation & Communication (AIOEYN)  \\uf0b7 Industrial Systems (AIOEYI)  \\uf0b7 Simulation Platforms & Frameworks (AIOEYS)  \\uf0b7 Maintenance (AIOEYH)  \\uf0b7 Systems Modeling (AIOEYM)  2 RESPONSIBILITY EXERCISED ON DELIVERABLES AND CRITICALITY OF THE ACTIVITY  2.1 Design Organisation Approval (DOA) Requirements  Not Applicable    2.2 Targeted Responsibility/Signatory Exercised on Deliverables     The paragraph and table below is ONLY Applicable to: AIRBUS COMMERCIAL AIRCRAFT  The maximum Service Provider’s targeted responsibility / signatory exercised on deliverables is as follows:     Deliverables are  non A/C related  Deliverables are A/C related    Authoring  refer to M1264  Controlled DOA Signature  refer to A1020/M1020   Targeted  responsibility /  signatory level  N/A N/A Authoring  Signature Approver  Signature Authorizer  Signature Airworthiness Signature  ☐ ☒ ☐ ☐ ☐ ☐   The activity is  not DOA related The activity is DOA related  Table 2-1. Targeted responsibility / signatory exercised on deliverables    2.3 Criticality of the deliverables    The paragraph and table below is ONLY Applicable to: AIRBUS COMMERCIAL AIRCRAFT        Technical Deliverable Specification Appendix F     © AIRBUS S.A.S.  Date: 19/02/2022 AIRBUS AMBER  Reference_TDS_SP2103303  Page 11 of 432   The highest criticality and potential consequence on aircraft navigability / airworthiness of a defect from a  deliverable of this Technical Specification is as follows:    Criticality of the deliverables Applicability  Hazardous – Catastrophic  (Unsafe conditions / Class 1 parts / DAL A, DAL B ...) ☐  Major  (Class 2 parts / DAL C...) ☐  Minor  (Reliability / Class 3 parts / DAL D) ☐  Below minor  (Class 4 parts / DAL E ...) ☐  None ☐  Table 2-2. Highest criticality of the deliverables  PROJECT MANAGEMENT   3.1 Steering and Review Meetings  The following regular meetings have to be considered by the Service Provider:  Meeting Objectives Participants Frequency   /  deadline Service  Provider  lead-time  to provide  the MoM  Purchaser  lead-time to  validate the  MoM Location  KoM:  Kick-off  Meeting Official start of the  subcontracted service.  Handover of information  and set-up of pre-defined  communication structure.  Work package  leaders or focal  points from  Purchaser &  Service Provider,  technical  representatives  once 2 Days 2 Days Online/  Offline  PRM:  Progress  Review  Meetings Please see description  below* Work package   leaders or focal  points from  Purchaser &  Service Provider,  technical  representatives  weekly 2 Days  2 Days Online/  Offline  TRM:  Technical  Review  Meetings Please see description  below ** Work package   leaders or focal  points from  Purchaser &  Service Provider,  technical  representatives monthly 2 Days  2 Days Online /  Offline      Technical Deliverable Specification Appendix F     © AIRBUS S.A.S.  Date: 19/02/2022 AIRBUS AMBER  Reference_TDS_SP2103303  Page 12 of 432       The reviews can be done either physically on Purchaser’s or Service Provider’s site, or remotely (phone or  videoconference), provided the efficiency and performance of the review is ensured.  The minutes shall be provided by the Service Provider, containing, but not limited to:  - Demonstration of meeting objectives fulfilment (reporting, statements),  - Identification of deviations,  - Record of decisions / actions agreed between the Service Provider and the Purchaser during the review.    *Project Review Meeting (PRM)   * The Project review Meeting (PRM) is at the level of the Technical Deliverable Specification and associated  catalogue and manages also middle term activities. The PRM is managed at Work-Package Leader or Head  Of level. The main objective of the PRM is to monitor technical activities from the project stand point (progress  and issues), namely:    - Consolidation of data  - Monitor project risks and find solutions with the supplier,  - Review offshore activity / in situ resources status,  - Review and validate the supplier performance (OTD & OQD)   - Review Airbus inputs data to supplier (workload visibility & clarity of requirements).    TRM issues & risks can be inputs to the PRM. The PRM is managed on Monthly or Quarterly basis (maximum).    ** The Technical Review Meeting (TRM) scope is at the level of the Work Unit per catalogue and manages  short term activities & deliverables at the Engineer or Work-Package Leader level. The TRM consists of  operational reviews and detailed technical reviews to follow-up WU deliverables. It is managed on regular  basis, can be weekly. QRM:  Quality  Review  Meeting Service Provider to report  the overall quality status  (based on its QAP,  Assessment & Audit, and  Concessions). Service Provider’s  coordinator, BoD,  quality  representatives. quarterly 2 days 5 days Online/  Offline  CRM:  Contractu al Review  Meeting Technical / Quality / S/C  Management /  Procurement. Purchaser’s buyer,  authorised Service  Provider’s  employee, s/c  manager, BoD. quarterly 5days 5 days Online/  Offline  FPM:  Final  Project  Meeting Aims at freezing the  Deliverables Acceptance  Status, reviewing lessons  learnt and best practices,  reviewing closure plan  (stop of activities, secure  IS/IT decommissioning,  secure  archiving/retention). Work package   leaders or focal  points from  Purchaser &  Service Provider,  technical  representatives  5 days after  services  completion/  release of the  last  deliverable  5 Days 5 Days Online/  Offline      Technical Deliverable Specification Appendix F     © AIRBUS S.A.S.  Date: 19/02/2022 AIRBUS AMBER  Reference_TDS_SP2103303  Page 13 of 432   3.2 General Requirements Addendum  4 WORK PACKAGE ENABLING DATA  Free-text/WU description Content    In Sections 5 and 6, the service provider will be informed regarding:  - Nominated Purchaser contacts  - Description of the activities. Service details and types to be subcontracted  - List of expected deliverables with their description, acceptance criteria, Inputs, tools and documents  requested, KPI’s, and planning including intermediate milestones expected if needed.  - Quantity & Volumes for information  - Level of security qualification  - Project operational plan (Reviews, schedule,)    Reminder: On-site Criteria     The subcontracting activities can be performed on Airbus premises only if:  - Required specific tools are not available in the extended enterprise tool list  - Restrictive laws governing military programmes or processing of specific data/access  - Work has to be performed on specific areas such as in aircraft, helicopters, or test benches  - Work with hardware available on site only  - Restrictive criteria due to specific innovation programs / confidential projects      Technical Deliverable Description Appendix F       © AIRBUS S.A.S.  Date: 19/02/2022 AIRBUS AMBER  Reference_TDS_SP2103303  Page 14 of 432     5 SUBCONTRACTED  ACTIVITIES  DESCRIPTION  (WORK UNIT)  5.1 AIOEYS - Simulation platforms & Frameworks  The sections 5.1.1 to 5.1.8 describes the Work units to be executed for platforms and frameworks activities  5.1.1 MODEL INTEGRATION - MINOR    Nominated Purchaser Contacts   Work Package Focal Point: Pankaj BHUTANI,  HOG-AIOEYS, Airbus I ndia. pankaj.bhutani@airbus.com   Batch No.  SWU_01    Description   The Supplier shall provide support to AIOEYS in order to develop the software integration Minor work unit for platform applic ation under the responsibility of Airbus India Simulation  Product Engineer (SPE).  The following steps of activities need to be completed for the Model Integration Minor Work Unit of the Simulation application development as per the AIM.  ● SCD Update/Verification for model to be integrated  ● Check availability of model and related inputs in the model repository  ● Collect the Model inputs like MICDs, Model library, data files, documentation etc. from Model repository  ● Perform the MICD diff analysis.  ● Perform the connections to be added/modified for the model to be integrated.  ● Perform the model integration.  ● Deliver the working simulation application into the filer.  ● Perform the simulation application test.    Complexity Criteria FTR Criteria Lead Time/ delivery Date  Minor Platform specific All the CRs should be correctly implemented. Acceptance criteria are  zero issues and no rejected delivery. T0 + 1 day or as defined during  KOM      Complexity Criteria FTR Criteria Lead Time/ delivery Date      Technical Deliverable Description Appendix F       © AIRBUS S.A.S.  Date: 19/02/2022 AIRBUS AMBER  Reference_TDS_SP2103303  Page 15 of 432   Minor VSIM-I: up to 2  models or packages  with no interface  changes/ up to 100  connection changes All the CRs should be correctly implemented. Acceptance criterions   are zero issues , no regression, validated & delivered in both BLR &  TLS platforms (as applicable) T0 + 1 day or as defined during  KOM    Complexity Criteria FTR Criteria Lead Time/ delivery Date  Minor SP AC0: up to 5  models and up to 100  connection changes All the CRs should be correctly implemented. Acceptance criteria are  zero issues and no rejected delivery. T0 + 1 day or as defined during  KOM    Complexity Criteria FTR Criteria Lead Time/ delivery Date  Minor VSIM-D validation  activities, like TD/TF  execution.  Also suitable for  CPSP/DGWP/ALTO  frameworks update. Observations during validation shall be properly captured.  All frameworks shall be correctly implemented. Acceptance criteria are  zero issues and no rejected delivery. T0 + 1 day or as defined during  KOM    ● NOTE: T0 is the start date of this WORK UNIT, refer to the KOM definition in the section above.  ● Major issue is defined as which will impact the AIOEYS delivery date or the quality of the delivery to the end customer. And the delivery would be marked as REJECTED  DELIVERY from Airbus India. The re-work in this case needs to be done in 1 day and rework effort/any effort after the agreed delivery date (refer section above) cannot be billed  to Airbus India.  ● Minor issues are defined as which can be fixed without any impact on delivery date and delivery quality from AIOEYS to the end customer. The re-work in this case needs to be  done in 4 hours and rework effort/any effort after agreed delivery date (refer section above) cannot be billed to Airbus India.  ● The decision to classify the issue as minor or major is at the discretion of AIOEYS SPE/SSPE.  ● The table below indicates the change that could happen after input frozen window :  Complexity Criteria Number of Changes Input Frozen window  Minor Number of CRs  <=2 T0 + 1  Change : New modification CR which is not indicated in previous CRs  or modification or update of current CR    Assumptions:  ● The Integration Manual is the master of the process & can change for improvements. Process steps must be bound to this document.   ● The time duration for any step is dependent on the AIM & can change during configuration. Intimation must be given when it changes & accordingly actions must be taken from  the supplier to adhere to it.  ● CR refers to any change request like Jira, DM, FT, etc.    General Acceptance Criteria      Technical Deliverable Description Appendix F       © AIRBUS S.A.S.  Date: 19/02/2022 AIRBUS AMBER  Reference_TDS_SP2103303  Page 16 of 432   The Service Provider shall deliver under the following criteria’s expectations to ensure their acceptance:   ● Compliance to specific process, method, technical referential, format  ● Usage of templates  ● Delivered on-time and on-quality  ● Comprehensive description of the work performed  ● Technical quality  ● Completeness   ● Correctness   ● Technical agreement by Purchaser specialist   ● Open points, deviations identified   ● Changes identified   ● Integration of proof-reading sheets, review minutes with closed comments   ● Traceability in accordance with applicable referential    General Requirements  DOA related? No    Security Classifications? Yes    Export Control restrictions and licenses:  Yes  Export Control restrictions are applicable, and will be communicated through email by the Group manager to the Subcontracting Manager.  ■ The tools used for the development cannot be off-shored, so the activity has to be performed on-site  ■ In case of WFH the activities to be executed by connecting to airbus network / infrastructure    Language Requirements : English  Location of Work: Combined  The foreseen locations to perform, entirely or partly, the activity is Bangalore, India.    Rationales for on-site or combined activity:  ◻ Aircraft access |  ◻ Tool access |  ◻ Simulators & Test bench access    ◻ Data restricted to in-situ use only | ◻ Plateau (duration…)    Airbus Group Inputs/Purchaser Furnished Material  - Requirements and specifications  - Geometries  - Data  - Models       Technical Deliverable Description Appendix F       © AIRBUS S.A.S.  Date: 19/02/2022 AIRBUS AMBER  Reference_TDS_SP2103303  Page 17 of 432   Description of the input   (input ID: description)  Provided on  (date/milestone)  Provided by (Airbus  technical focal  point/Siglum)  Exchange mode     Input_ID1: SCD T0 SPE Mail/SVN/Filer  Input_ID2: Models, script, VCOM file,  configuration files, Packages Date agreed during  KOM SPE Mail/Filer/AMDB/ATPRO  Input_ID3: Previous and new application path  in filer/Configuration management tool T0 SPE Mail/SVN  Input_ID4 : Application configuration in  Configuration management tool Date agreed during  KOM SPE Mail  Input_ID5: FTs/DMs/CRs to be treated in the  concerned Release Date agreed during  KOM SPE Mail/Jira   Input_ID6: Delivery location T0 SPE Mail/SVN   Input_ID7 : Configuration Management of  integration models Date agreed during  KOM SPE Mail/SVN   Input_ID8: Rebounds from the end customer if  any When applicable  SPE Mail/SVN     Areas of Application  Main Applications:  SA, LR, A380, A350 (across multiple ATA Chapters)    Batch No. Deliverable description & enabling data Signatory  level Quantity/Volume* per  Task Group  Activity shall be done as per …  Delivery  date /  lead-time KPI P&M and  Technical  Referenti al Tools /  formats Release criteria      SWU_01    (Model Integration  – Minor)   5.1.1_IN  5.1.1_EX Del_IDz1: Detailed analysis of  FTs/DMs/CRs  N/A  Refer to Section 5.1.12  Py1 MS word No inputs is requested  after agreed date  T0 + 1  day or  agreed  during  the KOM  FTR > 98%   OTD > 97%  Del_IDz2: Status of FTs/DMs/CRs and  progress N/A MS Excel Correct Status of DM   Del_IDz3: MICD diff analysis and  connections update for the application.  N/A NA Application launch is  OK and integration test  is OK with no  regression      Technical Deliverable Description Appendix F       © AIRBUS S.A.S.  Date: 19/02/2022 AIRBUS AMBER  Reference_TDS_SP2103303  Page 18 of 432   Del_IDz4: All modification mentioned in  FTs/DMs/CRs agreed during KOM  should be completed  N/A  All DMs modification  is working correctly  Del_IDz5: Launcher of all platforms for  all releases  N/A NA No report error during  launch  Del_IDz6: Application & integration  models configuration management files  are updated  N/A Configuration  Management  Configuration delivery  without errors.  Del_IDz7: Application updates in the  simulation portals and connection  publish. N/A Portals Configuration uploads  without any error and  visible in portals  Del_IDz8: Change/Defect management  update – JIRA or any other mentioned in  AIM. N/A Jira All CRs update with  modification  information and status  / verification updated  correctly  Del_IDz9: Report of successful  launching and list of all modified files for  the application.  N/A MS Excel Report consistent with  the application file  changes  Del_IDz10: Checklist/peer review sheet  N/A MS Excel All the points of the  checklist are OK    P&M and Technical Referential   ▪ Py1 = Adherence to A5456, A5457 for model handling or Change Request initiating   ▪     References: Delivery checklists, Process training documents as given in inputs   Tools and formats   Ty1 = sigma, mexico, mi-box, eshowflow, etc   Release Criteria   ▪ For each deliverable of this work unit, the release criteria is defined in the above table or will be discussed during the KOM.   KPI   𝑂𝑛 𝑇𝑖𝑚𝑒 𝐷𝑒𝑙𝑖𝑣𝑒𝑟𝑦  (𝑂𝑇𝐷)=\\u0be1௨\\u0be0\\u0bd5\\u0bd8\\u0be5  \\u0be2\\u0bd9 ௗ\\u0bd8\\u0bdf\\u0bdc௩\\u0bd8\\u0be5\\u0bdc\\u0bd8௦  \\u0be3\\u0be5\\u0be2௩\\u0bdcௗ\\u0bd8ௗ   ைேି்ூொ \\u0bd5௬ ௧\\u0bdb\\u0bd8 ௦௨\\u0be3\\u0be3\\u0bdf\\u0bdc\\u0bd8\\u0be5  \\u0bdc\\u0be1 ௧\\u0bdb\\u0bd8 \\u0be3\\u0bd8\\u0be5\\u0bdc\\u0be2ௗ ௧\\u0be2௧\\u0bd4\\u0bdf \\u0be1௨\\u0be0\\u0bd5\\u0bd8\\u0be5  \\u0be2\\u0bd9 ௗ\\u0bd8\\u0bdf\\u0bdc௩\\u0bd8\\u0be5\\u0bdc\\u0bd8௦  \\u0be3\\u0be5\\u0be2௩\\u0bdcௗ\\u0bd8ௗ  \\u0bd5௬ ௧\\u0bdb\\u0bd8 ௦௨\\u0be3\\u0be3\\u0bdf\\u0bdc\\u0bd8\\u0be5  \\u0bdc\\u0be1 ௧\\u0bdb\\u0bd8 \\u0be3\\u0bd8\\u0be5\\u0bdc\\u0be2ௗ 𝑥 100      Technical Deliverable Description Appendix F       © AIRBUS S.A.S.  Date: 19/02/2022 AIRBUS AMBER  Reference_TDS_SP2103303  Page 19 of 432      𝑂𝑛 𝑄𝑢𝑎𝑙𝑖𝑡𝑦 𝐷𝑒𝑙𝑖𝑣𝑒𝑟𝑦  (𝑂𝑄𝐷)=\\u0be1௨\\u0be0\\u0bd5\\u0bd8\\u0be5  \\u0be2\\u0bd9 ௗ\\u0bd8\\u0bdf\\u0bdc௩\\u0bd8\\u0be5\\u0bdc\\u0bd8௦  \\u0bd4\\u0bd6\\u0bd6\\u0bd8\\u0be3௧\\u0bd8ௗ  \\u0bd5௬ \\u0bba\\u0bdc\\u0be5\\u0bd5௨௦ \\u0bdc\\u0be1 ௧\\u0bdb\\u0bd8 \\u0be3\\u0bd8\\u0be5\\u0bdc\\u0be2ௗ ௧\\u0be2௧\\u0bd4\\u0bdf \\u0be1௨\\u0be0\\u0bd5\\u0bd8\\u0be5  ௗ\\u0bd8\\u0bdf\\u0bdc௩\\u0bd8\\u0be5\\u0bdc\\u0bd8௦  \\u0be5\\u0bd8௩\\u0bdc\\u0bd8௪\\u0bd8ௗ  \\u0bd5௬ \\u0bba\\u0bdc\\u0be5\\u0bd5௨௦ \\u0bdc\\u0be1 ௧\\u0bdb\\u0bd8 \\u0be3\\u0bd8\\u0be5\\u0bdc\\u0be2ௗ 𝑥 100    OTD and OQD are expressed in percentage (%).    Please refer to UG1501913, UG1501941 for more information    Note: *In case of Work Unit item definition column “quantity” is only a forecast and not contractually binding.  The structure of the Work Units definition shall be represented in the technical and commercial offer from the Service Provider!   5.1.2 MODEL INTEGRATION - MEDIUM  Nominated Purchaser Contacts   Work Package Focal Point: Pankaj BHUTANI,  HOG-AIOEYS, Airbus India. pankaj.bhutani@airbus.com   Batch No.  SWU_02  Description   The Supplier shall provide support to AIOEYS in order to develop the software integration Medium work unit for platforms application under the responsibility of Airbus India the  Simulation Product Engineer (SPE).  The following steps of activities need to be completed for the Model Integration Medium Work Unit of the Simulation application development as pe r the AIM.   SCD Verification for model to be integrated  Check availability of model and related inputs in the model repository  Collect the Model inputs like MICDs, Model library and documentation from Model repository  Perform the MICD diff analysis.  Perform the connections to be added/modified for the model to be integrated.  Perform the model integration.  Deliver the working simulation application into the filer.  Perform the simulation application test.    Complexity Criteria FTR Criteria Lead Time/ delivery Date  Medium Platform specific All the CRs should be correctly implemented. Acceptance criteria are  zero issues and no rejected delivery. T0 + 3 day or as defined during  KOM    Complexity Criteria FTR Criteria Lead Time/ delivery Date  Medium VSIM-I up to 5  models or packages  with no interface All the CRs should be correctly implemented. Acceptance criteria are  zero issues , no regression, validated & delivered in both BLR & TLS  platforms (as applicable) T0 + 3 day or as defined during  KOM      Technical Deliverable Description Appendix F       © AIRBUS S.A.S.  Date: 19/02/2022 AIRBUS AMBER  Reference_TDS_SP2103303  Page 20 of 432   changes/ up to 400  connection changes      Complexity Criteria FTR Criteria Lead Time/ delivery Date  Medium SP AC0 up to 9  models and up to 300  connection changes All the CRs should be correctly implemented. Acceptance criteria are  zero issues and no rejected delivery. T0 + 3 day or as defined during  KOM    Complexity Criteria FTR Criteria Lead Time/ delivery Date  Medium VSIM-D: around 5  simple models or  PRIM / ENG package  updates All the models shall be correctly integrated. Acceptance criteria are  zero issues and no rejected delivery. T0 + 3 day or as defined during  KOM    NOTE: T0 is the start date of this WORK UNIT, refer KOM definition  in the section above.  Major issue is defined as which will impact the AIOEYS delivery date or the quality of the delivery to end customer. And the delivery would be marked as REJECTED DELIVERY from  Airbus India. The re-work in this case needs to be done in 1 day and rework effort/any effort after agreed delivery date (refer section above) cannot be billed to Airbus India.  Minor issue is defined as which can be fixed without any impact in delivery date and delivery quality from AIOEYS to end customer. The re-work in this case needs to be done in 4 hours  and rework effort/any effort after agreed delivery date (refer section above) cannot be billed to Airbus India.    The decision to classify the issue as minor or major is at the discretion of AIOEYS SPE/SSPE.  The below table indicates the change that could happen after input frozen window :  Complexity Criteria Number of Changes Input Frozen window  Medium Number of CRs  <=5 T0 + 2   Change : New modification CR which is not indicated in previous CRs  or modification or update of current CR    General Acceptance Criteria  The Service Provider shall deliver under the following criteria’s expectations to ensure their acceptance:  ● Compliance to specific process, method, technical referential, format  ● Usage of templates  ● Delivered on-time and on-quality  ● Comprehensive description of the work performed  ● Technical quality  ● Completeness   ● Correctness   ● Technical agreement by Purchaser specialist   ● Open points, deviations identified       Technical Deliverable Description Appendix F       © AIRBUS S.A.S.  Date: 19/02/2022 AIRBUS AMBER  Reference_TDS_SP2103303  Page 21 of 432   ● Changes identified   ● Integration of proof-reading sheets, review minutes with closed comments   ● Traceability in accordance with applicable referential    General Requirements  DOA related? No    Security Classifications? Yes    Export Control restrictions and licenses:  Yes  Export Control restrictions are applicable, and will be communicated through email by the Group manager to the Subcontracting Manager.  ■ The tools used for the development cannot be off-shored, so the activity has to be performed on-site  ■ In case of WFH the activities to be executed by connecting to airbus network / infrastructure    Language Requirements : English  Location of Work: Combined  The foreseen locations to perform, entirely or partly, the activity is Bangalore, India.    Rationales for on-site or combined activity:  ◻ Aircraft access |  ◻ Tool access |  ◻ Simulators & Test bench access    ◻ Data restricted to in-situ use only | ◻ Plateau (duration…)     Airbus Group Inputs/Purchaser Furnished Material  - Requirements and specifications  - Geometries  - Data  - Models   Description of the input   (input ID: description)  Provided on   (date/milestone)  Provided by (Airbus  technical focal  point/Siglum)  Exchange mode     Input_ID1: SCD T0 SPE Mail/SVN  Input_ID2: MICD/Libraries/VCOM/Config  files/Packages KOM SPE Artifactory/AMDB/Mail/JIRA/Filer/SVN  Input_ID3: CR’s List / List of Connections (.lvi)  KOM SPE JIRA      Technical Deliverable Description Appendix F       © AIRBUS S.A.S.  Date: 19/02/2022 AIRBUS AMBER  Reference_TDS_SP2103303  Page 22 of 432   Input_ID4 : Application/ALTO path  T0 SPE filer   Input_ID5 : Validation Files/TR’s  T0/KOM SPE Filer/SVN  Input_ID6: Delivery Path T0 SPE Filer  Input_ID7: Configuration Management of  integration models KOM SPE Mail/SVN  Input_ID8: SR’s if raised for support post  delivery Need Basis  SPE JIRA/Mail    Areas of Application  Main Applications:  SA/LR/A350/A380    Batch No. Deliverable description & enabling data Signatory level  Quantity/Volu me* per Task  Group  Activity shall be done as per …  Delivery date  /lead-time  KPI P&M and  Technical  Referential Tools /  formats Release criteria      SWU_02    (Model Integration  - Medium)       5.1.2_IN  5.1.2_EX Del_IDz1: Detailed analysis of  FTs/DMs/CRs  N/A  Refer to Section  5.1.12 Py1 MS  word No inputs is requested after  agreed date  T0 + 3 days  or agreed  during the  KOM FTR > 98%   OTD > 97%  Del_IDz2: Status of FTs/DMs/CRs and  progress N/A MS  Excel Correct Status of DM  Del_IDz3: MICD diff analysis and  connections update for the application.  N/A NA Application launch is OK  and integration test is OK  with no regression  Del_IDz4: All modification mentioned in  FTs/DMs/CRs agreed during KOM  should be completed  N/A  All DMs modification is  working correctly  Del_IDz5: Launcher of all platforms for  all releases  N/A NA No report error during  launch  Del_IDz6: Application & integration  models configuration management files  are updated  N/A Configu ration  Manage ment Configuration delivery  without errors.      Technical Deliverable Description Appendix F       © AIRBUS S.A.S.  Date: 19/02/2022 AIRBUS AMBER  Reference_TDS_SP2103303  Page 23 of 432   Del_IDz7: Application updates in the  simulation portals and connection  publish. N/A Portals Configuration uploads  without any error and  visible in portals  Del_IDz8: Change/Defect management  update – JIRA or any other mentioned in  AIM. N/A Jira All CRs update with  modification information  and status / verification  updated correctly  Del_IDz9: Report of successful launching  and list of all modified files for the  application.  N/A MS  Excel Report consistent with the  application file changes  Del_IDz10: Checklist/peer review sheet  N/A MS  Excel All the points of the  checklist are OK    P&M and Technical Referential     Py1: A5456, A5457 for model handling or Change Request initiating     References: Delivery checklists, Process training documents( UG1501913, UG1501941 ) as given in inputs  Tools and formats   Ty1 = sigma, mexico, mi-box, eshowflow, etc   Release Criteria   ▪ For each deliverable of this work unit, the release criteria is defined in the above table or will be discussed during the KOM.   KPI   𝑂𝑛 𝑇𝑖𝑚𝑒 𝐷𝑒𝑙𝑖𝑣𝑒𝑟𝑦  (𝑂𝑇𝐷)=\\u0be1௨\\u0be0\\u0bd5\\u0bd8\\u0be5  \\u0be2\\u0bd9 ௗ\\u0bd8\\u0bdf\\u0bdc௩\\u0bd8\\u0be5\\u0bdc\\u0bd8௦  \\u0be3\\u0be5\\u0be2௩\\u0bdcௗ\\u0bd8ௗ   ைேି்ூொ \\u0bd5௬ ௧\\u0bdb\\u0bd8 ௦௨\\u0be3\\u0be3\\u0bdf\\u0bdc\\u0bd8\\u0be5  \\u0bdc\\u0be1 ௧\\u0bdb\\u0bd8 \\u0be3\\u0bd8\\u0be5\\u0bdc\\u0be2ௗ ௧\\u0be2௧\\u0bd4\\u0bdf \\u0be1௨\\u0be0\\u0bd5\\u0bd8\\u0be5  \\u0be2\\u0bd9 ௗ\\u0bd8\\u0bdf\\u0bdc௩\\u0bd8\\u0be5\\u0bdc\\u0bd8௦  \\u0be3\\u0be5\\u0be2௩\\u0bdcௗ\\u0bd8ௗ  \\u0bd5௬ ௧\\u0bdb\\u0bd8 ௦௨\\u0be3\\u0be3\\u0bdf\\u0bdc\\u0bd8\\u0be5  \\u0bdc\\u0be1 ௧\\u0bdb\\u0bd8 \\u0be3\\u0bd8\\u0be5\\u0bdc\\u0be2ௗ 𝑥 100     𝑂𝑛 𝑄𝑢𝑎𝑙𝑖𝑡𝑦 𝐷𝑒𝑙𝑖𝑣𝑒𝑟𝑦 (𝑂𝑄𝐷) =\\u0be1௨\\u0be0\\u0bd5\\u0bd8\\u0be5  \\u0be2\\u0bd9 ௗ\\u0bd8\\u0bdf\\u0bdc௩\\u0bd8\\u0be5\\u0bdc\\u0bd8௦  \\u0bd4\\u0bd6\\u0bd6\\u0bd8\\u0be3௧\\u0bd8ௗ  \\u0bd5௬ \\u0bba\\u0bdc\\u0be5\\u0bd5௨௦ \\u0bdc\\u0be1 ௧\\u0bdb\\u0bd8 \\u0be3\\u0bd8\\u0be5\\u0bdc\\u0be2ௗ ௧\\u0be2௧\\u0bd4\\u0bdf \\u0be1௨\\u0be0\\u0bd5\\u0bd8\\u0be5  ௗ\\u0bd8\\u0bdf\\u0bdc௩\\u0bd8\\u0be5\\u0bdc\\u0bd8௦  \\u0be5\\u0bd8௩\\u0bdc\\u0bd8௪\\u0bd8ௗ  \\u0bd5௬ \\u0bba\\u0bdc\\u0be5\\u0bd5௨௦ \\u0bdc\\u0be1 ௧\\u0bdb\\u0bd8 \\u0be3\\u0bd8\\u0be5\\u0bdc\\u0be2ௗ 𝑥 100    OTD and OQD are expressed in percentage (%).    Please refer to UG1501913, UG1501941 for more information    Note: *In case of Work Unit item definition column “quantity” is only a forecast and not contractually binding.  The structure of the Work Units definition shall be represented in the technical and commercial offer from the Service Provider!       Technical Deliverable Description Appendix F       © AIRBUS S.A.S.  Date: 19/02/2022 AIRBUS AMBER  Reference_TDS_SP2103303  Page 24 of 432   5.1.3 MODEL INTEGRATION - HIGH  Nominated Purchaser Contacts   Work Package Focal Point: Pankaj BHUTANI,  HOG-AIOEYS, Airbus India. pankaj.bhutani@airbus.com   Batch No.  SWU_03  Description   The Supplier shall provide support to AIOEYS in order to develop the Frameworks integration work unit for platforms applicati on under the responsibility of Airbus India  the Simulation Product Engineer (SPE).    The following steps of activities need to be completed for the Frameworks integration Work Unit of the Simulation application development as per the AIM.  SCD Update/Verification for frameworks to be integrated.  Check availability of frameworks and related inputs.  Collect the documentation for frameworks from frameworks repository.  Understand the changes and features of the frameworks to be integrated.  Perform the Frameworks integration.  Deliver the working simulation application into the filer.  Perform the simulation application test.      Complexity Criteria FTR Criteria Lead Time/ delivery Date  Major Platform specific All the CRs should be correctly implemented. Acceptance criteria are  zero issues and no rejected delivery. T0 + 5 day or as defined during  KOM    Complexity Criteria FTR Criteria Lead Time/ delivery Date  Major VSIM_I more than  400 connection  changes/new  model/package  integration All the CRs should be correctly implemented. Acceptance criteria are  zero issues , no regression, validated & delivered in both BLR & TLS  platforms (as applicable) T0 + 5 day or as defined during  KOM    Complexity Criteria FTR Criteria Lead Time/ delivery Date  Major SP AC0 Up to 12  models and up to 450  connection changes All the CRs should be correctly implemented. Acceptance criteria are  zero issues and no rejected delivery. T0 + 5 day or as defined during  KOM        Technical Deliverable Description Appendix F       © AIRBUS S.A.S.  Date: 19/02/2022 AIRBUS AMBER  Reference_TDS_SP2103303  Page 25 of 432   Complexity Criteria FTR Criteria Lead Time/ delivery Date  Major VSIM-D: around  complex 5 models All the models shall be correctly integrated. Acceptance criteria are  zero issues and no rejected delivery. T0 + 5 day or as defined during  KOM    NOTE: T0 is the start date of this WORK UNIT, refer to the KOM definition in the section above.   Major issue is defined as which will impact the AIOEYS delivery date or the quality of the delivery to the end customer. And the delivery would be marked as  REJECTED DELIVERY from Airbus India. The re-work in this case needs to be done in 1 day and rework effort/any effort after the agreed delivery date (refer section  above) cannot be billed to Airbus India.  Minor issues are defined as which can be fixed without any impact on delivery date and delivery quality from AIOEYS to the end customer. The re-work in this case  needs to be done in 4 hours and rework effort/any effort after agreed delivery date (refer section above) cannot be billed to Airbus India.    The decision to classify the issue as minor or major is at the discretion of AIOEYS SPE/SSPE.    The table below indicates the change that could happen after input frozen window :  Complexity Criteria Number of Changes Input Frozen window  Major Number of CRs  <=10 T0 + 4   Change : New modification CR which is not indicated in previous CRs  or modification or update of current CR  General Acceptance Criteria  The Service Provider shall deliver under the following criteria’s expectations to ensure their acceptance:   ● Compliance to specific process, method, technical referential, format  ● Usage of templates  ● Delivered on-time and on-quality  ● Comprehensive description of the work performed  ● Technical quality  ● Completeness   ● Correctness   ● Technical agreement by Purchaser specialist   ● Open points, deviations identified   ● Changes identified   ● Integration of proof-reading sheets, review minutes with closed comments   ● Traceability in accordance with applicable referential  General Requirements  DOA related? No    Security Classifications? Yes          Technical Deliverable Description Appendix F       © AIRBUS S.A.S.  Date: 19/02/2022 AIRBUS AMBER  Reference_TDS_SP2103303  Page 26 of 432   Export Control restrictions and licenses:  Yes  Export Control restrictions are applicable, and will be communicated through email by the Group manager to the Subcontracting Manager.  ■ The tools used for the development cannot be off-shored, so the activity has to be performed on-site  ■ In case of WFH the activities to be executed by connecting to airbus network / infrastructure    Language Requirements : English  Location of Work: Combined  The foreseen locations to perform, entirely or partly, the activity is Bangalore, India.    Rationales for on-site or combined activity:  ◻ Aircraft access |  ◻ Tool access |  ◻ Simulators & Test bench access    ◻ Data restricted to in-situ use only |  ◻ Plateau (duration…)     Airbus Group Inputs/Purchaser Furnished Material  - Requirements and specifications  - Geometries  - Data  - Models   Description of the input   (input ID: description)  Provided on   (date/milestone)  Provided by (Airbus technical focal point/Siglum)  Exchange mode     Input_ID1: SCD T0 SPE Mail/SVN/Filer  Input_ID2: Frameworks details, scripts,  configuration files Date agreed during  KOM SPE Mail/Filer/AMDB/ATPRO  Input_ID3: Previous and new application path  in filer/Configuration management tool T0 SPE Mail/SVN  Input_ID4: Application configuration in  Configuration management tool Date agreed during  KOM SPE Mail   Input_ID5: FTs/DMs/CRs to be treated in the  concerned Release Date agreed during  KOM SPE Mail/Jira   Input_ID6: Delivery location T0 SPE Mail/SVN   Input_ID7: Rebounds from the end customer if  any Date agreed during  KOM SPE Mail/SVN    Areas of Application      Technical Deliverable Description Appendix F       © AIRBUS S.A.S.  Date: 19/02/2022 AIRBUS AMBER  Reference_TDS_SP2103303  Page 27 of 432   Main Applications:  SA, LR, A380, A350 (across multiple ATA Chapters)     Batch No. Deliverable description & enabling data Signatory level  Quantity/Volum e* per Task  Group  Activity shall be done as per …  Delivery  date/ lead- time KPI P&M and  Technical  Referentia l Tools /  formats Release criteria      SWU_03    (Model Integration  - High)  5.1.3_IN  5.1.3_EX Del_IDz1: Detailed analysis of  FTs/DMs/CRs  N/A  Refer to Section  5.1.12 Py1 MS word  No inputs is requested after  agreed date  T0 + 5 day  or agreed  during the  KOM FTR > 98%   OTD > 97%  Del_IDz2: Status of FTs/DMs/CRs and  progress N/A MS Excel  Correct Status of DM  Del_IDz3: All modification mentioned in  FTs/DMs/CRs agreed during KOM should  be completed  N/A  All DMs modification is  working correctly  Del_IDz4: Launcher of all platforms for all  releases N/A NA No report error during  launch  Del_IDz5: Application configuration  management files are updated  N/A Configurat ion  Manageme nt Configuration delivery  without errors.  Del_IDz6: Application updates in the  simulation portals and connection publish.  N/A Portals Configuration uploads  without any error and visible  in portals  Del_IDz7: Change/Defect management  update – JIRA or any other mentioned in  AIM N/A Jira All CRs update with  modification information  and status / verification  updated correctly  Del_IDz8: Report of successful launching  and list of all modified files for the  application  N/A MS Excel  Report consistent with the  application file changes  Del_IDz9: Checklist/peer review sheet  N/A MS Excel  All the points of the  checklist are OK    P&M and Technical Referential   ▪ Py1 = Adherence to A5456, A5457 for model handling or Change Request initiating       Technical Deliverable Description Appendix F       © AIRBUS S.A.S.  Date: 19/02/2022 AIRBUS AMBER  Reference_TDS_SP2103303  Page 28 of 432   ▪ References: Delivery checklists, Process training documents( UG1501913, UG1501941 ) as given in inputs   Tools and formats   Ty1 = sigma, mexico, mi -box, eshowflow, etc   Release Criteria   ▪ For each deliverable of this work unit, the release criteria is defined in the above table or will be discussed during the KOM.   KPI   𝑂𝑛 𝑇𝑖𝑚𝑒 𝐷𝑒𝑙𝑖𝑣𝑒𝑟𝑦  (𝑂𝑇𝐷)=\\u0be1௨\\u0be0\\u0bd5\\u0bd8\\u0be5  \\u0be2\\u0bd9 ௗ\\u0bd8\\u0bdf\\u0bdc௩\\u0bd8\\u0be5\\u0bdc\\u0bd8௦  \\u0be3\\u0be5\\u0be2௩\\u0bdcௗ\\u0bd8ௗ   ைேି்ூொ \\u0bd5௬ ௧\\u0bdb\\u0bd8 ௦௨\\u0be3\\u0be3\\u0bdf\\u0bdc\\u0bd8\\u0be5  \\u0bdc\\u0be1 ௧\\u0bdb\\u0bd8 \\u0be3\\u0bd8\\u0be5\\u0bdc\\u0be2ௗ ௧\\u0be2௧\\u0bd4\\u0bdf \\u0be1௨\\u0be0\\u0bd5\\u0bd8\\u0be5  \\u0be2\\u0bd9 ௗ\\u0bd8\\u0bdf\\u0bdc௩\\u0bd8\\u0be5\\u0bdc\\u0bd8௦  \\u0be3\\u0be5\\u0be2௩\\u0bdcௗ\\u0bd8ௗ  \\u0bd5௬ ௧\\u0bdb\\u0bd8 ௦௨\\u0be3\\u0be3\\u0bdf\\u0bdc\\u0bd8\\u0be5  \\u0bdc\\u0be1 ௧\\u0bdb\\u0bd8 \\u0be3\\u0bd8\\u0be5\\u0bdc\\u0be2ௗ 𝑥 100     𝑂𝑛 𝑄𝑢𝑎𝑙𝑖𝑡𝑦 𝐷𝑒𝑙𝑖𝑣𝑒𝑟𝑦 (𝑂𝑄𝐷) =\\u0be1௨\\u0be0\\u0bd5\\u0bd8\\u0be5  \\u0be2\\u0bd9 ௗ\\u0bd8\\u0bdf\\u0bdc௩\\u0bd8\\u0be5\\u0bdc\\u0bd8௦  \\u0bd4\\u0bd6\\u0bd6\\u0bd8\\u0be3௧\\u0bd8ௗ  \\u0bd5௬ \\u0bba\\u0bdc\\u0be5\\u0bd5௨௦ \\u0bdc\\u0be1 ௧\\u0bdb\\u0bd8 \\u0be3\\u0bd8\\u0be5\\u0bdc\\u0be2ௗ ௧\\u0be2௧\\u0bd4\\u0bdf \\u0be1௨\\u0be0\\u0bd5\\u0bd8\\u0be5  ௗ\\u0bd8\\u0bdf\\u0bdc௩\\u0bd8\\u0be5\\u0bdc\\u0bd8௦  \\u0be5\\u0bd8௩\\u0bdc\\u0bd8௪\\u0bd8ௗ  \\u0bd5௬ \\u0bba\\u0bdc\\u0be5\\u0bd5௨௦ \\u0bdc\\u0be1 ௧\\u0bdb\\u0bd8 \\u0be3\\u0bd8\\u0be5\\u0bdc\\u0be2ௗ 𝑥 100    OTD and OQD are expressed in percentage (%).    Please refer to UG1501913, UG1501941 for more information    Note: *In case of Work Unit item definition column “quantity” is only a forecast and not contractually binding.  The structure of the Work Units definition shall be represented in the technical and commercial offer from the Service Provider!   5.1.4 PLATFORM VALIDATION     Nominated Purchaser Contacts   Work Package Focal Point: Pankaj BHUTANI,HOG -AIOEYS, Airbus India. pankaj.bhutani@airbus.com   Batch No.  SWU_04  Description   The Supplier shall provide support to AIOEYS in order to develop the Verification and Validation work unit for platforms application under the responsibility of Airbus  India the Simulation Product Engineer (SPE).    The following steps of activities need to be completed for the Verification and Validation Work Unit of the Simulation application development as per the AIM.  Performing the verification tests for each of treated CR.  Creating the report for CR verification  Performing the basic SVR check of the application and providing the report for the same. This should include the test results from a simple flight loop t est (Take off, cruise  and landing)      Technical Deliverable Description Appendix F       © AIRBUS S.A.S.  Date: 19/02/2022 AIRBUS AMBER  Reference_TDS_SP2103303  Page 29 of 432   Performing the General Tests (GT) and producing TR document.  Updating the GT document whenever required in consultation with SPE.  If any defects found during GT, corresponding CR needs to be raised in Jira (refer AIM)  The limitations, anomalies observed should be clearly recorded in the TR  Any documentation related CRs to be treated.  Rebounds from the end customer to be fixed if it is a rebound due to the work done in this work unit.  Validation must be performed in both Toulouse & Bangalore platforms (based on applicability)    The following is defined for the Verification and Validation work unit.    Criteria FTR Criteria Lead Time/ delivery Date  Test Document execution Zero issues and no rejected delivery    T0 + 2 Day    Complexity Criteria FTR Criteria Lead Time/ delivery  Date  NA Manual Validation (Frameworks specific) Proper validation of the tool as per steps  mentioned in TR should be completed. T0+2 days    NOTE: T0 is t he start date of this WORK UNIT. In case of this WU is used for Frameworks tool , the manual test plan should be executed and   the TR document must be updated. Any specificities to be discussed in KOM.    Input frozen window: Not applicable    General Acceptance Criteria  The Service Provider shall deliver under the following criteria’s expectations to ensure their acceptance:   Criteria that can be considered:  ● Compliance to specific process, method, technical referential, format  ● Usage of templates  ● Delivered on-time and on-quality  ● Comprehensive description of the work performed  ● Technical quality  ● Completeness   ● Correctness   ● Technical agreement by Purchaser specialist   ● Open points, deviations identified       Technical Deliverable Description Appendix F       © AIRBUS S.A.S.  Date: 19/02/2022 AIRBUS AMBER  Reference_TDS_SP2103303  Page 30 of 432   ● Changes identified   ● Integration of proof-reading sheets, review minutes with closed comments   ● Traceability in accordance with applicable referential  General Requirements  DOA related? No    Security Classifications? Yes    Export Control restrictions and licenses:  Yes  Export Control restrictions are applicable, and will be communicated through email by the Group manager to the Subcontracting Manager.  ■ The tools used for the development cannot be off-shored, so the activity has to be performed on-site  ■ In case of WFH the activities to be executed by connecting to airbus network / infrastructure    Language Requirements : English  Location of Work: Combined  The foreseen locations to perform, entirely or partly, the activity is Bangalore, India.    Rationales for on-site or combined activity:  ◻ Aircraft access |  ◻ Tool access |  ◻ Simulators & Test bench access    ◻ Data restricted to in-situ use only |  ◻ Plateau (duration…)       Airbus Group Inputs/Purchaser Furnished Material  - Requirements and specifications  - Geometries  - Data  - Models   Description of the input   (input ID: description)  Provided on   (date/milestone)  Provided by (Airbus  technical focal  point/Siglum)  Exchange mode     Input_ID1: Test Documents  T0 SPE(AIOEYS)  Mail/SVN   Input_ID2: Previous standard test results T0 SPE(AIOEYS) Mail/SVN  Input_ID3: Documentation CRs to be treated T0 SPE(AIOEYS)  Mail/SVN   Input_ID4: Delivery location of the documents T0 SPE(AIOEYS) Mail/SVN '"
            ],
            "application/vnd.google.colaboratory.intrinsic+json": {
              "type": "string"
            }
          },
          "metadata": {},
          "execution_count": 186
        }
      ]
    },
    {
      "cell_type": "code",
      "source": [
        "import re\n",
        "\n",
        "def get_table_of_contents(text):\n",
        "\n",
        "    start_markers = [\"TABLE OF CONTENTS\", \"table of contents\"]\n",
        "\n",
        "    toc_text = \"\"\n",
        "    found_toc = False\n",
        "    max_lines_per_page = 150\n",
        "    max_pages = 2\n",
        "    max_lines_to_check = max_lines_per_page * max_pages\n",
        "    lines_checked = 0\n",
        "    toc_topics = set()\n",
        "\n",
        "    # Regular expression to identify TOC entries\n",
        "    toc_pattern = re.compile(r'^\\d+(\\.\\d+)*\\s+[A-Za-z0-9\\s\\-\\&\\(\\)]+(\\s+\\d+)?\\s*$')\n",
        "    first_topic_pattern = re.compile(r'^\\d+\\s+[A-Za-z0-9\\s\\-\\&\\(\\)]+(\\s+\\d+)?\\s*$')\n",
        "\n",
        "    for line in text.split('\\n'):\n",
        "\n",
        "        if any(marker in line for marker in start_markers):\n",
        "            found_toc = True\n",
        "\n",
        "        if found_toc:\n",
        "\n",
        "            if toc_pattern.match(line.strip()):\n",
        "                topic = line.strip()\n",
        "                toc_text += topic + '\\n'\n",
        "                toc_topics.add(topic)\n",
        "            else:\n",
        "\n",
        "                if any(topic in line for topic in toc_topics):\n",
        "                    break\n",
        "\n",
        "                if lines_checked >= max_lines_to_check:\n",
        "                    break\n",
        "                continue\n",
        "\n",
        "            lines_checked += 1\n",
        "\n",
        "            if lines_checked >= max_lines_to_check:\n",
        "                break\n",
        "\n",
        "    return toc_text.strip()\n",
        "\n",
        "toc = get_table_of_contents(extracted_text)\n",
        "print(toc)\n"
      ],
      "metadata": {
        "colab": {
          "base_uri": "https://localhost:8080/"
        },
        "id": "wADN1zlODvw8",
        "outputId": "cb7701b8-6fdb-43f8-99ee-62e4091982e4"
      },
      "execution_count": 187,
      "outputs": [
        {
          "output_type": "stream",
          "name": "stdout",
          "text": [
            "1 SUBCONTRACTED ACTIVITIES DESCRIPTION  10\n",
            "2 RESPONSIBILITY EXERCISED ON DELIVERABLES AND CRITICALITY OF THE ACTIVITY 10\n",
            "2.1 Design Organisation Approval (DOA) Requirements 10\n",
            "2.3 Criticality of the deliverables 10\n",
            "3.1 Steering and Review Meetings 11\n",
            "3.2 General Requirements Addendum 13\n",
            "4 WORK PACKAGE ENABLING DATA 13\n",
            "5 SUBCONTRACTED  ACTIVITIES  DESCRIPTION  (WORK UNIT) 14\n",
            "5.1 AIOEYS - Simulation platforms & Frameworks 14\n",
            "5.1.1 Model Integration - Minor 14\n",
            "5.1.2 Model Integration - Medium 19\n",
            "5.1.3 Model Integration - High 24\n",
            "5.1.4 Platform Validation 28\n",
            "5.1.5 Documentation 32\n",
            "5.1.6 Analysis and Implementation - Minor 36\n",
            "5.1.7 Analysis and Implementation - Medium 40\n",
            "5.1.8 Analysis and Implementation - Major 44\n",
            "5.1.10 Validation and Verification requirements 50\n",
            "5.1.11 Purchaser enabled products and specific means 50\n",
            "5.1.12 Forecast quantity and lead-time per work unit 50\n",
            "5.2 AIOEYM - Systems Modeling 51\n",
            "5.2.1 Model Development - Minor 51\n",
            "5.2.2 Model Development - Medium 55\n",
            "5.2.3 Model Development - Major 59\n",
            "5.2.4 Platform Validation for Model development 62\n",
            "5.2.5 Model Development Documentation 66\n",
            "5.2.6 Model Delivery Support 69\n",
            "5.2.7 Model Development Support 72\n",
            "5.2.8 Model Loading In SimWorks 75\n",
            "5.2.10 Validation and Verification requirements 80\n",
            "5.2.11 Purchaser enabled products and specific means 80\n",
            "5.2.12 Forecast quantity and lead-time per work unit 80\n",
            "5.3.1 Bore sighting load generation work package 81\n",
            "5.3.2   OPC PDB Work Package 84\n",
            "5.3.3 sFMS DEFINED SCOPE Work Package 88\n",
            "5.3.5 Validation and Verification requirements 91\n",
            "5.3.6 Purchaser enabled products and specific means 91\n",
            "5.3.7 Forecast quantity and lead-time per work unit 92\n",
            "5.4.1 Equipment Model Management (EMM) 92\n",
            "5.4.2 Electrical-Insitu 116\n",
            "5.4.4 Multi System Physical Architecture (MSPA) 142\n",
            "5.4.5 Electrical Installation Design Directives (EIDD) 160\n",
            "5.4.7 Validation and Verification requirements 167\n",
            "5.4.8 Purchaser enabled products and specific means 167\n",
            "5.4.9 Forecast quantity and lead-time per work unit 167\n",
            "5.5.1 Industry Flow Simulation-Discrete event simulation & Process Engineering-\n",
            "5.5.2 3DX DELMIA - Prepare Manufacturing Bill Of Material and Process View- Exsitu\n",
            "5.5.3 3DX DELMIA-create static plant Layout- Exsitu 178\n",
            "5.5.4 3DX DELMIA - 3D Flow simulations and record animations-ExSitu 182\n",
            "5.5.5 3DX DELMIA - Analyze and compare simulation scenario- Exsitu 186\n",
            "5.5.6 Export process and 3D data to VR applications- Exsitu 190\n",
            "5.5.7 Cameo modelling -1- Exsitu 194\n",
            "5.5.8 Cameo modelling -2- Exsitu 198\n",
            "5.5.9 Validate Tooling Registers-Low Volume- Exsitu 202\n",
            "5.5.10 Validate Tooling Registers-Medium Volume- Exsitu 206\n",
            "5.5.11 Validate Tooling Registers- High Volume- Exsitu 210\n",
            "5.5.12  Write Manufacturing Engineering Specification- Exsitu 214\n",
            "5.5.13 Write Component Delivery Specification (CDS)- Exsitu 218\n",
            "5.5.14 System Installation Knowledge Database creation- Exsitu 222\n",
            "5.5.15 Product Process Resource Data model creation (XML)- Exsitu 226\n",
            "5.5.16 PPR DCA Industrial Architecture trades (Low complexity)- Exsitu 230\n",
            "5.5.17 PPR DCA Industrial Architecture trades (Medium complexity)- Exsitu 234\n",
            "5.5.18 PPR DCA Industrial Architecture trades (High complexity)- Exsitu 238\n",
            "5.5.20 Validation and Verification requirements 242\n",
            "5.5.21 Purchaser enabled products and specific means 242\n",
            "5.5.22 Forecast quantity and lead-time per work unit 242\n",
            "5.6.1 Support to ADC Loads Creation - Certification and UMS- Exsitu 244\n",
            "5.6.2  Support ADC Loads Creation - Test Loads- Exsitu 249\n",
            "5.6.4  Support ADC CACAU Use Case Review- Exsitu 256\n",
            "5.6.11 Customization - ATA 31 System Definition Activity - SKYWISE extract\n",
            "5.6.17 Support for Tool Development in Health Engineering - minor complexity- Insitu\n",
            "5.6.18 Support for Tool Development in Health Engineering - major complexity- Insitu\n",
            "5.6.19 Support for Data Collection Activity - minor complexity- Insitu 308\n",
            "5.6.20 Support for Data Collection Activity - major complexity- Insitu 312\n",
            "5.6.25 Validation and Verification requirements 328\n",
            "5.6.26 Purchaser enabled products and specific means 328\n",
            "5.6.27 Forecast quantity and lead-time per work unit 328\n",
            "5.7 AIOEYC- Aircraft Controls 330\n",
            "5.7.1    Support to package development- Flight Controls (Medium Complexity) 330\n",
            "5.7.3 Validation and Verification requirements 335\n",
            "5.7.4 Purchaser enabled products and specific means 335\n",
            "5.7.5 Forecast quantity and lead-time per work unit 335\n",
            "6 SUBCONTRACTED  ACTIVITIES  DESCRIPTION  (T&M) 336\n",
            "6.1 AIOEYS - Simulation platforms & frameworks 336\n",
            "6.1.1 Support to simulation platforms 336\n",
            "6.1.2 Support to Simulation Frameworks 340\n",
            "6.1.4 Validation and Verification requirements 345\n",
            "6.2 AIOEYM - Systems Modeling 346\n",
            "6.2.1 Support to simulation model development 346\n",
            "6.2.2 Support to Overall System Architecture Modelling (OSAM) Activities 350\n",
            "6.2.4 Validation and Verification requirements 355\n",
            "6.3.1 sFMS MODEL DEV WORK PACKAGE 356\n",
            "6.3.3 Validation and Verification requirements 360\n",
            "6.4.1 Support to MSPA Activities 361\n",
            "6.4.2 Technical Requests related to Elec 364\n",
            "6.5 AIOEYI - Industrial Systems 370\n",
            "6.5.1 Industrial Flow Simulation - Discrete Event Simulation & Process Engineering\n",
            "6.5.2 Industrial Digital Mock-up and process Engineering 374\n",
            "6.5.3 Industrial Model Based System Engineering & Industrial Robotics 379\n",
            "6.5.4 Manufacturing Engineering Specification Management 383\n",
            "6.5.5 Support to Industrial Architecture & trade studies 388\n",
            "6.6.1 Support to BITE Integration Activity 394\n",
            "6.6.2 Support for Filter File Generation Activity 400\n",
            "6.6.3 Support for Tool Development in Health Engineering 404\n",
            "6.6.4 Support for Modelling in Health Engineering Development 407\n",
            "6.6.5 Support for Data Collection Activity 412\n",
            "6.6.7 Validation and Verification requirements 417\n",
            "6.7 AIOEYC- Aircraft Controls 418\n",
            "6.7.1 Support to simulation model development- Flight Controls 418\n",
            "6.7.2 Support to simulation model development- Hydraulics 422\n",
            "6.7.3 Support to data analysis and dashboard development 427\n",
            "6.7.5 Validation and Verification requirements - None 432\n",
            "1 SUBCONTRACTED ACTIVITIES DESCRIPTION\n",
            "2 RESPONSIBILITY EXERCISED ON DELIVERABLES AND CRITICALITY OF THE ACTIVITY\n",
            "2.1 Design Organisation Approval (DOA) Requirements\n",
            "2.3 Criticality of the deliverables\n",
            "3.1 Steering and Review Meetings\n",
            "3.2 General Requirements Addendum\n",
            "4 WORK PACKAGE ENABLING DATA\n",
            "5 SUBCONTRACTED  ACTIVITIES  DESCRIPTION  (WORK UNIT)\n",
            "5.1 AIOEYS - Simulation platforms & Frameworks\n",
            "5.1.1 MODEL INTEGRATION - MINOR\n",
            "5.1.2 MODEL INTEGRATION - MEDIUM\n",
            "5.1.12 Py1 MS\n",
            "5.1.3 MODEL INTEGRATION - HIGH\n",
            "400 connection\n",
            "5.1.12 Py1 MS word  No inputs is requested after\n",
            "5.1.4 PLATFORM VALIDATION\n"
          ]
        }
      ]
    },
    {
      "cell_type": "code",
      "source": [
        "import re\n",
        "import csv\n",
        "\n",
        "def extract_table_of_contents(text):\n",
        "\n",
        "    start_markers = [\"TABLE OF CONTENTS\", \"table of contents\"]\n",
        "    toc_entries = []\n",
        "    found_toc = False\n",
        "    max_lines_per_page = 250\n",
        "    max_pages = 2\n",
        "    max_lines_to_check = max_lines_per_page * max_pages\n",
        "    lines_checked = 0\n",
        "\n",
        "    toc_pattern = re.compile(r'^(\\d+(\\.\\d+)*)(\\s+)(.+?)(\\s+)(\\d+)$')\n",
        "\n",
        "    for line in text.split('\\n'):\n",
        "\n",
        "        if any(marker in line for marker in start_markers):\n",
        "            found_toc = True\n",
        "\n",
        "        if found_toc:\n",
        "\n",
        "            match = toc_pattern.match(line.strip())\n",
        "            if match:\n",
        "                level = match.group(1).strip()\n",
        "                topic = match.group(4).strip()\n",
        "                page = match.group(6).strip()\n",
        "                toc_entries.append((level, topic, page))\n",
        "\n",
        "            lines_checked += 1\n",
        "\n",
        "            if lines_checked >= max_lines_to_check:\n",
        "                break\n",
        "\n",
        "    return toc_entries\n",
        "\n",
        "def save_to_csv(toc_entries, filename):\n",
        "    \"\"\"Saves the table of contents entries to a CSV file.\"\"\"\n",
        "    with open(filename, mode='w', newline='', encoding='utf-8') as file:\n",
        "        writer = csv.writer(file)\n",
        "        writer.writerow([\"Level\", \"Topic\", \"Page\"])\n",
        "        writer.writerows(toc_entries)\n",
        "\n",
        "\n",
        "toc_entries = extract_table_of_contents(extracted_text)\n",
        "\n",
        "save_to_csv(toc_entries, 'table_of_contents.csv')\n",
        "\n",
        "print(\"Table of contents saved to 'table_of_contents.csv'\")"
      ],
      "metadata": {
        "colab": {
          "base_uri": "https://localhost:8080/"
        },
        "id": "oITU0Vc9JUcL",
        "outputId": "bd5456f3-17b8-4f5c-b289-6b770fd93a59"
      },
      "execution_count": 188,
      "outputs": [
        {
          "output_type": "stream",
          "name": "stdout",
          "text": [
            "Table of contents saved to 'table_of_contents.csv'\n"
          ]
        }
      ]
    },
    {
      "cell_type": "code",
      "source": [
        "import pandas as pd"
      ],
      "metadata": {
        "id": "EM_MdUglLl8E"
      },
      "execution_count": 189,
      "outputs": []
    },
    {
      "cell_type": "code",
      "source": [
        "df = pd.read_csv('/content/table_of_contents.csv')"
      ],
      "metadata": {
        "id": "6DCjUtdALz2D"
      },
      "execution_count": 190,
      "outputs": []
    },
    {
      "cell_type": "code",
      "source": [
        "df"
      ],
      "metadata": {
        "colab": {
          "base_uri": "https://localhost:8080/",
          "height": 423
        },
        "id": "itU2KgwWrsBw",
        "outputId": "e57aa522-ca2a-4a45-c8a0-ee0daf3e2dd0"
      },
      "execution_count": 191,
      "outputs": [
        {
          "output_type": "execute_result",
          "data": {
            "text/plain": [
              "     Level                                              Topic  Page\n",
              "0        1               SUBCONTRACTED ACTIVITIES DESCRIPTION    10\n",
              "1        2  RESPONSIBILITY EXERCISED ON DELIVERABLES AND C...    10\n",
              "2      2.1    Design Organisation Approval (DOA) Requirements    10\n",
              "3      2.2  Targeted Responsibility/Signatory Exercised on...    10\n",
              "4      2.3                    Criticality of the deliverables    10\n",
              "..     ...                                                ...   ...\n",
              "149  6.7.3  Support to data analysis and dashboard develop...   427\n",
              "150  6.7.4     Further Requirements for 6.7.1 to 6.7.3 - None   432\n",
              "151  6.7.5    Validation and Verification requirements - None   432\n",
              "152  6.7.6        Forecast quantity per deliverable, per year   432\n",
              "153  6.7.7                   Schedule, plan, milestones: None   432\n",
              "\n",
              "[154 rows x 3 columns]"
            ],
            "text/html": [
              "\n",
              "  <div id=\"df-a7f96b50-97fa-4f65-ac18-8f8db597c070\" class=\"colab-df-container\">\n",
              "    <div>\n",
              "<style scoped>\n",
              "    .dataframe tbody tr th:only-of-type {\n",
              "        vertical-align: middle;\n",
              "    }\n",
              "\n",
              "    .dataframe tbody tr th {\n",
              "        vertical-align: top;\n",
              "    }\n",
              "\n",
              "    .dataframe thead th {\n",
              "        text-align: right;\n",
              "    }\n",
              "</style>\n",
              "<table border=\"1\" class=\"dataframe\">\n",
              "  <thead>\n",
              "    <tr style=\"text-align: right;\">\n",
              "      <th></th>\n",
              "      <th>Level</th>\n",
              "      <th>Topic</th>\n",
              "      <th>Page</th>\n",
              "    </tr>\n",
              "  </thead>\n",
              "  <tbody>\n",
              "    <tr>\n",
              "      <th>0</th>\n",
              "      <td>1</td>\n",
              "      <td>SUBCONTRACTED ACTIVITIES DESCRIPTION</td>\n",
              "      <td>10</td>\n",
              "    </tr>\n",
              "    <tr>\n",
              "      <th>1</th>\n",
              "      <td>2</td>\n",
              "      <td>RESPONSIBILITY EXERCISED ON DELIVERABLES AND C...</td>\n",
              "      <td>10</td>\n",
              "    </tr>\n",
              "    <tr>\n",
              "      <th>2</th>\n",
              "      <td>2.1</td>\n",
              "      <td>Design Organisation Approval (DOA) Requirements</td>\n",
              "      <td>10</td>\n",
              "    </tr>\n",
              "    <tr>\n",
              "      <th>3</th>\n",
              "      <td>2.2</td>\n",
              "      <td>Targeted Responsibility/Signatory Exercised on...</td>\n",
              "      <td>10</td>\n",
              "    </tr>\n",
              "    <tr>\n",
              "      <th>4</th>\n",
              "      <td>2.3</td>\n",
              "      <td>Criticality of the deliverables</td>\n",
              "      <td>10</td>\n",
              "    </tr>\n",
              "    <tr>\n",
              "      <th>...</th>\n",
              "      <td>...</td>\n",
              "      <td>...</td>\n",
              "      <td>...</td>\n",
              "    </tr>\n",
              "    <tr>\n",
              "      <th>149</th>\n",
              "      <td>6.7.3</td>\n",
              "      <td>Support to data analysis and dashboard develop...</td>\n",
              "      <td>427</td>\n",
              "    </tr>\n",
              "    <tr>\n",
              "      <th>150</th>\n",
              "      <td>6.7.4</td>\n",
              "      <td>Further Requirements for 6.7.1 to 6.7.3 - None</td>\n",
              "      <td>432</td>\n",
              "    </tr>\n",
              "    <tr>\n",
              "      <th>151</th>\n",
              "      <td>6.7.5</td>\n",
              "      <td>Validation and Verification requirements - None</td>\n",
              "      <td>432</td>\n",
              "    </tr>\n",
              "    <tr>\n",
              "      <th>152</th>\n",
              "      <td>6.7.6</td>\n",
              "      <td>Forecast quantity per deliverable, per year</td>\n",
              "      <td>432</td>\n",
              "    </tr>\n",
              "    <tr>\n",
              "      <th>153</th>\n",
              "      <td>6.7.7</td>\n",
              "      <td>Schedule, plan, milestones: None</td>\n",
              "      <td>432</td>\n",
              "    </tr>\n",
              "  </tbody>\n",
              "</table>\n",
              "<p>154 rows × 3 columns</p>\n",
              "</div>\n",
              "    <div class=\"colab-df-buttons\">\n",
              "\n",
              "  <div class=\"colab-df-container\">\n",
              "    <button class=\"colab-df-convert\" onclick=\"convertToInteractive('df-a7f96b50-97fa-4f65-ac18-8f8db597c070')\"\n",
              "            title=\"Convert this dataframe to an interactive table.\"\n",
              "            style=\"display:none;\">\n",
              "\n",
              "  <svg xmlns=\"http://www.w3.org/2000/svg\" height=\"24px\" viewBox=\"0 -960 960 960\">\n",
              "    <path d=\"M120-120v-720h720v720H120Zm60-500h600v-160H180v160Zm220 220h160v-160H400v160Zm0 220h160v-160H400v160ZM180-400h160v-160H180v160Zm440 0h160v-160H620v160ZM180-180h160v-160H180v160Zm440 0h160v-160H620v160Z\"/>\n",
              "  </svg>\n",
              "    </button>\n",
              "\n",
              "  <style>\n",
              "    .colab-df-container {\n",
              "      display:flex;\n",
              "      gap: 12px;\n",
              "    }\n",
              "\n",
              "    .colab-df-convert {\n",
              "      background-color: #E8F0FE;\n",
              "      border: none;\n",
              "      border-radius: 50%;\n",
              "      cursor: pointer;\n",
              "      display: none;\n",
              "      fill: #1967D2;\n",
              "      height: 32px;\n",
              "      padding: 0 0 0 0;\n",
              "      width: 32px;\n",
              "    }\n",
              "\n",
              "    .colab-df-convert:hover {\n",
              "      background-color: #E2EBFA;\n",
              "      box-shadow: 0px 1px 2px rgba(60, 64, 67, 0.3), 0px 1px 3px 1px rgba(60, 64, 67, 0.15);\n",
              "      fill: #174EA6;\n",
              "    }\n",
              "\n",
              "    .colab-df-buttons div {\n",
              "      margin-bottom: 4px;\n",
              "    }\n",
              "\n",
              "    [theme=dark] .colab-df-convert {\n",
              "      background-color: #3B4455;\n",
              "      fill: #D2E3FC;\n",
              "    }\n",
              "\n",
              "    [theme=dark] .colab-df-convert:hover {\n",
              "      background-color: #434B5C;\n",
              "      box-shadow: 0px 1px 3px 1px rgba(0, 0, 0, 0.15);\n",
              "      filter: drop-shadow(0px 1px 2px rgba(0, 0, 0, 0.3));\n",
              "      fill: #FFFFFF;\n",
              "    }\n",
              "  </style>\n",
              "\n",
              "    <script>\n",
              "      const buttonEl =\n",
              "        document.querySelector('#df-a7f96b50-97fa-4f65-ac18-8f8db597c070 button.colab-df-convert');\n",
              "      buttonEl.style.display =\n",
              "        google.colab.kernel.accessAllowed ? 'block' : 'none';\n",
              "\n",
              "      async function convertToInteractive(key) {\n",
              "        const element = document.querySelector('#df-a7f96b50-97fa-4f65-ac18-8f8db597c070');\n",
              "        const dataTable =\n",
              "          await google.colab.kernel.invokeFunction('convertToInteractive',\n",
              "                                                    [key], {});\n",
              "        if (!dataTable) return;\n",
              "\n",
              "        const docLinkHtml = 'Like what you see? Visit the ' +\n",
              "          '<a target=\"_blank\" href=https://colab.research.google.com/notebooks/data_table.ipynb>data table notebook</a>'\n",
              "          + ' to learn more about interactive tables.';\n",
              "        element.innerHTML = '';\n",
              "        dataTable['output_type'] = 'display_data';\n",
              "        await google.colab.output.renderOutput(dataTable, element);\n",
              "        const docLink = document.createElement('div');\n",
              "        docLink.innerHTML = docLinkHtml;\n",
              "        element.appendChild(docLink);\n",
              "      }\n",
              "    </script>\n",
              "  </div>\n",
              "\n",
              "\n",
              "<div id=\"df-879a657d-f6df-42fc-879c-ef650c2bdb5e\">\n",
              "  <button class=\"colab-df-quickchart\" onclick=\"quickchart('df-879a657d-f6df-42fc-879c-ef650c2bdb5e')\"\n",
              "            title=\"Suggest charts\"\n",
              "            style=\"display:none;\">\n",
              "\n",
              "<svg xmlns=\"http://www.w3.org/2000/svg\" height=\"24px\"viewBox=\"0 0 24 24\"\n",
              "     width=\"24px\">\n",
              "    <g>\n",
              "        <path d=\"M19 3H5c-1.1 0-2 .9-2 2v14c0 1.1.9 2 2 2h14c1.1 0 2-.9 2-2V5c0-1.1-.9-2-2-2zM9 17H7v-7h2v7zm4 0h-2V7h2v10zm4 0h-2v-4h2v4z\"/>\n",
              "    </g>\n",
              "</svg>\n",
              "  </button>\n",
              "\n",
              "<style>\n",
              "  .colab-df-quickchart {\n",
              "      --bg-color: #E8F0FE;\n",
              "      --fill-color: #1967D2;\n",
              "      --hover-bg-color: #E2EBFA;\n",
              "      --hover-fill-color: #174EA6;\n",
              "      --disabled-fill-color: #AAA;\n",
              "      --disabled-bg-color: #DDD;\n",
              "  }\n",
              "\n",
              "  [theme=dark] .colab-df-quickchart {\n",
              "      --bg-color: #3B4455;\n",
              "      --fill-color: #D2E3FC;\n",
              "      --hover-bg-color: #434B5C;\n",
              "      --hover-fill-color: #FFFFFF;\n",
              "      --disabled-bg-color: #3B4455;\n",
              "      --disabled-fill-color: #666;\n",
              "  }\n",
              "\n",
              "  .colab-df-quickchart {\n",
              "    background-color: var(--bg-color);\n",
              "    border: none;\n",
              "    border-radius: 50%;\n",
              "    cursor: pointer;\n",
              "    display: none;\n",
              "    fill: var(--fill-color);\n",
              "    height: 32px;\n",
              "    padding: 0;\n",
              "    width: 32px;\n",
              "  }\n",
              "\n",
              "  .colab-df-quickchart:hover {\n",
              "    background-color: var(--hover-bg-color);\n",
              "    box-shadow: 0 1px 2px rgba(60, 64, 67, 0.3), 0 1px 3px 1px rgba(60, 64, 67, 0.15);\n",
              "    fill: var(--button-hover-fill-color);\n",
              "  }\n",
              "\n",
              "  .colab-df-quickchart-complete:disabled,\n",
              "  .colab-df-quickchart-complete:disabled:hover {\n",
              "    background-color: var(--disabled-bg-color);\n",
              "    fill: var(--disabled-fill-color);\n",
              "    box-shadow: none;\n",
              "  }\n",
              "\n",
              "  .colab-df-spinner {\n",
              "    border: 2px solid var(--fill-color);\n",
              "    border-color: transparent;\n",
              "    border-bottom-color: var(--fill-color);\n",
              "    animation:\n",
              "      spin 1s steps(1) infinite;\n",
              "  }\n",
              "\n",
              "  @keyframes spin {\n",
              "    0% {\n",
              "      border-color: transparent;\n",
              "      border-bottom-color: var(--fill-color);\n",
              "      border-left-color: var(--fill-color);\n",
              "    }\n",
              "    20% {\n",
              "      border-color: transparent;\n",
              "      border-left-color: var(--fill-color);\n",
              "      border-top-color: var(--fill-color);\n",
              "    }\n",
              "    30% {\n",
              "      border-color: transparent;\n",
              "      border-left-color: var(--fill-color);\n",
              "      border-top-color: var(--fill-color);\n",
              "      border-right-color: var(--fill-color);\n",
              "    }\n",
              "    40% {\n",
              "      border-color: transparent;\n",
              "      border-right-color: var(--fill-color);\n",
              "      border-top-color: var(--fill-color);\n",
              "    }\n",
              "    60% {\n",
              "      border-color: transparent;\n",
              "      border-right-color: var(--fill-color);\n",
              "    }\n",
              "    80% {\n",
              "      border-color: transparent;\n",
              "      border-right-color: var(--fill-color);\n",
              "      border-bottom-color: var(--fill-color);\n",
              "    }\n",
              "    90% {\n",
              "      border-color: transparent;\n",
              "      border-bottom-color: var(--fill-color);\n",
              "    }\n",
              "  }\n",
              "</style>\n",
              "\n",
              "  <script>\n",
              "    async function quickchart(key) {\n",
              "      const quickchartButtonEl =\n",
              "        document.querySelector('#' + key + ' button');\n",
              "      quickchartButtonEl.disabled = true;  // To prevent multiple clicks.\n",
              "      quickchartButtonEl.classList.add('colab-df-spinner');\n",
              "      try {\n",
              "        const charts = await google.colab.kernel.invokeFunction(\n",
              "            'suggestCharts', [key], {});\n",
              "      } catch (error) {\n",
              "        console.error('Error during call to suggestCharts:', error);\n",
              "      }\n",
              "      quickchartButtonEl.classList.remove('colab-df-spinner');\n",
              "      quickchartButtonEl.classList.add('colab-df-quickchart-complete');\n",
              "    }\n",
              "    (() => {\n",
              "      let quickchartButtonEl =\n",
              "        document.querySelector('#df-879a657d-f6df-42fc-879c-ef650c2bdb5e button');\n",
              "      quickchartButtonEl.style.display =\n",
              "        google.colab.kernel.accessAllowed ? 'block' : 'none';\n",
              "    })();\n",
              "  </script>\n",
              "</div>\n",
              "\n",
              "  <div id=\"id_dfce4818-9410-4635-9791-f724cd9a2a2e\">\n",
              "    <style>\n",
              "      .colab-df-generate {\n",
              "        background-color: #E8F0FE;\n",
              "        border: none;\n",
              "        border-radius: 50%;\n",
              "        cursor: pointer;\n",
              "        display: none;\n",
              "        fill: #1967D2;\n",
              "        height: 32px;\n",
              "        padding: 0 0 0 0;\n",
              "        width: 32px;\n",
              "      }\n",
              "\n",
              "      .colab-df-generate:hover {\n",
              "        background-color: #E2EBFA;\n",
              "        box-shadow: 0px 1px 2px rgba(60, 64, 67, 0.3), 0px 1px 3px 1px rgba(60, 64, 67, 0.15);\n",
              "        fill: #174EA6;\n",
              "      }\n",
              "\n",
              "      [theme=dark] .colab-df-generate {\n",
              "        background-color: #3B4455;\n",
              "        fill: #D2E3FC;\n",
              "      }\n",
              "\n",
              "      [theme=dark] .colab-df-generate:hover {\n",
              "        background-color: #434B5C;\n",
              "        box-shadow: 0px 1px 3px 1px rgba(0, 0, 0, 0.15);\n",
              "        filter: drop-shadow(0px 1px 2px rgba(0, 0, 0, 0.3));\n",
              "        fill: #FFFFFF;\n",
              "      }\n",
              "    </style>\n",
              "    <button class=\"colab-df-generate\" onclick=\"generateWithVariable('df')\"\n",
              "            title=\"Generate code using this dataframe.\"\n",
              "            style=\"display:none;\">\n",
              "\n",
              "  <svg xmlns=\"http://www.w3.org/2000/svg\" height=\"24px\"viewBox=\"0 0 24 24\"\n",
              "       width=\"24px\">\n",
              "    <path d=\"M7,19H8.4L18.45,9,17,7.55,7,17.6ZM5,21V16.75L18.45,3.32a2,2,0,0,1,2.83,0l1.4,1.43a1.91,1.91,0,0,1,.58,1.4,1.91,1.91,0,0,1-.58,1.4L9.25,21ZM18.45,9,17,7.55Zm-12,3A5.31,5.31,0,0,0,4.9,8.1,5.31,5.31,0,0,0,1,6.5,5.31,5.31,0,0,0,4.9,4.9,5.31,5.31,0,0,0,6.5,1,5.31,5.31,0,0,0,8.1,4.9,5.31,5.31,0,0,0,12,6.5,5.46,5.46,0,0,0,6.5,12Z\"/>\n",
              "  </svg>\n",
              "    </button>\n",
              "    <script>\n",
              "      (() => {\n",
              "      const buttonEl =\n",
              "        document.querySelector('#id_dfce4818-9410-4635-9791-f724cd9a2a2e button.colab-df-generate');\n",
              "      buttonEl.style.display =\n",
              "        google.colab.kernel.accessAllowed ? 'block' : 'none';\n",
              "\n",
              "      buttonEl.onclick = () => {\n",
              "        google.colab.notebook.generateWithVariable('df');\n",
              "      }\n",
              "      })();\n",
              "    </script>\n",
              "  </div>\n",
              "\n",
              "    </div>\n",
              "  </div>\n"
            ],
            "application/vnd.google.colaboratory.intrinsic+json": {
              "type": "dataframe",
              "variable_name": "df",
              "summary": "{\n  \"name\": \"df\",\n  \"rows\": 154,\n  \"fields\": [\n    {\n      \"column\": \"Level\",\n      \"properties\": {\n        \"dtype\": \"string\",\n        \"num_unique_values\": 154,\n        \"samples\": [\n          \"5.1.6\",\n          \"5.6.27\",\n          \"6.7.6\"\n        ],\n        \"semantic_type\": \"\",\n        \"description\": \"\"\n      }\n    },\n    {\n      \"column\": \"Topic\",\n      \"properties\": {\n        \"dtype\": \"string\",\n        \"num_unique_values\": 120,\n        \"samples\": [\n          \"AIOEYI \\u2013 Industrial Systems\",\n          \"3DX DELMIA - Analyze and compare simulation scenario- Exsitu\",\n          \"Criticality of the deliverables\"\n        ],\n        \"semantic_type\": \"\",\n        \"description\": \"\"\n      }\n    },\n    {\n      \"column\": \"Page\",\n      \"properties\": {\n        \"dtype\": \"number\",\n        \"std\": 139,\n        \"min\": 10,\n        \"max\": 432,\n        \"num_unique_values\": 94,\n        \"samples\": [\n          210,\n          84,\n          281\n        ],\n        \"semantic_type\": \"\",\n        \"description\": \"\"\n      }\n    }\n  ]\n}"
            }
          },
          "metadata": {},
          "execution_count": 191
        }
      ]
    },
    {
      "cell_type": "code",
      "source": [
        "df.iloc[0]['Level']"
      ],
      "metadata": {
        "colab": {
          "base_uri": "https://localhost:8080/",
          "height": 36
        },
        "id": "OtkvDQAACq72",
        "outputId": "80f8088b-1bfd-4023-d419-3bcf280b4e6f"
      },
      "execution_count": null,
      "outputs": [
        {
          "output_type": "execute_result",
          "data": {
            "text/plain": [
              "'1'"
            ],
            "application/vnd.google.colaboratory.intrinsic+json": {
              "type": "string"
            }
          },
          "metadata": {},
          "execution_count": 12
        }
      ]
    },
    {
      "cell_type": "code",
      "source": [
        "df.iloc[0]['Topic']"
      ],
      "metadata": {
        "colab": {
          "base_uri": "https://localhost:8080/",
          "height": 36
        },
        "id": "VV1XtjVmCq4U",
        "outputId": "948f1e5b-8fa7-4291-f974-532aae4ffdc6"
      },
      "execution_count": null,
      "outputs": [
        {
          "output_type": "execute_result",
          "data": {
            "text/plain": [
              "'SUBCONTRACTED ACTIVITIES DESCRIPTION'"
            ],
            "application/vnd.google.colaboratory.intrinsic+json": {
              "type": "string"
            }
          },
          "metadata": {},
          "execution_count": 13
        }
      ]
    },
    {
      "cell_type": "code",
      "source": [
        "df.iloc[0]['Page']"
      ],
      "metadata": {
        "colab": {
          "base_uri": "https://localhost:8080/"
        },
        "id": "maX9PjX1Cq2Q",
        "outputId": "760d0d62-0664-4142-b496-a7326dbed417"
      },
      "execution_count": null,
      "outputs": [
        {
          "output_type": "execute_result",
          "data": {
            "text/plain": [
              "10"
            ]
          },
          "metadata": {},
          "execution_count": 14
        }
      ]
    },
    {
      "cell_type": "code",
      "source": [
        "import fitz\n",
        "with fitz.open(pdf_path) as pdf:\n",
        "  page = pdf[int(df.iloc[25]['Page']-1)]\n",
        "  extracted_text = page.get_text()"
      ],
      "metadata": {
        "id": "N7_szWYDC-RD"
      },
      "execution_count": null,
      "outputs": []
    },
    {
      "cell_type": "code",
      "source": [
        "extracted_text"
      ],
      "metadata": {
        "colab": {
          "base_uri": "https://localhost:8080/",
          "height": 144
        },
        "id": "DMvn2F3JC-Ni",
        "outputId": "836375b2-6dac-4b40-e804-d3da517bd3c6"
      },
      "execution_count": null,
      "outputs": [
        {
          "output_type": "execute_result",
          "data": {
            "text/plain": [
              "' \\n \\n \\nTechnical Deliverable Description \\nAppendix F\\n \\n \\n \\n© AIRBUS S.A.S. \\nDate: 19/02/2022 \\nAIRBUS AMBER \\nReference_TDS_SP2103303 \\nPage 59 of 432\\n \\n5.2.3 MODEL DEVELOPMENT - MAJOR \\nNominated Purchaser Contacts \\nWork Package Focal Point: Srivats Srinivasan ,HO-AIOEYM, Airbus India. srivats.srinivasan@airbus.com  \\nBatch No. \\nMWU_03 \\nDescription \\n● \\nAnalyse, Implement and Unit Validate for minor Change Request \\n- No interface change \\n- Simple logic/function implementation/modification \\n● \\nThe following is defined for the Model Development - Major  \\nCriteria \\nFTR Criteria \\nLead Time/ delivery Date \\nAcceptance by MS \\nAll the CRs should be correctly implemented. \\nAcceptance criteria are zero issues and no \\nrejected delivery. \\n  Defined in Jira ticket. \\n● \\nNOTE: T0 is the start date of this WORK UNIT \\n \\nGeneral Acceptance Criteria \\n'"
            ],
            "application/vnd.google.colaboratory.intrinsic+json": {
              "type": "string"
            }
          },
          "metadata": {},
          "execution_count": 22
        }
      ]
    },
    {
      "cell_type": "code",
      "source": [
        "pattern = r\"^\\d+(\\.\\d+)*\\s+[A-Z\\s()&/]+\"\n",
        "\n",
        "# Function to extract topics and their content\n",
        "def extract_topics(text):\n",
        "    matches = re.finditer(pattern, text, re.MULTILINE)\n",
        "    topics = []\n",
        "\n",
        "    # Get all matches and their starting positions\n",
        "    positions = [(match.start(), match.group()) for match in matches]\n",
        "\n",
        "    # Iterate through positions to extract content for each topic\n",
        "    for i in range(len(positions)):\n",
        "        start_pos = positions[i][0]\n",
        "        end_pos = positions[i + 1][0] if i + 1 < len(positions) else len(text)\n",
        "\n",
        "        # Extract the topic and its content\n",
        "        topic = positions[i][1]\n",
        "        content = text[start_pos:end_pos].strip()\n",
        "\n",
        "        # Append the topic and its associated content\n",
        "        topics.append((topic, content))\n",
        "\n",
        "    return topics\n",
        "\n",
        "# Extracting topics\n",
        "extracted_topics = extract_topics(extracted_text)\n",
        "\n",
        "# Print all extracted topics and their content\n",
        "for topic, content in extracted_topics:\n",
        "    print(f\"{content}\")"
      ],
      "metadata": {
        "colab": {
          "base_uri": "https://localhost:8080/"
        },
        "id": "TXdzV72vCq0V",
        "outputId": "6be5c38e-7ddc-46b5-afce-f3916206de28"
      },
      "execution_count": null,
      "outputs": [
        {
          "output_type": "stream",
          "name": "stdout",
          "text": [
            "5.2.3 MODEL DEVELOPMENT - MAJOR \n",
            "Nominated Purchaser Contacts \n",
            "Work Package Focal Point: Srivats Srinivasan ,HO-AIOEYM, Airbus India. srivats.srinivasan@airbus.com  \n",
            "Batch No. \n",
            "MWU_03 \n",
            "Description \n",
            "● \n",
            "Analyse, Implement and Unit Validate for minor Change Request \n",
            "- No interface change \n",
            "- Simple logic/function implementation/modification \n",
            "● \n",
            "The following is defined for the Model Development - Major  \n",
            "Criteria \n",
            "FTR Criteria \n",
            "Lead Time/ delivery Date \n",
            "Acceptance by MS \n",
            "All the CRs should be correctly implemented. \n",
            "Acceptance criteria are zero issues and no \n",
            "rejected delivery. \n",
            "  Defined in Jira ticket. \n",
            "● \n",
            "NOTE: T0 is the start date of this WORK UNIT \n",
            " \n",
            "General Acceptance Criteria\n"
          ]
        }
      ]
    },
    {
      "cell_type": "code",
      "source": [
        "! pip install pdfplumber --quiet"
      ],
      "metadata": {
        "colab": {
          "base_uri": "https://localhost:8080/"
        },
        "id": "imtI8EK2TNIj",
        "outputId": "b589bf70-d0c4-4659-86f9-703d7040c2ed"
      },
      "execution_count": null,
      "outputs": [
        {
          "output_type": "stream",
          "name": "stdout",
          "text": [
            "\u001b[2K     \u001b[90m━━━━━━━━━━━━━━━━━━━━━━━━━━━━━━━━━━━━━━━━\u001b[0m \u001b[32m42.0/42.0 kB\u001b[0m \u001b[31m2.0 MB/s\u001b[0m eta \u001b[36m0:00:00\u001b[0m\n",
            "\u001b[2K     \u001b[90m━━━━━━━━━━━━━━━━━━━━━━━━━━━━━━━━━━━━━━━━\u001b[0m \u001b[32m48.5/48.5 kB\u001b[0m \u001b[31m2.5 MB/s\u001b[0m eta \u001b[36m0:00:00\u001b[0m\n",
            "\u001b[2K   \u001b[90m━━━━━━━━━━━━━━━━━━━━━━━━━━━━━━━━━━━━━━━━\u001b[0m \u001b[32m59.2/59.2 kB\u001b[0m \u001b[31m3.4 MB/s\u001b[0m eta \u001b[36m0:00:00\u001b[0m\n",
            "\u001b[2K   \u001b[90m━━━━━━━━━━━━━━━━━━━━━━━━━━━━━━━━━━━━━━━━\u001b[0m \u001b[32m5.6/5.6 MB\u001b[0m \u001b[31m48.1 MB/s\u001b[0m eta \u001b[36m0:00:00\u001b[0m\n",
            "\u001b[2K   \u001b[90m━━━━━━━━━━━━━━━━━━━━━━━━━━━━━━━━━━━━━━━━\u001b[0m \u001b[32m2.8/2.8 MB\u001b[0m \u001b[31m58.2 MB/s\u001b[0m eta \u001b[36m0:00:00\u001b[0m\n",
            "\u001b[?25h"
          ]
        }
      ]
    },
    {
      "cell_type": "code",
      "source": [
        "import pandas as pd\n",
        "import pdfplumber\n",
        "\n",
        "def read_csv(csv_path):\n",
        "    return pd.read_csv(csv_path)\n",
        "\n",
        "def extract_text_from_pdf(pdf_path, start_page, end_page):\n",
        "    extracted_text = \"\"\n",
        "    with pdfplumber.open(pdf_path) as pdf:\n",
        "        for page_number in range(start_page - 1, end_page):  # pdfplumber uses 0-based indexing\n",
        "            extracted_text += pdf.pages[page_number].extract_text()\n",
        "    return extracted_text\n",
        "\n",
        "def process_topics(csv_data, pdf_path):\n",
        "    content_list = []\n",
        "    num_rows = len(csv_data)\n",
        "\n",
        "    for i in range(num_rows):\n",
        "        current_level = csv_data.loc[i, 'Level']\n",
        "        current_topic = csv_data.loc[i, 'Topic']\n",
        "        current_page = csv_data.loc[i, 'Page']\n",
        "\n",
        "        if i < num_rows - 1:\n",
        "            next_level = csv_data.loc[i + 1, 'Level']\n",
        "            next_topic = csv_data.loc[i + 1, 'Topic']\n",
        "            next_page = csv_data.loc[i + 1, 'Page']\n",
        "        else:\n",
        "            next_level = None\n",
        "            next_topic = None\n",
        "            next_page = None\n",
        "\n",
        "        if next_page and current_page == next_page:\n",
        "            # Extract from the same page\n",
        "            extracted_text = extract_text_from_pdf(pdf_path, current_page, current_page)\n",
        "            start_index = extracted_text.find(current_topic)\n",
        "            end_index = extracted_text.find(next_topic, start_index) if next_topic else len(extracted_text)\n",
        "            content = extracted_text[start_index:end_index].strip()\n",
        "        else:\n",
        "            # Extract from the range of pages\n",
        "            extracted_text = extract_text_from_pdf(pdf_path, current_page, next_page if next_page else current_page)\n",
        "            start_index = extracted_text.find(current_topic)\n",
        "            end_index = extracted_text.find(next_topic, start_index) if next_topic else len(extracted_text)\n",
        "            content = extracted_text[start_index:end_index].strip()\n",
        "\n",
        "        content_list.append(content)\n",
        "\n",
        "    csv_data['Content'] = content_list\n",
        "    return csv_data\n",
        "\n",
        "# Example usage:\n",
        "csv_path = '/content/table_of_contents.csv'\n",
        "pdf_path = '/content/Technical Deliverable Specification_SnPS _SP2103303_V1 2 (1) (1).pdf'\n",
        "\n",
        "csv_data = read_csv(csv_path)\n",
        "processed_data = process_topics(csv_data, pdf_path)"
      ],
      "metadata": {
        "id": "9S4Yrm3fLjup",
        "colab": {
          "base_uri": "https://localhost:8080/"
        },
        "outputId": "32bc28ee-da29-4a1c-c41f-b30acbacb73b"
      },
      "execution_count": null,
      "outputs": [
        {
          "output_type": "stream",
          "name": "stdout",
          "text": [
            "     Level                                              Topic  Page  \\\n",
            "0        1               SUBCONTRACTED ACTIVITIES DESCRIPTION    10   \n",
            "1        2  RESPONSIBILITY EXERCISED ON DELIVERABLES AND C...    10   \n",
            "2      2.1    Design Organisation Approval (DOA) Requirements    10   \n",
            "3      2.2  Targeted Responsibility/Signatory Exercised on...    10   \n",
            "4      2.3                    Criticality of the deliverables    10   \n",
            "..     ...                                                ...   ...   \n",
            "149  6.7.3  Support to data analysis and dashboard develop...   427   \n",
            "150  6.7.4     Further Requirements for 6.7.1 to 6.7.3 - None   432   \n",
            "151  6.7.5    Validation and Verification requirements - None   432   \n",
            "152  6.7.6        Forecast quantity per deliverable, per year   432   \n",
            "153  6.7.7                   Schedule, plan, milestones: None   432   \n",
            "\n",
            "                                               Content  \n",
            "0    SUBCONTRACTED ACTIVITIES DESCRIPTION\\nThe subc...  \n",
            "1    RESPONSIBILITY EXERCISED ON DELIVERABLES AND C...  \n",
            "2    Design Organisation Approval (DOA) Requirement...  \n",
            "3    Targeted Responsibility/Signatory Exercised on...  \n",
            "4    Criticality of the deliverables\\nThe paragraph...  \n",
            "..                                                 ...  \n",
            "149  Support to data analysis and dashboard develop...  \n",
            "150  Further Requirements for 6.7.1 to 6.7.3 - None...  \n",
            "151  Validation and Verification requirements - Non...  \n",
            "152  Forecast quantity per deliverable, per year\\nW...  \n",
            "153  Schedule, plan, milestones: None\\nMajor dates ...  \n",
            "\n",
            "[154 rows x 4 columns]\n"
          ]
        }
      ]
    },
    {
      "cell_type": "code",
      "source": [
        "pd.DataFrame(processed_data).to_csv('processed_data.csv', index=False)"
      ],
      "metadata": {
        "id": "XkTVwMnJWPs1"
      },
      "execution_count": null,
      "outputs": []
    },
    {
      "cell_type": "code",
      "source": [
        "new_df = pd.read_csv('/content/processed_data.csv')"
      ],
      "metadata": {
        "id": "Os3QHT_ZWPpY"
      },
      "execution_count": null,
      "outputs": []
    },
    {
      "cell_type": "code",
      "source": [
        "print(new_df.iloc[3]['Content'])"
      ],
      "metadata": {
        "colab": {
          "base_uri": "https://localhost:8080/"
        },
        "id": "b1gE1AnrWPnI",
        "outputId": "afc69be4-2282-45c8-92cc-8414671dbd77"
      },
      "execution_count": null,
      "outputs": [
        {
          "output_type": "stream",
          "name": "stdout",
          "text": [
            "Targeted Responsibility/Signatory Exercised on Deliverables\n",
            "The paragraph and table below is ONLY Applicable to: AIRBUS COMMERCIAL AIRCRAFT\n",
            "The maximum Service Provider’s targeted responsibility / signatory exercised on deliverables is as follows:\n",
            "Deliverables are A/C related\n",
            "Deliverables are\n",
            "Authoring Controlled DOA Signature\n",
            "non A/C related\n",
            "refer to M1264 refer to A1020/M1020\n",
            "Authoring Approver Authorizer\n",
            "N/A N/A Airworthiness Signature\n",
            "Targeted Signature Signature Signature\n",
            "responsibility /\n",
            "signatory level ☐ ☒ ☐ ☐ ☐ ☐\n",
            "The activity is The activity is DOA related\n",
            "not DOA related\n",
            "Table 2-1. Targeted responsibility / signatory exercised on deliverables\n",
            "2.3\n"
          ]
        }
      ]
    },
    {
      "cell_type": "code",
      "source": [
        "import pandas as pd\n",
        "import pdfplumber\n",
        "\n",
        "def read_csv(csv_path):\n",
        "    return pd.read_csv(csv_path)\n",
        "\n",
        "def extract_text_from_pdf(pdf_path, start_page, end_page):\n",
        "    extracted_text = \"\"\n",
        "    with pdfplumber.open(pdf_path) as pdf:\n",
        "        for page_number in range(start_page - 1, end_page):  # pdfplumber uses 0-based indexing\n",
        "            extracted_text += pdf.pages[page_number].extract_text() or \"\"\n",
        "    return extracted_text\n",
        "\n",
        "def process_topics(csv_data, pdf_path):\n",
        "    content_list = []\n",
        "    num_rows = len(csv_data)\n",
        "\n",
        "    for i in range(num_rows):\n",
        "        current_level = csv_data.loc[i, 'Level']\n",
        "        current_topic = csv_data.loc[i, 'Topic']\n",
        "        current_page = csv_data.loc[i, 'Page']\n",
        "\n",
        "        # Determine the next topic, level, and page\n",
        "        if i < num_rows - 1:\n",
        "            next_level = csv_data.loc[i + 1, 'Level']\n",
        "            next_topic = csv_data.loc[i + 1, 'Topic']\n",
        "            next_page = csv_data.loc[i + 1, 'Page']\n",
        "        else:\n",
        "            next_level = None\n",
        "            next_topic = None\n",
        "            next_page = None\n",
        "\n",
        "        # Extract the relevant text\n",
        "        if next_page and current_page == next_page:\n",
        "            extracted_text = extract_text_from_pdf(pdf_path, current_page, current_page)\n",
        "        else:\n",
        "            extracted_text = extract_text_from_pdf(pdf_path, current_page, next_page if next_page else current_page)\n",
        "\n",
        "        # Extract content based on current and next topic\n",
        "        content = extract_content(extracted_text, current_topic, next_topic)\n",
        "        content_list.append(content)\n",
        "\n",
        "    csv_data['Content'] = content_list\n",
        "    return csv_data\n",
        "\n",
        "def extract_content(extracted_text, current_topic, next_topic):\n",
        "    start_index = extracted_text.find(current_topic)\n",
        "    if start_index == -1:\n",
        "        return None  # Topic not found\n",
        "\n",
        "    # If next_topic is provided, find its position\n",
        "    if next_topic:\n",
        "        end_index = extracted_text.find(next_topic, start_index)\n",
        "        if end_index == -1:\n",
        "            end_index = len(extracted_text)  # If next topic is not found, go to the end\n",
        "    else:\n",
        "        end_index = len(extracted_text)  # If there's no next topic, extract until the end\n",
        "\n",
        "    return extracted_text[start_index:end_index].strip()\n",
        "\n",
        "# Example usage:\n",
        "csv_path = '/content/table_of_contents.csv'\n",
        "pdf_path = '/content/Technical Deliverable Specification_SnPS _SP2103303_V1 2 (1) (1).pdf'\n",
        "\n",
        "csv_data = read_csv(csv_path)\n",
        "processed_data = process_topics(csv_data, pdf_path)\n",
        "\n",
        "# Display the processed data\n",
        "print(processed_data)"
      ],
      "metadata": {
        "colab": {
          "base_uri": "https://localhost:8080/"
        },
        "id": "r1sLs9Jup2ZU",
        "outputId": "5ce02775-56a1-4c4f-a733-5b93e6690e8a"
      },
      "execution_count": null,
      "outputs": [
        {
          "output_type": "stream",
          "name": "stdout",
          "text": [
            "     Level                                              Topic  Page  \\\n",
            "0        1               SUBCONTRACTED ACTIVITIES DESCRIPTION    10   \n",
            "1        2  RESPONSIBILITY EXERCISED ON DELIVERABLES AND C...    10   \n",
            "2      2.1    Design Organisation Approval (DOA) Requirements    10   \n",
            "3      2.2  Targeted Responsibility/Signatory Exercised on...    10   \n",
            "4      2.3                    Criticality of the deliverables    10   \n",
            "..     ...                                                ...   ...   \n",
            "149  6.7.3  Support to data analysis and dashboard develop...   427   \n",
            "150  6.7.4     Further Requirements for 6.7.1 to 6.7.3 - None   432   \n",
            "151  6.7.5    Validation and Verification requirements - None   432   \n",
            "152  6.7.6        Forecast quantity per deliverable, per year   432   \n",
            "153  6.7.7                   Schedule, plan, milestones: None   432   \n",
            "\n",
            "                                               Content  \n",
            "0    SUBCONTRACTED ACTIVITIES DESCRIPTION\\nThe subc...  \n",
            "1    RESPONSIBILITY EXERCISED ON DELIVERABLES AND C...  \n",
            "2    Design Organisation Approval (DOA) Requirement...  \n",
            "3    Targeted Responsibility/Signatory Exercised on...  \n",
            "4    Criticality of the deliverables\\nThe paragraph...  \n",
            "..                                                 ...  \n",
            "149  Support to data analysis and dashboard develop...  \n",
            "150  Further Requirements for 6.7.1 to 6.7.3 - None...  \n",
            "151  Validation and Verification requirements - Non...  \n",
            "152  Forecast quantity per deliverable, per year\\nW...  \n",
            "153  Schedule, plan, milestones: None\\nMajor dates ...  \n",
            "\n",
            "[154 rows x 4 columns]\n"
          ]
        }
      ]
    },
    {
      "cell_type": "code",
      "source": [
        "import pandas as pd\n",
        "import pdfplumber\n",
        "\n",
        "def read_csv(csv_path):\n",
        "    return pd.read_csv(csv_path)\n",
        "\n",
        "def extract_text_from_pdf(pdf_path, start_page, end_page):\n",
        "    extracted_text = \"\"\n",
        "    with pdfplumber.open(pdf_path) as pdf:\n",
        "        for page_number in range(start_page - 1, end_page):  # pdfplumber uses 0-based indexing\n",
        "            extracted_text += pdf.pages[page_number].extract_text() or \"\"\n",
        "    return extracted_text\n",
        "\n",
        "def process_topics(csv_data, pdf_path):\n",
        "    content_list = []\n",
        "    num_rows = len(csv_data)\n",
        "\n",
        "    for i in range(num_rows):\n",
        "        current_level = csv_data.loc[i, 'Level']\n",
        "        current_topic = csv_data.loc[i, 'Topic']\n",
        "        current_page = csv_data.loc[i, 'Page']\n",
        "\n",
        "        if i < num_rows - 1:\n",
        "            next_level = csv_data.loc[i + 1, 'Level']\n",
        "            next_topic = csv_data.loc[i + 1, 'Topic']\n",
        "            next_page = csv_data.loc[i + 1, 'Page']\n",
        "        else:\n",
        "            next_level = None\n",
        "            next_topic = None\n",
        "            next_page = None\n",
        "\n",
        "        # Extract text based on page conditions\n",
        "        if next_page and current_page == next_page:\n",
        "            extracted_text = extract_text_from_pdf(pdf_path, current_page, current_page)\n",
        "        else:\n",
        "            extracted_text = extract_text_from_pdf(pdf_path, current_page, next_page if next_page else current_page)\n",
        "\n",
        "        # Extract content for the current topic\n",
        "        content = extract_content(extracted_text, current_level, current_topic, next_level, next_topic)\n",
        "        content_list.append(content)\n",
        "\n",
        "    csv_data['Content'] = content_list\n",
        "    return csv_data\n",
        "\n",
        "def extract_content(extracted_text, current_level, current_topic, next_level, next_topic):\n",
        "    start_index = extracted_text.find(f\"{current_level} {current_topic}\")\n",
        "\n",
        "    if start_index == -1:\n",
        "        return None  # Current topic not found\n",
        "\n",
        "    # If next topic is available, find its position\n",
        "    end_index = extracted_text.find(f\"{next_level} {next_topic}\", start_index) if next_topic else len(extracted_text)\n",
        "\n",
        "    if end_index == -1:\n",
        "        end_index = len(extracted_text)  # If next topic is not found, go to the end\n",
        "\n",
        "    return extracted_text[start_index:end_index].strip()\n",
        "\n",
        "# Example usage:\n",
        "csv_path = '/content/table_of_contents.csv'  # Update with your CSV file path\n",
        "pdf_path = '/content/Technical Deliverable Specification_SnPS _SP2103303_V1 2 (1) (1).pdf'  # Update with your PDF file path\n",
        "\n",
        "csv_data = read_csv(csv_path)\n",
        "processed_data = process_topics(csv_data, pdf_path)\n",
        "\n",
        "# Save the processed data back to CSV\n",
        "output_csv_path = 'processed_content.csv'\n",
        "processed_data.to_csv(output_csv_path, index=False)\n",
        "\n",
        "print(\"Content extraction complete. Processed data saved to:\", output_csv_path)\n"
      ],
      "metadata": {
        "colab": {
          "base_uri": "https://localhost:8080/"
        },
        "id": "nCzzK1ohp2Vw",
        "outputId": "7cc85a4f-0634-4ef8-b1cb-153e0d4bc104"
      },
      "execution_count": null,
      "outputs": [
        {
          "output_type": "stream",
          "name": "stdout",
          "text": [
            "Content extraction complete. Processed data saved to: processed_content.csv\n"
          ]
        }
      ]
    },
    {
      "cell_type": "code",
      "source": [
        "data = pd.read_csv('/content/processed_data.csv')"
      ],
      "metadata": {
        "id": "kFvrfz9fp2Sl"
      },
      "execution_count": null,
      "outputs": []
    },
    {
      "cell_type": "code",
      "source": [
        "data.isnull().sum()"
      ],
      "metadata": {
        "colab": {
          "base_uri": "https://localhost:8080/",
          "height": 209
        },
        "id": "9MGgj1A1p2QH",
        "outputId": "a54fb11f-d9ee-464d-9db9-b782d870d190"
      },
      "execution_count": null,
      "outputs": [
        {
          "output_type": "execute_result",
          "data": {
            "text/plain": [
              "Level       0\n",
              "Topic       0\n",
              "Page        0\n",
              "Content    82\n",
              "dtype: int64"
            ],
            "text/html": [
              "<div>\n",
              "<style scoped>\n",
              "    .dataframe tbody tr th:only-of-type {\n",
              "        vertical-align: middle;\n",
              "    }\n",
              "\n",
              "    .dataframe tbody tr th {\n",
              "        vertical-align: top;\n",
              "    }\n",
              "\n",
              "    .dataframe thead th {\n",
              "        text-align: right;\n",
              "    }\n",
              "</style>\n",
              "<table border=\"1\" class=\"dataframe\">\n",
              "  <thead>\n",
              "    <tr style=\"text-align: right;\">\n",
              "      <th></th>\n",
              "      <th>0</th>\n",
              "    </tr>\n",
              "  </thead>\n",
              "  <tbody>\n",
              "    <tr>\n",
              "      <th>Level</th>\n",
              "      <td>0</td>\n",
              "    </tr>\n",
              "    <tr>\n",
              "      <th>Topic</th>\n",
              "      <td>0</td>\n",
              "    </tr>\n",
              "    <tr>\n",
              "      <th>Page</th>\n",
              "      <td>0</td>\n",
              "    </tr>\n",
              "    <tr>\n",
              "      <th>Content</th>\n",
              "      <td>82</td>\n",
              "    </tr>\n",
              "  </tbody>\n",
              "</table>\n",
              "</div><br><label><b>dtype:</b> int64</label>"
            ]
          },
          "metadata": {},
          "execution_count": 80
        }
      ]
    },
    {
      "cell_type": "code",
      "source": [
        "data.shape"
      ],
      "metadata": {
        "id": "J29UH0rcDnL0",
        "colab": {
          "base_uri": "https://localhost:8080/"
        },
        "outputId": "494f1016-9793-4cba-dcae-24193d000c2b"
      },
      "execution_count": null,
      "outputs": [
        {
          "output_type": "execute_result",
          "data": {
            "text/plain": [
              "(154, 4)"
            ]
          },
          "metadata": {},
          "execution_count": 81
        }
      ]
    },
    {
      "cell_type": "code",
      "source": [
        "data[data['Level'] == '5.5.15']['Content']"
      ],
      "metadata": {
        "id": "6OE2qt1LDnJk",
        "colab": {
          "base_uri": "https://localhost:8080/",
          "height": 115
        },
        "outputId": "b311e208-e522-4aea-afc6-9b244e34dcd3"
      },
      "execution_count": null,
      "outputs": [
        {
          "output_type": "execute_result",
          "data": {
            "text/plain": [
              "66    NaN\n",
              "Name: Content, dtype: object"
            ],
            "text/html": [
              "<div>\n",
              "<style scoped>\n",
              "    .dataframe tbody tr th:only-of-type {\n",
              "        vertical-align: middle;\n",
              "    }\n",
              "\n",
              "    .dataframe tbody tr th {\n",
              "        vertical-align: top;\n",
              "    }\n",
              "\n",
              "    .dataframe thead th {\n",
              "        text-align: right;\n",
              "    }\n",
              "</style>\n",
              "<table border=\"1\" class=\"dataframe\">\n",
              "  <thead>\n",
              "    <tr style=\"text-align: right;\">\n",
              "      <th></th>\n",
              "      <th>Content</th>\n",
              "    </tr>\n",
              "  </thead>\n",
              "  <tbody>\n",
              "    <tr>\n",
              "      <th>66</th>\n",
              "      <td>NaN</td>\n",
              "    </tr>\n",
              "  </tbody>\n",
              "</table>\n",
              "</div><br><label><b>dtype:</b> object</label>"
            ]
          },
          "metadata": {},
          "execution_count": 90
        }
      ]
    },
    {
      "cell_type": "code",
      "source": [
        "print(extracted_text.strip())"
      ],
      "metadata": {
        "colab": {
          "base_uri": "https://localhost:8080/"
        },
        "id": "-i8vUVjwQLxY",
        "outputId": "cb373207-7d76-44b9-cea3-6a852de262c9"
      },
      "execution_count": null,
      "outputs": [
        {
          "output_type": "stream",
          "name": "stdout",
          "text": [
            "Technical Deliverable Description \n",
            "Appendix F\n",
            " \n",
            " \n",
            " \n",
            "© AIRBUS S.A.S. \n",
            "Date: 19/02/2022 \n",
            "AIRBUS AMBER \n",
            "Reference_TDS_SP2103303 \n",
            "Page 59 of 432\n",
            " \n",
            "5.2.3 MODEL DEVELOPMENT - MAJOR \n",
            "Nominated Purchaser Contacts \n",
            "Work Package Focal Point: Srivats Srinivasan ,HO-AIOEYM, Airbus India. srivats.srinivasan@airbus.com  \n",
            "Batch No. \n",
            "MWU_03 \n",
            "Description \n",
            "● \n",
            "Analyse, Implement and Unit Validate for minor Change Request \n",
            "- No interface change \n",
            "- Simple logic/function implementation/modification \n",
            "● \n",
            "The following is defined for the Model Development - Major  \n",
            "Criteria \n",
            "FTR Criteria \n",
            "Lead Time/ delivery Date \n",
            "Acceptance by MS \n",
            "All the CRs should be correctly implemented. \n",
            "Acceptance criteria are zero issues and no \n",
            "rejected delivery. \n",
            "  Defined in Jira ticket. \n",
            "● \n",
            "NOTE: T0 is the start date of this WORK UNIT \n",
            " \n",
            "General Acceptance Criteria\n"
          ]
        }
      ]
    },
    {
      "cell_type": "code",
      "source": [
        "import pandas as pd\n",
        "import pdfplumber\n",
        "\n",
        "def read_csv(csv_path):\n",
        "    return pd.read_csv(csv_path)\n",
        "\n",
        "def extract_text_from_pdf(pdf_path, start_page, end_page):\n",
        "    extracted_text = \"\"\n",
        "    with pdfplumber.open(pdf_path) as pdf:\n",
        "        for page_number in range(start_page - 1, end_page):  # pdfplumber uses 0-based indexing\n",
        "            page_text = pdf.pages[page_number].extract_text() or \"\"\n",
        "            extracted_text += page_text\n",
        "    return extracted_text\n",
        "\n",
        "def process_topics(csv_data, pdf_path):\n",
        "    content_list = []\n",
        "    num_rows = len(csv_data)\n",
        "\n",
        "    for i in range(num_rows):\n",
        "        current_level = csv_data.loc[i, 'Level']\n",
        "        current_topic = csv_data.loc[i, 'Topic']\n",
        "        current_page = int(csv_data.loc[i, 'Page'])\n",
        "\n",
        "        if i < num_rows - 1:\n",
        "            next_level = csv_data.loc[i + 1, 'Level']\n",
        "            next_topic = csv_data.loc[i + 1, 'Topic']\n",
        "            next_page = int(csv_data.loc[i + 1, 'Page'])\n",
        "        else:\n",
        "            next_level = None\n",
        "            next_topic = None\n",
        "            next_page = None\n",
        "\n",
        "        # Extract text based on page conditions\n",
        "        if next_page and current_page == next_page:\n",
        "            extracted_text = extract_text_from_pdf(pdf_path, current_page, current_page)\n",
        "        else:\n",
        "            extracted_text = extract_text_from_pdf(pdf_path, current_page, next_page if next_page else current_page)\n",
        "\n",
        "        # Extract content for the current topic\n",
        "        content = extract_content(extracted_text, current_level, current_topic, next_level, next_topic)\n",
        "        content_list.append(content)\n",
        "\n",
        "    csv_data['Content'] = content_list\n",
        "    return csv_data\n",
        "\n",
        "def extract_content(extracted_text, current_level, current_topic, next_level, next_topic):\n",
        "    # Construct full topic string\n",
        "    current_topic_str = f\"{current_level} {current_topic}\"\n",
        "    start_index = extracted_text.find(current_topic_str)\n",
        "\n",
        "    if start_index == -1:\n",
        "        return None  # Current topic not found\n",
        "\n",
        "    # If next topic is available, find its position\n",
        "    if next_topic:\n",
        "        next_topic_str = f\"{next_level} {next_topic}\"\n",
        "        end_index = extracted_text.find(next_topic_str, start_index)\n",
        "    else:\n",
        "        end_index = len(extracted_text)  # If no next topic, go to the end\n",
        "\n",
        "    if end_index == -1:\n",
        "        end_index = len(extracted_text)  # If next topic is not found, go to the end\n",
        "\n",
        "    return extracted_text[start_index:end_index].strip()\n",
        "\n",
        "# Example usage:\n",
        "csv_path = '/content/table_of_contents.csv'  # Update with your CSV file path\n",
        "pdf_path = '/content/Technical Deliverable Specification_SnPS _SP2103303_V1 2 (1) (1).pdf'  # Update with your PDF file path\n",
        "\n",
        "csv_data = read_csv(csv_path)\n",
        "processed_data = process_topics(csv_data, pdf_path)\n",
        "\n",
        "# Save the processed data back to CSV\n",
        "output_csv_path = 'processed_content.csv'\n",
        "processed_data.to_csv(output_csv_path, index=False)\n",
        "\n",
        "print(\"Content extraction complete. Processed data saved to:\", output_csv_path)"
      ],
      "metadata": {
        "colab": {
          "base_uri": "https://localhost:8080/",
          "height": 370
        },
        "id": "At2G0wl9x5_Y",
        "outputId": "ea79d0f8-8053-4d3b-c284-3ebb73b2f5fb"
      },
      "execution_count": null,
      "outputs": [
        {
          "output_type": "error",
          "ename": "ValueError",
          "evalue": "Length of values (1) does not match length of index (154)",
          "traceback": [
            "\u001b[0;31m---------------------------------------------------------------------------\u001b[0m",
            "\u001b[0;31mValueError\u001b[0m                                Traceback (most recent call last)",
            "\u001b[0;32m<ipython-input-148-290068e3fae7>\u001b[0m in \u001b[0;36m<cell line: 175>\u001b[0;34m()\u001b[0m\n\u001b[1;32m    173\u001b[0m \u001b[0;31m# processed_data.to_csv(output_csv_path, index=False)\u001b[0m\u001b[0;34m\u001b[0m\u001b[0;34m\u001b[0m\u001b[0m\n\u001b[1;32m    174\u001b[0m \u001b[0;34m\u001b[0m\u001b[0m\n\u001b[0;32m--> 175\u001b[0;31m \u001b[0mintermediate_function\u001b[0m\u001b[0;34m(\u001b[0m\u001b[0mcsv_path\u001b[0m\u001b[0;34m,\u001b[0m \u001b[0mpdf_path\u001b[0m\u001b[0;34m)\u001b[0m\u001b[0;34m.\u001b[0m\u001b[0mto_csv\u001b[0m\u001b[0;34m(\u001b[0m\u001b[0;34m'content_output.csv'\u001b[0m\u001b[0;34m,\u001b[0m \u001b[0mindex\u001b[0m\u001b[0;34m=\u001b[0m\u001b[0;32mFalse\u001b[0m\u001b[0;34m)\u001b[0m\u001b[0;34m\u001b[0m\u001b[0;34m\u001b[0m\u001b[0m\n\u001b[0m\u001b[1;32m    176\u001b[0m \u001b[0;31m# print(\"Content extraction complete. Processed data saved to:\", output_csv_path\u001b[0m\u001b[0;34m\u001b[0m\u001b[0;34m\u001b[0m\u001b[0m\n\u001b[1;32m    177\u001b[0m \u001b[0;34m\u001b[0m\u001b[0m\n",
            "\u001b[0;32m<ipython-input-148-290068e3fae7>\u001b[0m in \u001b[0;36mintermediate_function\u001b[0;34m(csv_path, pdf_path)\u001b[0m\n\u001b[1;32m     45\u001b[0m \u001b[0;34m\u001b[0m\u001b[0m\n\u001b[1;32m     46\u001b[0m   \u001b[0;31m# extracting contents\u001b[0m\u001b[0;34m\u001b[0m\u001b[0;34m\u001b[0m\u001b[0m\n\u001b[0;32m---> 47\u001b[0;31m   \u001b[0mextract_content_from_texts\u001b[0m\u001b[0;34m(\u001b[0m\u001b[0mextracted_text\u001b[0m\u001b[0;34m,\u001b[0m \u001b[0mcurrent_level\u001b[0m\u001b[0;34m,\u001b[0m \u001b[0mcurrent_topic\u001b[0m\u001b[0;34m,\u001b[0m \u001b[0mnext_level\u001b[0m\u001b[0;34m,\u001b[0m \u001b[0mnext_topic\u001b[0m\u001b[0;34m)\u001b[0m\u001b[0;34m\u001b[0m\u001b[0;34m\u001b[0m\u001b[0m\n\u001b[0m\u001b[1;32m     48\u001b[0m \u001b[0;34m\u001b[0m\u001b[0m\n\u001b[1;32m     49\u001b[0m \u001b[0;34m\u001b[0m\u001b[0m\n",
            "\u001b[0;32m<ipython-input-148-290068e3fae7>\u001b[0m in \u001b[0;36mextract_content_from_texts\u001b[0;34m(extracted_text, current_level, current_topic, next_level, next_topic)\u001b[0m\n\u001b[1;32m     87\u001b[0m   \u001b[0mcontent_list\u001b[0m\u001b[0;34m.\u001b[0m\u001b[0mappend\u001b[0m\u001b[0;34m(\u001b[0m\u001b[0mextracted_text\u001b[0m\u001b[0;34m[\u001b[0m\u001b[0mstart_index\u001b[0m\u001b[0;34m:\u001b[0m\u001b[0mend_index\u001b[0m\u001b[0;34m]\u001b[0m\u001b[0;34m)\u001b[0m\u001b[0;34m\u001b[0m\u001b[0;34m\u001b[0m\u001b[0m\n\u001b[1;32m     88\u001b[0m \u001b[0;34m\u001b[0m\u001b[0m\n\u001b[0;32m---> 89\u001b[0;31m   \u001b[0mcsv_data\u001b[0m\u001b[0;34m[\u001b[0m\u001b[0;34m'Content'\u001b[0m\u001b[0;34m]\u001b[0m \u001b[0;34m=\u001b[0m \u001b[0mcontent_list\u001b[0m\u001b[0;34m\u001b[0m\u001b[0;34m\u001b[0m\u001b[0m\n\u001b[0m\u001b[1;32m     90\u001b[0m   \u001b[0;32mreturn\u001b[0m \u001b[0mcsv_data\u001b[0m\u001b[0;34m\u001b[0m\u001b[0;34m\u001b[0m\u001b[0m\n\u001b[1;32m     91\u001b[0m \u001b[0;34m\u001b[0m\u001b[0m\n",
            "\u001b[0;32m/usr/local/lib/python3.10/dist-packages/pandas/core/frame.py\u001b[0m in \u001b[0;36m__setitem__\u001b[0;34m(self, key, value)\u001b[0m\n\u001b[1;32m   4089\u001b[0m         \u001b[0;32melse\u001b[0m\u001b[0;34m:\u001b[0m\u001b[0;34m\u001b[0m\u001b[0;34m\u001b[0m\u001b[0m\n\u001b[1;32m   4090\u001b[0m             \u001b[0;31m# set column\u001b[0m\u001b[0;34m\u001b[0m\u001b[0;34m\u001b[0m\u001b[0m\n\u001b[0;32m-> 4091\u001b[0;31m             \u001b[0mself\u001b[0m\u001b[0;34m.\u001b[0m\u001b[0m_set_item\u001b[0m\u001b[0;34m(\u001b[0m\u001b[0mkey\u001b[0m\u001b[0;34m,\u001b[0m \u001b[0mvalue\u001b[0m\u001b[0;34m)\u001b[0m\u001b[0;34m\u001b[0m\u001b[0;34m\u001b[0m\u001b[0m\n\u001b[0m\u001b[1;32m   4092\u001b[0m \u001b[0;34m\u001b[0m\u001b[0m\n\u001b[1;32m   4093\u001b[0m     \u001b[0;32mdef\u001b[0m \u001b[0m_setitem_slice\u001b[0m\u001b[0;34m(\u001b[0m\u001b[0mself\u001b[0m\u001b[0;34m,\u001b[0m \u001b[0mkey\u001b[0m\u001b[0;34m:\u001b[0m \u001b[0mslice\u001b[0m\u001b[0;34m,\u001b[0m \u001b[0mvalue\u001b[0m\u001b[0;34m)\u001b[0m \u001b[0;34m->\u001b[0m \u001b[0;32mNone\u001b[0m\u001b[0;34m:\u001b[0m\u001b[0;34m\u001b[0m\u001b[0;34m\u001b[0m\u001b[0m\n",
            "\u001b[0;32m/usr/local/lib/python3.10/dist-packages/pandas/core/frame.py\u001b[0m in \u001b[0;36m_set_item\u001b[0;34m(self, key, value)\u001b[0m\n\u001b[1;32m   4298\u001b[0m         \u001b[0mensure\u001b[0m \u001b[0mhomogeneity\u001b[0m\u001b[0;34m.\u001b[0m\u001b[0;34m\u001b[0m\u001b[0;34m\u001b[0m\u001b[0m\n\u001b[1;32m   4299\u001b[0m         \"\"\"\n\u001b[0;32m-> 4300\u001b[0;31m         \u001b[0mvalue\u001b[0m\u001b[0;34m,\u001b[0m \u001b[0mrefs\u001b[0m \u001b[0;34m=\u001b[0m \u001b[0mself\u001b[0m\u001b[0;34m.\u001b[0m\u001b[0m_sanitize_column\u001b[0m\u001b[0;34m(\u001b[0m\u001b[0mvalue\u001b[0m\u001b[0;34m)\u001b[0m\u001b[0;34m\u001b[0m\u001b[0;34m\u001b[0m\u001b[0m\n\u001b[0m\u001b[1;32m   4301\u001b[0m \u001b[0;34m\u001b[0m\u001b[0m\n\u001b[1;32m   4302\u001b[0m         if (\n",
            "\u001b[0;32m/usr/local/lib/python3.10/dist-packages/pandas/core/frame.py\u001b[0m in \u001b[0;36m_sanitize_column\u001b[0;34m(self, value)\u001b[0m\n\u001b[1;32m   5037\u001b[0m \u001b[0;34m\u001b[0m\u001b[0m\n\u001b[1;32m   5038\u001b[0m         \u001b[0;32mif\u001b[0m \u001b[0mis_list_like\u001b[0m\u001b[0;34m(\u001b[0m\u001b[0mvalue\u001b[0m\u001b[0;34m)\u001b[0m\u001b[0;34m:\u001b[0m\u001b[0;34m\u001b[0m\u001b[0;34m\u001b[0m\u001b[0m\n\u001b[0;32m-> 5039\u001b[0;31m             \u001b[0mcom\u001b[0m\u001b[0;34m.\u001b[0m\u001b[0mrequire_length_match\u001b[0m\u001b[0;34m(\u001b[0m\u001b[0mvalue\u001b[0m\u001b[0;34m,\u001b[0m \u001b[0mself\u001b[0m\u001b[0;34m.\u001b[0m\u001b[0mindex\u001b[0m\u001b[0;34m)\u001b[0m\u001b[0;34m\u001b[0m\u001b[0;34m\u001b[0m\u001b[0m\n\u001b[0m\u001b[1;32m   5040\u001b[0m         \u001b[0;32mreturn\u001b[0m \u001b[0msanitize_array\u001b[0m\u001b[0;34m(\u001b[0m\u001b[0mvalue\u001b[0m\u001b[0;34m,\u001b[0m \u001b[0mself\u001b[0m\u001b[0;34m.\u001b[0m\u001b[0mindex\u001b[0m\u001b[0;34m,\u001b[0m \u001b[0mcopy\u001b[0m\u001b[0;34m=\u001b[0m\u001b[0;32mTrue\u001b[0m\u001b[0;34m,\u001b[0m \u001b[0mallow_2d\u001b[0m\u001b[0;34m=\u001b[0m\u001b[0;32mTrue\u001b[0m\u001b[0;34m)\u001b[0m\u001b[0;34m,\u001b[0m \u001b[0;32mNone\u001b[0m\u001b[0;34m\u001b[0m\u001b[0;34m\u001b[0m\u001b[0m\n\u001b[1;32m   5041\u001b[0m \u001b[0;34m\u001b[0m\u001b[0m\n",
            "\u001b[0;32m/usr/local/lib/python3.10/dist-packages/pandas/core/common.py\u001b[0m in \u001b[0;36mrequire_length_match\u001b[0;34m(data, index)\u001b[0m\n\u001b[1;32m    559\u001b[0m     \"\"\"\n\u001b[1;32m    560\u001b[0m     \u001b[0;32mif\u001b[0m \u001b[0mlen\u001b[0m\u001b[0;34m(\u001b[0m\u001b[0mdata\u001b[0m\u001b[0;34m)\u001b[0m \u001b[0;34m!=\u001b[0m \u001b[0mlen\u001b[0m\u001b[0;34m(\u001b[0m\u001b[0mindex\u001b[0m\u001b[0;34m)\u001b[0m\u001b[0;34m:\u001b[0m\u001b[0;34m\u001b[0m\u001b[0;34m\u001b[0m\u001b[0m\n\u001b[0;32m--> 561\u001b[0;31m         raise ValueError(\n\u001b[0m\u001b[1;32m    562\u001b[0m             \u001b[0;34m\"Length of values \"\u001b[0m\u001b[0;34m\u001b[0m\u001b[0;34m\u001b[0m\u001b[0m\n\u001b[1;32m    563\u001b[0m             \u001b[0;34mf\"({len(data)}) \"\u001b[0m\u001b[0;34m\u001b[0m\u001b[0;34m\u001b[0m\u001b[0m\n",
            "\u001b[0;31mValueError\u001b[0m: Length of values (1) does not match length of index (154)"
          ]
        }
      ]
    },
    {
      "cell_type": "code",
      "source": [
        "content = pd.read_csv('/content/content_output.csv')"
      ],
      "metadata": {
        "id": "0C_9Ms1ag59v"
      },
      "execution_count": null,
      "outputs": []
    },
    {
      "cell_type": "code",
      "source": [],
      "metadata": {
        "id": "68A4rbvVkSzH"
      },
      "execution_count": null,
      "outputs": []
    },
    {
      "cell_type": "markdown",
      "source": [
        "# Manual Code Written"
      ],
      "metadata": {
        "id": "cYKZX34koQG8"
      }
    },
    {
      "cell_type": "code",
      "source": [
        "# extracting text from pdf for given pages\n",
        "def extract_text(pdf_path, start_page, end_page):\n",
        "  extracted_text = \"\"\n",
        "  with pdfplumber.open(pdf_path) as pdf:\n",
        "      for page_number in range(start_page - 1, end_page):  # pdfplumber uses 0-based indexing\n",
        "        page_text = pdf.pages[page_number].extract_text() or \"\"\n",
        "        extracted_text += page_text\n",
        "  return extracted_text"
      ],
      "metadata": {
        "id": "dBKVDRhskSvy"
      },
      "execution_count": null,
      "outputs": []
    },
    {
      "cell_type": "code",
      "source": [
        "def process_topics(csv_data, pdf_path):\n",
        "    content_list = []\n",
        "    num_rows = len(csv_data)\n",
        "\n",
        "    for i in range(num_rows):\n",
        "        current_level = csv_data.loc[i, 'Level']\n",
        "        current_topic = csv_data.loc[i, 'Topic'].strip()\n",
        "        current_page = int(csv_data.loc[i, 'Page'])\n",
        "\n",
        "        if i < num_rows - 1:\n",
        "            next_level = csv_data.loc[i + 1, 'Level']\n",
        "            next_topic = csv_data.loc[i + 1, 'Topic'].strip()\n",
        "            next_page = int(csv_data.loc[i + 1, 'Page'])\n",
        "        else:\n",
        "            next_level = None\n",
        "            next_topic = None\n",
        "            next_page = None\n",
        "\n",
        "        # Extract text based on page conditions\n",
        "        if next_page and current_page == next_page:\n",
        "            extracted_text = extract_text(pdf_path, current_page, current_page)\n",
        "        else:\n",
        "            extracted_text = extract_text(pdf_path, current_page, next_page if next_page else current_page)\n",
        "\n",
        "        # Extract content for the current topic\n",
        "        content = extract_content_from_pdf(extracted_text, current_level, current_topic, next_level, next_topic)\n",
        "\n",
        "        content_list.append(content)\n",
        "\n",
        "    csv_data['Content'] = content_list\n",
        "    return csv_data"
      ],
      "metadata": {
        "id": "muCHKQnHpGbi"
      },
      "execution_count": null,
      "outputs": []
    },
    {
      "cell_type": "code",
      "source": [
        "def extract_content_from_pdf(extracted_text, current_level, current_topic, next_level, next_topic):\n",
        "  # Construct full topic string\n",
        "  current_topic_str = f\"{current_level} {current_topic}\"\n",
        "  start_index = extracted_text.find(current_topic_str)\n",
        "\n",
        "  if start_index == -1:\n",
        "    return None  # Current topic not found\n",
        "\n",
        "  # If next topic is available, find its position\n",
        "  if next_topic:\n",
        "    next_topic_str = f\"{next_level} {next_topic}\"\n",
        "    end_index = extracted_text.find(next_topic_str, start_index)\n",
        "  else:\n",
        "    end_index = len(extracted_text)  # If no next topic, go to the end\n",
        "\n",
        "  if end_index == -1:\n",
        "    end_index = len(extracted_text)  # If next topic is not found, go to the end\n",
        "\n",
        "  return extracted_text[start_index:end_index].strip()"
      ],
      "metadata": {
        "id": "YJ1VOHVyp1a-"
      },
      "execution_count": null,
      "outputs": []
    },
    {
      "cell_type": "code",
      "source": [
        "pdf_path = '/content/Technical Deliverable Specification_SnPS _SP2103303_V1 2 (1) (1).pdf'\n",
        "extract_text(pdf_path)"
      ],
      "metadata": {
        "colab": {
          "base_uri": "https://localhost:8080/"
        },
        "id": "IKXQYb2vkSti",
        "outputId": "8f8c9821-bb3c-4f45-b4e9-3c99e60bdc4a"
      },
      "execution_count": null,
      "outputs": [
        {
          "output_type": "stream",
          "name": "stdout",
          "text": [
            "Technical Deliverable Description Appendix F\n",
            "5 SUBCONTRACTED ACTIVITIES DESCRIPTION (WORK UNIT)\n",
            "5.1 AIOEYS - Simulation platforms & Frameworks\n",
            "The sections 5.1.1 to 5.1.8 describes the Work units to be executed for platforms and frameworks activities\n",
            "5.1.1 MODEL INTEGRATION - MINOR\n",
            "Nominated Purchaser Contacts\n",
            "Work Package Focal Point: Pankaj BHUTANI, HOG-AIOEYS, Airbus India. pankaj.bhutani@airbus.com\n",
            "Batch No.\n",
            "SWU_01\n",
            "Description\n",
            "The Supplier shall provide support to AIOEYS in order to develop the software integration Minor work unit for platform application under the responsibility of Airbus India Simulation\n",
            "Product Engineer (SPE).\n",
            "The following steps of activities need to be completed for the Model Integration Minor Work Unit of the Simulation application development as per the AIM.\n",
            "● SCD Update/Verification for model to be integrated\n",
            "● Check availability of model and related inputs in the model repository\n",
            "● Collect the Model inputs like MICDs, Model library, data files, documentation etc. from Model repository\n",
            "● Perform the MICD diff analysis.\n",
            "● Perform the connections to be added/modified for the model to be integrated.\n",
            "● Perform the model integration.\n",
            "● Deliver the working simulation application into the filer.\n",
            "● Perform the simulation application test.\n",
            "Complexity Criteria FTR Criteria Lead Time/ delivery Date\n",
            "All the CRs should be correctly implemented. Acceptance criteria are T0 + 1 day or as defined during\n",
            "Minor Platform specific\n",
            "zero issues and no rejected delivery. KOM\n",
            "Complexity Criteria FTR Criteria Lead Time/ delivery Date\n",
            "© AIRBUS S.A.S. AIRBUS AMBER\n",
            "Date: 19/02/2022 Reference_TDS_SP2103303 Page 14 of 432Technical Deliverable Description Appendix F\n",
            "VSIM-I: up to 2\n",
            "models or packages All the CRs should be correctly implemented. Acceptance criterions\n",
            "T0 + 1 day or as defined during\n",
            "Minor with no interface are zero issues , no regression, validated & delivered in both BLR &\n",
            "KOM\n",
            "changes/ up to 100 TLS platforms (as applicable)\n",
            "connection changes\n",
            "Complexity Criteria FTR Criteria Lead Time/ delivery Date\n",
            "SP AC0: up to 5\n",
            "All the CRs should be correctly implemented. Acceptance criteria are T0 + 1 day or as defined during\n",
            "Minor models and up to 100\n",
            "zero issues and no rejected delivery. KOM\n",
            "connection changes\n",
            "Complexity Criteria FTR Criteria Lead Time/ delivery Date\n",
            "VSIM-D validation\n",
            "activities, like TD/TF\n",
            "Observations during validation shall be properly captured.\n",
            "execution. T0 + 1 day or as defined during\n",
            "Minor All frameworks shall be correctly implemented. Acceptance criteria are\n",
            "Also suitable for KOM\n",
            "zero issues and no rejected delivery.\n",
            "CPSP/DGWP/ALTO\n",
            "frameworks update.\n",
            "● NOTE: T0 is the start date of this WORK UNIT, refer to the KOM definition in the section above.\n",
            "● Major issue is defined as which will impact the AIOEYS delivery date or the quality of the delivery to the end customer. And the delivery would be marked as REJECTED\n",
            "DELIVERY from Airbus India. The re-work in this case needs to be done in 1 day and rework effort/any effort after the agreed delivery date (refer section above) cannot be billed\n",
            "to Airbus India.\n",
            "● Minor issues are defined as which can be fixed without any impact on delivery date and delivery quality from AIOEYS to the end customer. The re-work in this case needs to be\n",
            "done in 4 hours and rework effort/any effort after agreed delivery date (refer section above) cannot be billed to Airbus India.\n",
            "● The decision to classify the issue as minor or major is at the discretion of AIOEYS SPE/SSPE.\n",
            "● The table below indicates the change that could happen after input frozen window :\n",
            "Complexity Criteria Number of Changes Input Frozen window\n",
            "Minor Number of CRs <=2 T0 + 1\n",
            "Change : New modification CR which is not indicated in previous CRs or modification or update of current CR\n",
            "Assumptions:\n",
            "● The Integration Manual is the master of the process & can change for improvements. Process steps must be bound to this document.\n",
            "● The time duration for any step is dependent on the AIM & can change during configuration. Intimation must be given when it changes & accordingly actions must be taken from\n",
            "the supplier to adhere to it.\n",
            "● CR refers to any change request like Jira, DM, FT, etc.\n",
            "General Acceptance Criteria\n",
            "© AIRBUS S.A.S. AIRBUS AMBER\n",
            "Date: 19/02/2022 Reference_TDS_SP2103303 Page 15 of 432Technical Deliverable Description Appendix F\n",
            "The Service Provider shall deliver under the following criteria’s expectations to ensure their acceptance:\n",
            "● Compliance to specific process, method, technical referential, format\n",
            "● Usage of templates\n",
            "● Delivered on-time and on-quality\n",
            "● Comprehensive description of the work performed\n",
            "● Technical quality\n",
            "● Completeness\n",
            "● Correctness\n",
            "● Technical agreement by Purchaser specialist\n",
            "● Open points, deviations identified\n",
            "● Changes identified\n",
            "● Integration of proof-reading sheets, review minutes with closed comments\n",
            "● Traceability in accordance with applicable referential\n",
            "General Requirements\n",
            "DOA related? No\n",
            "Security Classifications? Yes\n",
            "Export Control restrictions and licenses: Yes\n",
            "Export Control restrictions are applicable, and will be communicated through email by the Group manager to the Subcontracting Manager.\n",
            "■ The tools used for the development cannot be off-shored, so the activity has to be performed on-site\n",
            "■ In case of WFH the activities to be executed by connecting to airbus network / infrastructure\n",
            "Language Requirements: English\n",
            "Location of Work: Combined\n",
            "The foreseen locations to perform, entirely or partly, the activity is Bangalore, India.\n",
            "Rationales for on-site or combined activity:\n",
            "◻ Aircraft access | ◻ Tool access | ◻ Simulators & Test bench access\n",
            "◻ Data restricted to in-situ use only | ◻ Plateau (duration…)\n",
            "Airbus Group Inputs/Purchaser Furnished Material\n",
            "- Requirements and specifications\n",
            "- Geometries\n",
            "- Data\n",
            "- Models\n",
            "© AIRBUS S.A.S. AIRBUS AMBER\n",
            "Date: 19/02/2022 Reference_TDS_SP2103303 Page 16 of 432Technical Deliverable Description Appendix F\n",
            "Description of the input Provided on Provided by (Airbus Exchange mode\n",
            "(input ID: description) (date/milestone) technical focal\n",
            "point/Siglum)\n",
            "Input_ID1: SCD T0 SPE Mail/SVN/Filer\n",
            "Input_ID2: Models, script, VCOM file, Date agreed during SPE Mail/Filer/AMDB/ATPRO\n",
            "configuration files, Packages KOM\n",
            "Input_ID3: Previous and new application path T0 SPE Mail/SVN\n",
            "in filer/Configuration management tool\n",
            "Input_ID4: Application configuration in Date agreed during SPE Mail\n",
            "Configuration management tool KOM\n",
            "Input_ID5: FTs/DMs/CRs to be treated in the Date agreed during SPE Mail/Jira\n",
            "concerned Release KOM\n",
            "T0 SPE Mail/SVN\n",
            "Input_ID6: Delivery location\n",
            "Input_ID7: Configuration Management of Date agreed during SPE Mail/SVN\n",
            "integration models KOM\n",
            "Input_ID8: Rebounds from the end customer if When applicable SPE Mail/SVN\n",
            "any\n",
            "Areas of Application\n",
            "Main Applications: SA, LR, A380, A350 (across multiple ATA Chapters)\n",
            "Activity shall be done as per …\n",
            "Delivery\n",
            "Signatory Quantity/Volume* per P&M and\n",
            "Batch No. Deliverable description & enabling data date / KPI\n",
            "level Task Group Technical Tools /\n",
            "Release criteria lead-time\n",
            "Referenti formats\n",
            "al\n",
            "Del_IDz1: Detailed analysis of No inputs is requested\n",
            "N/A MS word\n",
            "FTs/DMs/CRs after agreed date\n",
            "SWU_01 T0 + 1\n",
            "Del_IDz2: Status of FTs/DMs/CRs and\n",
            "N/A MS Excel Correct Status of DM day or\n",
            "5.1.1_IN progress FTR > 98%\n",
            "(Model Integration Refer to Section 5.1.12 Py1 agreed\n",
            "5.1.1_EX Application launch is OTD > 97%\n",
            "– Minor) during\n",
            "Del_IDz3: MICD diff analysis and OK and integration test\n",
            "N/A NA the KOM\n",
            "connections update for the application. is OK with no\n",
            "regression\n",
            "© AIRBUS S.A.S. AIRBUS AMBER\n",
            "Date: 19/02/2022 Reference_TDS_SP2103303 Page 17 of 432Technical Deliverable Description Appendix F\n",
            "Del_IDz4: All modification mentioned in\n",
            "All DMs modification\n",
            "FTs/DMs/CRs agreed during KOM N/A\n",
            "is working correctly\n",
            "should be completed\n",
            "Del_IDz5: Launcher of all platforms for No report error during\n",
            "N/A NA\n",
            "all releases launch\n",
            "Del_IDz6: Application & integration\n",
            "Configuration Configuration delivery\n",
            "models configuration management files N/A\n",
            "Management without errors.\n",
            "are updated\n",
            "Del_IDz7: Application updates in the Configuration uploads\n",
            "simulation portals and connection N/A Portals without any error and\n",
            "publish. visible in portals\n",
            "All CRs update with\n",
            "Del_IDz8: Change/Defect management modification\n",
            "update – JIRA or any other mentioned in N/A Jira information and status\n",
            "AIM. / verification updated\n",
            "correctly\n",
            "Del_IDz9: Report of successful Report consistent with\n",
            "launching and list of all modified files for N/A MS Excel the application file\n",
            "the application. changes\n",
            "All the points of the\n",
            "Del_IDz10: Checklist/peer review sheet N/A MS Excel\n",
            "checklist are OK\n",
            "P&M and Technical Referential\n",
            "▪ Py = Adherence to A5456, A5457 for model handling or Change Request initiating\n",
            "1\n",
            "▪\n",
            "References: Delivery checklists, Process training documents as given in inputs\n",
            "Tools and formats\n",
            "Ty = sigma, mexico, mi-box, eshowflow, etc\n",
            "1\n",
            "Release Criteria\n",
            "▪ For each deliverable of this work unit, the release criteria is defined in the above table or will be discussed during the KOM.\n",
            "KPI\n",
            "(cid:3041)(cid:3048)(cid:3040)(cid:3029)(cid:3032)(cid:3045) (cid:3042)(cid:3033) (cid:3031)(cid:3032)(cid:3039)(cid:3036)(cid:3049)(cid:3032)(cid:3045)(cid:3036)(cid:3032)(cid:3046) (cid:3043)(cid:3045)(cid:3042)(cid:3049)(cid:3036)(cid:3031)(cid:3032)(cid:3031) (cid:3016)(cid:3015)(cid:2879)(cid:3021)(cid:3010)(cid:3014)(cid:3006) (cid:3029)(cid:3052) (cid:3047)(cid:3035)(cid:3032) (cid:3046)(cid:3048)(cid:3043)(cid:3043)(cid:3039)(cid:3036)(cid:3032)(cid:3045) (cid:3036)(cid:3041) (cid:3047)(cid:3035)(cid:3032) (cid:3043)(cid:3032)(cid:3045)(cid:3036)(cid:3042)(cid:3031)\n",
            "𝑂𝑛 𝑇𝑖𝑚𝑒 𝐷𝑒𝑙𝑖𝑣𝑒𝑟𝑦 (𝑂𝑇𝐷)= 𝑥 100\n",
            "(cid:3047)(cid:3042)(cid:3047)(cid:3028)(cid:3039) (cid:3041)(cid:3048)(cid:3040)(cid:3029)(cid:3032)(cid:3045) (cid:3042)(cid:3033) (cid:3031)(cid:3032)(cid:3039)(cid:3036)(cid:3049)(cid:3032)(cid:3045)(cid:3036)(cid:3032)(cid:3046) (cid:3043)(cid:3045)(cid:3042)(cid:3049)(cid:3036)(cid:3031)(cid:3032)(cid:3031) (cid:3029)(cid:3052) (cid:3047)(cid:3035)(cid:3032) (cid:3046)(cid:3048)(cid:3043)(cid:3043)(cid:3039)(cid:3036)(cid:3032)(cid:3045) (cid:3036)(cid:3041) (cid:3047)(cid:3035)(cid:3032) (cid:3043)(cid:3032)(cid:3045)(cid:3036)(cid:3042)(cid:3031)\n",
            "© AIRBUS S.A.S. AIRBUS AMBER\n",
            "Date: 19/02/2022 Reference_TDS_SP2103303 Page 18 of 432Technical Deliverable Description Appendix F\n",
            "(cid:3041)(cid:3048)(cid:3040)(cid:3029)(cid:3032)(cid:3045) (cid:3042)(cid:3033) (cid:3031)(cid:3032)(cid:3039)(cid:3036)(cid:3049)(cid:3032)(cid:3045)(cid:3036)(cid:3032)(cid:3046) (cid:3028)(cid:3030)(cid:3030)(cid:3032)(cid:3043)(cid:3047)(cid:3032)(cid:3031) (cid:3029)(cid:3052) (cid:3002)(cid:3036)(cid:3045)(cid:3029)(cid:3048)(cid:3046) (cid:3036)(cid:3041) (cid:3047)(cid:3035)(cid:3032) (cid:3043)(cid:3032)(cid:3045)(cid:3036)(cid:3042)(cid:3031)\n",
            "𝑂𝑛 𝑄𝑢𝑎𝑙𝑖𝑡𝑦 𝐷𝑒𝑙𝑖𝑣𝑒𝑟𝑦 (𝑂𝑄𝐷)= 𝑥 100\n",
            "(cid:3047)(cid:3042)(cid:3047)(cid:3028)(cid:3039) (cid:3041)(cid:3048)(cid:3040)(cid:3029)(cid:3032)(cid:3045) (cid:3031)(cid:3032)(cid:3039)(cid:3036)(cid:3049)(cid:3032)(cid:3045)(cid:3036)(cid:3032)(cid:3046) (cid:3045)(cid:3032)(cid:3049)(cid:3036)(cid:3032)(cid:3050)(cid:3032)(cid:3031) (cid:3029)(cid:3052) (cid:3002)(cid:3036)(cid:3045)(cid:3029)(cid:3048)(cid:3046) (cid:3036)(cid:3041) (cid:3047)(cid:3035)(cid:3032) (cid:3043)(cid:3032)(cid:3045)(cid:3036)(cid:3042)(cid:3031)\n",
            "OTD and OQD are expressed in percentage (%).\n",
            "Please refer to UG1501913, UG1501941 for more information\n",
            "Note: *In case of Work Unit item definition column “quantity” is only a forecast and not contractually binding.\n",
            "The structure of the Work Units definition shall be represented in the technical and commercial offer from the Service Provider!\n",
            "5.1.2 MODEL INTEGRATION - MEDIUM\n",
            "Nominated Purchaser Contacts\n",
            "Work Package Focal Point: Pankaj BHUTANI, HOG-AIOEYS, Airbus India. pankaj.bhutani@airbus.com\n",
            "Batch No.\n",
            "SWU_02\n",
            "Description\n",
            "The Supplier shall provide support to AIOEYS in order to develop the software integration Medium work unit for platforms application under the responsibility of Airbus India the\n",
            "Simulation Product Engineer (SPE).\n",
            "The following steps of activities need to be completed for the Model Integration Medium Work Unit of the Simulation application development as per the AIM.\n",
            "SCD Verification for model to be integrated\n",
            "Check availability of model and related inputs in the model repository\n",
            "Collect the Model inputs like MICDs, Model library and documentation from Model repository\n",
            "Perform the MICD diff analysis.\n",
            "Perform the connections to be added/modified for the model to be integrated.\n",
            "Perform the model integration.\n",
            "Deliver the working simulation application into the filer.\n",
            "Perform the simulation application test.\n",
            "Complexity Criteria FTR Criteria Lead Time/ delivery Date\n",
            "All the CRs should be correctly implemented. Acceptance criteria are T0 + 3 day or as defined during\n",
            "Medium Platform specific\n",
            "zero issues and no rejected delivery. KOM\n",
            "Complexity Criteria FTR Criteria Lead Time/ delivery Date\n",
            "VSIM-I up to 5 All the CRs should be correctly implemented. Acceptance criteria are\n",
            "T0 + 3 day or as defined during\n",
            "Medium models or packages zero issues , no regression, validated & delivered in both BLR & TLS\n",
            "KOM\n",
            "with no interface platforms (as applicable)\n",
            "© AIRBUS S.A.S. AIRBUS AMBER\n",
            "Date: 19/02/2022 Reference_TDS_SP2103303 Page 19 of 432\n"
          ]
        }
      ]
    },
    {
      "cell_type": "code",
      "source": [],
      "metadata": {
        "id": "xE9AFUXekSq0"
      },
      "execution_count": null,
      "outputs": []
    },
    {
      "cell_type": "code",
      "source": [],
      "metadata": {
        "id": "HuCymEAFg56X"
      },
      "execution_count": null,
      "outputs": []
    },
    {
      "cell_type": "code",
      "source": [],
      "metadata": {
        "id": "S3lWAmWEg53L"
      },
      "execution_count": null,
      "outputs": []
    },
    {
      "cell_type": "code",
      "source": [],
      "metadata": {
        "id": "bWVBzOW7g51A"
      },
      "execution_count": null,
      "outputs": []
    },
    {
      "cell_type": "code",
      "source": [],
      "metadata": {
        "id": "stU9zYulUDE5"
      },
      "execution_count": null,
      "outputs": []
    },
    {
      "cell_type": "code",
      "source": [],
      "metadata": {
        "id": "7DIGze1dUDB0"
      },
      "execution_count": null,
      "outputs": []
    },
    {
      "cell_type": "code",
      "source": [],
      "metadata": {
        "id": "B3tGmXa4UC_7"
      },
      "execution_count": null,
      "outputs": []
    },
    {
      "cell_type": "code",
      "source": [],
      "metadata": {
        "id": "9STZr0C7UC-P"
      },
      "execution_count": null,
      "outputs": []
    },
    {
      "cell_type": "code",
      "source": [],
      "metadata": {
        "id": "v2BrcE2hrAEX"
      },
      "execution_count": null,
      "outputs": []
    },
    {
      "cell_type": "code",
      "source": [],
      "metadata": {
        "id": "YvEaC8C4rAAv"
      },
      "execution_count": null,
      "outputs": []
    },
    {
      "cell_type": "code",
      "source": [],
      "metadata": {
        "id": "l3CSQ4ciq__A"
      },
      "execution_count": null,
      "outputs": []
    },
    {
      "cell_type": "code",
      "source": [],
      "metadata": {
        "id": "H8K0E6PKq_9R"
      },
      "execution_count": null,
      "outputs": []
    },
    {
      "cell_type": "code",
      "source": [],
      "metadata": {
        "id": "kfiYPoYmq_7J"
      },
      "execution_count": null,
      "outputs": []
    },
    {
      "cell_type": "code",
      "source": [
        "data = pd.read_csv('/content/processed_data.csv')"
      ],
      "metadata": {
        "id": "skHT0HY7x572"
      },
      "execution_count": null,
      "outputs": []
    },
    {
      "cell_type": "code",
      "source": [
        "data.shape"
      ],
      "metadata": {
        "colab": {
          "base_uri": "https://localhost:8080/"
        },
        "id": "tyTcXPsKx54y",
        "outputId": "9fe42abf-1136-4201-c5ec-b2f424083c50"
      },
      "execution_count": null,
      "outputs": [
        {
          "output_type": "execute_result",
          "data": {
            "text/plain": [
              "(154, 4)"
            ]
          },
          "metadata": {},
          "execution_count": 95
        }
      ]
    },
    {
      "cell_type": "code",
      "source": [
        "data.isnull().sum()"
      ],
      "metadata": {
        "colab": {
          "base_uri": "https://localhost:8080/",
          "height": 209
        },
        "id": "ZsFjc-9wx52G",
        "outputId": "e3899e65-1186-4a94-f1ec-cf308fd85190"
      },
      "execution_count": null,
      "outputs": [
        {
          "output_type": "execute_result",
          "data": {
            "text/plain": [
              "Level       0\n",
              "Topic       0\n",
              "Page        0\n",
              "Content    82\n",
              "dtype: int64"
            ],
            "text/html": [
              "<div>\n",
              "<style scoped>\n",
              "    .dataframe tbody tr th:only-of-type {\n",
              "        vertical-align: middle;\n",
              "    }\n",
              "\n",
              "    .dataframe tbody tr th {\n",
              "        vertical-align: top;\n",
              "    }\n",
              "\n",
              "    .dataframe thead th {\n",
              "        text-align: right;\n",
              "    }\n",
              "</style>\n",
              "<table border=\"1\" class=\"dataframe\">\n",
              "  <thead>\n",
              "    <tr style=\"text-align: right;\">\n",
              "      <th></th>\n",
              "      <th>0</th>\n",
              "    </tr>\n",
              "  </thead>\n",
              "  <tbody>\n",
              "    <tr>\n",
              "      <th>Level</th>\n",
              "      <td>0</td>\n",
              "    </tr>\n",
              "    <tr>\n",
              "      <th>Topic</th>\n",
              "      <td>0</td>\n",
              "    </tr>\n",
              "    <tr>\n",
              "      <th>Page</th>\n",
              "      <td>0</td>\n",
              "    </tr>\n",
              "    <tr>\n",
              "      <th>Content</th>\n",
              "      <td>82</td>\n",
              "    </tr>\n",
              "  </tbody>\n",
              "</table>\n",
              "</div><br><label><b>dtype:</b> int64</label>"
            ]
          },
          "metadata": {},
          "execution_count": 96
        }
      ]
    },
    {
      "cell_type": "code",
      "source": [],
      "metadata": {
        "id": "vUIhReAKx5y4"
      },
      "execution_count": null,
      "outputs": []
    },
    {
      "cell_type": "code",
      "source": [],
      "metadata": {
        "id": "o65xwM8Xx5wg"
      },
      "execution_count": null,
      "outputs": []
    },
    {
      "cell_type": "code",
      "source": [],
      "metadata": {
        "id": "92Mpdw2kx5tR"
      },
      "execution_count": null,
      "outputs": []
    },
    {
      "cell_type": "code",
      "source": [],
      "metadata": {
        "id": "NNHdJxyhx5q2"
      },
      "execution_count": null,
      "outputs": []
    },
    {
      "cell_type": "code",
      "source": [],
      "metadata": {
        "id": "W8aEVAQ5x5oO"
      },
      "execution_count": null,
      "outputs": []
    },
    {
      "cell_type": "code",
      "source": [],
      "metadata": {
        "id": "Tufiaio8Cqv7"
      },
      "execution_count": null,
      "outputs": []
    },
    {
      "cell_type": "code",
      "source": [],
      "metadata": {
        "id": "Sq84s9VkCqtv"
      },
      "execution_count": null,
      "outputs": []
    },
    {
      "cell_type": "code",
      "source": [],
      "metadata": {
        "id": "DhJolruJCqqT"
      },
      "execution_count": null,
      "outputs": []
    },
    {
      "cell_type": "code",
      "source": [
        "import pandas as pd\n",
        "import fitz\n",
        "import re\n",
        "\n",
        "def extract_text_from_pdf(pdf_path, start_page, end_page):\n",
        "    \"\"\" Extract text from the specified pages of a PDF. \"\"\"\n",
        "    text = \"\"\n",
        "    with fitz.open(pdf_path) as doc:\n",
        "        for page_num in range(start_page - 1, end_page):\n",
        "\n",
        "            if page_num < len(doc):\n",
        "                text += doc[page_num].get_text()\n",
        "    return text\n",
        "\n",
        "def extract_content_from_csv(csv_file, pdf_file):\n",
        "\n",
        "    df = pd.read_csv(csv_file)\n",
        "\n",
        "    contents = []\n",
        "\n",
        "    for i in range(len(df)):\n",
        "        current_level = df.loc[i, 'Level']\n",
        "        current_topic = df.loc[i, 'Topic']\n",
        "        current_page = df.loc[i, 'Page']\n",
        "\n",
        "        if i + 1 < len(df):\n",
        "            next_level = df.loc[i + 1, 'Level']\n",
        "            next_topic = df.loc[i + 1, 'Topic']\n",
        "            next_page = df.loc[i + 1, 'Page']\n",
        "        else:\n",
        "            next_level = None\n",
        "            next_topic = None\n",
        "            next_page = None\n",
        "\n",
        "\n",
        "        if next_page is not None and next_page == current_page:\n",
        "            extracted_text = extract_text_from_pdf(pdf_file, current_page, current_page)\n",
        "        else:\n",
        "            end_page = next_page if next_page is not None else current_page\n",
        "\n",
        "            extracted_text = extract_text_from_pdf(pdf_file, current_page, end_page)\n",
        "\n",
        "\n",
        "        start_index = re.search(re.escape(current_topic), extracted_text)\n",
        "\n",
        "        if start_index:\n",
        "\n",
        "            content_start = extracted_text[start_index.start():]\n",
        "\n",
        "            if next_topic:\n",
        "                end_index = re.search(re.escape(next_topic), content_start)\n",
        "                if end_index:\n",
        "                    content = content_start[:end_index.start()]\n",
        "                else:\n",
        "                    content = content_start\n",
        "\n",
        "            else:\n",
        "\n",
        "                content = content_start\n",
        "        else:\n",
        "            content = \"\"\n",
        "\n",
        "\n",
        "        contents.append(content.strip())\n",
        "\n",
        "\n",
        "    df['content'] = contents\n",
        "\n",
        "    return df\n",
        "\n",
        "\n",
        "csv_file = '/content/table_of_contents.csv'\n",
        "pdf_file = '/content/Technical Deliverable Specification_SnPS _SP2103303_V1 2 (1) (1).pdf'\n",
        "\n",
        "\n",
        "result_df = extract_content_from_csv(csv_file, pdf_file)\n",
        "\n",
        "\n",
        "print(result_df)"
      ],
      "metadata": {
        "colab": {
          "base_uri": "https://localhost:8080/"
        },
        "id": "FHNWsxLYCqn_",
        "outputId": "887c04e7-84bc-430a-c014-ad4e4a7e46af"
      },
      "execution_count": null,
      "outputs": [
        {
          "output_type": "stream",
          "name": "stdout",
          "text": [
            "     Level                                              Topic  Page  \\\n",
            "0        1               SUBCONTRACTED ACTIVITIES DESCRIPTION    10   \n",
            "1        2  RESPONSIBILITY EXERCISED ON DELIVERABLES AND C...    10   \n",
            "2      2.1    Design Organisation Approval (DOA) Requirements    10   \n",
            "3      2.2  Targeted Responsibility/Signatory Exercised on...    10   \n",
            "4      2.3                    Criticality of the deliverables    10   \n",
            "..     ...                                                ...   ...   \n",
            "149  6.7.3  Support to data analysis and dashboard develop...   427   \n",
            "150  6.7.4     Further Requirements for 6.7.1 to 6.7.3 - None   432   \n",
            "151  6.7.5    Validation and Verification requirements - None   432   \n",
            "152  6.7.6        Forecast quantity per deliverable, per year   432   \n",
            "153  6.7.7                   Schedule, plan, milestones: None   432   \n",
            "\n",
            "                                               content  \n",
            "0    SUBCONTRACTED ACTIVITIES DESCRIPTION \\nThe sub...  \n",
            "1    RESPONSIBILITY EXERCISED ON DELIVERABLES AND C...  \n",
            "2    Design Organisation Approval (DOA) Requirement...  \n",
            "3    Targeted Responsibility/Signatory Exercised on...  \n",
            "4    Criticality of the deliverables \\n \\nThe parag...  \n",
            "..                                                 ...  \n",
            "149  Support to data analysis and dashboard develop...  \n",
            "150  Further Requirements for 6.7.1 to 6.7.3 - None...  \n",
            "151  Validation and Verification requirements - Non...  \n",
            "152  Forecast quantity per deliverable, per year  \\...  \n",
            "153  Schedule, plan, milestones: None \\nMajor dates...  \n",
            "\n",
            "[154 rows x 4 columns]\n"
          ]
        }
      ]
    },
    {
      "cell_type": "code",
      "source": [
        "result_df[result_df['content'] == ''].shape"
      ],
      "metadata": {
        "colab": {
          "base_uri": "https://localhost:8080/"
        },
        "id": "MtTasYwcPeG0",
        "outputId": "6a6ede0e-acc9-4b52-fcf0-8d6f2776bee9"
      },
      "execution_count": null,
      "outputs": [
        {
          "output_type": "execute_result",
          "data": {
            "text/plain": [
              "(81, 4)"
            ]
          },
          "metadata": {},
          "execution_count": 87
        }
      ]
    },
    {
      "cell_type": "code",
      "source": [
        "result_df.sample(10)"
      ],
      "metadata": {
        "id": "KDXZWA45Ppb2",
        "colab": {
          "base_uri": "https://localhost:8080/",
          "height": 363
        },
        "outputId": "1d24abd5-eb2a-40ac-c985-31deb25f2ffc"
      },
      "execution_count": null,
      "outputs": [
        {
          "output_type": "execute_result",
          "data": {
            "text/plain": [
              "      Level                                              Topic  Page  \\\n",
              "66   5.5.15  Product Process Resource Data model creation (...   226   \n",
              "20   5.1.11      Purchaser enabled products and specific means    50   \n",
              "12    5.1.3                           Model Integration - High    24   \n",
              "112   6.2.3           Further Requirements for 6.2.1 and 6.2.2   355   \n",
              "134   6.5.7        Forecast quantity per deliverable, per year   393   \n",
              "137   6.6.1               Support to BITE Integration Activity   394   \n",
              "8         5  SUBCONTRACTED  ACTIVITIES  DESCRIPTION  (WORK ...    14   \n",
              "108   6.1.6                         Schedule, plan, milestones   345   \n",
              "64   5.5.13  Write Component Delivery Specification (CDS)- ...   218   \n",
              "47    5.4.4          Multi System Physical Architecture (MSPA)   142   \n",
              "\n",
              "                                               content  \n",
              "66                                                      \n",
              "20                                                      \n",
              "12                                                      \n",
              "112  Further Requirements for 6.2.1 and 6.2.2 \\nNon...  \n",
              "134  Forecast quantity per deliverable, per year \\n...  \n",
              "137  Support to BITE Integration Activity \\n \\nNomi...  \n",
              "8                                                       \n",
              "108  Schedule, plan, milestones \\nMajor dates and m...  \n",
              "64                                                      \n",
              "47                                                      "
            ],
            "text/html": [
              "\n",
              "  <div id=\"df-1bc19731-25bf-4c21-91d6-52541f0704a6\" class=\"colab-df-container\">\n",
              "    <div>\n",
              "<style scoped>\n",
              "    .dataframe tbody tr th:only-of-type {\n",
              "        vertical-align: middle;\n",
              "    }\n",
              "\n",
              "    .dataframe tbody tr th {\n",
              "        vertical-align: top;\n",
              "    }\n",
              "\n",
              "    .dataframe thead th {\n",
              "        text-align: right;\n",
              "    }\n",
              "</style>\n",
              "<table border=\"1\" class=\"dataframe\">\n",
              "  <thead>\n",
              "    <tr style=\"text-align: right;\">\n",
              "      <th></th>\n",
              "      <th>Level</th>\n",
              "      <th>Topic</th>\n",
              "      <th>Page</th>\n",
              "      <th>content</th>\n",
              "    </tr>\n",
              "  </thead>\n",
              "  <tbody>\n",
              "    <tr>\n",
              "      <th>66</th>\n",
              "      <td>5.5.15</td>\n",
              "      <td>Product Process Resource Data model creation (...</td>\n",
              "      <td>226</td>\n",
              "      <td></td>\n",
              "    </tr>\n",
              "    <tr>\n",
              "      <th>20</th>\n",
              "      <td>5.1.11</td>\n",
              "      <td>Purchaser enabled products and specific means</td>\n",
              "      <td>50</td>\n",
              "      <td></td>\n",
              "    </tr>\n",
              "    <tr>\n",
              "      <th>12</th>\n",
              "      <td>5.1.3</td>\n",
              "      <td>Model Integration - High</td>\n",
              "      <td>24</td>\n",
              "      <td></td>\n",
              "    </tr>\n",
              "    <tr>\n",
              "      <th>112</th>\n",
              "      <td>6.2.3</td>\n",
              "      <td>Further Requirements for 6.2.1 and 6.2.2</td>\n",
              "      <td>355</td>\n",
              "      <td>Further Requirements for 6.2.1 and 6.2.2 \\nNon...</td>\n",
              "    </tr>\n",
              "    <tr>\n",
              "      <th>134</th>\n",
              "      <td>6.5.7</td>\n",
              "      <td>Forecast quantity per deliverable, per year</td>\n",
              "      <td>393</td>\n",
              "      <td>Forecast quantity per deliverable, per year \\n...</td>\n",
              "    </tr>\n",
              "    <tr>\n",
              "      <th>137</th>\n",
              "      <td>6.6.1</td>\n",
              "      <td>Support to BITE Integration Activity</td>\n",
              "      <td>394</td>\n",
              "      <td>Support to BITE Integration Activity \\n \\nNomi...</td>\n",
              "    </tr>\n",
              "    <tr>\n",
              "      <th>8</th>\n",
              "      <td>5</td>\n",
              "      <td>SUBCONTRACTED  ACTIVITIES  DESCRIPTION  (WORK ...</td>\n",
              "      <td>14</td>\n",
              "      <td></td>\n",
              "    </tr>\n",
              "    <tr>\n",
              "      <th>108</th>\n",
              "      <td>6.1.6</td>\n",
              "      <td>Schedule, plan, milestones</td>\n",
              "      <td>345</td>\n",
              "      <td>Schedule, plan, milestones \\nMajor dates and m...</td>\n",
              "    </tr>\n",
              "    <tr>\n",
              "      <th>64</th>\n",
              "      <td>5.5.13</td>\n",
              "      <td>Write Component Delivery Specification (CDS)- ...</td>\n",
              "      <td>218</td>\n",
              "      <td></td>\n",
              "    </tr>\n",
              "    <tr>\n",
              "      <th>47</th>\n",
              "      <td>5.4.4</td>\n",
              "      <td>Multi System Physical Architecture (MSPA)</td>\n",
              "      <td>142</td>\n",
              "      <td></td>\n",
              "    </tr>\n",
              "  </tbody>\n",
              "</table>\n",
              "</div>\n",
              "    <div class=\"colab-df-buttons\">\n",
              "\n",
              "  <div class=\"colab-df-container\">\n",
              "    <button class=\"colab-df-convert\" onclick=\"convertToInteractive('df-1bc19731-25bf-4c21-91d6-52541f0704a6')\"\n",
              "            title=\"Convert this dataframe to an interactive table.\"\n",
              "            style=\"display:none;\">\n",
              "\n",
              "  <svg xmlns=\"http://www.w3.org/2000/svg\" height=\"24px\" viewBox=\"0 -960 960 960\">\n",
              "    <path d=\"M120-120v-720h720v720H120Zm60-500h600v-160H180v160Zm220 220h160v-160H400v160Zm0 220h160v-160H400v160ZM180-400h160v-160H180v160Zm440 0h160v-160H620v160ZM180-180h160v-160H180v160Zm440 0h160v-160H620v160Z\"/>\n",
              "  </svg>\n",
              "    </button>\n",
              "\n",
              "  <style>\n",
              "    .colab-df-container {\n",
              "      display:flex;\n",
              "      gap: 12px;\n",
              "    }\n",
              "\n",
              "    .colab-df-convert {\n",
              "      background-color: #E8F0FE;\n",
              "      border: none;\n",
              "      border-radius: 50%;\n",
              "      cursor: pointer;\n",
              "      display: none;\n",
              "      fill: #1967D2;\n",
              "      height: 32px;\n",
              "      padding: 0 0 0 0;\n",
              "      width: 32px;\n",
              "    }\n",
              "\n",
              "    .colab-df-convert:hover {\n",
              "      background-color: #E2EBFA;\n",
              "      box-shadow: 0px 1px 2px rgba(60, 64, 67, 0.3), 0px 1px 3px 1px rgba(60, 64, 67, 0.15);\n",
              "      fill: #174EA6;\n",
              "    }\n",
              "\n",
              "    .colab-df-buttons div {\n",
              "      margin-bottom: 4px;\n",
              "    }\n",
              "\n",
              "    [theme=dark] .colab-df-convert {\n",
              "      background-color: #3B4455;\n",
              "      fill: #D2E3FC;\n",
              "    }\n",
              "\n",
              "    [theme=dark] .colab-df-convert:hover {\n",
              "      background-color: #434B5C;\n",
              "      box-shadow: 0px 1px 3px 1px rgba(0, 0, 0, 0.15);\n",
              "      filter: drop-shadow(0px 1px 2px rgba(0, 0, 0, 0.3));\n",
              "      fill: #FFFFFF;\n",
              "    }\n",
              "  </style>\n",
              "\n",
              "    <script>\n",
              "      const buttonEl =\n",
              "        document.querySelector('#df-1bc19731-25bf-4c21-91d6-52541f0704a6 button.colab-df-convert');\n",
              "      buttonEl.style.display =\n",
              "        google.colab.kernel.accessAllowed ? 'block' : 'none';\n",
              "\n",
              "      async function convertToInteractive(key) {\n",
              "        const element = document.querySelector('#df-1bc19731-25bf-4c21-91d6-52541f0704a6');\n",
              "        const dataTable =\n",
              "          await google.colab.kernel.invokeFunction('convertToInteractive',\n",
              "                                                    [key], {});\n",
              "        if (!dataTable) return;\n",
              "\n",
              "        const docLinkHtml = 'Like what you see? Visit the ' +\n",
              "          '<a target=\"_blank\" href=https://colab.research.google.com/notebooks/data_table.ipynb>data table notebook</a>'\n",
              "          + ' to learn more about interactive tables.';\n",
              "        element.innerHTML = '';\n",
              "        dataTable['output_type'] = 'display_data';\n",
              "        await google.colab.output.renderOutput(dataTable, element);\n",
              "        const docLink = document.createElement('div');\n",
              "        docLink.innerHTML = docLinkHtml;\n",
              "        element.appendChild(docLink);\n",
              "      }\n",
              "    </script>\n",
              "  </div>\n",
              "\n",
              "\n",
              "<div id=\"df-1ae44469-4c77-4dae-b93c-bb0849745931\">\n",
              "  <button class=\"colab-df-quickchart\" onclick=\"quickchart('df-1ae44469-4c77-4dae-b93c-bb0849745931')\"\n",
              "            title=\"Suggest charts\"\n",
              "            style=\"display:none;\">\n",
              "\n",
              "<svg xmlns=\"http://www.w3.org/2000/svg\" height=\"24px\"viewBox=\"0 0 24 24\"\n",
              "     width=\"24px\">\n",
              "    <g>\n",
              "        <path d=\"M19 3H5c-1.1 0-2 .9-2 2v14c0 1.1.9 2 2 2h14c1.1 0 2-.9 2-2V5c0-1.1-.9-2-2-2zM9 17H7v-7h2v7zm4 0h-2V7h2v10zm4 0h-2v-4h2v4z\"/>\n",
              "    </g>\n",
              "</svg>\n",
              "  </button>\n",
              "\n",
              "<style>\n",
              "  .colab-df-quickchart {\n",
              "      --bg-color: #E8F0FE;\n",
              "      --fill-color: #1967D2;\n",
              "      --hover-bg-color: #E2EBFA;\n",
              "      --hover-fill-color: #174EA6;\n",
              "      --disabled-fill-color: #AAA;\n",
              "      --disabled-bg-color: #DDD;\n",
              "  }\n",
              "\n",
              "  [theme=dark] .colab-df-quickchart {\n",
              "      --bg-color: #3B4455;\n",
              "      --fill-color: #D2E3FC;\n",
              "      --hover-bg-color: #434B5C;\n",
              "      --hover-fill-color: #FFFFFF;\n",
              "      --disabled-bg-color: #3B4455;\n",
              "      --disabled-fill-color: #666;\n",
              "  }\n",
              "\n",
              "  .colab-df-quickchart {\n",
              "    background-color: var(--bg-color);\n",
              "    border: none;\n",
              "    border-radius: 50%;\n",
              "    cursor: pointer;\n",
              "    display: none;\n",
              "    fill: var(--fill-color);\n",
              "    height: 32px;\n",
              "    padding: 0;\n",
              "    width: 32px;\n",
              "  }\n",
              "\n",
              "  .colab-df-quickchart:hover {\n",
              "    background-color: var(--hover-bg-color);\n",
              "    box-shadow: 0 1px 2px rgba(60, 64, 67, 0.3), 0 1px 3px 1px rgba(60, 64, 67, 0.15);\n",
              "    fill: var(--button-hover-fill-color);\n",
              "  }\n",
              "\n",
              "  .colab-df-quickchart-complete:disabled,\n",
              "  .colab-df-quickchart-complete:disabled:hover {\n",
              "    background-color: var(--disabled-bg-color);\n",
              "    fill: var(--disabled-fill-color);\n",
              "    box-shadow: none;\n",
              "  }\n",
              "\n",
              "  .colab-df-spinner {\n",
              "    border: 2px solid var(--fill-color);\n",
              "    border-color: transparent;\n",
              "    border-bottom-color: var(--fill-color);\n",
              "    animation:\n",
              "      spin 1s steps(1) infinite;\n",
              "  }\n",
              "\n",
              "  @keyframes spin {\n",
              "    0% {\n",
              "      border-color: transparent;\n",
              "      border-bottom-color: var(--fill-color);\n",
              "      border-left-color: var(--fill-color);\n",
              "    }\n",
              "    20% {\n",
              "      border-color: transparent;\n",
              "      border-left-color: var(--fill-color);\n",
              "      border-top-color: var(--fill-color);\n",
              "    }\n",
              "    30% {\n",
              "      border-color: transparent;\n",
              "      border-left-color: var(--fill-color);\n",
              "      border-top-color: var(--fill-color);\n",
              "      border-right-color: var(--fill-color);\n",
              "    }\n",
              "    40% {\n",
              "      border-color: transparent;\n",
              "      border-right-color: var(--fill-color);\n",
              "      border-top-color: var(--fill-color);\n",
              "    }\n",
              "    60% {\n",
              "      border-color: transparent;\n",
              "      border-right-color: var(--fill-color);\n",
              "    }\n",
              "    80% {\n",
              "      border-color: transparent;\n",
              "      border-right-color: var(--fill-color);\n",
              "      border-bottom-color: var(--fill-color);\n",
              "    }\n",
              "    90% {\n",
              "      border-color: transparent;\n",
              "      border-bottom-color: var(--fill-color);\n",
              "    }\n",
              "  }\n",
              "</style>\n",
              "\n",
              "  <script>\n",
              "    async function quickchart(key) {\n",
              "      const quickchartButtonEl =\n",
              "        document.querySelector('#' + key + ' button');\n",
              "      quickchartButtonEl.disabled = true;  // To prevent multiple clicks.\n",
              "      quickchartButtonEl.classList.add('colab-df-spinner');\n",
              "      try {\n",
              "        const charts = await google.colab.kernel.invokeFunction(\n",
              "            'suggestCharts', [key], {});\n",
              "      } catch (error) {\n",
              "        console.error('Error during call to suggestCharts:', error);\n",
              "      }\n",
              "      quickchartButtonEl.classList.remove('colab-df-spinner');\n",
              "      quickchartButtonEl.classList.add('colab-df-quickchart-complete');\n",
              "    }\n",
              "    (() => {\n",
              "      let quickchartButtonEl =\n",
              "        document.querySelector('#df-1ae44469-4c77-4dae-b93c-bb0849745931 button');\n",
              "      quickchartButtonEl.style.display =\n",
              "        google.colab.kernel.accessAllowed ? 'block' : 'none';\n",
              "    })();\n",
              "  </script>\n",
              "</div>\n",
              "\n",
              "    </div>\n",
              "  </div>\n"
            ],
            "application/vnd.google.colaboratory.intrinsic+json": {
              "type": "dataframe",
              "summary": "{\n  \"name\": \"result_df\",\n  \"rows\": 10,\n  \"fields\": [\n    {\n      \"column\": \"Level\",\n      \"properties\": {\n        \"dtype\": \"string\",\n        \"num_unique_values\": 10,\n        \"samples\": [\n          \"5.5.13\",\n          \"5.1.11\",\n          \"6.6.1\"\n        ],\n        \"semantic_type\": \"\",\n        \"description\": \"\"\n      }\n    },\n    {\n      \"column\": \"Topic\",\n      \"properties\": {\n        \"dtype\": \"string\",\n        \"num_unique_values\": 10,\n        \"samples\": [\n          \"Write Component Delivery Specification (CDS)- Exsitu\",\n          \"Purchaser enabled products and specific means\",\n          \"Support to BITE Integration Activity\"\n        ],\n        \"semantic_type\": \"\",\n        \"description\": \"\"\n      }\n    },\n    {\n      \"column\": \"Page\",\n      \"properties\": {\n        \"dtype\": \"number\",\n        \"std\": 152,\n        \"min\": 14,\n        \"max\": 394,\n        \"num_unique_values\": 10,\n        \"samples\": [\n          218,\n          50,\n          394\n        ],\n        \"semantic_type\": \"\",\n        \"description\": \"\"\n      }\n    },\n    {\n      \"column\": \"content\",\n      \"properties\": {\n        \"dtype\": \"string\",\n        \"num_unique_values\": 5,\n        \"samples\": [\n          \"Further Requirements for 6.2.1 and 6.2.2 \\nNone \\n6.2.4\",\n          \"Schedule, plan, milestones \\nMajor dates and milestones (ID, description) \\nDate \\nNA \\n \\n \\n \\n \\n \\n \\n \\nTechnical Deliverable Description \\nAppendix F\\n \\n \\n \\n \\n\\u00a9 AIRBUS \\nDate: 19/02/2022 \\nAIRBUS AMBER \\nReference_TDS_SP2103303 \\nPage 346 of 432\\n \\n6.2\",\n          \"Forecast quantity per deliverable, per year \\nWork Unit ID  \\n(Sub Work Package No. Deliverable \\nID) \\nForecasted quantity/volume \\n2022 \\n2023 \\n2024 \\nTotal \\nBatch_6.5.1 \\n3106 \\n3107 \\n3107 \\n9320 \\nBatch_6.5.2 \\n1812 \\n1812 \\n3176 \\n6800 \\nBatch_6.5.3 \\n3066 \\n3067 \\n3967 \\n10100 \\nBatch_6.5.4 \\n500 \\n700 \\n3740 \\n4940 \\nBatch_6.5.5 \\n8672 \\n7514 \\n13790 \\n29976 \\n \\n \\n6.5.8\"\n        ],\n        \"semantic_type\": \"\",\n        \"description\": \"\"\n      }\n    }\n  ]\n}"
            }
          },
          "metadata": {},
          "execution_count": 89
        }
      ]
    },
    {
      "cell_type": "code",
      "source": [],
      "metadata": {
        "id": "RnzpuKdUPpS5"
      },
      "execution_count": null,
      "outputs": []
    },
    {
      "cell_type": "code",
      "source": [
        "import csv\n",
        "import re\n",
        "import fitz\n",
        "\n",
        "def get_next_topic(reader, current_row):\n",
        "    for row in reader:\n",
        "        if row['Level'] == current_row['Level'] and row['Topic'] != current_row['Topic']:\n",
        "            return row['Topic']\n",
        "    return None\n",
        "\n",
        "def extract_content_until_next_topic(pdf_path, start_topic, next_topic, starting_page):\n",
        "    content = \"\"\n",
        "\n",
        "    # Regex to match various topic formats\n",
        "    topic_pattern = re.compile(r'^\\d+(\\.\\d+)*\\s+.*?$')\n",
        "\n",
        "    with fitz.open(pdf_path) as pdf:\n",
        "\n",
        "        for page_number in range(starting_page, pdf.page_count):\n",
        "            page = pdf[page_number]\n",
        "            text = page.get_text()\n",
        "            lines = text.split('\\n')\n",
        "            capturing = False\n",
        "\n",
        "            for line in lines:\n",
        "\n",
        "                if line.strip() == \"\":\n",
        "                    continue\n",
        "\n",
        "                if start_topic in line:\n",
        "                    capturing = True\n",
        "\n",
        "                if capturing:\n",
        "                    content += line + '\\n'\n",
        "\n",
        "                if next_topic and next_topic in line:\n",
        "                    return content.strip()\n",
        "\n",
        "                if capturing and topic_pattern.match(line) and line.strip() != start_topic:\n",
        "\n",
        "                    if next_topic and next_topic in line:\n",
        "                        return content.strip()\n",
        "\n",
        "    return content.strip()\n",
        "\n",
        "def update_csv_with_content(input_csv, pdf_path):\n",
        "\n",
        "    updated_entries = []\n",
        "\n",
        "    with open(input_csv, mode='r', encoding='utf-8') as file:\n",
        "        reader = csv.DictReader(file)\n",
        "        rows = list(reader)\n",
        "\n",
        "        for index, row in enumerate(rows):\n",
        "            level = row['Level']\n",
        "            topic = row['Topic']\n",
        "            page = int(row['Page']) - 1\n",
        "\n",
        "            next_topic = get_next_topic(rows, row)\n",
        "\n",
        "            content = extract_content_until_next_topic(pdf_path, topic, next_topic, page)\n",
        "\n",
        "            updated_entries.append({\n",
        "                \"Level\": level,\n",
        "                \"Topic\": topic,\n",
        "                \"Page\": row['Page'],\n",
        "                \"Content\": content\n",
        "            })\n",
        "\n",
        "    with open(input_csv, mode='w', newline='', encoding='utf-8') as file:\n",
        "        fieldnames = [\"Level\", \"Topic\", \"Page\", \"Content\"]\n",
        "        writer = csv.DictWriter(file, fieldnames=fieldnames)\n",
        "        writer.writeheader()\n",
        "        writer.writerows(updated_entries)\n",
        "\n",
        "input_csv = '/content/table_of_contents.csv'\n",
        "pdf_path = '/content/Technical Deliverable Specification_SnPS _SP2103303_V1 2 (1) (1).pdf'\n",
        "\n",
        "update_csv_with_content(input_csv, pdf_path)\n",
        "\n",
        "print(f\"Content extracted and added to '{input_csv}' successfully.\")"
      ],
      "metadata": {
        "id": "q6AJF5cht4hF"
      },
      "execution_count": null,
      "outputs": []
    },
    {
      "cell_type": "code",
      "source": [
        "df = pd.read_csv('/content/table_of_contents.csv')"
      ],
      "metadata": {
        "id": "Iym6qTcK6W_N"
      },
      "execution_count": null,
      "outputs": []
    },
    {
      "cell_type": "code",
      "source": [
        "df"
      ],
      "metadata": {
        "id": "UiVMY-Sj66-G"
      },
      "execution_count": null,
      "outputs": []
    },
    {
      "cell_type": "code",
      "source": [
        "df.iloc[0]['Content']"
      ],
      "metadata": {
        "id": "3MENAk37LpkF"
      },
      "execution_count": null,
      "outputs": []
    },
    {
      "cell_type": "code",
      "source": [
        "import csv\n",
        "import re\n",
        "import fitz\n",
        "\n",
        "def get_next_topic(reader, current_row):\n",
        "\n",
        "    for row in reader:\n",
        "        if row['Level'] == current_row['Level'] and row['Topic'] != current_row['Topic']:\n",
        "            return row['Topic']\n",
        "    return None\n",
        "\n",
        "def extract_content_until_next_topic(pdf_path, start_topic, next_topic, starting_page):\n",
        "\n",
        "    content = \"\"\n",
        "\n",
        "    # Regex to match various topic formats\n",
        "    topic_pattern = re.compile(r'^\\d+(\\.\\d+)*\\s+.*?$')\n",
        "\n",
        "    with fitz.open(pdf_path) as pdf:\n",
        "        for page_number in range(starting_page, pdf.page_count):\n",
        "            page = pdf[page_number]\n",
        "            text = page.get_text()\n",
        "            lines = text.split('\\n')\n",
        "            capturing = False\n",
        "\n",
        "            for line in lines:\n",
        "                if line.strip() == \"\":\n",
        "                    continue\n",
        "\n",
        "                if start_topic in line:\n",
        "                    capturing = True\n",
        "\n",
        "                if capturing:\n",
        "                    content += line.strip() + \" \"\n",
        "\n",
        "                if next_topic and next_topic in line:\n",
        "                    return content.strip()\n",
        "\n",
        "                if capturing and topic_pattern.match(line) and line.strip() != start_topic:\n",
        "\n",
        "                    if next_topic and next_topic in line:\n",
        "                        return content.strip()\n",
        "\n",
        "    return content.strip()\n",
        "\n",
        "def update_csv_with_content(input_csv, pdf_path):\n",
        "\n",
        "    updated_entries = []\n",
        "\n",
        "    with open(input_csv, mode='r', encoding='utf-8') as file:\n",
        "        reader = csv.DictReader(file)\n",
        "        rows = list(reader)\n",
        "        for index, row in enumerate(rows):\n",
        "            level = row['Level']\n",
        "            topic = row['Topic']\n",
        "            page = int(row['Page']) - 1\n",
        "\n",
        "            next_topic = get_next_topic(rows, row)\n",
        "\n",
        "            content = extract_content_until_next_topic(pdf_path, topic, next_topic, page)\n",
        "\n",
        "            updated_entries.append({\n",
        "                \"Level\": level,\n",
        "                \"Topic\": topic,\n",
        "                \"Page\": row['Page'],\n",
        "                \"Content\": content\n",
        "            })\n",
        "\n",
        "    with open(input_csv, mode='w', newline='', encoding='utf-8') as file:\n",
        "        fieldnames = [\"Level\", \"Topic\", \"Page\", \"Content\"]\n",
        "        writer = csv.DictWriter(file, fieldnames=fieldnames)\n",
        "        writer.writeheader()\n",
        "        writer.writerows(updated_entries)\n",
        "\n",
        "input_csv = '/content/table_of_contents.csv'\n",
        "pdf_path = '/content/Technical Deliverable Specification_SnPS _SP2103303_V1 2 (1) (1).pdf'\n",
        "\n",
        "update_csv_with_content(input_csv, pdf_path)\n",
        "\n",
        "print(f\"Content extracted and added to '{input_csv}' successfully.\")"
      ],
      "metadata": {
        "id": "R9PonsfP6-Sb"
      },
      "execution_count": null,
      "outputs": []
    },
    {
      "cell_type": "code",
      "source": [
        "df = pd.read_csv('/content/table_of_contents.csv')"
      ],
      "metadata": {
        "id": "_SiBsA1_9QCw"
      },
      "execution_count": null,
      "outputs": []
    },
    {
      "cell_type": "code",
      "source": [
        "df"
      ],
      "metadata": {
        "id": "y4JmegH79lfP"
      },
      "execution_count": null,
      "outputs": []
    },
    {
      "cell_type": "code",
      "source": [
        "df.iloc[0]['Content']"
      ],
      "metadata": {
        "id": "PNfk_hNZ9u9I"
      },
      "execution_count": null,
      "outputs": []
    },
    {
      "cell_type": "code",
      "source": [
        "import csv\n",
        "import re\n",
        "import fitz  # PyMuPDF\n",
        "\n",
        "def get_next_topic(reader, current_row):\n",
        "    \"\"\"Get the next topic and its level from the CSV reader.\"\"\"\n",
        "    for row in reader:\n",
        "        if row['Level'] == current_row['Level'] and row['Topic'] != current_row['Topic']:\n",
        "            return row['Topic'], row['Level'], int(row['Page']) - 1  # 0-based index\n",
        "    return None, None, None\n",
        "\n",
        "def extract_content_until_next_topic(pdf_path, start_topic, next_topic, starting_page):\n",
        "    \"\"\"Extract content from the PDF until the next topic is found.\"\"\"\n",
        "    content = \"\"\n",
        "\n",
        "    # Regex to match various topic formats\n",
        "    topic_pattern = re.compile(r'^\\d+(\\.\\d+)*\\s+.*?$')\n",
        "\n",
        "    with fitz.open(pdf_path) as pdf:\n",
        "        for page_number in range(starting_page, pdf.page_count):\n",
        "            page = pdf[page_number]\n",
        "            text = page.get_text()\n",
        "            lines = text.split('\\n')\n",
        "            capturing = False\n",
        "\n",
        "            for line in lines:\n",
        "                if line.strip() == \"\":\n",
        "                    continue\n",
        "\n",
        "                # Start capturing content when the start topic is found\n",
        "                if start_topic in line:\n",
        "                    capturing = True\n",
        "\n",
        "                # If capturing, append the line to content\n",
        "                if capturing:\n",
        "                    content += line.strip() + \" \"  # Use space for separation\n",
        "\n",
        "                # Stop capturing when the next topic is found\n",
        "                if next_topic and next_topic in line:\n",
        "                    return content.strip()\n",
        "\n",
        "                # Stop capturing if a new topic format line is encountered\n",
        "                if capturing and topic_pattern.match(line) and line.strip() != start_topic:\n",
        "                    return content.strip()\n",
        "\n",
        "    return content.strip()\n",
        "\n",
        "def update_csv_with_content(input_csv, pdf_path):\n",
        "    \"\"\"Update the CSV file with extracted content from the PDF.\"\"\"\n",
        "    updated_entries = []\n",
        "\n",
        "    with open(input_csv, mode='r', encoding='utf-8') as file:\n",
        "        reader = csv.DictReader(file)\n",
        "        rows = list(reader)  # Store all rows to determine the next topic\n",
        "\n",
        "        for index, row in enumerate(rows):\n",
        "            level = row['Level']\n",
        "            topic = row['Topic']\n",
        "            page = int(row['Page']) - 1  # Convert to 0-based index\n",
        "\n",
        "            next_topic, next_level, next_page = get_next_topic(rows, row)\n",
        "\n",
        "            content = extract_content_until_next_topic(pdf_path, topic, next_topic, page)\n",
        "\n",
        "            updated_entries.append({\n",
        "                \"Level\": level,\n",
        "                \"Topic\": topic,\n",
        "                \"Page\": row['Page'],\n",
        "                \"Content\": content if content else \"No content found\"  # Handle empty content\n",
        "            })\n",
        "\n",
        "    with open(input_csv, mode='w', newline='', encoding='utf-8') as file:\n",
        "        fieldnames = [\"Level\", \"Topic\", \"Page\", \"Content\"]\n",
        "        writer = csv.DictWriter(file, fieldnames=fieldnames)\n",
        "        writer.writeheader()\n",
        "        writer.writerows(updated_entries)\n",
        "\n",
        "input_csv = '/content/table_of_contents.csv'\n",
        "pdf_path = '/content/Technical Deliverable Specification_SnPS _SP2103303_V1 2 (1) (1).pdf'\n",
        "\n",
        "update_csv_with_content(input_csv, pdf_path)\n",
        "\n",
        "print(f\"Content extracted and added to '{input_csv}' successfully.\")"
      ],
      "metadata": {
        "id": "SEnMI85g90dg"
      },
      "execution_count": null,
      "outputs": []
    },
    {
      "cell_type": "code",
      "source": [
        "df = pd.read_csv('/content/table_of_contents.csv')"
      ],
      "metadata": {
        "id": "mEVhgS3SMaYS"
      },
      "execution_count": null,
      "outputs": []
    },
    {
      "cell_type": "code",
      "source": [
        "df"
      ],
      "metadata": {
        "id": "q60re4H8PFKK"
      },
      "execution_count": null,
      "outputs": []
    },
    {
      "cell_type": "code",
      "source": [],
      "metadata": {
        "id": "os487lRDPFGq"
      },
      "execution_count": null,
      "outputs": []
    },
    {
      "cell_type": "code",
      "source": [
        "df.iloc[0]['Level']"
      ],
      "metadata": {
        "id": "GXpsxpe2PJPb"
      },
      "execution_count": null,
      "outputs": []
    },
    {
      "cell_type": "code",
      "source": [
        "df.iloc[0]['Topic']"
      ],
      "metadata": {
        "id": "uNIOUgzvPNs7"
      },
      "execution_count": null,
      "outputs": []
    },
    {
      "cell_type": "code",
      "source": [
        "page_number = int(df.iloc[0]['Page'])\n",
        "page_number"
      ],
      "metadata": {
        "id": "ZkMN4MhqPRXi"
      },
      "execution_count": null,
      "outputs": []
    },
    {
      "cell_type": "code",
      "source": [
        "with fitz.open(pdf_path) as pdf:\n",
        "  page = pdf[page_number - 1]\n",
        "  extracted_text = page.get_text()"
      ],
      "metadata": {
        "id": "uXk1YrQnPTW_"
      },
      "execution_count": null,
      "outputs": []
    },
    {
      "cell_type": "code",
      "source": [
        "print(extracted_text)"
      ],
      "metadata": {
        "id": "MBpmVb81j6rs"
      },
      "execution_count": null,
      "outputs": []
    },
    {
      "cell_type": "code",
      "source": [
        "extracted_text"
      ],
      "metadata": {
        "id": "gXzHKBE46EqI"
      },
      "execution_count": null,
      "outputs": []
    },
    {
      "cell_type": "code",
      "source": [
        "df"
      ],
      "metadata": {
        "id": "L9xMYqEo_BQe"
      },
      "execution_count": null,
      "outputs": []
    },
    {
      "cell_type": "code",
      "source": [
        "matches = re.finditer(r\"\\d+(\\.\\d+)*\\s+[A-Za-z\\s()&/]+\", extracted_text, re.MULTILINE)\n",
        "\n",
        "for matchNum, match in enumerate(matches, start=0):\n",
        "  if match.group() == df.iloc[0]['Topic']:\n",
        "    print(match.group())\n",
        "  else:\n",
        "    print(\"Match didn't found\")"
      ],
      "metadata": {
        "id": "nADH6crJ8EZ_"
      },
      "execution_count": null,
      "outputs": []
    },
    {
      "cell_type": "code",
      "source": [
        "import re\n",
        "\n",
        "pattern = r\"\\d+(\\.\\d+)*\\s+[A-Za-z\\s()&/]+\"\n",
        "matches = re.findall(pattern, extracted_text,re.MULTILINE)\n",
        "print(matches)"
      ],
      "metadata": {
        "id": "0aaf9j-hYRzZ"
      },
      "execution_count": null,
      "outputs": []
    },
    {
      "cell_type": "code",
      "source": [
        "# coding=utf8\n",
        "# the above tag defines encoding for this document and is for Python 2.x compatibility\n",
        "\n",
        "import re\n",
        "\n",
        "regex = r\"\\d+(\\.\\d+)*\\s+[A-Za-z\\s()&/]+\"\n",
        "\n",
        "test_str = \" \\\\n \\\\n \\\\nTechnical Deliverable Specification \\\\nAppendix F\\\\n \\\\n \\\\n© AIRBUS S.A.S. \\\\nDate: 19/02/2022 \\\\nAIRBUS AMBER \\\\nReference_TDS_SP2103303 \\\\nPage 10 of 432\\\\n \\\\n1 SUBCONTRACTED ACTIVITIES DESCRIPTION \\\\nThe subcontracting perimeter encompasses support to the Simulation and Physical System \\\\ndepartment activities in terms of fulfilling Work-units, Work-packages, or Skilled Resource \\\\nprovisions in Work-progress mode. Various groups in S&PS departments are: \\\\n\\\\uf0b7 \\\\nPhysical Systems Architecture (AIOEYP) \\\\n\\\\uf0b7 \\\\nAircraft Controls (AIOEYC) \\\\n\\\\uf0b7 \\\\nNavigation & Communication (AIOEYN) \\\\n\\\\uf0b7 \\\\nIndustrial Systems (AIOEYI) \\\\n\\\\uf0b7 \\\\nSimulation Platforms & Frameworks (AIOEYS) \\\\n\\\\uf0b7 \\\\nMaintenance (AIOEYH) \\\\n\\\\uf0b7 \\\\nSystems Modeling (AIOEYM) \\\\n2 RESPONSIBILITY EXERCISED ON DELIVERABLES AND CRITICALITY OF THE ACTIVITY \\\\n2.1 Design Organisation Approval (DOA) Requirements \\\\nNot Applicable \\\\n \\\\n2.2 Targeted Responsibility/Signatory Exercised on Deliverables \\\\n \\\\nThe paragraph and table below is ONLY Applicable to: AIRBUS COMMERCIAL AIRCRAFT \\\\nThe maximum Service Provider’s targeted responsibility / signatory exercised on deliverables is as follows: \\\\n \\\\n \\\\nDeliverables are \\\\nnon A/C related \\\\nDeliverables are A/C related \\\\n \\\\n \\\\nAuthoring \\\\nrefer to M1264 \\\\nControlled DOA Signature \\\\nrefer to A1020/M1020 \\\\nTargeted \\\\nresponsibility / \\\\nsignatory level \\\\nN/A \\\\nN/A \\\\nAuthoring \\\\nSignature \\\\nApprover \\\\nSignature \\\\nAuthorizer \\\\nSignature \\\\nAirworthiness Signature \\\\n☐ \\\\n☒ \\\\n☐ \\\\n☐ \\\\n☐ \\\\n☐ \\\\n \\\\nThe activity is \\\\nnot DOA related \\\\nThe activity is DOA related \\\\nTable 2-1. Targeted responsibility / signatory exercised on deliverables \\\\n \\\\n2.3 Criticality of the deliverables \\\\n \\\\nThe paragraph and table below is ONLY Applicable to: AIRBUS COMMERCIAL AIRCRAFT \\\\n \\\\n\"\n",
        "\n",
        "matches = re.finditer(regex, test_str, re.MULTILINE)\n",
        "\n",
        "for matchNum, match in enumerate(matches, start=1):\n",
        "\n",
        "    # print (\"Match {matchNum} was found at {start}-{end}: {match}\".format(matchNum = matchNum, start = match.start(), end = match.end(), match = match.group()))\n",
        "    print(match.group())\n",
        "\n",
        "    # for groupNum in range(0, len(match.groups())):\n",
        "    #     groupNum = groupNum + 1\n",
        "\n",
        "    #     print (\"Group {groupNum} found at {start}-{end}: {group}\".format(groupNum = groupNum, start = match.start(groupNum), end = match.end(groupNum), group = match.group(groupNum)))"
      ],
      "metadata": {
        "id": "NinT89Mu7aD_"
      },
      "execution_count": null,
      "outputs": []
    },
    {
      "cell_type": "code",
      "source": [
        "extracted_text.replace('\\n', ' ')"
      ],
      "metadata": {
        "id": "hHWTNPTOu-sG"
      },
      "execution_count": null,
      "outputs": []
    },
    {
      "cell_type": "code",
      "source": [
        "import fitz  # PyMuPDF\n",
        "import re\n",
        "import csv\n",
        "\n",
        "# Function to detect if a page is a TOC page based on keywords and formatting\n",
        "def is_toc_page(text):\n",
        "    toc_keywords = [\"TABLE OF CONTENTS\", \"CONTENTS\"]\n",
        "    has_toc_keywords = any(keyword.lower() in text.lower() for keyword in toc_keywords)\n",
        "    has_toc_format = (\n",
        "        len(re.findall(r'^\\d+(\\.\\d+)*\\s+.*\\d+$', text, re.MULTILINE)) > 0 or\n",
        "        len(re.findall(r'^\\d+(\\.\\d+)*\\s+[A-Z].*\\d*$', text, re.MULTILINE)) > 0\n",
        "    )\n",
        "    return has_toc_keywords or has_toc_format\n",
        "\n",
        "# Function to extract Level 1, Level 2, and Level 3 headings from TOC pages\n",
        "def extract_headings_from_toc(pdf_path):\n",
        "    try:\n",
        "        pdf_document = fitz.open(pdf_path)\n",
        "    except Exception as e:\n",
        "        print(f\"Error opening PDF file: {e}\")\n",
        "        return []\n",
        "\n",
        "    headings = []\n",
        "    current_level1 = None\n",
        "    current_level2 = None\n",
        "\n",
        "    # Process only the first 10 pages (or fewer if the document is shorter)\n",
        "    num_pages_to_check = min(10, len(pdf_document))\n",
        "\n",
        "    for page_num in range(num_pages_to_check):\n",
        "        page = pdf_document.load_page(page_num)\n",
        "        text = page.get_text(\"text\")\n",
        "\n",
        "        if is_toc_page(text):\n",
        "            lines = text.splitlines()\n",
        "            for line in lines:\n",
        "                # Adjusted regex patterns to match TOC formats with extra gaps\n",
        "                level1_pattern = r'^\\d+\\s+[A-Z].*\\d*$|^\\d+\\s{2,}[A-Z].*\\d*$'\n",
        "                level2_pattern = r'^\\d+\\.\\d+\\s+.*\\d*$|^\\d+\\.\\d+\\s{2,}.*\\d*$'\n",
        "                level3_pattern = r'^\\d+\\.\\d+\\.\\d+\\s+.*\\d*$|^\\d+\\.\\d+\\.\\d+\\s{2,}.*\\d*$'\n",
        "\n",
        "                # Extract Level 1 headings\n",
        "                if re.match(level1_pattern, line):\n",
        "                    current_level1 = line.strip()\n",
        "                    current_level2 = None  # Reset Level 2 when Level 1 changes\n",
        "                    headings.append({\"Level 1\": current_level1, \"Level 2\": \"\", \"Level 3\": \"\"})\n",
        "                # Extract Level 2 headings\n",
        "                elif re.match(level2_pattern, line):\n",
        "                    current_level2 = line.strip()\n",
        "                    headings.append({\"Level 1\": current_level1, \"Level 2\": current_level2, \"Level 3\": \"\"})\n",
        "                # Extract Level 3 headings\n",
        "                elif re.match(level3_pattern, line):\n",
        "                    headings.append({\"Level 1\": current_level1, \"Level 2\": current_level2, \"Level 3\": line.strip()})\n",
        "\n",
        "    return headings\n",
        "\n",
        "# Function to save the extracted headings to a CSV file with separate columns for levels\n",
        "def save_headings_to_csv(headings, output_csv):\n",
        "    if not headings:\n",
        "        print(\"No headings to save.\")\n",
        "        return\n",
        "    try:\n",
        "        with open(output_csv, mode='w', newline='') as file:\n",
        "            writer = csv.DictWriter(file, fieldnames=[\"Level 1\", \"Level 2\", \"Level 3\"])\n",
        "            writer.writeheader()\n",
        "            for heading in headings:\n",
        "                writer.writerow(heading)\n",
        "    except Exception as e:\n",
        "        print(f\"Error writing to CSV file: {e}\")\n",
        "\n",
        "# Path to the PDF file\n",
        "pdf_path = '/content/Technical Deliverable Specification_SnPS _SP2103303_V1 2 (1) (1).pdf'\n",
        "# Output CSV file path\n",
        "output_csv = 'extracted_headings1.csv'\n",
        "\n",
        "# Extract Level 1, Level 2, and Level 3 headings from the TOC\n",
        "headings = extract_headings_from_toc(pdf_path)\n",
        "\n",
        "# Save the extracted headings to a CSV file\n",
        "save_headings_to_csv(headings, output_csv)\n",
        "\n",
        "print(f\"Extracted headings saved to {output_csv}\")"
      ],
      "metadata": {
        "id": "Cu1q7ipn2x9Q"
      },
      "execution_count": null,
      "outputs": []
    },
    {
      "cell_type": "code",
      "source": [
        "df = pd.read_csv('/content/extracted_headings1.csv')"
      ],
      "metadata": {
        "id": "AMb-P8Y53psG"
      },
      "execution_count": null,
      "outputs": []
    },
    {
      "cell_type": "code",
      "source": [
        "df"
      ],
      "metadata": {
        "id": "CfJgJnwo30ho"
      },
      "execution_count": null,
      "outputs": []
    },
    {
      "cell_type": "code",
      "source": [
        "df.sample(10)"
      ],
      "metadata": {
        "id": "bd9TRy4T31h_"
      },
      "execution_count": null,
      "outputs": []
    },
    {
      "cell_type": "code",
      "source": [
        "df"
      ],
      "metadata": {
        "id": "VmTPvuPe4Kaw"
      },
      "execution_count": null,
      "outputs": []
    },
    {
      "cell_type": "code",
      "source": [
        "df.iloc[0]['Content']"
      ],
      "metadata": {
        "id": "8FwQKKP6Bor0"
      },
      "execution_count": null,
      "outputs": []
    },
    {
      "cell_type": "code",
      "source": [],
      "metadata": {
        "id": "i4foMWpjBrbr"
      },
      "execution_count": null,
      "outputs": []
    }
  ]
}