{
  "nbformat": 4,
  "nbformat_minor": 0,
  "metadata": {
    "colab": {
      "provenance": [],
      "mount_file_id": "13KTqMlnqZEfW9Grkv-t2c_irfVJBdccb",
      "authorship_tag": "ABX9TyNrdzFeu+i6A9Pd4NDmulXB",
      "include_colab_link": true
    },
    "kernelspec": {
      "name": "python3",
      "display_name": "Python 3"
    },
    "language_info": {
      "name": "python"
    }
  },
  "cells": [
    {
      "cell_type": "markdown",
      "metadata": {
        "id": "view-in-github",
        "colab_type": "text"
      },
      "source": [
        "<a href=\"https://colab.research.google.com/github/Sujeet2003/Machine-Learning/blob/main/ttl_2.ipynb\" target=\"_parent\"><img src=\"https://colab.research.google.com/assets/colab-badge.svg\" alt=\"Open In Colab\"/></a>"
      ]
    },
    {
      "cell_type": "code",
      "source": [
        "import pandas as pd"
      ],
      "metadata": {
        "id": "EdZfIcIy1qWO"
      },
      "execution_count": null,
      "outputs": []
    },
    {
      "cell_type": "code",
      "source": [
        "!pip install PyPDF2 --quiet"
      ],
      "metadata": {
        "id": "_mS_8SqSt1Hj"
      },
      "execution_count": null,
      "outputs": []
    },
    {
      "cell_type": "code",
      "source": [
        "! pip install PyMuPDF --quiet\n",
        "! pip install pytesseract --quiet\n",
        "! pip install pillow --quiet"
      ],
      "metadata": {
        "id": "IDsUV3ZcvKUf"
      },
      "execution_count": null,
      "outputs": []
    },
    {
      "cell_type": "code",
      "source": [
        "!apt-get install tesseract-ocr --quiet"
      ],
      "metadata": {
        "colab": {
          "base_uri": "https://localhost:8080/"
        },
        "collapsed": true,
        "id": "QtaXHaqfvvVT",
        "outputId": "a8697e68-352c-4393-dbf7-2d73ddf68ccc"
      },
      "execution_count": null,
      "outputs": [
        {
          "output_type": "stream",
          "name": "stdout",
          "text": [
            "Reading package lists...\n",
            "Building dependency tree...\n",
            "Reading state information...\n",
            "tesseract-ocr is already the newest version (4.1.1-2.1build1).\n",
            "0 upgraded, 0 newly installed, 0 to remove and 49 not upgraded.\n"
          ]
        }
      ]
    },
    {
      "cell_type": "code",
      "execution_count": null,
      "metadata": {
        "collapsed": true,
        "id": "D-Ps6-AQtKyv"
      },
      "outputs": [],
      "source": [
        "import PyPDF2\n",
        "\n",
        "def extract_text_from_pdf(pdf_path, num_pages=30):\n",
        "\n",
        "  extracted_text = \"\"\n",
        "  with open(pdf_path, 'rb') as pdf_file:\n",
        "    pdf_reader = PyPDF2.PdfReader(pdf_file)\n",
        "    num_pages_in_pdf = len(pdf_reader.pages)\n",
        "\n",
        "    for page_num in range(min(num_pages, num_pages_in_pdf)):\n",
        "      page = pdf_reader.pages[page_num]\n",
        "      extracted_text += page.extract_text()\n",
        "\n",
        "  return extracted_text\n",
        "\n",
        "\n",
        "pdf_path = '/content/Technical Deliverable Specification_SnPS _SP2103303_V1 2 (1) (1).pdf'\n",
        "\n",
        "extracted_text = extract_text_from_pdf(pdf_path)"
      ]
    },
    {
      "cell_type": "code",
      "source": [
        "extracted_text.replace('\\n', ' ')"
      ],
      "metadata": {
        "colab": {
          "base_uri": "https://localhost:8080/",
          "height": 163
        },
        "id": "BopmY7hg7h3o",
        "outputId": "b619681e-43f7-4fae-c042-e106409c173a"
      },
      "execution_count": null,
      "outputs": [
        {
          "output_type": "execute_result",
          "data": {
            "text/plain": [
              "'     Technical Deliverable Specification Appendix F     © AIRBUS   Date: 19/02/2022 AIRBUS AMBER  Reference_TDS_SP2103303  Page 1 of 432     Technical Deliverable Specification (TDS)  Airbus India Simulation & Physical  System activities     Technical Deliverable Specification  reference SP2103303      This document specifies the Engineering & Intellectual services contracted by Airbus Group to a Service  Provider. It is the Appendix F of the Work Specification for engineering referenced SP2103303     This Technical Deliverable Specification shall be initialled on each page solely by the selected Service  Provider at the outcome of the selection process accomplished by the Procurement Department.    Record of revisions    Issue /  versio n Date Subject Purchaser’s author  FAMILY NAME, First  name Phone  Mail  1.0. 19/02/2022  Creation VASHISTHA, Kartikey  RANGANATH, Pavan  +91-80-66380199  kartikey.vashistha@airbus.com   pavan.ranganath@airbus.com             Other Airbus Group’ contacts    Requestors, Technical leaders / coordinators, technical contacts, persons in charge of specific means  +91 80 66380282     Guru Prasad Raghavendra, <guru.g.raghavendra@airbus.com > HO Simulation & Physical System • AIOEY  Nitin Mohan, < nitin.n.mohan@airbus.com  >Subcontracting Manager, Senior Transversal Leader  • AIOEO  Jegathambigai Balaji < jegathambigai.balaji@airbus.com >  HO Engineering Quality • AIOEQ  Nitish-Saroj Kumar, nitish-saroj.kumar@airbus.com,  HO Physical Systems Architecture AIOEYP   Susam Borthakur susam.borthakur@airbus.com , HO Aircraft Controls • AIOEYC   Praveena Slathia <praveena.slathia@airbus.com >HO Navigation & Communication • AIOEYN  Ghati, Sayantan < sayantan.ghati@airbus.com >HO Industrial Systems • AIOEYI  Pankaj BHUTANI < pankaj.bhutani@airbus.com> HO Simulation Platforms & Frameworks • AIOEYS  Veena Venugopal < veena.venugopal@airbus.com >HO Maintenance • AIOEYH  Srivats Srinivasan < srivats.srinivasan@airbus.com> HO Systems Modeling • AIOEYM       Technical Deliverable Specification Appendix F     © AIRBUS   Date: 19/02/2022 AIRBUS AMBER  Reference_TDS_SP2103303 Page 2 of 432   Security classification synthesis.   CLASSIFICATION  Company Governmental/Defence Export Control Privacy (GDPR)  Airbus AMBER x OCCAR  Dual Use x Personal Data   Airbus RED  Governmental  EAR  Personal Sensitive  Data   Third Party  Classification  NATO  Military/  Assimilated       National Military  (FR, DE, UK, ES)          ITAR         EAR600                PROGRAMS OR PROJECTS CONCERNED  CIVIL PROGRAM  ◻ MILITARY PROGRAM   ◻ INNOVATION  ◻ OTHERS PROJECTS   ◻  specify the name(s): A350, SA,  LR,A380,XLR  specify the name(s):  specify the name(s):  specify the name(s): R&T          Note: The Service Provider shall protect from loss, destruction, falsification, corruption,  unauthorized access and unauthorized release all relevant information that it accesses,  operates or processes.                                                          Technical Deliverable Specification Appendix F     © AIRBUS  Date: 19/02/2022 AIRBUS AMBER  Reference_TDS_SP2103303  Page 3 of 432   ADDITIONAL TERMS AND ACRONYMS   This list amends the list of terms and acronyms provided in the chapter 1 of the Standard Work  Specification for Engineering.  A/C Aircraft  ABD AIRBUS Directives  ACMS Aircraft Condition Monitoring System   A-D Airbus Deutschland  ADC Aircraft Data Collection  ADL Applicable Documentation List   ADSR Aircraft Drawing System Rules  AECI Airbus Engineering Centre India   A-F Airbus France  AI Airbus India Operations   AL Activity Lead  APID Airbus Process instruction Deviation  ARL Applicable Requirements List  ATD Applicable Technical Document   BAT Business Acceptance Test  BOM Bill of material  BOS Business Operational Support  CAD Computer Aided Design   CACAU Case Configurator for ADC Usage  CAM Compliance Analysis Matrix  CCGRL Compliance Commitment on GRAMS Requirement List  CCS Change Control Sheet  CDR Critical Design Review  CDS Component Delivery Specification  CILAT Current Injection and Length Assumption Table  CIRCE Conception Informatisée et Rationalisée des Câblages Electriques  CN Change Note  CoC Centre of Competence  CoE Centre of Excellence  CPPR Capture Process product Request   CR Change request  CRM Contractual Review Meeting   CTS Customized Technical Specification  DA Drawing Assembly  DAL Development Assurance Level  DAN Delivery Acceptance Note  DBD Data Basis for Design   DCN Design change note  DDP Declaration of Design and Performance   DDQC Definition dossier quality check  DDMS Digital Design & Manufacturing Systems  DES Discrete Event Simulation  DM Data Management  DMU Digital Mock-Up  DOA Design Organization Approval  DOORS  Dynamic Object Orientated Requirements System   DQN Design Queries Notes  DRCL Deliverable Release Checklist  DRL Documentation Requirement List  DS Design Solution  DWG Drawing  EASA European Aviation Safety Agency  EBOM Engineering Bill Of Materials   ECM Engineering Coordination Memo  ECN Engineering Change Note  ECP Engineering Change Proposal  EETL Applicable Tools List for Design Service providers      Technical Deliverable Specification Appendix F     © AIRBUS  Date: 19/02/2022 AIRBUS AMBER  Reference_TDS_SP2103303  Page 4 of 432   EP Enabling Platform   ERHC Electrical Routing and Harness Concept  ESDCR Extended Schematics Diagram Configured Repository   EU European Union  FDIMU Flight Data Interface and Management Unit  FEM Finite Element Models  FP/FPWU Fix Price Work Package  FPM Final Project Meeting  FPQ First Part Qualification  FTA First Technical Acceptance  FTR First Time Right  FTS File Transfer Service  FSVS Functional sizing, verification and support activities  GAM Global Architecture Mock-up  GRAMS General Requirements for Aero structure and Material Suppliers   GRESS General Requirements for Equipment and System Suppliers  GRM Geometric Reference Mock-up  HMG Harmonized Material Group  HoV Head of Version  HW Hardware  IC Installation Case  ICT Information and Communication Technology   ICY Interchangeability   INCOSE International Council on Systems Engineering  IPT Integrated Project Team   J&T Jigs & Tools  KOR Kick Off Review  KPI Key Performance Indicator  LR Long Range (A330 / A340)  LSBM Load Secure Batch Media   LT Lead time  MAPIS Material And Process, Interior & Structure   MBOM Manufacturing Bill Of Materials  iMBSE Industrial Model Based Systems Engineering  MCA Major Component Assembly  ME Spec. Manufacturing Engineering Specification  MoM Minutes of Meeting  MTTR Mean Time To Repair  MTBF Mean Time Before Failure   MSN Manufacturing Serial Number  N/A Not applicable  NSPI New Standard Part Introduction  NDB Navigation Database  OPC Operational Program Configuration  OBS Organization Breakdown Structure  OTD On Time Delivery   OSAM Overall System Architecture Model  P&M Processes and Methods  PDB Performance Database  PDM Product Data Management  PDR Preliminary Design Review  PI Product Increment  PO Purchase Order   PLM Product Lifecycle Management  PPRDCA Product Process Resource Data Centric Approach  PQN Process Query Note  PQP  Project Quality Plan  PRA Particular Risk Analysis  PRM Progress Review Meeting  PSA Physical System Architecture  PTS Product Technical Specification  PZ Part Zone  QAP Quality Assurance Plan      Technical Deliverable Specification Appendix F     © AIRBUS  Date: 19/02/2022 AIRBUS AMBER  Reference_TDS_SP2103303  Page 5 of 432   QRM Quality Review Meeting   RBE Requirement Based Engineering  RDF Requirement Discrepancy Form   RFC Request For Change  RFP Request for Proposal  RSDP Reference Structure Design Principles  S/C Subcontracting / subcontractor  SA A320 family  SAM Subcontracting Acceptance Memo  SDD Software Description Dossier  SFS Secure File Storage  sFMS Simulated Flight Management System  SNS Secure Network Storage  SI System Installation  SIDP System Installation Design Principles   SIIKDB System Installation Industrial Knowledge database  SIPT Systems Installation Patterns & Tools  SIRD System Installation Requirement Document  SLA Service Level Agreement  SP-AC0 Simulation Product Aircraft-0 (Simulator)  SPAN Supplier and Partners Airbus Network  SPE Simulation Product Engineer   SR Support/Service Request  SRD Software Requirements Document   SSCI Structure System Cabin Integration  STES Series Design Subcontracting  SubWU Sub Work Unit  SVCP Software Validation Control Plan  SVN Subversion   SVR Software Verification Report  SW Software  TBC To be confirmed  TBD To be decided/ defined  TDD  Technical Design Directive  TDP Technical Data Package  TDS Technical Deliverable Specification  TDU Technical Definition Unit  TDM Technical Database Management   TN Technical Note  TR Tooling Register  TrEsti Treatment Estimation  TRM Technical Review Meeting  TRS Technical Repercussion Sheet   UFP Unit Fixed Price  UI User Interface   UMS User Modifiable Software  UN United Nations  USA United State of America  V&V Verification and Validation  VPM Virtual Product Management  VR Virtual reality  VSIM-D Versatile Simulator - Design  VSIM-I Versatile Simulator - Integration  VSIM-T Versatile Simulator - Training  WB Wide Body (A300 / A310)  WBS Work Breakdown Structure  WD / FD Wiring Diagram / Function Diagram  WU Work Unit     This list amends the list of terms and acronyms provided in the Standard Work Specification     Technical Deliverable Specification Appendix F     © AIRBUS S.A.S.  Date: 19/02/2022 AIRBUS AMBER  Reference_TDS_SP2103303  Page 6 of 432     TABLE OF CONTENTS     Contents  ADDITIONAL TERMS AND ACRONYMS  3   TABLE OF CONTENTS  6   1 SUBCONTRACTED ACTIVITIES DESCRIPTION  10   THE SUBCONTRACTING PERIMETER ENCOMPASSES SUPPORT TO THE SIMULATION AND  PHYSICAL SYSTEM DEPARTMENT ACTIVITIES IN TERMS OF FULFILLING WORK-UNITS, WORK- PACKAGES , OR SKILLED RESOURCE PROVISIONS IN WORK-PROGRESS MODE . VARIOUS  GROUPS IN S&PS DEPARTMENTS ARE : 10   2 RESPONSIBILITY EXERCISED ON DELIVERABLES AND CRITICALITY OF THE ACTIVITY 10   2.1 Design Organisation Approval (DOA) Requirements 10   Not Applicable  10   2.2 Targeted Responsibility/Signatory Exercised on Deliverables 10   2.3 Criticality of the deliverables 10   PROJECT MANAGEMENT  11   3.1 Steering and Review Meetings 11   3.2 General Requirements Addendum 13   4 WORK PACKAGE ENABLING DATA 13   5 SUBCONTRACTED  ACTIVITIES  DESCRIPTION  (WORK UNIT) 14   5.1 AIOEYS - Simulation platforms & Frameworks 14   5.1.1 Model Integration - Minor 14   5.1.2 Model Integration - Medium 19   5.1.3 Model Integration - High 24   5.1.4 Platform Validation 28   5.1.5 Documentation 32   5.1.6 Analysis and Implementation - Minor 36   5.1.7 Analysis and Implementation - Medium 40   5.1.8 Analysis and Implementation - Major 44   5.1.9 Further Requirements for 5.1.1 to 5.1.8 50   5.1.10 Validation and Verification requirements 50   5.1.11 Purchaser enabled products and specific means 50   5.1.12 Forecast quantity and lead-time per work unit 50   5.2 AIOEYM - Systems Modeling 51   5.2.1 Model Development - Minor 51   5.2.2 Model Development - Medium 55   5.2.3 Model Development - Major 59   5.2.4 Platform Validation for Model development 62   5.2.5 Model Development Documentation 66   5.2.6 Model Delivery Support 69   5.2.7 Model Development Support 72   5.2.8 Model Loading In SimWorks 75   5.2.9 Further Requirements for 5.2.1 to 5.2.8 80   5.2.10 Validation and Verification requirements 80   5.2.11 Purchaser enabled products and specific means 80       Technical Deliverable Specification Appendix F     © AIRBUS S.A.S.  Date: 19/02/2022 AIRBUS AMBER  Reference_TDS_SP2103303  Page 7 of 432   5.2.12 Forecast quantity and lead-time per work unit 80   5.3 AIOEYN – FMS & Navigation activities 81   5.3.1 Bore sighting load generation work package 81   5.3.2   OPC PDB Work Package 84   5.3.3 sFMS DEFINED SCOPE Work Package 88   5.3.4 Further Requirements for 5.3.1 to 5.3.3  91   5.3.5 Validation and Verification requirements 91   5.3.6 Purchaser enabled products and specific means 91   5.3.7 Forecast quantity and lead-time per work unit 92   5.4 AIOEYP – Physical System Architecture 92   5.4.1 Equipment Model Management (EMM) 92   5.4.2 Electrical-Insitu 116   5.4.3 Electrical–Exsitu 127   5.4.4 Multi System Physical Architecture (MSPA) 142   5.4.5 Electrical Installation Design Directives (EIDD) 160   5.4.6 Further Requirements for 5.4.1 to 5.4.5 167   5.4.7 Validation and Verification requirements 167   5.4.8 Purchaser enabled products and specific means 167   5.4.9 Forecast quantity and lead-time per work unit 167   5.5 AIOEYI – Industrial Systems 169   5.5.1 Industry Flow Simulation-Discrete event simulation & Process Engineering-  Exsitu 169   5.5.2 3DX DELMIA - Prepare Manufacturing Bill Of Material and Process View- Exsitu  174  5.5.3 3DX DELMIA-create static plant Layout- Exsitu 178   5.5.4 3DX DELMIA - 3D Flow simulations and record animations-ExSitu 182   5.5.5 3DX DELMIA - Analyze and compare simulation scenario- Exsitu 186   5.5.6 Export process and 3D data to VR applications- Exsitu 190   5.5.7 Cameo modelling -1- Exsitu 194   5.5.8 Cameo modelling -2- Exsitu 198   5.5.9 Validate Tooling Registers-Low Volume- Exsitu 202   5.5.10 Validate Tooling Registers-Medium Volume- Exsitu 206   5.5.11 Validate Tooling Registers- High Volume- Exsitu 210   5.5.12  Write Manufacturing Engineering Specification- Exsitu 214   5.5.13 Write Component Delivery Specification (CDS)- Exsitu 218   5.5.14 System Installation Knowledge Database creation- Exsitu 222   5.5.15 Product Process Resource Data model creation (XML)- Exsitu 226   5.5.16 PPR DCA Industrial Architecture trades (Low complexity)- Exsitu 230   5.5.17 PPR DCA Industrial Architecture trades (Medium complexity)- Exsitu 234   5.5.18 PPR DCA Industrial Architecture trades (High complexity)- Exsitu 238   5.5.19 Further Requirements for 5.5.1 to 5.5.18 242   5.5.20 Validation and Verification requirements 242   5.5.21 Purchaser enabled products and specific means 242   5.5.22 Forecast quantity and lead-time per work unit 242   5.6 AIOEYH – Health Engineering 244   5.6.1 Support to ADC Loads Creation - Certification and UMS- Exsitu 244   5.6.2  Support ADC Loads Creation - Test Loads- Exsitu 249   5.6.3  Support ADC Certification, Test and UMS LoadR Creation- Exsitu 253   5.6.4  Support ADC CACAU Use Case Review- Exsitu 256   5.6.5  Yellow Pages Filling – normalization of ATAxx ICD – Minor- Exsitu 260   5.6.6  Customization – Conversion of PD/WD for ATA31 - Complexity: Low- Exsitu  264      Technical Deliverable Specification Appendix F     © AIRBUS S.A.S.  Date: 19/02/2022 AIRBUS AMBER  Reference_TDS_SP2103303  Page 8 of 432   5.6.7  Customization – Conversion of PD/WD for ATA31 - Complexity: Medium-  Exsitu 266   5.6.8  Customization – Conversion of PD/WD for ATA31 - Complexity: High- Exsitu  269  5.6.9  Customization – ATA 31 System Definition Activity - Low workload (< 100  MSNs)- Exsitu 272   5.6.10 Customization - ATA 31 System Definition Activity - High workload (> 100  MSNs)- Exsitu 275   5.6.11 Customization - ATA 31 System Definition Activity - SKYWISE extract  analysis- Exsitu 278   5.6.12 Yellow Pages Filling – normalization of ATAxx ICD – Medium- Exsitu 281   5.6.13 Yellow Pages Filling – normalization of ATAxx ICD – large- Exsitu 284   5.6.14 Yellow Pages Filling – Albatross Data Synchronization – Minor- Exsitu 287   5.6.15 Yellow Pages Filling – Albatross Data Synchronization – Medium- Exsitu 291   5.6.16 Yellow Pages Filling – Albatross Data Synchronization – Large- Exsitu 295   5.6.17 Support for Tool Development in Health Engineering - minor complexity- Insitu  299  5.6.18 Support for Tool Development in Health Engineering - major complexity- Insitu  303  5.6.19 Support for Data Collection Activity - minor complexity- Insitu 308   5.6.20 Support for Data Collection Activity - major complexity- Insitu 312   5.6.21 Customization – Updating PD/WD for ATA31 - Complexity: Low- Exsitu 318   5.6.22 Customization – Updating PD/WD for ATA31 - Complexity: Medium- Exsitu320   5.6.23 Customization – Updating PD/WD for ATA31 - Complexity: High- Exsitu 323   5.6.24 Further Requirements for HWU_01 to HWU_23 328   5.6.25 Validation and Verification requirements 328   5.6.26 Purchaser enabled products and specific means 328   5.6.27 Forecast quantity and lead-time per work unit 328   5.7 AIOEYC- Aircraft Controls 330   5.7.1    Support to package development- Flight Controls (Medium Complexity) 330   5.7.2 Further Requirements for 5.7.1 335   5.7.3 Validation and Verification requirements 335   5.7.4 Purchaser enabled products and specific means 335   5.7.5 Forecast quantity and lead-time per work unit 335   6 SUBCONTRACTED  ACTIVITIES  DESCRIPTION  (T&M) 336   6.1 AIOEYS - Simulation platforms & frameworks 336   6.1.1 Support to simulation platforms 336   6.1.2 Support to Simulation Frameworks 340   6.1.3 Further Requirements for 6.1.1 and 6.1.2 345   6.1.4 Validation and Verification requirements 345   6.1.5 Forecast quantity per deliverable, per year 345   6.1.6 Schedule, plan, milestones 345   6.2 AIOEYM - Systems Modeling 346   6.2.1 Support to simulation model development 346   6.2.2 Support to Overall System Architecture Modelling (OSAM) Activities 350   6.2.3 Further Requirements for 6.2.1 and 6.2.2 355   None 355   6.2.4 Validation and Verification requirements 355   6.2.5 Forecast quantity per deliverable, per year 355   6.2.6 Schedule, plan, milestones: NA 355   6.3 AIOEYN - – FMS & Navigation activities 356   6.3.1 sFMS MODEL DEV WORK PACKAGE 356   6.3.2 Further Requirements for 6.3.1 360       Technical Deliverable Specification Appendix F     © AIRBUS S.A.S.  Date: 19/02/2022 AIRBUS AMBER  Reference_TDS_SP2103303  Page 9 of 432   None 360   6.3.3 Validation and Verification requirements 360   6.3.4 Forecast quantity per deliverable, per year 360   6.3.5 Schedule, plan, milestones: NA 360   6.4 AIOEYP – Physical System Architecture 361   6.4.1 Support to MSPA Activities 361   6.4.2 Technical Requests related to Elec 364   6.4.3 Further Requirements for 6.4.1 to 6.4.2 369   6.4.4 Forecast quantity per deliverable, per year 369   6.4.5 Schedule, plan, milestones:  NA 369   6.5 AIOEYI - Industrial Systems 370   6.5.1 Industrial Flow Simulation - Discrete Event Simulation & Process Engineering  370  6.5.2 Industrial Digital Mock-up and process Engineering 374   6.5.3 Industrial Model Based System Engineering & Industrial Robotics 379   6.5.4 Manufacturing Engineering Specification Management 383   6.5.5 Support to Industrial Architecture & trade studies 388   6.5.6 Further Requirements for 6.5.1 to 6.5.5 393   6.5.7 Forecast quantity per deliverable, per year 393   6.5.8 Schedule, plan, milestones: NA 393   6.6 AIOEYH –Health Engineering 394   6.6.1 Support to BITE Integration Activity 394   6.6.2 Support for Filter File Generation Activity 400   6.6.3 Support for Tool Development in Health Engineering 404   6.6.4 Support for Modelling in Health Engineering Development 407   6.6.5 Support for Data Collection Activity 412   6.6.6 Further Requirements for 6.6.1 to 6.6.5 417   6.6.7 Validation and Verification requirements 417   6.6.8 Forecast quantity per deliverable, per year 417   6.6.9 Schedule, plan, milestones: NA 417   6.7 AIOEYC- Aircraft Controls 418   6.7.1 Support to simulation model development- Flight Controls 418   6.7.2 Support to simulation model development- Hydraulics 422   6.7.3 Support to data analysis and dashboard development 427   6.7.4 Further Requirements for 6.7.1 to 6.7.3 - None 432   6.7.5 Validation and Verification requirements - None 432   6.7.6 Forecast quantity per deliverable, per year 432   6.7.7 Schedule, plan, milestones: None 432              Technical Deliverable Specification Appendix F     © AIRBUS S.A.S.  Date: 19/02/2022 AIRBUS AMBER  Reference_TDS_SP2103303  Page 10 of 432   1 SUBCONTRACTED ACTIVITIES DESCRIPTION   The subcontracting perimeter encompasses support to the Simulation and Physical System  department activities  in terms of fulfilling Work-units, Work-packages, or Skilled Resource  provisions in Work-progress mode. Various groups in S&PS departments are:  \\uf0b7 Physical Systems Architecture (AIOEYP)  \\uf0b7 Aircraft Controls (AIOEYC)  \\uf0b7 Navigation & Communication (AIOEYN)  \\uf0b7 Industrial Systems (AIOEYI)  \\uf0b7 Simulation Platforms & Frameworks (AIOEYS)  \\uf0b7 Maintenance (AIOEYH)  \\uf0b7 Systems Modeling (AIOEYM)  2 RESPONSIBILITY EXERCISED ON DELIVERABLES AND CRITICALITY OF THE ACTIVITY  2.1 Design Organisation Approval (DOA) Requirements  Not Applicable    2.2 Targeted Responsibility/Signatory Exercised on Deliverables     The paragraph and table below is ONLY Applicable to: AIRBUS COMMERCIAL AIRCRAFT  The maximum Service Provider’s targeted responsibility / signatory exercised on deliverables is as follows:     Deliverables are  non A/C related  Deliverables are A/C related    Authoring  refer to M1264  Controlled DOA Signature  refer to A1020/M1020   Targeted  responsibility /  signatory level  N/A N/A Authoring  Signature Approver  Signature Authorizer  Signature Airworthiness Signature  ☐ ☒ ☐ ☐ ☐ ☐   The activity is  not DOA related The activity is DOA related  Table 2-1. Targeted responsibility / signatory exercised on deliverables    2.3 Criticality of the deliverables    The paragraph and table below is ONLY Applicable to: AIRBUS COMMERCIAL AIRCRAFT        Technical Deliverable Specification Appendix F     © AIRBUS S.A.S.  Date: 19/02/2022 AIRBUS AMBER  Reference_TDS_SP2103303  Page 11 of 432   The highest criticality and potential consequence on aircraft navigability / airworthiness of a defect from a  deliverable of this Technical Specification is as follows:    Criticality of the deliverables Applicability  Hazardous – Catastrophic  (Unsafe conditions / Class 1 parts / DAL A, DAL B ...) ☐  Major  (Class 2 parts / DAL C...) ☐  Minor  (Reliability / Class 3 parts / DAL D) ☐  Below minor  (Class 4 parts / DAL E ...) ☐  None ☐  Table 2-2. Highest criticality of the deliverables  PROJECT MANAGEMENT   3.1 Steering and Review Meetings  The following regular meetings have to be considered by the Service Provider:  Meeting Objectives Participants Frequency   /  deadline Service  Provider  lead-time  to provide  the MoM  Purchaser  lead-time to  validate the  MoM Location  KoM:  Kick-off  Meeting Official start of the  subcontracted service.  Handover of information  and set-up of pre-defined  communication structure.  Work package  leaders or focal  points from  Purchaser &  Service Provider,  technical  representatives  once 2 Days 2 Days Online/  Offline  PRM:  Progress  Review  Meetings Please see description  below* Work package   leaders or focal  points from  Purchaser &  Service Provider,  technical  representatives  weekly 2 Days  2 Days Online/  Offline  TRM:  Technical  Review  Meetings Please see description  below ** Work package   leaders or focal  points from  Purchaser &  Service Provider,  technical  representatives monthly 2 Days  2 Days Online /  Offline      Technical Deliverable Specification Appendix F     © AIRBUS S.A.S.  Date: 19/02/2022 AIRBUS AMBER  Reference_TDS_SP2103303  Page 12 of 432       The reviews can be done either physically on Purchaser’s or Service Provider’s site, or remotely (phone or  videoconference), provided the efficiency and performance of the review is ensured.  The minutes shall be provided by the Service Provider, containing, but not limited to:  - Demonstration of meeting objectives fulfilment (reporting, statements),  - Identification of deviations,  - Record of decisions / actions agreed between the Service Provider and the Purchaser during the review.    *Project Review Meeting (PRM)   * The Project review Meeting (PRM) is at the level of the Technical Deliverable Specification and associated  catalogue and manages also middle term activities. The PRM is managed at Work-Package Leader or Head  Of level. The main objective of the PRM is to monitor technical activities from the project stand point (progress  and issues), namely:    - Consolidation of data  - Monitor project risks and find solutions with the supplier,  - Review offshore activity / in situ resources status,  - Review and validate the supplier performance (OTD & OQD)   - Review Airbus inputs data to supplier (workload visibility & clarity of requirements).    TRM issues & risks can be inputs to the PRM. The PRM is managed on Monthly or Quarterly basis (maximum).    ** The Technical Review Meeting (TRM) scope is at the level of the Work Unit per catalogue and manages  short term activities & deliverables at the Engineer or Work-Package Leader level. The TRM consists of  operational reviews and detailed technical reviews to follow-up WU deliverables. It is managed on regular  basis, can be weekly. QRM:  Quality  Review  Meeting Service Provider to report  the overall quality status  (based on its QAP,  Assessment & Audit, and  Concessions). Service Provider’s  coordinator, BoD,  quality  representatives. quarterly 2 days 5 days Online/  Offline  CRM:  Contractu al Review  Meeting Technical / Quality / S/C  Management /  Procurement. Purchaser’s buyer,  authorised Service  Provider’s  employee, s/c  manager, BoD. quarterly 5days 5 days Online/  Offline  FPM:  Final  Project  Meeting Aims at freezing the  Deliverables Acceptance  Status, reviewing lessons  learnt and best practices,  reviewing closure plan  (stop of activities, secure  IS/IT decommissioning,  secure  archiving/retention). Work package   leaders or focal  points from  Purchaser &  Service Provider,  technical  representatives  5 days after  services  completion/  release of the  last  deliverable  5 Days 5 Days Online/  Offline      Technical Deliverable Specification Appendix F     © AIRBUS S.A.S.  Date: 19/02/2022 AIRBUS AMBER  Reference_TDS_SP2103303  Page 13 of 432   3.2 General Requirements Addendum  4 WORK PACKAGE ENABLING DATA  Free-text/WU description Content    In Sections 5 and 6, the service provider will be informed regarding:  - Nominated Purchaser contacts  - Description of the activities. Service details and types to be subcontracted  - List of expected deliverables with their description, acceptance criteria, Inputs, tools and documents  requested, KPI’s, and planning including intermediate milestones expected if needed.  - Quantity & Volumes for information  - Level of security qualification  - Project operational plan (Reviews, schedule,)    Reminder: On-site Criteria     The subcontracting activities can be performed on Airbus premises only if:  - Required specific tools are not available in the extended enterprise tool list  - Restrictive laws governing military programmes or processing of specific data/access  - Work has to be performed on specific areas such as in aircraft, helicopters, or test benches  - Work with hardware available on site only  - Restrictive criteria due to specific innovation programs / confidential projects      Technical Deliverable Description Appendix F       © AIRBUS S.A.S.  Date: 19/02/2022 AIRBUS AMBER  Reference_TDS_SP2103303  Page 14 of 432     5 SUBCONTRACTED  ACTIVITIES  DESCRIPTION  (WORK UNIT)  5.1 AIOEYS - Simulation platforms & Frameworks  The sections 5.1.1 to 5.1.8 describes the Work units to be executed for platforms and frameworks activities  5.1.1 MODEL INTEGRATION - MINOR    Nominated Purchaser Contacts   Work Package Focal Point: Pankaj BHUTANI,  HOG-AIOEYS, Airbus I ndia. pankaj.bhutani@airbus.com   Batch No.  SWU_01    Description   The Supplier shall provide support to AIOEYS in order to develop the software integration Minor work unit for platform applic ation under the responsibility of Airbus India Simulation  Product Engineer (SPE).  The following steps of activities need to be completed for the Model Integration Minor Work Unit of the Simulation application development as per the AIM.  ● SCD Update/Verification for model to be integrated  ● Check availability of model and related inputs in the model repository  ● Collect the Model inputs like MICDs, Model library, data files, documentation etc. from Model repository  ● Perform the MICD diff analysis.  ● Perform the connections to be added/modified for the model to be integrated.  ● Perform the model integration.  ● Deliver the working simulation application into the filer.  ● Perform the simulation application test.    Complexity Criteria FTR Criteria Lead Time/ delivery Date  Minor Platform specific All the CRs should be correctly implemented. Acceptance criteria are  zero issues and no rejected delivery. T0 + 1 day or as defined during  KOM      Complexity Criteria FTR Criteria Lead Time/ delivery Date      Technical Deliverable Description Appendix F       © AIRBUS S.A.S.  Date: 19/02/2022 AIRBUS AMBER  Reference_TDS_SP2103303  Page 15 of 432   Minor VSIM-I: up to 2  models or packages  with no interface  changes/ up to 100  connection changes All the CRs should be correctly implemented. Acceptance criterions   are zero issues , no regression, validated & delivered in both BLR &  TLS platforms (as applicable) T0 + 1 day or as defined during  KOM    Complexity Criteria FTR Criteria Lead Time/ delivery Date  Minor SP AC0: up to 5  models and up to 100  connection changes All the CRs should be correctly implemented. Acceptance criteria are  zero issues and no rejected delivery. T0 + 1 day or as defined during  KOM    Complexity Criteria FTR Criteria Lead Time/ delivery Date  Minor VSIM-D validation  activities, like TD/TF  execution.  Also suitable for  CPSP/DGWP/ALTO  frameworks update. Observations during validation shall be properly captured.  All frameworks shall be correctly implemented. Acceptance criteria are  zero issues and no rejected delivery. T0 + 1 day or as defined during  KOM    ● NOTE: T0 is the start date of this WORK UNIT, refer to the KOM definition in the section above.  ● Major issue is defined as which will impact the AIOEYS delivery date or the quality of the delivery to the end customer. And the delivery would be marked as REJECTED  DELIVERY from Airbus India. The re-work in this case needs to be done in 1 day and rework effort/any effort after the agreed delivery date (refer section above) cannot be billed  to Airbus India.  ● Minor issues are defined as which can be fixed without any impact on delivery date and delivery quality from AIOEYS to the end customer. The re-work in this case needs to be  done in 4 hours and rework effort/any effort after agreed delivery date (refer section above) cannot be billed to Airbus India.  ● The decision to classify the issue as minor or major is at the discretion of AIOEYS SPE/SSPE.  ● The table below indicates the change that could happen after input frozen window :  Complexity Criteria Number of Changes Input Frozen window  Minor Number of CRs  <=2 T0 + 1  Change : New modification CR which is not indicated in previous CRs  or modification or update of current CR    Assumptions:  ● The Integration Manual is the master of the process & can change for improvements. Process steps must be bound to this document.   ● The time duration for any step is dependent on the AIM & can change during configuration. Intimation must be given when it changes & accordingly actions must be taken from  the supplier to adhere to it.  ● CR refers to any change request like Jira, DM, FT, etc.    General Acceptance Criteria      Technical Deliverable Description Appendix F       © AIRBUS S.A.S.  Date: 19/02/2022 AIRBUS AMBER  Reference_TDS_SP2103303  Page 16 of 432   The Service Provider shall deliver under the following criteria’s expectations to ensure their acceptance:   ● Compliance to specific process, method, technical referential, format  ● Usage of templates  ● Delivered on-time and on-quality  ● Comprehensive description of the work performed  ● Technical quality  ● Completeness   ● Correctness   ● Technical agreement by Purchaser specialist   ● Open points, deviations identified   ● Changes identified   ● Integration of proof-reading sheets, review minutes with closed comments   ● Traceability in accordance with applicable referential    General Requirements  DOA related? No    Security Classifications? Yes    Export Control restrictions and licenses:  Yes  Export Control restrictions are applicable, and will be communicated through email by the Group manager to the Subcontracting Manager.  ■ The tools used for the development cannot be off-shored, so the activity has to be performed on-site  ■ In case of WFH the activities to be executed by connecting to airbus network / infrastructure    Language Requirements : English  Location of Work: Combined  The foreseen locations to perform, entirely or partly, the activity is Bangalore, India.    Rationales for on-site or combined activity:  ◻ Aircraft access |  ◻ Tool access |  ◻ Simulators & Test bench access    ◻ Data restricted to in-situ use only | ◻ Plateau (duration…)    Airbus Group Inputs/Purchaser Furnished Material  - Requirements and specifications  - Geometries  - Data  - Models       Technical Deliverable Description Appendix F       © AIRBUS S.A.S.  Date: 19/02/2022 AIRBUS AMBER  Reference_TDS_SP2103303  Page 17 of 432   Description of the input   (input ID: description)  Provided on  (date/milestone)  Provided by (Airbus  technical focal  point/Siglum)  Exchange mode     Input_ID1: SCD T0 SPE Mail/SVN/Filer  Input_ID2: Models, script, VCOM file,  configuration files, Packages Date agreed during  KOM SPE Mail/Filer/AMDB/ATPRO  Input_ID3: Previous and new application path  in filer/Configuration management tool T0 SPE Mail/SVN  Input_ID4 : Application configuration in  Configuration management tool Date agreed during  KOM SPE Mail  Input_ID5: FTs/DMs/CRs to be treated in the  concerned Release Date agreed during  KOM SPE Mail/Jira   Input_ID6: Delivery location T0 SPE Mail/SVN   Input_ID7 : Configuration Management of  integration models Date agreed during  KOM SPE Mail/SVN   Input_ID8: Rebounds from the end customer if  any When applicable  SPE Mail/SVN     Areas of Application  Main Applications:  SA, LR, A380, A350 (across multiple ATA Chapters)    Batch No. Deliverable description & enabling data Signatory  level Quantity/Volume* per  Task Group  Activity shall be done as per …  Delivery  date /  lead-time KPI P&M and  Technical  Referenti al Tools /  formats Release criteria      SWU_01    (Model Integration  – Minor)   5.1.1_IN  5.1.1_EX Del_IDz1: Detailed analysis of  FTs/DMs/CRs  N/A  Refer to Section 5.1.12  Py1 MS word No inputs is requested  after agreed date  T0 + 1  day or  agreed  during  the KOM  FTR > 98%   OTD > 97%  Del_IDz2: Status of FTs/DMs/CRs and  progress N/A MS Excel Correct Status of DM   Del_IDz3: MICD diff analysis and  connections update for the application.  N/A NA Application launch is  OK and integration test  is OK with no  regression      Technical Deliverable Description Appendix F       © AIRBUS S.A.S.  Date: 19/02/2022 AIRBUS AMBER  Reference_TDS_SP2103303  Page 18 of 432   Del_IDz4: All modification mentioned in  FTs/DMs/CRs agreed during KOM  should be completed  N/A  All DMs modification  is working correctly  Del_IDz5: Launcher of all platforms for  all releases  N/A NA No report error during  launch  Del_IDz6: Application & integration  models configuration management files  are updated  N/A Configuration  Management  Configuration delivery  without errors.  Del_IDz7: Application updates in the  simulation portals and connection  publish. N/A Portals Configuration uploads  without any error and  visible in portals  Del_IDz8: Change/Defect management  update – JIRA or any other mentioned in  AIM. N/A Jira All CRs update with  modification  information and status  / verification updated  correctly  Del_IDz9: Report of successful  launching and list of all modified files for  the application.  N/A MS Excel Report consistent with  the application file  changes  Del_IDz10: Checklist/peer review sheet  N/A MS Excel All the points of the  checklist are OK    P&M and Technical Referential   ▪ Py1 = Adherence to A5456, A5457 for model handling or Change Request initiating   ▪     References: Delivery checklists, Process training documents as given in inputs   Tools and formats   Ty1 = sigma, mexico, mi-box, eshowflow, etc   Release Criteria   ▪ For each deliverable of this work unit, the release criteria is defined in the above table or will be discussed during the KOM.   KPI   𝑂𝑛 𝑇𝑖𝑚𝑒 𝐷𝑒𝑙𝑖𝑣𝑒𝑟𝑦  (𝑂𝑇𝐷)=\\u0be1௨\\u0be0\\u0bd5\\u0bd8\\u0be5  \\u0be2\\u0bd9 ௗ\\u0bd8\\u0bdf\\u0bdc௩\\u0bd8\\u0be5\\u0bdc\\u0bd8௦  \\u0be3\\u0be5\\u0be2௩\\u0bdcௗ\\u0bd8ௗ   ைேି்ூொ \\u0bd5௬ ௧\\u0bdb\\u0bd8 ௦௨\\u0be3\\u0be3\\u0bdf\\u0bdc\\u0bd8\\u0be5  \\u0bdc\\u0be1 ௧\\u0bdb\\u0bd8 \\u0be3\\u0bd8\\u0be5\\u0bdc\\u0be2ௗ ௧\\u0be2௧\\u0bd4\\u0bdf \\u0be1௨\\u0be0\\u0bd5\\u0bd8\\u0be5  \\u0be2\\u0bd9 ௗ\\u0bd8\\u0bdf\\u0bdc௩\\u0bd8\\u0be5\\u0bdc\\u0bd8௦  \\u0be3\\u0be5\\u0be2௩\\u0bdcௗ\\u0bd8ௗ  \\u0bd5௬ ௧\\u0bdb\\u0bd8 ௦௨\\u0be3\\u0be3\\u0bdf\\u0bdc\\u0bd8\\u0be5  \\u0bdc\\u0be1 ௧\\u0bdb\\u0bd8 \\u0be3\\u0bd8\\u0be5\\u0bdc\\u0be2ௗ 𝑥 100      Technical Deliverable Description Appendix F       © AIRBUS S.A.S.  Date: 19/02/2022 AIRBUS AMBER  Reference_TDS_SP2103303  Page 19 of 432      𝑂𝑛 𝑄𝑢𝑎𝑙𝑖𝑡𝑦 𝐷𝑒𝑙𝑖𝑣𝑒𝑟𝑦  (𝑂𝑄𝐷)=\\u0be1௨\\u0be0\\u0bd5\\u0bd8\\u0be5  \\u0be2\\u0bd9 ௗ\\u0bd8\\u0bdf\\u0bdc௩\\u0bd8\\u0be5\\u0bdc\\u0bd8௦  \\u0bd4\\u0bd6\\u0bd6\\u0bd8\\u0be3௧\\u0bd8ௗ  \\u0bd5௬ \\u0bba\\u0bdc\\u0be5\\u0bd5௨௦ \\u0bdc\\u0be1 ௧\\u0bdb\\u0bd8 \\u0be3\\u0bd8\\u0be5\\u0bdc\\u0be2ௗ ௧\\u0be2௧\\u0bd4\\u0bdf \\u0be1௨\\u0be0\\u0bd5\\u0bd8\\u0be5  ௗ\\u0bd8\\u0bdf\\u0bdc௩\\u0bd8\\u0be5\\u0bdc\\u0bd8௦  \\u0be5\\u0bd8௩\\u0bdc\\u0bd8௪\\u0bd8ௗ  \\u0bd5௬ \\u0bba\\u0bdc\\u0be5\\u0bd5௨௦ \\u0bdc\\u0be1 ௧\\u0bdb\\u0bd8 \\u0be3\\u0bd8\\u0be5\\u0bdc\\u0be2ௗ 𝑥 100    OTD and OQD are expressed in percentage (%).    Please refer to UG1501913, UG1501941 for more information    Note: *In case of Work Unit item definition column “quantity” is only a forecast and not contractually binding.  The structure of the Work Units definition shall be represented in the technical and commercial offer from the Service Provider!   5.1.2 MODEL INTEGRATION - MEDIUM  Nominated Purchaser Contacts   Work Package Focal Point: Pankaj BHUTANI,  HOG-AIOEYS, Airbus India. pankaj.bhutani@airbus.com   Batch No.  SWU_02  Description   The Supplier shall provide support to AIOEYS in order to develop the software integration Medium work unit for platforms application under the responsibility of Airbus India the  Simulation Product Engineer (SPE).  The following steps of activities need to be completed for the Model Integration Medium Work Unit of the Simulation application development as pe r the AIM.   SCD Verification for model to be integrated  Check availability of model and related inputs in the model repository  Collect the Model inputs like MICDs, Model library and documentation from Model repository  Perform the MICD diff analysis.  Perform the connections to be added/modified for the model to be integrated.  Perform the model integration.  Deliver the working simulation application into the filer.  Perform the simulation application test.    Complexity Criteria FTR Criteria Lead Time/ delivery Date  Medium Platform specific All the CRs should be correctly implemented. Acceptance criteria are  zero issues and no rejected delivery. T0 + 3 day or as defined during  KOM    Complexity Criteria FTR Criteria Lead Time/ delivery Date  Medium VSIM-I up to 5  models or packages  with no interface All the CRs should be correctly implemented. Acceptance criteria are  zero issues , no regression, validated & delivered in both BLR & TLS  platforms (as applicable) T0 + 3 day or as defined during  KOM      Technical Deliverable Description Appendix F       © AIRBUS S.A.S.  Date: 19/02/2022 AIRBUS AMBER  Reference_TDS_SP2103303  Page 20 of 432   changes/ up to 400  connection changes      Complexity Criteria FTR Criteria Lead Time/ delivery Date  Medium SP AC0 up to 9  models and up to 300  connection changes All the CRs should be correctly implemented. Acceptance criteria are  zero issues and no rejected delivery. T0 + 3 day or as defined during  KOM    Complexity Criteria FTR Criteria Lead Time/ delivery Date  Medium VSIM-D: around 5  simple models or  PRIM / ENG package  updates All the models shall be correctly integrated. Acceptance criteria are  zero issues and no rejected delivery. T0 + 3 day or as defined during  KOM    NOTE: T0 is the start date of this WORK UNIT, refer KOM definition  in the section above.  Major issue is defined as which will impact the AIOEYS delivery date or the quality of the delivery to end customer. And the delivery would be marked as REJECTED DELIVERY from  Airbus India. The re-work in this case needs to be done in 1 day and rework effort/any effort after agreed delivery date (refer section above) cannot be billed to Airbus India.  Minor issue is defined as which can be fixed without any impact in delivery date and delivery quality from AIOEYS to end customer. The re-work in this case needs to be done in 4 hours  and rework effort/any effort after agreed delivery date (refer section above) cannot be billed to Airbus India.    The decision to classify the issue as minor or major is at the discretion of AIOEYS SPE/SSPE.  The below table indicates the change that could happen after input frozen window :  Complexity Criteria Number of Changes Input Frozen window  Medium Number of CRs  <=5 T0 + 2   Change : New modification CR which is not indicated in previous CRs  or modification or update of current CR    General Acceptance Criteria  The Service Provider shall deliver under the following criteria’s expectations to ensure their acceptance:  ● Compliance to specific process, method, technical referential, format  ● Usage of templates  ● Delivered on-time and on-quality  ● Comprehensive description of the work performed  ● Technical quality  ● Completeness   ● Correctness   ● Technical agreement by Purchaser specialist   ● Open points, deviations identified       Technical Deliverable Description Appendix F       © AIRBUS S.A.S.  Date: 19/02/2022 AIRBUS AMBER  Reference_TDS_SP2103303  Page 21 of 432   ● Changes identified   ● Integration of proof-reading sheets, review minutes with closed comments   ● Traceability in accordance with applicable referential    General Requirements  DOA related? No    Security Classifications? Yes    Export Control restrictions and licenses:  Yes  Export Control restrictions are applicable, and will be communicated through email by the Group manager to the Subcontracting Manager.  ■ The tools used for the development cannot be off-shored, so the activity has to be performed on-site  ■ In case of WFH the activities to be executed by connecting to airbus network / infrastructure    Language Requirements : English  Location of Work: Combined  The foreseen locations to perform, entirely or partly, the activity is Bangalore, India.    Rationales for on-site or combined activity:  ◻ Aircraft access |  ◻ Tool access |  ◻ Simulators & Test bench access    ◻ Data restricted to in-situ use only | ◻ Plateau (duration…)     Airbus Group Inputs/Purchaser Furnished Material  - Requirements and specifications  - Geometries  - Data  - Models   Description of the input   (input ID: description)  Provided on   (date/milestone)  Provided by (Airbus  technical focal  point/Siglum)  Exchange mode     Input_ID1: SCD T0 SPE Mail/SVN  Input_ID2: MICD/Libraries/VCOM/Config  files/Packages KOM SPE Artifactory/AMDB/Mail/JIRA/Filer/SVN  Input_ID3: CR’s List / List of Connections (.lvi)  KOM SPE JIRA      Technical Deliverable Description Appendix F       © AIRBUS S.A.S.  Date: 19/02/2022 AIRBUS AMBER  Reference_TDS_SP2103303  Page 22 of 432   Input_ID4 : Application/ALTO path  T0 SPE filer   Input_ID5 : Validation Files/TR’s  T0/KOM SPE Filer/SVN  Input_ID6: Delivery Path T0 SPE Filer  Input_ID7: Configuration Management of  integration models KOM SPE Mail/SVN  Input_ID8: SR’s if raised for support post  delivery Need Basis  SPE JIRA/Mail    Areas of Application  Main Applications:  SA/LR/A350/A380    Batch No. Deliverable description & enabling data Signatory level  Quantity/Volu me* per Task  Group  Activity shall be done as per …  Delivery date  /lead-time  KPI P&M and  Technical  Referential Tools /  formats Release criteria      SWU_02    (Model Integration  - Medium)       5.1.2_IN  5.1.2_EX Del_IDz1: Detailed analysis of  FTs/DMs/CRs  N/A  Refer to Section  5.1.12 Py1 MS  word No inputs is requested after  agreed date  T0 + 3 days  or agreed  during the  KOM FTR > 98%   OTD > 97%  Del_IDz2: Status of FTs/DMs/CRs and  progress N/A MS  Excel Correct Status of DM  Del_IDz3: MICD diff analysis and  connections update for the application.  N/A NA Application launch is OK  and integration test is OK  with no regression  Del_IDz4: All modification mentioned in  FTs/DMs/CRs agreed during KOM  should be completed  N/A  All DMs modification is  working correctly  Del_IDz5: Launcher of all platforms for  all releases  N/A NA No report error during  launch  Del_IDz6: Application & integration  models configuration management files  are updated  N/A Configu ration  Manage ment Configuration delivery  without errors.      Technical Deliverable Description Appendix F       © AIRBUS S.A.S.  Date: 19/02/2022 AIRBUS AMBER  Reference_TDS_SP2103303  Page 23 of 432   Del_IDz7: Application updates in the  simulation portals and connection  publish. N/A Portals Configuration uploads  without any error and  visible in portals  Del_IDz8: Change/Defect management  update – JIRA or any other mentioned in  AIM. N/A Jira All CRs update with  modification information  and status / verification  updated correctly  Del_IDz9: Report of successful launching  and list of all modified files for the  application.  N/A MS  Excel Report consistent with the  application file changes  Del_IDz10: Checklist/peer review sheet  N/A MS  Excel All the points of the  checklist are OK    P&M and Technical Referential     Py1: A5456, A5457 for model handling or Change Request initiating     References: Delivery checklists, Process training documents( UG1501913, UG1501941 ) as given in inputs  Tools and formats   Ty1 = sigma, mexico, mi-box, eshowflow, etc   Release Criteria   ▪ For each deliverable of this work unit, the release criteria is defined in the above table or will be discussed during the KOM.   KPI   𝑂𝑛 𝑇𝑖𝑚𝑒 𝐷𝑒𝑙𝑖𝑣𝑒𝑟𝑦  (𝑂𝑇𝐷)=\\u0be1௨\\u0be0\\u0bd5\\u0bd8\\u0be5  \\u0be2\\u0bd9 ௗ\\u0bd8\\u0bdf\\u0bdc௩\\u0bd8\\u0be5\\u0bdc\\u0bd8௦  \\u0be3\\u0be5\\u0be2௩\\u0bdcௗ\\u0bd8ௗ   ைேି்ூொ \\u0bd5௬ ௧\\u0bdb\\u0bd8 ௦௨\\u0be3\\u0be3\\u0bdf\\u0bdc\\u0bd8\\u0be5  \\u0bdc\\u0be1 ௧\\u0bdb\\u0bd8 \\u0be3\\u0bd8\\u0be5\\u0bdc\\u0be2ௗ ௧\\u0be2௧\\u0bd4\\u0bdf \\u0be1௨\\u0be0\\u0bd5\\u0bd8\\u0be5  \\u0be2\\u0bd9 ௗ\\u0bd8\\u0bdf\\u0bdc௩\\u0bd8\\u0be5\\u0bdc\\u0bd8௦  \\u0be3\\u0be5\\u0be2௩\\u0bdcௗ\\u0bd8ௗ  \\u0bd5௬ ௧\\u0bdb\\u0bd8 ௦௨\\u0be3\\u0be3\\u0bdf\\u0bdc\\u0bd8\\u0be5  \\u0bdc\\u0be1 ௧\\u0bdb\\u0bd8 \\u0be3\\u0bd8\\u0be5\\u0bdc\\u0be2ௗ 𝑥 100     𝑂𝑛 𝑄𝑢𝑎𝑙𝑖𝑡𝑦 𝐷𝑒𝑙𝑖𝑣𝑒𝑟𝑦 (𝑂𝑄𝐷) =\\u0be1௨\\u0be0\\u0bd5\\u0bd8\\u0be5  \\u0be2\\u0bd9 ௗ\\u0bd8\\u0bdf\\u0bdc௩\\u0bd8\\u0be5\\u0bdc\\u0bd8௦  \\u0bd4\\u0bd6\\u0bd6\\u0bd8\\u0be3௧\\u0bd8ௗ  \\u0bd5௬ \\u0bba\\u0bdc\\u0be5\\u0bd5௨௦ \\u0bdc\\u0be1 ௧\\u0bdb\\u0bd8 \\u0be3\\u0bd8\\u0be5\\u0bdc\\u0be2ௗ ௧\\u0be2௧\\u0bd4\\u0bdf \\u0be1௨\\u0be0\\u0bd5\\u0bd8\\u0be5  ௗ\\u0bd8\\u0bdf\\u0bdc௩\\u0bd8\\u0be5\\u0bdc\\u0bd8௦  \\u0be5\\u0bd8௩\\u0bdc\\u0bd8௪\\u0bd8ௗ  \\u0bd5௬ \\u0bba\\u0bdc\\u0be5\\u0bd5௨௦ \\u0bdc\\u0be1 ௧\\u0bdb\\u0bd8 \\u0be3\\u0bd8\\u0be5\\u0bdc\\u0be2ௗ 𝑥 100    OTD and OQD are expressed in percentage (%).    Please refer to UG1501913, UG1501941 for more information    Note: *In case of Work Unit item definition column “quantity” is only a forecast and not contractually binding.  The structure of the Work Units definition shall be represented in the technical and commercial offer from the Service Provider!       Technical Deliverable Description Appendix F       © AIRBUS S.A.S.  Date: 19/02/2022 AIRBUS AMBER  Reference_TDS_SP2103303  Page 24 of 432   5.1.3 MODEL INTEGRATION - HIGH  Nominated Purchaser Contacts   Work Package Focal Point: Pankaj BHUTANI,  HOG-AIOEYS, Airbus India. pankaj.bhutani@airbus.com   Batch No.  SWU_03  Description   The Supplier shall provide support to AIOEYS in order to develop the Frameworks integration work unit for platforms applicati on under the responsibility of Airbus India  the Simulation Product Engineer (SPE).    The following steps of activities need to be completed for the Frameworks integration Work Unit of the Simulation application development as per the AIM.  SCD Update/Verification for frameworks to be integrated.  Check availability of frameworks and related inputs.  Collect the documentation for frameworks from frameworks repository.  Understand the changes and features of the frameworks to be integrated.  Perform the Frameworks integration.  Deliver the working simulation application into the filer.  Perform the simulation application test.      Complexity Criteria FTR Criteria Lead Time/ delivery Date  Major Platform specific All the CRs should be correctly implemented. Acceptance criteria are  zero issues and no rejected delivery. T0 + 5 day or as defined during  KOM    Complexity Criteria FTR Criteria Lead Time/ delivery Date  Major VSIM_I more than  400 connection  changes/new  model/package  integration All the CRs should be correctly implemented. Acceptance criteria are  zero issues , no regression, validated & delivered in both BLR & TLS  platforms (as applicable) T0 + 5 day or as defined during  KOM    Complexity Criteria FTR Criteria Lead Time/ delivery Date  Major SP AC0 Up to 12  models and up to 450  connection changes All the CRs should be correctly implemented. Acceptance criteria are  zero issues and no rejected delivery. T0 + 5 day or as defined during  KOM        Technical Deliverable Description Appendix F       © AIRBUS S.A.S.  Date: 19/02/2022 AIRBUS AMBER  Reference_TDS_SP2103303  Page 25 of 432   Complexity Criteria FTR Criteria Lead Time/ delivery Date  Major VSIM-D: around  complex 5 models All the models shall be correctly integrated. Acceptance criteria are  zero issues and no rejected delivery. T0 + 5 day or as defined during  KOM    NOTE: T0 is the start date of this WORK UNIT, refer to the KOM definition in the section above.   Major issue is defined as which will impact the AIOEYS delivery date or the quality of the delivery to the end customer. And the delivery would be marked as  REJECTED DELIVERY from Airbus India. The re-work in this case needs to be done in 1 day and rework effort/any effort after the agreed delivery date (refer section  above) cannot be billed to Airbus India.  Minor issues are defined as which can be fixed without any impact on delivery date and delivery quality from AIOEYS to the end customer. The re-work in this case  needs to be done in 4 hours and rework effort/any effort after agreed delivery date (refer section above) cannot be billed to Airbus India.    The decision to classify the issue as minor or major is at the discretion of AIOEYS SPE/SSPE.    The table below indicates the change that could happen after input frozen window :  Complexity Criteria Number of Changes Input Frozen window  Major Number of CRs  <=10 T0 + 4   Change : New modification CR which is not indicated in previous CRs  or modification or update of current CR  General Acceptance Criteria  The Service Provider shall deliver under the following criteria’s expectations to ensure their acceptance:   ● Compliance to specific process, method, technical referential, format  ● Usage of templates  ● Delivered on-time and on-quality  ● Comprehensive description of the work performed  ● Technical quality  ● Completeness   ● Correctness   ● Technical agreement by Purchaser specialist   ● Open points, deviations identified   ● Changes identified   ● Integration of proof-reading sheets, review minutes with closed comments   ● Traceability in accordance with applicable referential  General Requirements  DOA related? No    Security Classifications? Yes          Technical Deliverable Description Appendix F       © AIRBUS S.A.S.  Date: 19/02/2022 AIRBUS AMBER  Reference_TDS_SP2103303  Page 26 of 432   Export Control restrictions and licenses:  Yes  Export Control restrictions are applicable, and will be communicated through email by the Group manager to the Subcontracting Manager.  ■ The tools used for the development cannot be off-shored, so the activity has to be performed on-site  ■ In case of WFH the activities to be executed by connecting to airbus network / infrastructure    Language Requirements : English  Location of Work: Combined  The foreseen locations to perform, entirely or partly, the activity is Bangalore, India.    Rationales for on-site or combined activity:  ◻ Aircraft access |  ◻ Tool access |  ◻ Simulators & Test bench access    ◻ Data restricted to in-situ use only |  ◻ Plateau (duration…)     Airbus Group Inputs/Purchaser Furnished Material  - Requirements and specifications  - Geometries  - Data  - Models   Description of the input   (input ID: description)  Provided on   (date/milestone)  Provided by (Airbus technical focal point/Siglum)  Exchange mode     Input_ID1: SCD T0 SPE Mail/SVN/Filer  Input_ID2: Frameworks details, scripts,  configuration files Date agreed during  KOM SPE Mail/Filer/AMDB/ATPRO  Input_ID3: Previous and new application path  in filer/Configuration management tool T0 SPE Mail/SVN  Input_ID4: Application configuration in  Configuration management tool Date agreed during  KOM SPE Mail   Input_ID5: FTs/DMs/CRs to be treated in the  concerned Release Date agreed during  KOM SPE Mail/Jira   Input_ID6: Delivery location T0 SPE Mail/SVN   Input_ID7: Rebounds from the end customer if  any Date agreed during  KOM SPE Mail/SVN    Areas of Application      Technical Deliverable Description Appendix F       © AIRBUS S.A.S.  Date: 19/02/2022 AIRBUS AMBER  Reference_TDS_SP2103303  Page 27 of 432   Main Applications:  SA, LR, A380, A350 (across multiple ATA Chapters)     Batch No. Deliverable description & enabling data Signatory level  Quantity/Volum e* per Task  Group  Activity shall be done as per …  Delivery  date/ lead- time KPI P&M and  Technical  Referentia l Tools /  formats Release criteria      SWU_03    (Model Integration  - High)  5.1.3_IN  5.1.3_EX Del_IDz1: Detailed analysis of  FTs/DMs/CRs  N/A  Refer to Section  5.1.12 Py1 MS word  No inputs is requested after  agreed date  T0 + 5 day  or agreed  during the  KOM FTR > 98%   OTD > 97%  Del_IDz2: Status of FTs/DMs/CRs and  progress N/A MS Excel  Correct Status of DM  Del_IDz3: All modification mentioned in  FTs/DMs/CRs agreed during KOM should  be completed  N/A  All DMs modification is  working correctly  Del_IDz4: Launcher of all platforms for all  releases N/A NA No report error during  launch  Del_IDz5: Application configuration  management files are updated  N/A Configurat ion  Manageme nt Configuration delivery  without errors.  Del_IDz6: Application updates in the  simulation portals and connection publish.  N/A Portals Configuration uploads  without any error and visible  in portals  Del_IDz7: Change/Defect management  update – JIRA or any other mentioned in  AIM N/A Jira All CRs update with  modification information  and status / verification  updated correctly  Del_IDz8: Report of successful launching  and list of all modified files for the  application  N/A MS Excel  Report consistent with the  application file changes  Del_IDz9: Checklist/peer review sheet  N/A MS Excel  All the points of the  checklist are OK    P&M and Technical Referential   ▪ Py1 = Adherence to A5456, A5457 for model handling or Change Request initiating       Technical Deliverable Description Appendix F       © AIRBUS S.A.S.  Date: 19/02/2022 AIRBUS AMBER  Reference_TDS_SP2103303  Page 28 of 432   ▪ References: Delivery checklists, Process training documents( UG1501913, UG1501941 ) as given in inputs   Tools and formats   Ty1 = sigma, mexico, mi -box, eshowflow, etc   Release Criteria   ▪ For each deliverable of this work unit, the release criteria is defined in the above table or will be discussed during the KOM.   KPI   𝑂𝑛 𝑇𝑖𝑚𝑒 𝐷𝑒𝑙𝑖𝑣𝑒𝑟𝑦  (𝑂𝑇𝐷)=\\u0be1௨\\u0be0\\u0bd5\\u0bd8\\u0be5  \\u0be2\\u0bd9 ௗ\\u0bd8\\u0bdf\\u0bdc௩\\u0bd8\\u0be5\\u0bdc\\u0bd8௦  \\u0be3\\u0be5\\u0be2௩\\u0bdcௗ\\u0bd8ௗ   ைேି்ூொ \\u0bd5௬ ௧\\u0bdb\\u0bd8 ௦௨\\u0be3\\u0be3\\u0bdf\\u0bdc\\u0bd8\\u0be5  \\u0bdc\\u0be1 ௧\\u0bdb\\u0bd8 \\u0be3\\u0bd8\\u0be5\\u0bdc\\u0be2ௗ ௧\\u0be2௧\\u0bd4\\u0bdf \\u0be1௨\\u0be0\\u0bd5\\u0bd8\\u0be5  \\u0be2\\u0bd9 ௗ\\u0bd8\\u0bdf\\u0bdc௩\\u0bd8\\u0be5\\u0bdc\\u0bd8௦  \\u0be3\\u0be5\\u0be2௩\\u0bdcௗ\\u0bd8ௗ  \\u0bd5௬ ௧\\u0bdb\\u0bd8 ௦௨\\u0be3\\u0be3\\u0bdf\\u0bdc\\u0bd8\\u0be5  \\u0bdc\\u0be1 ௧\\u0bdb\\u0bd8 \\u0be3\\u0bd8\\u0be5\\u0bdc\\u0be2ௗ 𝑥 100     𝑂𝑛 𝑄𝑢𝑎𝑙𝑖𝑡𝑦 𝐷𝑒𝑙𝑖𝑣𝑒𝑟𝑦 (𝑂𝑄𝐷) =\\u0be1௨\\u0be0\\u0bd5\\u0bd8\\u0be5  \\u0be2\\u0bd9 ௗ\\u0bd8\\u0bdf\\u0bdc௩\\u0bd8\\u0be5\\u0bdc\\u0bd8௦  \\u0bd4\\u0bd6\\u0bd6\\u0bd8\\u0be3௧\\u0bd8ௗ  \\u0bd5௬ \\u0bba\\u0bdc\\u0be5\\u0bd5௨௦ \\u0bdc\\u0be1 ௧\\u0bdb\\u0bd8 \\u0be3\\u0bd8\\u0be5\\u0bdc\\u0be2ௗ ௧\\u0be2௧\\u0bd4\\u0bdf \\u0be1௨\\u0be0\\u0bd5\\u0bd8\\u0be5  ௗ\\u0bd8\\u0bdf\\u0bdc௩\\u0bd8\\u0be5\\u0bdc\\u0bd8௦  \\u0be5\\u0bd8௩\\u0bdc\\u0bd8௪\\u0bd8ௗ  \\u0bd5௬ \\u0bba\\u0bdc\\u0be5\\u0bd5௨௦ \\u0bdc\\u0be1 ௧\\u0bdb\\u0bd8 \\u0be3\\u0bd8\\u0be5\\u0bdc\\u0be2ௗ 𝑥 100    OTD and OQD are expressed in percentage (%).    Please refer to UG1501913, UG1501941 for more information    Note: *In case of Work Unit item definition column “quantity” is only a forecast and not contractually binding.  The structure of the Work Units definition shall be represented in the technical and commercial offer from the Service Provider!   5.1.4 PLATFORM VALIDATION     Nominated Purchaser Contacts   Work Package Focal Point: Pankaj BHUTANI,HOG -AIOEYS, Airbus India. pankaj.bhutani@airbus.com   Batch No.  SWU_04  Description   The Supplier shall provide support to AIOEYS in order to develop the Verification and Validation work unit for platforms application under the responsibility of Airbus  India the Simulation Product Engineer (SPE).    The following steps of activities need to be completed for the Verification and Validation Work Unit of the Simulation application development as per the AIM.  Performing the verification tests for each of treated CR.  Creating the report for CR verification  Performing the basic SVR check of the application and providing the report for the same. This should include the test results from a simple flight loop t est (Take off, cruise  and landing)      Technical Deliverable Description Appendix F       © AIRBUS S.A.S.  Date: 19/02/2022 AIRBUS AMBER  Reference_TDS_SP2103303  Page 29 of 432   Performing the General Tests (GT) and producing TR document.  Updating the GT document whenever required in consultation with SPE.  If any defects found during GT, corresponding CR needs to be raised in Jira (refer AIM)  The limitations, anomalies observed should be clearly recorded in the TR  Any documentation related CRs to be treated.  Rebounds from the end customer to be fixed if it is a rebound due to the work done in this work unit.  Validation must be performed in both Toulouse & Bangalore platforms (based on applicability)    The following is defined for the Verification and Validation work unit.    Criteria FTR Criteria Lead Time/ delivery Date  Test Document execution Zero issues and no rejected delivery    T0 + 2 Day    Complexity Criteria FTR Criteria Lead Time/ delivery  Date  NA Manual Validation (Frameworks specific) Proper validation of the tool as per steps  mentioned in TR should be completed. T0+2 days    NOTE: T0 is t he start date of this WORK UNIT. In case of this WU is used for Frameworks tool , the manual test plan should be executed and   the TR document must be updated. Any specificities to be discussed in KOM.    Input frozen window: Not applicable    General Acceptance Criteria  The Service Provider shall deliver under the following criteria’s expectations to ensure their acceptance:   Criteria that can be considered:  ● Compliance to specific process, method, technical referential, format  ● Usage of templates  ● Delivered on-time and on-quality  ● Comprehensive description of the work performed  ● Technical quality  ● Completeness   ● Correctness   ● Technical agreement by Purchaser specialist   ● Open points, deviations identified       Technical Deliverable Description Appendix F       © AIRBUS S.A.S.  Date: 19/02/2022 AIRBUS AMBER  Reference_TDS_SP2103303  Page 30 of 432   ● Changes identified   ● Integration of proof-reading sheets, review minutes with closed comments   ● Traceability in accordance with applicable referential  General Requirements  DOA related? No    Security Classifications? Yes    Export Control restrictions and licenses:  Yes  Export Control restrictions are applicable, and will be communicated through email by the Group manager to the Subcontracting Manager.  ■ The tools used for the development cannot be off-shored, so the activity has to be performed on-site  ■ In case of WFH the activities to be executed by connecting to airbus network / infrastructure    Language Requirements : English  Location of Work: Combined  The foreseen locations to perform, entirely or partly, the activity is Bangalore, India.    Rationales for on-site or combined activity:  ◻ Aircraft access |  ◻ Tool access |  ◻ Simulators & Test bench access    ◻ Data restricted to in-situ use only |  ◻ Plateau (duration…)       Airbus Group Inputs/Purchaser Furnished Material  - Requirements and specifications  - Geometries  - Data  - Models   Description of the input   (input ID: description)  Provided on   (date/milestone)  Provided by (Airbus  technical focal  point/Siglum)  Exchange mode     Input_ID1: Test Documents  T0 SPE(AIOEYS)  Mail/SVN   Input_ID2: Previous standard test results T0 SPE(AIOEYS) Mail/SVN  Input_ID3: Documentation CRs to be treated T0 SPE(AIOEYS)  Mail/SVN   Input_ID4: Delivery location of the documents T0 SPE(AIOEYS) Mail/SVN '"
            ],
            "application/vnd.google.colaboratory.intrinsic+json": {
              "type": "string"
            }
          },
          "metadata": {},
          "execution_count": 6
        }
      ]
    },
    {
      "cell_type": "code",
      "source": [
        "import re\n",
        "\n",
        "def get_table_of_contents(text):\n",
        "\n",
        "    start_markers = [\"TABLE OF CONTENTS\", \"table of contents\"]\n",
        "\n",
        "    toc_text = \"\"\n",
        "    found_toc = False\n",
        "    max_lines_per_page = 150\n",
        "    max_pages = 2\n",
        "    max_lines_to_check = max_lines_per_page * max_pages\n",
        "    lines_checked = 0\n",
        "    toc_topics = set()\n",
        "\n",
        "    # Regular expression to identify TOC entries\n",
        "    toc_pattern = re.compile(r'^\\d+(\\.\\d+)*\\s+[A-Za-z0-9\\s\\-\\&\\(\\)]+(\\s+\\d+)?\\s*$')\n",
        "    first_topic_pattern = re.compile(r'^\\d+\\s+[A-Za-z0-9\\s\\-\\&\\(\\)]+(\\s+\\d+)?\\s*$')\n",
        "\n",
        "    for line in text.split('\\n'):\n",
        "\n",
        "        if any(marker in line for marker in start_markers):\n",
        "            found_toc = True\n",
        "\n",
        "        if found_toc:\n",
        "\n",
        "            if toc_pattern.match(line.strip()):\n",
        "                topic = line.strip()\n",
        "                toc_text += topic + '\\n'\n",
        "                toc_topics.add(topic)\n",
        "            else:\n",
        "\n",
        "                if any(topic in line for topic in toc_topics):\n",
        "                    break\n",
        "\n",
        "                if lines_checked >= max_lines_to_check:\n",
        "                    break\n",
        "                continue\n",
        "\n",
        "            lines_checked += 1\n",
        "\n",
        "            if lines_checked >= max_lines_to_check:\n",
        "                break\n",
        "\n",
        "    return toc_text.strip()\n",
        "\n",
        "toc = get_table_of_contents(extracted_text)\n",
        "print(toc)\n"
      ],
      "metadata": {
        "colab": {
          "base_uri": "https://localhost:8080/"
        },
        "id": "wADN1zlODvw8",
        "outputId": "ce156ce0-209c-4d11-a98c-dccdb7091d4f"
      },
      "execution_count": null,
      "outputs": [
        {
          "output_type": "stream",
          "name": "stdout",
          "text": [
            "1 SUBCONTRACTED ACTIVITIES DESCRIPTION  10\n",
            "2 RESPONSIBILITY EXERCISED ON DELIVERABLES AND CRITICALITY OF THE ACTIVITY 10\n",
            "2.1 Design Organisation Approval (DOA) Requirements 10\n",
            "2.3 Criticality of the deliverables 10\n",
            "3.1 Steering and Review Meetings 11\n",
            "3.2 General Requirements Addendum 13\n",
            "4 WORK PACKAGE ENABLING DATA 13\n",
            "5 SUBCONTRACTED  ACTIVITIES  DESCRIPTION  (WORK UNIT) 14\n",
            "5.1 AIOEYS - Simulation platforms & Frameworks 14\n",
            "5.1.1 Model Integration - Minor 14\n",
            "5.1.2 Model Integration - Medium 19\n",
            "5.1.3 Model Integration - High 24\n",
            "5.1.4 Platform Validation 28\n",
            "5.1.5 Documentation 32\n",
            "5.1.6 Analysis and Implementation - Minor 36\n",
            "5.1.7 Analysis and Implementation - Medium 40\n",
            "5.1.8 Analysis and Implementation - Major 44\n",
            "5.1.10 Validation and Verification requirements 50\n",
            "5.1.11 Purchaser enabled products and specific means 50\n",
            "5.1.12 Forecast quantity and lead-time per work unit 50\n",
            "5.2 AIOEYM - Systems Modeling 51\n",
            "5.2.1 Model Development - Minor 51\n",
            "5.2.2 Model Development - Medium 55\n",
            "5.2.3 Model Development - Major 59\n",
            "5.2.4 Platform Validation for Model development 62\n",
            "5.2.5 Model Development Documentation 66\n",
            "5.2.6 Model Delivery Support 69\n",
            "5.2.7 Model Development Support 72\n",
            "5.2.8 Model Loading In SimWorks 75\n",
            "5.2.10 Validation and Verification requirements 80\n",
            "5.2.11 Purchaser enabled products and specific means 80\n",
            "5.2.12 Forecast quantity and lead-time per work unit 80\n",
            "5.3.1 Bore sighting load generation work package 81\n",
            "5.3.2   OPC PDB Work Package 84\n",
            "5.3.3 sFMS DEFINED SCOPE Work Package 88\n",
            "5.3.5 Validation and Verification requirements 91\n",
            "5.3.6 Purchaser enabled products and specific means 91\n",
            "5.3.7 Forecast quantity and lead-time per work unit 92\n",
            "5.4.1 Equipment Model Management (EMM) 92\n",
            "5.4.2 Electrical-Insitu 116\n",
            "5.4.4 Multi System Physical Architecture (MSPA) 142\n",
            "5.4.5 Electrical Installation Design Directives (EIDD) 160\n",
            "5.4.7 Validation and Verification requirements 167\n",
            "5.4.8 Purchaser enabled products and specific means 167\n",
            "5.4.9 Forecast quantity and lead-time per work unit 167\n",
            "5.5.1 Industry Flow Simulation-Discrete event simulation & Process Engineering-\n",
            "5.5.2 3DX DELMIA - Prepare Manufacturing Bill Of Material and Process View- Exsitu\n",
            "5.5.3 3DX DELMIA-create static plant Layout- Exsitu 178\n",
            "5.5.4 3DX DELMIA - 3D Flow simulations and record animations-ExSitu 182\n",
            "5.5.5 3DX DELMIA - Analyze and compare simulation scenario- Exsitu 186\n",
            "5.5.6 Export process and 3D data to VR applications- Exsitu 190\n",
            "5.5.7 Cameo modelling -1- Exsitu 194\n",
            "5.5.8 Cameo modelling -2- Exsitu 198\n",
            "5.5.9 Validate Tooling Registers-Low Volume- Exsitu 202\n",
            "5.5.10 Validate Tooling Registers-Medium Volume- Exsitu 206\n",
            "5.5.11 Validate Tooling Registers- High Volume- Exsitu 210\n",
            "5.5.12  Write Manufacturing Engineering Specification- Exsitu 214\n",
            "5.5.13 Write Component Delivery Specification (CDS)- Exsitu 218\n",
            "5.5.14 System Installation Knowledge Database creation- Exsitu 222\n",
            "5.5.15 Product Process Resource Data model creation (XML)- Exsitu 226\n",
            "5.5.16 PPR DCA Industrial Architecture trades (Low complexity)- Exsitu 230\n",
            "5.5.17 PPR DCA Industrial Architecture trades (Medium complexity)- Exsitu 234\n",
            "5.5.18 PPR DCA Industrial Architecture trades (High complexity)- Exsitu 238\n",
            "5.5.20 Validation and Verification requirements 242\n",
            "5.5.21 Purchaser enabled products and specific means 242\n",
            "5.5.22 Forecast quantity and lead-time per work unit 242\n",
            "5.6.1 Support to ADC Loads Creation - Certification and UMS- Exsitu 244\n",
            "5.6.2  Support ADC Loads Creation - Test Loads- Exsitu 249\n",
            "5.6.4  Support ADC CACAU Use Case Review- Exsitu 256\n",
            "5.6.11 Customization - ATA 31 System Definition Activity - SKYWISE extract\n",
            "5.6.17 Support for Tool Development in Health Engineering - minor complexity- Insitu\n",
            "5.6.18 Support for Tool Development in Health Engineering - major complexity- Insitu\n",
            "5.6.19 Support for Data Collection Activity - minor complexity- Insitu 308\n",
            "5.6.20 Support for Data Collection Activity - major complexity- Insitu 312\n",
            "5.6.25 Validation and Verification requirements 328\n",
            "5.6.26 Purchaser enabled products and specific means 328\n",
            "5.6.27 Forecast quantity and lead-time per work unit 328\n",
            "5.7 AIOEYC- Aircraft Controls 330\n",
            "5.7.1    Support to package development- Flight Controls (Medium Complexity) 330\n",
            "5.7.3 Validation and Verification requirements 335\n",
            "5.7.4 Purchaser enabled products and specific means 335\n",
            "5.7.5 Forecast quantity and lead-time per work unit 335\n",
            "6 SUBCONTRACTED  ACTIVITIES  DESCRIPTION  (T&M) 336\n",
            "6.1 AIOEYS - Simulation platforms & frameworks 336\n",
            "6.1.1 Support to simulation platforms 336\n",
            "6.1.2 Support to Simulation Frameworks 340\n",
            "6.1.4 Validation and Verification requirements 345\n",
            "6.2 AIOEYM - Systems Modeling 346\n",
            "6.2.1 Support to simulation model development 346\n",
            "6.2.2 Support to Overall System Architecture Modelling (OSAM) Activities 350\n",
            "6.2.4 Validation and Verification requirements 355\n",
            "6.3.1 sFMS MODEL DEV WORK PACKAGE 356\n",
            "6.3.3 Validation and Verification requirements 360\n",
            "6.4.1 Support to MSPA Activities 361\n",
            "6.4.2 Technical Requests related to Elec 364\n",
            "6.5 AIOEYI - Industrial Systems 370\n",
            "6.5.1 Industrial Flow Simulation - Discrete Event Simulation & Process Engineering\n",
            "6.5.2 Industrial Digital Mock-up and process Engineering 374\n",
            "6.5.3 Industrial Model Based System Engineering & Industrial Robotics 379\n",
            "6.5.4 Manufacturing Engineering Specification Management 383\n",
            "6.5.5 Support to Industrial Architecture & trade studies 388\n",
            "6.6.1 Support to BITE Integration Activity 394\n",
            "6.6.2 Support for Filter File Generation Activity 400\n",
            "6.6.3 Support for Tool Development in Health Engineering 404\n",
            "6.6.4 Support for Modelling in Health Engineering Development 407\n",
            "6.6.5 Support for Data Collection Activity 412\n",
            "6.6.7 Validation and Verification requirements 417\n",
            "6.7 AIOEYC- Aircraft Controls 418\n",
            "6.7.1 Support to simulation model development- Flight Controls 418\n",
            "6.7.2 Support to simulation model development- Hydraulics 422\n",
            "6.7.3 Support to data analysis and dashboard development 427\n",
            "6.7.5 Validation and Verification requirements - None 432\n",
            "1 SUBCONTRACTED ACTIVITIES DESCRIPTION\n",
            "2 RESPONSIBILITY EXERCISED ON DELIVERABLES AND CRITICALITY OF THE ACTIVITY\n",
            "2.1 Design Organisation Approval (DOA) Requirements\n",
            "2.3 Criticality of the deliverables\n",
            "3.1 Steering and Review Meetings\n",
            "3.2 General Requirements Addendum\n",
            "4 WORK PACKAGE ENABLING DATA\n",
            "5 SUBCONTRACTED  ACTIVITIES  DESCRIPTION  (WORK UNIT)\n",
            "5.1 AIOEYS - Simulation platforms & Frameworks\n",
            "5.1.1 MODEL INTEGRATION - MINOR\n",
            "5.1.2 MODEL INTEGRATION - MEDIUM\n",
            "5.1.12 Py1 MS\n",
            "5.1.3 MODEL INTEGRATION - HIGH\n",
            "400 connection\n",
            "5.1.12 Py1 MS word  No inputs is requested after\n",
            "5.1.4 PLATFORM VALIDATION\n"
          ]
        }
      ]
    },
    {
      "cell_type": "code",
      "source": [
        "import re\n",
        "import csv\n",
        "\n",
        "def extract_table_of_contents(text):\n",
        "\n",
        "    start_markers = [\"TABLE OF CONTENTS\", \"table of contents\"]\n",
        "    toc_entries = []\n",
        "    found_toc = False\n",
        "    max_lines_per_page = 250\n",
        "    max_pages = 2\n",
        "    max_lines_to_check = max_lines_per_page * max_pages\n",
        "    lines_checked = 0\n",
        "\n",
        "    toc_pattern = re.compile(r'^(\\d+(\\.\\d+)*)(\\s+)(.+?)(\\s+)(\\d+)$')\n",
        "\n",
        "    for line in text.split('\\n'):\n",
        "\n",
        "        if any(marker in line for marker in start_markers):\n",
        "            found_toc = True\n",
        "\n",
        "        if found_toc:\n",
        "\n",
        "            match = toc_pattern.match(line.strip())\n",
        "            if match:\n",
        "                level = match.group(1).strip()\n",
        "                topic = match.group(4).strip()\n",
        "                page = match.group(6).strip()\n",
        "                toc_entries.append((level, topic, page))\n",
        "\n",
        "            lines_checked += 1\n",
        "\n",
        "            if lines_checked >= max_lines_to_check:\n",
        "                break\n",
        "\n",
        "    return toc_entries\n",
        "\n",
        "def save_to_csv(toc_entries, filename):\n",
        "    \"\"\"Saves the table of contents entries to a CSV file.\"\"\"\n",
        "    with open(filename, mode='w', newline='', encoding='utf-8') as file:\n",
        "        writer = csv.writer(file)\n",
        "        writer.writerow([\"Level\", \"Topic\", \"Page\"])\n",
        "        writer.writerows(toc_entries)\n",
        "\n",
        "\n",
        "toc_entries = extract_table_of_contents(extracted_text)\n",
        "\n",
        "save_to_csv(toc_entries, 'table_of_contents.csv')\n",
        "\n",
        "print(\"Table of contents saved to 'table_of_contents.csv'\")"
      ],
      "metadata": {
        "colab": {
          "base_uri": "https://localhost:8080/"
        },
        "id": "oITU0Vc9JUcL",
        "outputId": "d887a3c0-a89f-41a8-fe1b-14df47020e4b"
      },
      "execution_count": null,
      "outputs": [
        {
          "output_type": "stream",
          "name": "stdout",
          "text": [
            "Table of contents saved to 'table_of_contents.csv'\n"
          ]
        }
      ]
    },
    {
      "cell_type": "code",
      "source": [
        "import pandas as pd"
      ],
      "metadata": {
        "id": "EM_MdUglLl8E"
      },
      "execution_count": null,
      "outputs": []
    },
    {
      "cell_type": "code",
      "source": [
        "df = pd.read_csv('/content/table_of_contents.csv')"
      ],
      "metadata": {
        "id": "6DCjUtdALz2D"
      },
      "execution_count": null,
      "outputs": []
    },
    {
      "cell_type": "code",
      "source": [
        "df"
      ],
      "metadata": {
        "colab": {
          "base_uri": "https://localhost:8080/",
          "height": 423
        },
        "id": "itU2KgwWrsBw",
        "outputId": "9e20ce67-edcd-4be2-b7d1-9c80c6ff4d5f"
      },
      "execution_count": null,
      "outputs": [
        {
          "output_type": "execute_result",
          "data": {
            "text/plain": [
              "     Level                                              Topic  Page\n",
              "0        1               SUBCONTRACTED ACTIVITIES DESCRIPTION    10\n",
              "1        2  RESPONSIBILITY EXERCISED ON DELIVERABLES AND C...    10\n",
              "2      2.1    Design Organisation Approval (DOA) Requirements    10\n",
              "3      2.2  Targeted Responsibility/Signatory Exercised on...    10\n",
              "4      2.3                    Criticality of the deliverables    10\n",
              "..     ...                                                ...   ...\n",
              "149  6.7.3  Support to data analysis and dashboard develop...   427\n",
              "150  6.7.4     Further Requirements for 6.7.1 to 6.7.3 - None   432\n",
              "151  6.7.5    Validation and Verification requirements - None   432\n",
              "152  6.7.6        Forecast quantity per deliverable, per year   432\n",
              "153  6.7.7                   Schedule, plan, milestones: None   432\n",
              "\n",
              "[154 rows x 3 columns]"
            ],
            "text/html": [
              "\n",
              "  <div id=\"df-d4f62bc2-cc4c-47a8-9e61-94b978e15cf3\" class=\"colab-df-container\">\n",
              "    <div>\n",
              "<style scoped>\n",
              "    .dataframe tbody tr th:only-of-type {\n",
              "        vertical-align: middle;\n",
              "    }\n",
              "\n",
              "    .dataframe tbody tr th {\n",
              "        vertical-align: top;\n",
              "    }\n",
              "\n",
              "    .dataframe thead th {\n",
              "        text-align: right;\n",
              "    }\n",
              "</style>\n",
              "<table border=\"1\" class=\"dataframe\">\n",
              "  <thead>\n",
              "    <tr style=\"text-align: right;\">\n",
              "      <th></th>\n",
              "      <th>Level</th>\n",
              "      <th>Topic</th>\n",
              "      <th>Page</th>\n",
              "    </tr>\n",
              "  </thead>\n",
              "  <tbody>\n",
              "    <tr>\n",
              "      <th>0</th>\n",
              "      <td>1</td>\n",
              "      <td>SUBCONTRACTED ACTIVITIES DESCRIPTION</td>\n",
              "      <td>10</td>\n",
              "    </tr>\n",
              "    <tr>\n",
              "      <th>1</th>\n",
              "      <td>2</td>\n",
              "      <td>RESPONSIBILITY EXERCISED ON DELIVERABLES AND C...</td>\n",
              "      <td>10</td>\n",
              "    </tr>\n",
              "    <tr>\n",
              "      <th>2</th>\n",
              "      <td>2.1</td>\n",
              "      <td>Design Organisation Approval (DOA) Requirements</td>\n",
              "      <td>10</td>\n",
              "    </tr>\n",
              "    <tr>\n",
              "      <th>3</th>\n",
              "      <td>2.2</td>\n",
              "      <td>Targeted Responsibility/Signatory Exercised on...</td>\n",
              "      <td>10</td>\n",
              "    </tr>\n",
              "    <tr>\n",
              "      <th>4</th>\n",
              "      <td>2.3</td>\n",
              "      <td>Criticality of the deliverables</td>\n",
              "      <td>10</td>\n",
              "    </tr>\n",
              "    <tr>\n",
              "      <th>...</th>\n",
              "      <td>...</td>\n",
              "      <td>...</td>\n",
              "      <td>...</td>\n",
              "    </tr>\n",
              "    <tr>\n",
              "      <th>149</th>\n",
              "      <td>6.7.3</td>\n",
              "      <td>Support to data analysis and dashboard develop...</td>\n",
              "      <td>427</td>\n",
              "    </tr>\n",
              "    <tr>\n",
              "      <th>150</th>\n",
              "      <td>6.7.4</td>\n",
              "      <td>Further Requirements for 6.7.1 to 6.7.3 - None</td>\n",
              "      <td>432</td>\n",
              "    </tr>\n",
              "    <tr>\n",
              "      <th>151</th>\n",
              "      <td>6.7.5</td>\n",
              "      <td>Validation and Verification requirements - None</td>\n",
              "      <td>432</td>\n",
              "    </tr>\n",
              "    <tr>\n",
              "      <th>152</th>\n",
              "      <td>6.7.6</td>\n",
              "      <td>Forecast quantity per deliverable, per year</td>\n",
              "      <td>432</td>\n",
              "    </tr>\n",
              "    <tr>\n",
              "      <th>153</th>\n",
              "      <td>6.7.7</td>\n",
              "      <td>Schedule, plan, milestones: None</td>\n",
              "      <td>432</td>\n",
              "    </tr>\n",
              "  </tbody>\n",
              "</table>\n",
              "<p>154 rows × 3 columns</p>\n",
              "</div>\n",
              "    <div class=\"colab-df-buttons\">\n",
              "\n",
              "  <div class=\"colab-df-container\">\n",
              "    <button class=\"colab-df-convert\" onclick=\"convertToInteractive('df-d4f62bc2-cc4c-47a8-9e61-94b978e15cf3')\"\n",
              "            title=\"Convert this dataframe to an interactive table.\"\n",
              "            style=\"display:none;\">\n",
              "\n",
              "  <svg xmlns=\"http://www.w3.org/2000/svg\" height=\"24px\" viewBox=\"0 -960 960 960\">\n",
              "    <path d=\"M120-120v-720h720v720H120Zm60-500h600v-160H180v160Zm220 220h160v-160H400v160Zm0 220h160v-160H400v160ZM180-400h160v-160H180v160Zm440 0h160v-160H620v160ZM180-180h160v-160H180v160Zm440 0h160v-160H620v160Z\"/>\n",
              "  </svg>\n",
              "    </button>\n",
              "\n",
              "  <style>\n",
              "    .colab-df-container {\n",
              "      display:flex;\n",
              "      gap: 12px;\n",
              "    }\n",
              "\n",
              "    .colab-df-convert {\n",
              "      background-color: #E8F0FE;\n",
              "      border: none;\n",
              "      border-radius: 50%;\n",
              "      cursor: pointer;\n",
              "      display: none;\n",
              "      fill: #1967D2;\n",
              "      height: 32px;\n",
              "      padding: 0 0 0 0;\n",
              "      width: 32px;\n",
              "    }\n",
              "\n",
              "    .colab-df-convert:hover {\n",
              "      background-color: #E2EBFA;\n",
              "      box-shadow: 0px 1px 2px rgba(60, 64, 67, 0.3), 0px 1px 3px 1px rgba(60, 64, 67, 0.15);\n",
              "      fill: #174EA6;\n",
              "    }\n",
              "\n",
              "    .colab-df-buttons div {\n",
              "      margin-bottom: 4px;\n",
              "    }\n",
              "\n",
              "    [theme=dark] .colab-df-convert {\n",
              "      background-color: #3B4455;\n",
              "      fill: #D2E3FC;\n",
              "    }\n",
              "\n",
              "    [theme=dark] .colab-df-convert:hover {\n",
              "      background-color: #434B5C;\n",
              "      box-shadow: 0px 1px 3px 1px rgba(0, 0, 0, 0.15);\n",
              "      filter: drop-shadow(0px 1px 2px rgba(0, 0, 0, 0.3));\n",
              "      fill: #FFFFFF;\n",
              "    }\n",
              "  </style>\n",
              "\n",
              "    <script>\n",
              "      const buttonEl =\n",
              "        document.querySelector('#df-d4f62bc2-cc4c-47a8-9e61-94b978e15cf3 button.colab-df-convert');\n",
              "      buttonEl.style.display =\n",
              "        google.colab.kernel.accessAllowed ? 'block' : 'none';\n",
              "\n",
              "      async function convertToInteractive(key) {\n",
              "        const element = document.querySelector('#df-d4f62bc2-cc4c-47a8-9e61-94b978e15cf3');\n",
              "        const dataTable =\n",
              "          await google.colab.kernel.invokeFunction('convertToInteractive',\n",
              "                                                    [key], {});\n",
              "        if (!dataTable) return;\n",
              "\n",
              "        const docLinkHtml = 'Like what you see? Visit the ' +\n",
              "          '<a target=\"_blank\" href=https://colab.research.google.com/notebooks/data_table.ipynb>data table notebook</a>'\n",
              "          + ' to learn more about interactive tables.';\n",
              "        element.innerHTML = '';\n",
              "        dataTable['output_type'] = 'display_data';\n",
              "        await google.colab.output.renderOutput(dataTable, element);\n",
              "        const docLink = document.createElement('div');\n",
              "        docLink.innerHTML = docLinkHtml;\n",
              "        element.appendChild(docLink);\n",
              "      }\n",
              "    </script>\n",
              "  </div>\n",
              "\n",
              "\n",
              "<div id=\"df-dd8c55f9-7bb3-49b4-ae74-207769844ed5\">\n",
              "  <button class=\"colab-df-quickchart\" onclick=\"quickchart('df-dd8c55f9-7bb3-49b4-ae74-207769844ed5')\"\n",
              "            title=\"Suggest charts\"\n",
              "            style=\"display:none;\">\n",
              "\n",
              "<svg xmlns=\"http://www.w3.org/2000/svg\" height=\"24px\"viewBox=\"0 0 24 24\"\n",
              "     width=\"24px\">\n",
              "    <g>\n",
              "        <path d=\"M19 3H5c-1.1 0-2 .9-2 2v14c0 1.1.9 2 2 2h14c1.1 0 2-.9 2-2V5c0-1.1-.9-2-2-2zM9 17H7v-7h2v7zm4 0h-2V7h2v10zm4 0h-2v-4h2v4z\"/>\n",
              "    </g>\n",
              "</svg>\n",
              "  </button>\n",
              "\n",
              "<style>\n",
              "  .colab-df-quickchart {\n",
              "      --bg-color: #E8F0FE;\n",
              "      --fill-color: #1967D2;\n",
              "      --hover-bg-color: #E2EBFA;\n",
              "      --hover-fill-color: #174EA6;\n",
              "      --disabled-fill-color: #AAA;\n",
              "      --disabled-bg-color: #DDD;\n",
              "  }\n",
              "\n",
              "  [theme=dark] .colab-df-quickchart {\n",
              "      --bg-color: #3B4455;\n",
              "      --fill-color: #D2E3FC;\n",
              "      --hover-bg-color: #434B5C;\n",
              "      --hover-fill-color: #FFFFFF;\n",
              "      --disabled-bg-color: #3B4455;\n",
              "      --disabled-fill-color: #666;\n",
              "  }\n",
              "\n",
              "  .colab-df-quickchart {\n",
              "    background-color: var(--bg-color);\n",
              "    border: none;\n",
              "    border-radius: 50%;\n",
              "    cursor: pointer;\n",
              "    display: none;\n",
              "    fill: var(--fill-color);\n",
              "    height: 32px;\n",
              "    padding: 0;\n",
              "    width: 32px;\n",
              "  }\n",
              "\n",
              "  .colab-df-quickchart:hover {\n",
              "    background-color: var(--hover-bg-color);\n",
              "    box-shadow: 0 1px 2px rgba(60, 64, 67, 0.3), 0 1px 3px 1px rgba(60, 64, 67, 0.15);\n",
              "    fill: var(--button-hover-fill-color);\n",
              "  }\n",
              "\n",
              "  .colab-df-quickchart-complete:disabled,\n",
              "  .colab-df-quickchart-complete:disabled:hover {\n",
              "    background-color: var(--disabled-bg-color);\n",
              "    fill: var(--disabled-fill-color);\n",
              "    box-shadow: none;\n",
              "  }\n",
              "\n",
              "  .colab-df-spinner {\n",
              "    border: 2px solid var(--fill-color);\n",
              "    border-color: transparent;\n",
              "    border-bottom-color: var(--fill-color);\n",
              "    animation:\n",
              "      spin 1s steps(1) infinite;\n",
              "  }\n",
              "\n",
              "  @keyframes spin {\n",
              "    0% {\n",
              "      border-color: transparent;\n",
              "      border-bottom-color: var(--fill-color);\n",
              "      border-left-color: var(--fill-color);\n",
              "    }\n",
              "    20% {\n",
              "      border-color: transparent;\n",
              "      border-left-color: var(--fill-color);\n",
              "      border-top-color: var(--fill-color);\n",
              "    }\n",
              "    30% {\n",
              "      border-color: transparent;\n",
              "      border-left-color: var(--fill-color);\n",
              "      border-top-color: var(--fill-color);\n",
              "      border-right-color: var(--fill-color);\n",
              "    }\n",
              "    40% {\n",
              "      border-color: transparent;\n",
              "      border-right-color: var(--fill-color);\n",
              "      border-top-color: var(--fill-color);\n",
              "    }\n",
              "    60% {\n",
              "      border-color: transparent;\n",
              "      border-right-color: var(--fill-color);\n",
              "    }\n",
              "    80% {\n",
              "      border-color: transparent;\n",
              "      border-right-color: var(--fill-color);\n",
              "      border-bottom-color: var(--fill-color);\n",
              "    }\n",
              "    90% {\n",
              "      border-color: transparent;\n",
              "      border-bottom-color: var(--fill-color);\n",
              "    }\n",
              "  }\n",
              "</style>\n",
              "\n",
              "  <script>\n",
              "    async function quickchart(key) {\n",
              "      const quickchartButtonEl =\n",
              "        document.querySelector('#' + key + ' button');\n",
              "      quickchartButtonEl.disabled = true;  // To prevent multiple clicks.\n",
              "      quickchartButtonEl.classList.add('colab-df-spinner');\n",
              "      try {\n",
              "        const charts = await google.colab.kernel.invokeFunction(\n",
              "            'suggestCharts', [key], {});\n",
              "      } catch (error) {\n",
              "        console.error('Error during call to suggestCharts:', error);\n",
              "      }\n",
              "      quickchartButtonEl.classList.remove('colab-df-spinner');\n",
              "      quickchartButtonEl.classList.add('colab-df-quickchart-complete');\n",
              "    }\n",
              "    (() => {\n",
              "      let quickchartButtonEl =\n",
              "        document.querySelector('#df-dd8c55f9-7bb3-49b4-ae74-207769844ed5 button');\n",
              "      quickchartButtonEl.style.display =\n",
              "        google.colab.kernel.accessAllowed ? 'block' : 'none';\n",
              "    })();\n",
              "  </script>\n",
              "</div>\n",
              "\n",
              "  <div id=\"id_c34c9c16-6fc6-4bdc-8a4f-6a9f4eeb3b04\">\n",
              "    <style>\n",
              "      .colab-df-generate {\n",
              "        background-color: #E8F0FE;\n",
              "        border: none;\n",
              "        border-radius: 50%;\n",
              "        cursor: pointer;\n",
              "        display: none;\n",
              "        fill: #1967D2;\n",
              "        height: 32px;\n",
              "        padding: 0 0 0 0;\n",
              "        width: 32px;\n",
              "      }\n",
              "\n",
              "      .colab-df-generate:hover {\n",
              "        background-color: #E2EBFA;\n",
              "        box-shadow: 0px 1px 2px rgba(60, 64, 67, 0.3), 0px 1px 3px 1px rgba(60, 64, 67, 0.15);\n",
              "        fill: #174EA6;\n",
              "      }\n",
              "\n",
              "      [theme=dark] .colab-df-generate {\n",
              "        background-color: #3B4455;\n",
              "        fill: #D2E3FC;\n",
              "      }\n",
              "\n",
              "      [theme=dark] .colab-df-generate:hover {\n",
              "        background-color: #434B5C;\n",
              "        box-shadow: 0px 1px 3px 1px rgba(0, 0, 0, 0.15);\n",
              "        filter: drop-shadow(0px 1px 2px rgba(0, 0, 0, 0.3));\n",
              "        fill: #FFFFFF;\n",
              "      }\n",
              "    </style>\n",
              "    <button class=\"colab-df-generate\" onclick=\"generateWithVariable('df')\"\n",
              "            title=\"Generate code using this dataframe.\"\n",
              "            style=\"display:none;\">\n",
              "\n",
              "  <svg xmlns=\"http://www.w3.org/2000/svg\" height=\"24px\"viewBox=\"0 0 24 24\"\n",
              "       width=\"24px\">\n",
              "    <path d=\"M7,19H8.4L18.45,9,17,7.55,7,17.6ZM5,21V16.75L18.45,3.32a2,2,0,0,1,2.83,0l1.4,1.43a1.91,1.91,0,0,1,.58,1.4,1.91,1.91,0,0,1-.58,1.4L9.25,21ZM18.45,9,17,7.55Zm-12,3A5.31,5.31,0,0,0,4.9,8.1,5.31,5.31,0,0,0,1,6.5,5.31,5.31,0,0,0,4.9,4.9,5.31,5.31,0,0,0,6.5,1,5.31,5.31,0,0,0,8.1,4.9,5.31,5.31,0,0,0,12,6.5,5.46,5.46,0,0,0,6.5,12Z\"/>\n",
              "  </svg>\n",
              "    </button>\n",
              "    <script>\n",
              "      (() => {\n",
              "      const buttonEl =\n",
              "        document.querySelector('#id_c34c9c16-6fc6-4bdc-8a4f-6a9f4eeb3b04 button.colab-df-generate');\n",
              "      buttonEl.style.display =\n",
              "        google.colab.kernel.accessAllowed ? 'block' : 'none';\n",
              "\n",
              "      buttonEl.onclick = () => {\n",
              "        google.colab.notebook.generateWithVariable('df');\n",
              "      }\n",
              "      })();\n",
              "    </script>\n",
              "  </div>\n",
              "\n",
              "    </div>\n",
              "  </div>\n"
            ],
            "application/vnd.google.colaboratory.intrinsic+json": {
              "type": "dataframe",
              "variable_name": "df",
              "summary": "{\n  \"name\": \"df\",\n  \"rows\": 154,\n  \"fields\": [\n    {\n      \"column\": \"Level\",\n      \"properties\": {\n        \"dtype\": \"string\",\n        \"num_unique_values\": 154,\n        \"samples\": [\n          \"5.1.6\",\n          \"5.6.27\",\n          \"6.7.6\"\n        ],\n        \"semantic_type\": \"\",\n        \"description\": \"\"\n      }\n    },\n    {\n      \"column\": \"Topic\",\n      \"properties\": {\n        \"dtype\": \"string\",\n        \"num_unique_values\": 120,\n        \"samples\": [\n          \"AIOEYI \\u2013 Industrial Systems\",\n          \"3DX DELMIA - Analyze and compare simulation scenario- Exsitu\",\n          \"Criticality of the deliverables\"\n        ],\n        \"semantic_type\": \"\",\n        \"description\": \"\"\n      }\n    },\n    {\n      \"column\": \"Page\",\n      \"properties\": {\n        \"dtype\": \"number\",\n        \"std\": 139,\n        \"min\": 10,\n        \"max\": 432,\n        \"num_unique_values\": 94,\n        \"samples\": [\n          210,\n          84,\n          281\n        ],\n        \"semantic_type\": \"\",\n        \"description\": \"\"\n      }\n    }\n  ]\n}"
            }
          },
          "metadata": {},
          "execution_count": 11
        }
      ]
    },
    {
      "cell_type": "code",
      "source": [
        "df.iloc[0]['Level']"
      ],
      "metadata": {
        "colab": {
          "base_uri": "https://localhost:8080/",
          "height": 36
        },
        "id": "OtkvDQAACq72",
        "outputId": "590a3d44-4e7f-48d6-e182-1ca303c2116f"
      },
      "execution_count": null,
      "outputs": [
        {
          "output_type": "execute_result",
          "data": {
            "text/plain": [
              "'1'"
            ],
            "application/vnd.google.colaboratory.intrinsic+json": {
              "type": "string"
            }
          },
          "metadata": {},
          "execution_count": 12
        }
      ]
    },
    {
      "cell_type": "code",
      "source": [
        "df.iloc[0]['Topic']"
      ],
      "metadata": {
        "colab": {
          "base_uri": "https://localhost:8080/",
          "height": 36
        },
        "id": "VV1XtjVmCq4U",
        "outputId": "1936dfd9-c97f-4198-dae1-731d5d908438"
      },
      "execution_count": null,
      "outputs": [
        {
          "output_type": "execute_result",
          "data": {
            "text/plain": [
              "'SUBCONTRACTED ACTIVITIES DESCRIPTION'"
            ],
            "application/vnd.google.colaboratory.intrinsic+json": {
              "type": "string"
            }
          },
          "metadata": {},
          "execution_count": 13
        }
      ]
    },
    {
      "cell_type": "code",
      "source": [
        "df.iloc[0]['Page']"
      ],
      "metadata": {
        "colab": {
          "base_uri": "https://localhost:8080/"
        },
        "id": "maX9PjX1Cq2Q",
        "outputId": "7496059b-e7ad-4b39-e05d-298448df8154"
      },
      "execution_count": null,
      "outputs": [
        {
          "output_type": "execute_result",
          "data": {
            "text/plain": [
              "10"
            ]
          },
          "metadata": {},
          "execution_count": 14
        }
      ]
    },
    {
      "cell_type": "code",
      "source": [
        "! pip install fitz --quiet"
      ],
      "metadata": {
        "colab": {
          "base_uri": "https://localhost:8080/"
        },
        "id": "adPIkEuAF-4v",
        "outputId": "26784f22-6cf4-4727-81f9-ae8b580b4235"
      },
      "execution_count": null,
      "outputs": [
        {
          "output_type": "stream",
          "name": "stdout",
          "text": [
            "\u001b[?25l     \u001b[90m━━━━━━━━━━━━━━━━━━━━━━━━━━━━━━━━━━━━━━━━\u001b[0m \u001b[32m0.0/101.5 kB\u001b[0m \u001b[31m?\u001b[0m eta \u001b[36m-:--:--\u001b[0m\r\u001b[2K     \u001b[91m━━━━━━━━━━━━━━━━\u001b[0m\u001b[90m╺\u001b[0m\u001b[90m━━━━━━━━━━━━━━━━━━━━━━━\u001b[0m \u001b[32m41.0/101.5 kB\u001b[0m \u001b[31m1.0 MB/s\u001b[0m eta \u001b[36m0:00:01\u001b[0m\r\u001b[2K     \u001b[91m━━━━━━━━━━━━━━━━━━━━━━━━━━━━━━━━\u001b[0m\u001b[90m╺\u001b[0m\u001b[90m━━━━━━━\u001b[0m \u001b[32m81.9/101.5 kB\u001b[0m \u001b[31m1.1 MB/s\u001b[0m eta \u001b[36m0:00:01\u001b[0m\r\u001b[2K     \u001b[90m━━━━━━━━━━━━━━━━━━━━━━━━━━━━━━━━━━━━━━━━\u001b[0m \u001b[32m101.5/101.5 kB\u001b[0m \u001b[31m829.0 kB/s\u001b[0m eta \u001b[36m0:00:00\u001b[0m\n",
            "\u001b[?25h  Installing build dependencies ... \u001b[?25l\u001b[?25hdone\n",
            "  Getting requirements to build wheel ... \u001b[?25l\u001b[?25hdone\n",
            "  Preparing metadata (pyproject.toml) ... \u001b[?25l\u001b[?25hdone\n",
            "\u001b[2K   \u001b[90m━━━━━━━━━━━━━━━━━━━━━━━━━━━━━━━━━━━━━━━━\u001b[0m \u001b[32m3.2/3.2 MB\u001b[0m \u001b[31m15.1 MB/s\u001b[0m eta \u001b[36m0:00:00\u001b[0m\n",
            "\u001b[2K   \u001b[90m━━━━━━━━━━━━━━━━━━━━━━━━━━━━━━━━━━━━━━━━\u001b[0m \u001b[32m95.6/95.6 kB\u001b[0m \u001b[31m6.5 MB/s\u001b[0m eta \u001b[36m0:00:00\u001b[0m\n",
            "\u001b[2K   \u001b[90m━━━━━━━━━━━━━━━━━━━━━━━━━━━━━━━━━━━━━━━━\u001b[0m \u001b[32m421.5/421.5 kB\u001b[0m \u001b[31m24.7 MB/s\u001b[0m eta \u001b[36m0:00:00\u001b[0m\n",
            "\u001b[2K   \u001b[90m━━━━━━━━━━━━━━━━━━━━━━━━━━━━━━━━━━━━━━━━\u001b[0m \u001b[32m528.1/528.1 kB\u001b[0m \u001b[31m28.4 MB/s\u001b[0m eta \u001b[36m0:00:00\u001b[0m\n",
            "\u001b[2K   \u001b[90m━━━━━━━━━━━━━━━━━━━━━━━━━━━━━━━━━━━━━━━━\u001b[0m \u001b[32m137.9/137.9 kB\u001b[0m \u001b[31m8.9 MB/s\u001b[0m eta \u001b[36m0:00:00\u001b[0m\n",
            "\u001b[2K   \u001b[90m━━━━━━━━━━━━━━━━━━━━━━━━━━━━━━━━━━━━━━━━\u001b[0m \u001b[32m5.1/5.1 MB\u001b[0m \u001b[31m60.8 MB/s\u001b[0m eta \u001b[36m0:00:00\u001b[0m\n",
            "\u001b[2K   \u001b[90m━━━━━━━━━━━━━━━━━━━━━━━━━━━━━━━━━━━━━━━━\u001b[0m \u001b[32m41.7/41.7 kB\u001b[0m \u001b[31m2.3 MB/s\u001b[0m eta \u001b[36m0:00:00\u001b[0m\n",
            "\u001b[?25h  Building wheel for configobj (pyproject.toml) ... \u001b[?25l\u001b[?25hdone\n"
          ]
        }
      ]
    },
    {
      "cell_type": "code",
      "source": [
        "! pip install pymupdf frontend --quiet"
      ],
      "metadata": {
        "colab": {
          "base_uri": "https://localhost:8080/"
        },
        "id": "BdKTYTPkGLMQ",
        "outputId": "a521624b-ae32-40fa-d087-d1055e38f586"
      },
      "execution_count": null,
      "outputs": [
        {
          "output_type": "stream",
          "name": "stdout",
          "text": [
            "\u001b[?25l   \u001b[90m━━━━━━━━━━━━━━━━━━━━━━━━━━━━━━━━━━━━━━━━\u001b[0m \u001b[32m0.0/73.2 kB\u001b[0m \u001b[31m?\u001b[0m eta \u001b[36m-:--:--\u001b[0m\r\u001b[2K   \u001b[90m━━━━━━━━━━━━━━━━━━━━━━━━━━━━━━━━━━━━━━━━\u001b[0m \u001b[32m73.2/73.2 kB\u001b[0m \u001b[31m2.9 MB/s\u001b[0m eta \u001b[36m0:00:00\u001b[0m\n",
            "\u001b[?25h\u001b[?25l   \u001b[90m━━━━━━━━━━━━━━━━━━━━━━━━━━━━━━━━━━━━━━━━\u001b[0m \u001b[32m0.0/63.7 kB\u001b[0m \u001b[31m?\u001b[0m eta \u001b[36m-:--:--\u001b[0m\r\u001b[2K   \u001b[90m━━━━━━━━━━━━━━━━━━━━━━━━━━━━━━━━━━━━━━━━\u001b[0m \u001b[32m63.7/63.7 kB\u001b[0m \u001b[31m3.5 MB/s\u001b[0m eta \u001b[36m0:00:00\u001b[0m\n",
            "\u001b[?25h\u001b[?25l   \u001b[90m━━━━━━━━━━━━━━━━━━━━━━━━━━━━━━━━━━━━━━━━\u001b[0m \u001b[32m0.0/58.3 kB\u001b[0m \u001b[31m?\u001b[0m eta \u001b[36m-:--:--\u001b[0m\r\u001b[2K   \u001b[90m━━━━━━━━━━━━━━━━━━━━━━━━━━━━━━━━━━━━━━━━\u001b[0m \u001b[32m58.3/58.3 kB\u001b[0m \u001b[31m3.5 MB/s\u001b[0m eta \u001b[36m0:00:00\u001b[0m\n",
            "\u001b[?25h"
          ]
        }
      ]
    },
    {
      "cell_type": "code",
      "source": [
        "import fitz\n",
        "with fitz.open(pdf_path) as pdf:\n",
        "  page = pdf[int(df.iloc[20]['Page']-1)]\n",
        "  extracted_text = page.get_text()"
      ],
      "metadata": {
        "id": "N7_szWYDC-RD",
        "colab": {
          "base_uri": "https://localhost:8080/",
          "height": 351
        },
        "outputId": "a920955d-10f6-4920-f7f7-fdd19b647ae3"
      },
      "execution_count": null,
      "outputs": [
        {
          "output_type": "error",
          "ename": "RuntimeError",
          "evalue": "Directory 'static/' does not exist",
          "traceback": [
            "\u001b[0;31m---------------------------------------------------------------------------\u001b[0m",
            "\u001b[0;31mRuntimeError\u001b[0m                              Traceback (most recent call last)",
            "\u001b[0;32m<ipython-input-25-26dc27114a94>\u001b[0m in \u001b[0;36m<cell line: 1>\u001b[0;34m()\u001b[0m\n\u001b[0;32m----> 1\u001b[0;31m \u001b[0;32mimport\u001b[0m \u001b[0mfitz\u001b[0m\u001b[0;34m\u001b[0m\u001b[0;34m\u001b[0m\u001b[0m\n\u001b[0m\u001b[1;32m      2\u001b[0m \u001b[0;32mwith\u001b[0m \u001b[0mfitz\u001b[0m\u001b[0;34m.\u001b[0m\u001b[0mopen\u001b[0m\u001b[0;34m(\u001b[0m\u001b[0mpdf_path\u001b[0m\u001b[0;34m)\u001b[0m \u001b[0;32mas\u001b[0m \u001b[0mpdf\u001b[0m\u001b[0;34m:\u001b[0m\u001b[0;34m\u001b[0m\u001b[0;34m\u001b[0m\u001b[0m\n\u001b[1;32m      3\u001b[0m   \u001b[0mpage\u001b[0m \u001b[0;34m=\u001b[0m \u001b[0mpdf\u001b[0m\u001b[0;34m[\u001b[0m\u001b[0mint\u001b[0m\u001b[0;34m(\u001b[0m\u001b[0mdf\u001b[0m\u001b[0;34m.\u001b[0m\u001b[0miloc\u001b[0m\u001b[0;34m[\u001b[0m\u001b[0;36m20\u001b[0m\u001b[0;34m]\u001b[0m\u001b[0;34m[\u001b[0m\u001b[0;34m'Page'\u001b[0m\u001b[0;34m]\u001b[0m\u001b[0;34m-\u001b[0m\u001b[0;36m1\u001b[0m\u001b[0;34m)\u001b[0m\u001b[0;34m]\u001b[0m\u001b[0;34m\u001b[0m\u001b[0;34m\u001b[0m\u001b[0m\n\u001b[1;32m      4\u001b[0m   \u001b[0mextracted_text\u001b[0m \u001b[0;34m=\u001b[0m \u001b[0mpage\u001b[0m\u001b[0;34m.\u001b[0m\u001b[0mget_text\u001b[0m\u001b[0;34m(\u001b[0m\u001b[0;34m)\u001b[0m\u001b[0;34m\u001b[0m\u001b[0;34m\u001b[0m\u001b[0m\n",
            "\u001b[0;32m/usr/local/lib/python3.10/dist-packages/fitz/__init__.py\u001b[0m in \u001b[0;36m<module>\u001b[0;34m\u001b[0m\n\u001b[0;32m----> 1\u001b[0;31m \u001b[0;32mfrom\u001b[0m \u001b[0mfrontend\u001b[0m \u001b[0;32mimport\u001b[0m \u001b[0;34m*\u001b[0m\u001b[0;34m\u001b[0m\u001b[0;34m\u001b[0m\u001b[0m\n\u001b[0m\u001b[1;32m      2\u001b[0m \u001b[0;32mimport\u001b[0m \u001b[0mtools\u001b[0m\u001b[0;34m\u001b[0m\u001b[0;34m\u001b[0m\u001b[0m\n\u001b[1;32m      3\u001b[0m \u001b[0;32mimport\u001b[0m \u001b[0mos\u001b[0m\u001b[0;34m.\u001b[0m\u001b[0mpath\u001b[0m \u001b[0;32mas\u001b[0m \u001b[0mop\u001b[0m\u001b[0;34m\u001b[0m\u001b[0;34m\u001b[0m\u001b[0m\n\u001b[1;32m      4\u001b[0m \u001b[0;34m\u001b[0m\u001b[0m\n\u001b[1;32m      5\u001b[0m \u001b[0m__version__\u001b[0m \u001b[0;34m=\u001b[0m \u001b[0;34m'0.0.1dev2'\u001b[0m\u001b[0;34m\u001b[0m\u001b[0;34m\u001b[0m\u001b[0m\n",
            "\u001b[0;32m/usr/local/lib/python3.10/dist-packages/frontend/__init__.py\u001b[0m in \u001b[0;36m<module>\u001b[0;34m\u001b[0m\n\u001b[0;32m----> 1\u001b[0;31m \u001b[0;32mfrom\u001b[0m \u001b[0;34m.\u001b[0m\u001b[0mevents\u001b[0m \u001b[0;32mimport\u001b[0m \u001b[0;34m*\u001b[0m\u001b[0;34m\u001b[0m\u001b[0;34m\u001b[0m\u001b[0m\n\u001b[0m\u001b[1;32m      2\u001b[0m \u001b[0;32mfrom\u001b[0m \u001b[0;34m.\u001b[0m \u001b[0;32mimport\u001b[0m \u001b[0mconfig\u001b[0m\u001b[0;34m\u001b[0m\u001b[0;34m\u001b[0m\u001b[0m\n\u001b[1;32m      3\u001b[0m \u001b[0;32mfrom\u001b[0m \u001b[0;34m.\u001b[0m\u001b[0mcomponents\u001b[0m \u001b[0;32mimport\u001b[0m \u001b[0;34m*\u001b[0m\u001b[0;34m\u001b[0m\u001b[0;34m\u001b[0m\u001b[0m\n\u001b[1;32m      4\u001b[0m \u001b[0;32mfrom\u001b[0m \u001b[0;34m.\u001b[0m\u001b[0mdispatcher\u001b[0m \u001b[0;32mimport\u001b[0m \u001b[0;34m*\u001b[0m\u001b[0;34m\u001b[0m\u001b[0;34m\u001b[0m\u001b[0m\n\u001b[1;32m      5\u001b[0m \u001b[0;32mfrom\u001b[0m \u001b[0;34m.\u001b[0m\u001b[0mdom\u001b[0m \u001b[0;32mimport\u001b[0m \u001b[0;34m*\u001b[0m\u001b[0;34m\u001b[0m\u001b[0;34m\u001b[0m\u001b[0m\n",
            "\u001b[0;32m/usr/local/lib/python3.10/dist-packages/frontend/events/__init__.py\u001b[0m in \u001b[0;36m<module>\u001b[0;34m\u001b[0m\n\u001b[0;32m----> 1\u001b[0;31m \u001b[0;32mfrom\u001b[0m \u001b[0;34m.\u001b[0m\u001b[0mclipboard\u001b[0m \u001b[0;32mimport\u001b[0m \u001b[0;34m*\u001b[0m\u001b[0;34m\u001b[0m\u001b[0;34m\u001b[0m\u001b[0m\n\u001b[0m\u001b[1;32m      2\u001b[0m \u001b[0;32mfrom\u001b[0m \u001b[0;34m.\u001b[0m\u001b[0mevent_mixins\u001b[0m \u001b[0;32mimport\u001b[0m \u001b[0;34m*\u001b[0m\u001b[0;34m\u001b[0m\u001b[0;34m\u001b[0m\u001b[0m\n\u001b[1;32m      3\u001b[0m \u001b[0;32mfrom\u001b[0m \u001b[0;34m.\u001b[0m\u001b[0mhash_change\u001b[0m \u001b[0;32mimport\u001b[0m \u001b[0;34m*\u001b[0m\u001b[0;34m\u001b[0m\u001b[0;34m\u001b[0m\u001b[0m\n\u001b[1;32m      4\u001b[0m \u001b[0;32mfrom\u001b[0m \u001b[0;34m.\u001b[0m\u001b[0mui\u001b[0m \u001b[0;32mimport\u001b[0m \u001b[0;34m*\u001b[0m\u001b[0;34m\u001b[0m\u001b[0;34m\u001b[0m\u001b[0m\n",
            "\u001b[0;32m/usr/local/lib/python3.10/dist-packages/frontend/events/clipboard.py\u001b[0m in \u001b[0;36m<module>\u001b[0;34m\u001b[0m\n\u001b[1;32m      1\u001b[0m \u001b[0;32mfrom\u001b[0m \u001b[0;34m.\u001b[0m\u001b[0mevent_mixins\u001b[0m \u001b[0;32mimport\u001b[0m \u001b[0mClipboardDataMixin\u001b[0m\u001b[0;34m\u001b[0m\u001b[0;34m\u001b[0m\u001b[0m\n\u001b[0;32m----> 2\u001b[0;31m \u001b[0;32mfrom\u001b[0m \u001b[0;34m.\u001b[0m\u001b[0;34m.\u001b[0m\u001b[0mdom\u001b[0m \u001b[0;32mimport\u001b[0m \u001b[0mEvent\u001b[0m\u001b[0;34m\u001b[0m\u001b[0;34m\u001b[0m\u001b[0m\n\u001b[0m\u001b[1;32m      3\u001b[0m \u001b[0;34m\u001b[0m\u001b[0m\n\u001b[1;32m      4\u001b[0m \u001b[0m__all__\u001b[0m \u001b[0;34m=\u001b[0m \u001b[0;34m[\u001b[0m\u001b[0;34m'ClipboardEvent'\u001b[0m\u001b[0;34m]\u001b[0m\u001b[0;34m\u001b[0m\u001b[0;34m\u001b[0m\u001b[0m\n\u001b[1;32m      5\u001b[0m \u001b[0;34m\u001b[0m\u001b[0m\n",
            "\u001b[0;32m/usr/local/lib/python3.10/dist-packages/frontend/dom.py\u001b[0m in \u001b[0;36m<module>\u001b[0;34m\u001b[0m\n\u001b[1;32m    437\u001b[0m \u001b[0;34m\u001b[0m\u001b[0m\n\u001b[1;32m    438\u001b[0m \u001b[0;34m\u001b[0m\u001b[0m\n\u001b[0;32m--> 439\u001b[0;31m \u001b[0;32mfrom\u001b[0m \u001b[0;34m.\u001b[0m \u001b[0;32mimport\u001b[0m \u001b[0mdispatcher\u001b[0m\u001b[0;34m\u001b[0m\u001b[0;34m\u001b[0m\u001b[0m\n\u001b[0m",
            "\u001b[0;32m/usr/local/lib/python3.10/dist-packages/frontend/dispatcher.py\u001b[0m in \u001b[0;36m<module>\u001b[0;34m\u001b[0m\n\u001b[1;32m     13\u001b[0m \u001b[0;32mfrom\u001b[0m \u001b[0mstarlette\u001b[0m\u001b[0;34m.\u001b[0m\u001b[0mwebsockets\u001b[0m \u001b[0;32mimport\u001b[0m \u001b[0mWebSocket\u001b[0m\u001b[0;34m\u001b[0m\u001b[0;34m\u001b[0m\u001b[0m\n\u001b[1;32m     14\u001b[0m \u001b[0;34m\u001b[0m\u001b[0m\n\u001b[0;32m---> 15\u001b[0;31m \u001b[0;32mfrom\u001b[0m \u001b[0;34m.\u001b[0m \u001b[0;32mimport\u001b[0m \u001b[0mconfig\u001b[0m\u001b[0;34m,\u001b[0m \u001b[0mserver\u001b[0m\u001b[0;34m\u001b[0m\u001b[0;34m\u001b[0m\u001b[0m\n\u001b[0m\u001b[1;32m     16\u001b[0m \u001b[0;32mfrom\u001b[0m \u001b[0;34m.\u001b[0m\u001b[0masync_utils\u001b[0m \u001b[0;32mimport\u001b[0m \u001b[0mlater_await\u001b[0m\u001b[0;34m\u001b[0m\u001b[0;34m\u001b[0m\u001b[0m\n\u001b[1;32m     17\u001b[0m \u001b[0;34m\u001b[0m\u001b[0m\n",
            "\u001b[0;32m/usr/local/lib/python3.10/dist-packages/frontend/server.py\u001b[0m in \u001b[0;36m<module>\u001b[0;34m\u001b[0m\n\u001b[1;32m     22\u001b[0m \u001b[0;34m\u001b[0m\u001b[0m\n\u001b[1;32m     23\u001b[0m \u001b[0mapp\u001b[0m\u001b[0;34m:\u001b[0m \u001b[0mAny\u001b[0m \u001b[0;34m=\u001b[0m \u001b[0mStarlette\u001b[0m\u001b[0;34m(\u001b[0m\u001b[0mdebug\u001b[0m\u001b[0;34m=\u001b[0m\u001b[0mconfig\u001b[0m\u001b[0;34m.\u001b[0m\u001b[0mDEBUG\u001b[0m\u001b[0;34m)\u001b[0m\u001b[0;34m\u001b[0m\u001b[0;34m\u001b[0m\u001b[0m\n\u001b[0;32m---> 24\u001b[0;31m \u001b[0mapp\u001b[0m\u001b[0;34m.\u001b[0m\u001b[0mmount\u001b[0m\u001b[0;34m(\u001b[0m\u001b[0mconfig\u001b[0m\u001b[0;34m.\u001b[0m\u001b[0mSTATIC_ROUTE\u001b[0m\u001b[0;34m,\u001b[0m \u001b[0mStaticFiles\u001b[0m\u001b[0;34m(\u001b[0m\u001b[0mdirectory\u001b[0m\u001b[0;34m=\u001b[0m\u001b[0mconfig\u001b[0m\u001b[0;34m.\u001b[0m\u001b[0mSTATIC_DIRECTORY\u001b[0m\u001b[0;34m)\u001b[0m\u001b[0;34m,\u001b[0m \u001b[0mname\u001b[0m\u001b[0;34m=\u001b[0m\u001b[0mconfig\u001b[0m\u001b[0;34m.\u001b[0m\u001b[0mSTATIC_NAME\u001b[0m\u001b[0;34m)\u001b[0m\u001b[0;34m\u001b[0m\u001b[0;34m\u001b[0m\u001b[0m\n\u001b[0m\u001b[1;32m     25\u001b[0m \u001b[0mapp\u001b[0m\u001b[0;34m.\u001b[0m\u001b[0madd_middleware\u001b[0m\u001b[0;34m(\u001b[0m\u001b[0mGZipMiddleware\u001b[0m\u001b[0;34m)\u001b[0m\u001b[0;34m\u001b[0m\u001b[0;34m\u001b[0m\u001b[0m\n\u001b[1;32m     26\u001b[0m app.add_middleware(\n",
            "\u001b[0;32m/usr/local/lib/python3.10/dist-packages/starlette/staticfiles.py\u001b[0m in \u001b[0;36m__init__\u001b[0;34m(self, directory, packages, html, check_dir, follow_symlink)\u001b[0m\n\u001b[1;32m     54\u001b[0m         \u001b[0mself\u001b[0m\u001b[0;34m.\u001b[0m\u001b[0mfollow_symlink\u001b[0m \u001b[0;34m=\u001b[0m \u001b[0mfollow_symlink\u001b[0m\u001b[0;34m\u001b[0m\u001b[0;34m\u001b[0m\u001b[0m\n\u001b[1;32m     55\u001b[0m         \u001b[0;32mif\u001b[0m \u001b[0mcheck_dir\u001b[0m \u001b[0;32mand\u001b[0m \u001b[0mdirectory\u001b[0m \u001b[0;32mis\u001b[0m \u001b[0;32mnot\u001b[0m \u001b[0;32mNone\u001b[0m \u001b[0;32mand\u001b[0m \u001b[0;32mnot\u001b[0m \u001b[0mos\u001b[0m\u001b[0;34m.\u001b[0m\u001b[0mpath\u001b[0m\u001b[0;34m.\u001b[0m\u001b[0misdir\u001b[0m\u001b[0;34m(\u001b[0m\u001b[0mdirectory\u001b[0m\u001b[0;34m)\u001b[0m\u001b[0;34m:\u001b[0m\u001b[0;34m\u001b[0m\u001b[0;34m\u001b[0m\u001b[0m\n\u001b[0;32m---> 56\u001b[0;31m             \u001b[0;32mraise\u001b[0m \u001b[0mRuntimeError\u001b[0m\u001b[0;34m(\u001b[0m\u001b[0;34mf\"Directory '{directory}' does not exist\"\u001b[0m\u001b[0;34m)\u001b[0m\u001b[0;34m\u001b[0m\u001b[0;34m\u001b[0m\u001b[0m\n\u001b[0m\u001b[1;32m     57\u001b[0m \u001b[0;34m\u001b[0m\u001b[0m\n\u001b[1;32m     58\u001b[0m     def get_directories(\n",
            "\u001b[0;31mRuntimeError\u001b[0m: Directory 'static/' does not exist"
          ]
        }
      ]
    },
    {
      "cell_type": "code",
      "source": [
        "extracted_text"
      ],
      "metadata": {
        "colab": {
          "base_uri": "https://localhost:8080/",
          "height": 163
        },
        "id": "DMvn2F3JC-Ni",
        "outputId": "0e94dbfb-32b6-4782-fc48-3f20be308655"
      },
      "execution_count": null,
      "outputs": [
        {
          "output_type": "execute_result",
          "data": {
            "text/plain": [
              "' \\n \\n Technical Deliverable Specification Appendix F\\n \\n \\n© AIRBUS  \\nDate: 19/02/2022 AIRBUS AMBER \\nReference_TDS_SP2103303  Page 1 of 432\\n \\n \\nTechnical Deliverable Specification (TDS) \\nAirbus India Simulation & Physical \\nSystem activities  \\n \\nTechnical Deliverable Specification \\nreference SP2103303 \\n \\n \\nThis document specifies the Engineering & Intellectual services contracted by Airbus Group to a Service \\nProvider. It is the Appendix F of the Work Specification for engineering referenced SP2103303  \\n \\nThis Technical Deliverable Specification shall be initialled on each page solely by the selected Service \\nProvider at the outcome of the selection process accomplished by the Procurement Department. \\n \\nRecord of revisions \\n \\nIssue / \\nversio\\nn Date Subject Purchaser’s author \\nFAMILY NAME, First \\nname Phone \\nMail \\n1.0. 19/02/2022  Creation VASHISTHA, Kartikey \\nRANGANATH, Pavan  +91-80-66380199 \\nkartikey.vashistha@airbus.com  \\npavan.ranganath@airbus.com  \\n \\n \\n \\n \\n \\nOther Airbus Group’ contacts \\n \\nRequestors, Technical leaders / coordinators, technical contacts, persons in charge of specific means \\n+91 80 66380282  \\n \\nGuru Prasad Raghavendra, <guru.g.raghavendra@airbus.com > HO Simulation & Physical System • AIOEY \\nNitin Mohan, < nitin.n.mohan@airbus.com  >Subcontracting Manager, Senior Transversal Leader  • AIOEO \\nJegathambigai Balaji < jegathambigai.balaji@airbus.com >  HO Engineering Quality • AIOEQ \\nNitish-Saroj Kumar, nitish-saroj.kumar@airbus.com,  HO Physical Systems Architecture AIOEYP  \\nSusam Borthakur susam.borthakur@airbus.com , HO Aircraft Controls • AIOEYC  \\nPraveena Slathia <praveena.slathia@airbus.com >HO Navigation & Communication • AIOEYN \\nGhati, Sayantan < sayantan.ghati@airbus.com >HO Industrial Systems • AIOEYI \\nPankaj BHUTANI < pankaj.bhutani@airbus.com> HO Simulation Platforms & Frameworks • AIOEYS \\nVeena Venugopal < veena.venugopal@airbus.com >HO Maintenance • AIOEYH \\nSrivats Srinivasan < srivats.srinivasan@airbus.com> HO Systems Modeling • AIOEYM   \\n \\n Technical Deliverable Specification Appendix F\\n \\n \\n© AIRBUS  \\nDate: 19/02/2022 AIRBUS AMBER \\nReference_TDS_SP2103303 Page 2 of 432\\n \\nSecurity classification synthesis.  \\nCLASSIFICATION \\nCompany Governmental/Defence Export Control Privacy (GDPR) \\nAirbus AMBER x OCCAR  Dual Use x Personal Data  \\nAirbus RED  Governmental  EAR  Personal Sensitive \\nData  \\nThird Party \\nClassification  NATO  Military/ \\nAssimilated    \\n  National Military \\n(FR, DE, UK, ES)       \\n  ITAR      \\n  EAR600      \\n        \\nPROGRAMS OR PROJECTS CONCERNED \\nCIVIL PROGRAM \\n◻ MILITARY PROGRAM \\n ◻ INNOVATION \\n◻ OTHERS PROJECTS  \\n◻ \\nspecify the name(s): A350, SA, \\nLR,A380,XLR  specify the name(s):  specify the name(s):  specify the name(s): R&T  \\n    \\n \\nNote: The Service Provider shall protect from loss, destruction, falsification, corruption, \\nunauthorized access and unauthorized release all relevant information that it accesses, \\noperates or processes. \\n \\n \\n \\n \\n \\n \\n \\n \\n \\n \\n \\n \\n \\n \\n \\n \\n \\n \\n \\n \\n \\n \\n \\n \\n \\n  \\n \\n Technical Deliverable Specification Appendix F\\n \\n \\n© AIRBUS \\nDate: 19/02/2022 AIRBUS AMBER \\nReference_TDS_SP2103303  Page 3 of 432\\n \\nADDITIONAL TERMS AND ACRONYMS  \\nThis list amends the list of terms and acronyms provided in the chapter 1 of the Standard Work \\nSpecification for Engineering. \\nA/C Aircraft \\nABD AIRBUS Directives \\nACMS Aircraft Condition Monitoring System  \\nA-D Airbus Deutschland \\nADC Aircraft Data Collection \\nADL Applicable Documentation List  \\nADSR Aircraft Drawing System Rules \\nAECI Airbus Engineering Centre India  \\nA-F Airbus France \\nAI Airbus India Operations  \\nAL Activity Lead \\nAPID Airbus Process instruction Deviation \\nARL Applicable Requirements List \\nATD Applicable Technical Document  \\nBAT Business Acceptance Test \\nBOM Bill of material \\nBOS Business Operational Support \\nCAD Computer Aided Design  \\nCACAU Case Configurator for ADC Usage \\nCAM Compliance Analysis Matrix \\nCCGRL Compliance Commitment on GRAMS Requirement List \\nCCS Change Control Sheet \\nCDR Critical Design Review \\nCDS Component Delivery Specification \\nCILAT Current Injection and Length Assumption Table \\nCIRCE Conception Informatisée et Rationalisée des Câblages Electriques \\nCN Change Note \\nCoC Centre of Competence \\nCoE Centre of Excellence \\nCPPR Capture Process product Request  \\nCR Change request \\nCRM Contractual Review Meeting  \\nCTS Customized Technical Specification \\nDA Drawing Assembly \\nDAL Development Assurance Level \\nDAN Delivery Acceptance Note \\nDBD Data Basis for Design  \\nDCN Design change note \\nDDP Declaration of Design and Performance  \\nDDQC Definition dossier quality check \\nDDMS Digital Design & Manufacturing Systems \\nDES Discrete Event Simulation \\nDM Data Management \\nDMU Digital Mock-Up \\nDOA Design Organization Approval \\nDOORS  Dynamic Object Orientated Requirements System  \\nDQN Design Queries Notes \\nDRCL Deliverable Release Checklist \\nDRL Documentation Requirement List \\nDS Design Solution \\nDWG Drawing \\nEASA European Aviation Safety Agency \\nEBOM Engineering Bill Of Materials  \\nECM Engineering Coordination Memo \\nECN Engineering Change Note \\nECP Engineering Change Proposal \\nEETL Applicable Tools List for Design Service providers  \\n \\n Technical Deliverable Specification Appendix F\\n \\n \\n© AIRBUS \\nDate: 19/02/2022 AIRBUS AMBER \\nReference_TDS_SP2103303  Page 4 of 432\\n \\nEP Enabling Platform  \\nERHC Electrical Routing and Harness Concept \\nESDCR Extended Schematics Diagram Configured Repository  \\nEU European Union \\nFDIMU Flight Data Interface and Management Unit \\nFEM Finite Element Models \\nFP/FPWU Fix Price Work Package \\nFPM Final Project Meeting \\nFPQ First Part Qualification \\nFTA First Technical Acceptance \\nFTR First Time Right \\nFTS File Transfer Service \\nFSVS Functional sizing, verification and support activities \\nGAM Global Architecture Mock-up \\nGRAMS General Requirements for Aero structure and Material Suppliers  \\nGRESS General Requirements for Equipment and System Suppliers \\nGRM Geometric Reference Mock-up \\nHMG Harmonized Material Group \\nHoV Head of Version \\nHW Hardware \\nIC Installation Case \\nICT Information and Communication Technology  \\nICY Interchangeability  \\nINCOSE International Council on Systems Engineering \\nIPT Integrated Project Team  \\nJ&T Jigs & Tools \\nKOR Kick Off Review \\nKPI Key Performance Indicator \\nLR Long Range (A330 / A340) \\nLSBM Load Secure Batch Media  \\nLT Lead time \\nMAPIS Material And Process, Interior & Structure  \\nMBOM Manufacturing Bill Of Materials \\niMBSE Industrial Model Based Systems Engineering \\nMCA Major Component Assembly \\nME Spec. Manufacturing Engineering Specification \\nMoM Minutes of Meeting \\nMTTR Mean Time To Repair \\nMTBF Mean Time Before Failure  \\nMSN Manufacturing Serial Number \\nN/A Not applicable \\nNSPI New Standard Part Introduction \\nNDB Navigation Database \\nOPC Operational Program Configuration \\nOBS Organization Breakdown Structure \\nOTD On Time Delivery  \\nOSAM Overall System Architecture Model \\nP&M Processes and Methods \\nPDB Performance Database \\nPDM Product Data Management \\nPDR Preliminary Design Review \\nPI Product Increment \\nPO Purchase Order  \\nPLM Product Lifecycle Management \\nPPRDCA Product Process Resource Data Centric Approach \\nPQN Process Query Note \\nPQP  Project Quality Plan \\nPRA Particular Risk Analysis \\nPRM Progress Review Meeting \\nPSA Physical System Architecture \\nPTS Product Technical Specification \\nPZ Part Zone \\nQAP Quality Assurance Plan  \\n \\n Technical Deliverable Specification Appendix F\\n \\n \\n© AIRBUS \\nDate: 19/02/2022 AIRBUS AMBER \\nReference_TDS_SP2103303  Page 5 of 432\\n \\nQRM Quality Review Meeting  \\nRBE Requirement Based Engineering \\nRDF Requirement Discrepancy Form  \\nRFC Request For Change \\nRFP Request for Proposal \\nRSDP Reference Structure Design Principles \\nS/C Subcontracting / subcontractor \\nSA A320 family \\nSAM Subcontracting Acceptance Memo \\nSDD Software Description Dossier \\nSFS Secure File Storage \\nsFMS Simulated Flight Management System \\nSNS Secure Network Storage \\nSI System Installation \\nSIDP System Installation Design Principles  \\nSIIKDB System Installation Industrial Knowledge database \\nSIPT Systems Installation Patterns & Tools \\nSIRD System Installation Requirement Document \\nSLA Service Level Agreement \\nSP-AC0 Simulation Product Aircraft-0 (Simulator) \\nSPAN Supplier and Partners Airbus Network \\nSPE Simulation Product Engineer  \\nSR Support/Service Request \\nSRD Software Requirements Document  \\nSSCI Structure System Cabin Integration \\nSTES Series Design Subcontracting \\nSubWU Sub Work Unit \\nSVCP Software Validation Control Plan \\nSVN Subversion  \\nSVR Software Verification Report \\nSW Software \\nTBC To be confirmed \\nTBD To be decided/ defined \\nTDD  Technical Design Directive \\nTDP Technical Data Package \\nTDS Technical Deliverable Specification \\nTDU Technical Definition Unit \\nTDM Technical Database Management  \\nTN Technical Note \\nTR Tooling Register \\nTrEsti Treatment Estimation \\nTRM Technical Review Meeting \\nTRS Technical Repercussion Sheet  \\nUFP Unit Fixed Price \\nUI User Interface  \\nUMS User Modifiable Software \\nUN United Nations \\nUSA United State of America \\nV&V Verification and Validation \\nVPM Virtual Product Management \\nVR Virtual reality \\nVSIM-D Versatile Simulator - Design \\nVSIM-I Versatile Simulator - Integration \\nVSIM-T Versatile Simulator - Training \\nWB Wide Body (A300 / A310) \\nWBS Work Breakdown Structure \\nWD / FD Wiring Diagram / Function Diagram \\nWU Work Unit \\n  \\nThis list amends the list of terms and acronyms provided in the Standard Work Specification \\n \\n Technical Deliverable Specification Appendix F\\n \\n \\n© AIRBUS S.A.S. \\nDate: 19/02/2022 AIRBUS AMBER \\nReference_TDS_SP2103303  Page 6 of 432\\n \\n \\nTABLE OF CONTENTS  \\n \\nContents \\nADDITIONAL TERMS AND ACRONYMS  3  \\nTABLE OF CONTENTS  6  \\n1 SUBCONTRACTED ACTIVITIES DESCRIPTION  10  \\nTHE SUBCONTRACTING PERIMETER ENCOMPASSES SUPPORT TO THE SIMULATION AND \\nPHYSICAL SYSTEM DEPARTMENT ACTIVITIES IN TERMS OF FULFILLING WORK-UNITS, WORK-\\nPACKAGES , OR SKILLED RESOURCE PROVISIONS IN WORK-PROGRESS MODE . VARIOUS \\nGROUPS IN S&PS DEPARTMENTS ARE : 10  \\n2 RESPONSIBILITY EXERCISED ON DELIVERABLES AND CRITICALITY OF THE ACTIVITY 10  \\n2.1 Design Organisation Approval (DOA) Requirements 10  \\nNot Applicable  10  \\n2.2 Targeted Responsibility/Signatory Exercised on Deliverables 10  \\n2.3 Criticality of the deliverables 10  \\nPROJECT MANAGEMENT  11  \\n3.1 Steering and Review Meetings 11  \\n3.2 General Requirements Addendum 13  \\n4 WORK PACKAGE ENABLING DATA 13  \\n5 SUBCONTRACTED  ACTIVITIES  DESCRIPTION  (WORK UNIT) 14  \\n5.1 AIOEYS - Simulation platforms & Frameworks 14  \\n5.1.1 Model Integration - Minor 14  \\n5.1.2 Model Integration - Medium 19  \\n5.1.3 Model Integration - High 24  \\n5.1.4 Platform Validation 28  \\n5.1.5 Documentation 32  \\n5.1.6 Analysis and Implementation - Minor 36  \\n5.1.7 Analysis and Implementation - Medium 40  \\n5.1.8 Analysis and Implementation - Major 44  \\n5.1.9 Further Requirements for 5.1.1 to 5.1.8 50  \\n5.1.10 Validation and Verification requirements 50  \\n5.1.11 Purchaser enabled products and specific means 50  \\n5.1.12 Forecast quantity and lead-time per work unit 50  \\n5.2 AIOEYM - Systems Modeling 51  \\n5.2.1 Model Development - Minor 51  \\n5.2.2 Model Development - Medium 55  \\n5.2.3 Model Development - Major 59  \\n5.2.4 Platform Validation for Model development 62  \\n5.2.5 Model Development Documentation 66  \\n5.2.6 Model Delivery Support 69  \\n5.2.7 Model Development Support 72  \\n5.2.8 Model Loading In SimWorks 75  \\n5.2.9 Further Requirements for 5.2.1 to 5.2.8 80  \\n5.2.10 Validation and Verification requirements 80  \\n5.2.11 Purchaser enabled products and specific means 80   \\n \\n Technical Deliverable Specification Appendix F\\n \\n \\n© AIRBUS S.A.S. \\nDate: 19/02/2022 AIRBUS AMBER \\nReference_TDS_SP2103303  Page 7 of 432\\n \\n5.2.12 Forecast quantity and lead-time per work unit 80  \\n5.3 AIOEYN – FMS & Navigation activities 81  \\n5.3.1 Bore sighting load generation work package 81  \\n5.3.2   OPC PDB Work Package 84  \\n5.3.3 sFMS DEFINED SCOPE Work Package 88  \\n5.3.4 Further Requirements for 5.3.1 to 5.3.3  91  \\n5.3.5 Validation and Verification requirements 91  \\n5.3.6 Purchaser enabled products and specific means 91  \\n5.3.7 Forecast quantity and lead-time per work unit 92  \\n5.4 AIOEYP – Physical System Architecture 92  \\n5.4.1 Equipment Model Management (EMM) 92  \\n5.4.2 Electrical-Insitu 116  \\n5.4.3 Electrical–Exsitu 127  \\n5.4.4 Multi System Physical Architecture (MSPA) 142  \\n5.4.5 Electrical Installation Design Directives (EIDD) 160  \\n5.4.6 Further Requirements for 5.4.1 to 5.4.5 167  \\n5.4.7 Validation and Verification requirements 167  \\n5.4.8 Purchaser enabled products and specific means 167  \\n5.4.9 Forecast quantity and lead-time per work unit 167  \\n5.5 AIOEYI – Industrial Systems 169  \\n5.5.1 Industry Flow Simulation-Discrete event simulation & Process Engineering- \\nExsitu 169  \\n5.5.2 3DX DELMIA - Prepare Manufacturing Bill Of Material and Process View- Exsitu\\n 174 \\n5.5.3 3DX DELMIA-create static plant Layout- Exsitu 178  \\n5.5.4 3DX DELMIA - 3D Flow simulations and record animations-ExSitu 182  \\n5.5.5 3DX DELMIA - Analyze and compare simulation scenario- Exsitu 186  \\n5.5.6 Export process and 3D data to VR applications- Exsitu 190  \\n5.5.7 Cameo modelling -1- Exsitu 194  \\n5.5.8 Cameo modelling -2- Exsitu 198  \\n5.5.9 Validate Tooling Registers-Low Volume- Exsitu 202  \\n5.5.10 Validate Tooling Registers-Medium Volume- Exsitu 206  \\n5.5.11 Validate Tooling Registers- High Volume- Exsitu 210  \\n5.5.12  Write Manufacturing Engineering Specification- Exsitu 214  \\n5.5.13 Write Component Delivery Specification (CDS)- Exsitu 218  \\n5.5.14 System Installation Knowledge Database creation- Exsitu 222  \\n5.5.15 Product Process Resource Data model creation (XML)- Exsitu 226  \\n5.5.16 PPR DCA Industrial Architecture trades (Low complexity)- Exsitu 230  \\n5.5.17 PPR DCA Industrial Architecture trades (Medium complexity)- Exsitu 234  \\n5.5.18 PPR DCA Industrial Architecture trades (High complexity)- Exsitu 238  \\n5.5.19 Further Requirements for 5.5.1 to 5.5.18 242  \\n5.5.20 Validation and Verification requirements 242  \\n5.5.21 Purchaser enabled products and specific means 242  \\n5.5.22 Forecast quantity and lead-time per work unit 242  \\n5.6 AIOEYH – Health Engineering 244  \\n5.6.1 Support to ADC Loads Creation - Certification and UMS- Exsitu 244  \\n5.6.2  Support ADC Loads Creation - Test Loads- Exsitu 249  \\n5.6.3  Support ADC Certification, Test and UMS LoadR Creation- Exsitu 253  \\n5.6.4  Support ADC CACAU Use Case Review- Exsitu 256  \\n5.6.5  Yellow Pages Filling – normalization of ATAxx ICD – Minor- Exsitu 260  \\n5.6.6  Customization – Conversion of PD/WD for ATA31 - Complexity: Low- Exsitu\\n 264  \\n \\n Technical Deliverable Specification Appendix F\\n \\n \\n© AIRBUS S.A.S. \\nDate: 19/02/2022 AIRBUS AMBER \\nReference_TDS_SP2103303  Page 8 of 432\\n \\n5.6.7  Customization – Conversion of PD/WD for ATA31 - Complexity: Medium- \\nExsitu 266  \\n5.6.8  Customization – Conversion of PD/WD for ATA31 - Complexity: High- Exsitu\\n 269 \\n5.6.9  Customization – ATA 31 System Definition Activity - Low workload (< 100 \\nMSNs)- Exsitu 272  \\n5.6.10 Customization - ATA 31 System Definition Activity - High workload (> 100 \\nMSNs)- Exsitu 275  \\n5.6.11 Customization - ATA 31 System Definition Activity - SKYWISE extract \\nanalysis- Exsitu 278  \\n5.6.12 Yellow Pages Filling – normalization of ATAxx ICD – Medium- Exsitu 281  \\n5.6.13 Yellow Pages Filling – normalization of ATAxx ICD – large- Exsitu 284  \\n5.6.14 Yellow Pages Filling – Albatross Data Synchronization – Minor- Exsitu 287  \\n5.6.15 Yellow Pages Filling – Albatross Data Synchronization – Medium- Exsitu 291  \\n5.6.16 Yellow Pages Filling – Albatross Data Synchronization – Large- Exsitu 295  \\n5.6.17 Support for Tool Development in Health Engineering - minor complexity- Insitu\\n 299 \\n5.6.18 Support for Tool Development in Health Engineering - major complexity- Insitu\\n 303 \\n5.6.19 Support for Data Collection Activity - minor complexity- Insitu 308  \\n5.6.20 Support for Data Collection Activity - major complexity- Insitu 312  \\n5.6.21 Customization – Updating PD/WD for ATA31 - Complexity: Low- Exsitu 318  \\n5.6.22 Customization – Updating PD/WD for ATA31 - Complexity: Medium- Exsitu320  \\n5.6.23 Customization – Updating PD/WD for ATA31 - Complexity: High- Exsitu 323  \\n5.6.24 Further Requirements for HWU_01 to HWU_23 328  \\n5.6.25 Validation and Verification requirements 328  \\n5.6.26 Purchaser enabled products and specific means 328  \\n5.6.27 Forecast quantity and lead-time per work unit 328  \\n5.7 AIOEYC- Aircraft Controls 330  \\n5.7.1    Support to package development- Flight Controls (Medium Complexity) 330  \\n5.7.2 Further Requirements for 5.7.1 335  \\n5.7.3 Validation and Verification requirements 335  \\n5.7.4 Purchaser enabled products and specific means 335  \\n5.7.5 Forecast quantity and lead-time per work unit 335  \\n6 SUBCONTRACTED  ACTIVITIES  DESCRIPTION  (T&M) 336  \\n6.1 AIOEYS - Simulation platforms & frameworks 336  \\n6.1.1 Support to simulation platforms 336  \\n6.1.2 Support to Simulation Frameworks 340  \\n6.1.3 Further Requirements for 6.1.1 and 6.1.2 345  \\n6.1.4 Validation and Verification requirements 345  \\n6.1.5 Forecast quantity per deliverable, per year 345  \\n6.1.6 Schedule, plan, milestones 345  \\n6.2 AIOEYM - Systems Modeling 346  \\n6.2.1 Support to simulation model development 346  \\n6.2.2 Support to Overall System Architecture Modelling (OSAM) Activities 350  \\n6.2.3 Further Requirements for 6.2.1 and 6.2.2 355  \\nNone 355  \\n6.2.4 Validation and Verification requirements 355  \\n6.2.5 Forecast quantity per deliverable, per year 355  \\n6.2.6 Schedule, plan, milestones: NA 355  \\n6.3 AIOEYN - – FMS & Navigation activities 356  \\n6.3.1 sFMS MODEL DEV WORK PACKAGE 356  \\n6.3.2 Further Requirements for 6.3.1 360   \\n \\n Technical Deliverable Specification Appendix F\\n \\n \\n© AIRBUS S.A.S. \\nDate: 19/02/2022 AIRBUS AMBER \\nReference_TDS_SP2103303  Page 9 of 432\\n \\nNone 360  \\n6.3.3 Validation and Verification requirements 360  \\n6.3.4 Forecast quantity per deliverable, per year 360  \\n6.3.5 Schedule, plan, milestones: NA 360  \\n6.4 AIOEYP – Physical System Architecture 361  \\n6.4.1 Support to MSPA Activities 361  \\n6.4.2 Technical Requests related to Elec 364  \\n6.4.3 Further Requirements for 6.4.1 to 6.4.2 369  \\n6.4.4 Forecast quantity per deliverable, per year 369  \\n6.4.5 Schedule, plan, milestones:  NA 369  \\n6.5 AIOEYI - Industrial Systems 370  \\n6.5.1 Industrial Flow Simulation - Discrete Event Simulation & Process Engineering\\n 370 \\n6.5.2 Industrial Digital Mock-up and process Engineering 374  \\n6.5.3 Industrial Model Based System Engineering & Industrial Robotics 379  \\n6.5.4 Manufacturing Engineering Specification Management 383  \\n6.5.5 Support to Industrial Architecture & trade studies 388  \\n6.5.6 Further Requirements for 6.5.1 to 6.5.5 393  \\n6.5.7 Forecast quantity per deliverable, per year 393  \\n6.5.8 Schedule, plan, milestones: NA 393  \\n6.6 AIOEYH –Health Engineering 394  \\n6.6.1 Support to BITE Integration Activity 394  \\n6.6.2 Support for Filter File Generation Activity 400  \\n6.6.3 Support for Tool Development in Health Engineering 404  \\n6.6.4 Support for Modelling in Health Engineering Development 407  \\n6.6.5 Support for Data Collection Activity 412  \\n6.6.6 Further Requirements for 6.6.1 to 6.6.5 417  \\n6.6.7 Validation and Verification requirements 417  \\n6.6.8 Forecast quantity per deliverable, per year 417  \\n6.6.9 Schedule, plan, milestones: NA 417  \\n6.7 AIOEYC- Aircraft Controls 418  \\n6.7.1 Support to simulation model development- Flight Controls 418  \\n6.7.2 Support to simulation model development- Hydraulics 422  \\n6.7.3 Support to data analysis and dashboard development 427  \\n6.7.4 Further Requirements for 6.7.1 to 6.7.3 - None 432  \\n6.7.5 Validation and Verification requirements - None 432  \\n6.7.6 Forecast quantity per deliverable, per year 432  \\n6.7.7 Schedule, plan, milestones: None 432  \\n \\n \\n   \\n \\n Technical Deliverable Specification Appendix F\\n \\n \\n© AIRBUS S.A.S. \\nDate: 19/02/2022 AIRBUS AMBER \\nReference_TDS_SP2103303  Page 10 of 432\\n \\n1 SUBCONTRACTED ACTIVITIES DESCRIPTION  \\nThe subcontracting perimeter encompasses support to the Simulation and Physical System \\ndepartment activities  in terms of fulfilling Work-units, Work-packages, or Skilled Resource \\nprovisions in Work-progress mode. Various groups in S&PS departments are: \\n\\uf0b7 Physical Systems Architecture (AIOEYP) \\n\\uf0b7 Aircraft Controls (AIOEYC) \\n\\uf0b7 Navigation & Communication (AIOEYN) \\n\\uf0b7 Industrial Systems (AIOEYI) \\n\\uf0b7 Simulation Platforms & Frameworks (AIOEYS) \\n\\uf0b7 Maintenance (AIOEYH) \\n\\uf0b7 Systems Modeling (AIOEYM) \\n2 RESPONSIBILITY EXERCISED ON DELIVERABLES AND CRITICALITY OF THE ACTIVITY \\n2.1 Design Organisation Approval (DOA) Requirements \\nNot Applicable \\n \\n2.2 Targeted Responsibility/Signatory Exercised on Deliverables  \\n \\nThe paragraph and table below is ONLY Applicable to: AIRBUS COMMERCIAL AIRCRAFT \\nThe maximum Service Provider’s targeted responsibility / signatory exercised on deliverables is as follows: \\n \\n Deliverables are \\nnon A/C related  Deliverables are A/C related \\n  Authoring \\nrefer to M1264  Controlled DOA Signature \\nrefer to A1020/M1020  \\nTargeted \\nresponsibility / \\nsignatory level  N/A N/A Authoring \\nSignature Approver \\nSignature Authorizer \\nSignature Airworthiness Signature \\n☐ ☒ ☐ ☐ ☐ ☐ \\n The activity is \\nnot DOA related The activity is DOA related \\nTable 2-1. Targeted responsibility / signatory exercised on deliverables \\n \\n2.3 Criticality of the deliverables \\n \\nThe paragraph and table below is ONLY Applicable to: AIRBUS COMMERCIAL AIRCRAFT \\n  \\n \\n Technical Deliverable Specification Appendix F\\n \\n \\n© AIRBUS S.A.S. \\nDate: 19/02/2022 AIRBUS AMBER \\nReference_TDS_SP2103303  Page 11 of 432\\n \\nThe highest criticality and potential consequence on aircraft navigability / airworthiness of a defect from a \\ndeliverable of this Technical Specification is as follows: \\n \\nCriticality of the deliverables Applicability \\nHazardous – Catastrophic \\n(Unsafe conditions / Class 1 parts / DAL A, DAL B ...) ☐ \\nMajor \\n(Class 2 parts / DAL C...) ☐ \\nMinor \\n(Reliability / Class 3 parts / DAL D) ☐ \\nBelow minor \\n(Class 4 parts / DAL E ...) ☐ \\nNone ☐ \\nTable 2-2. Highest criticality of the deliverables \\nPROJECT MANAGEMENT  \\n3.1 Steering and Review Meetings \\nThe following regular meetings have to be considered by the Service Provider: \\nMeeting Objectives Participants Frequency  \\n/ \\ndeadline Service \\nProvider \\nlead-time \\nto provide \\nthe MoM  Purchaser \\nlead-time to \\nvalidate the \\nMoM Location \\nKoM: \\nKick-off \\nMeeting Official start of the \\nsubcontracted service. \\nHandover of information \\nand set-up of pre-defined \\ncommunication structure.  Work package \\nleaders or focal \\npoints from \\nPurchaser & \\nService Provider, \\ntechnical \\nrepresentatives  once 2 Days 2 Days Online/ \\nOffline \\nPRM: \\nProgress \\nReview \\nMeetings Please see description \\nbelow* Work package  \\nleaders or focal \\npoints from \\nPurchaser & \\nService Provider, \\ntechnical \\nrepresentatives  weekly 2 Days  2 Days Online/ \\nOffline \\nTRM: \\nTechnical \\nReview \\nMeetings Please see description \\nbelow ** Work package  \\nleaders or focal \\npoints from \\nPurchaser & \\nService Provider, \\ntechnical \\nrepresentatives monthly 2 Days  2 Days Online / \\nOffline  \\n \\n Technical Deliverable Specification Appendix F\\n \\n \\n© AIRBUS S.A.S. \\nDate: 19/02/2022 AIRBUS AMBER \\nReference_TDS_SP2103303  Page 12 of 432\\n \\n \\n \\nThe reviews can be done either physically on Purchaser’s or Service Provider’s site, or remotely (phone or \\nvideoconference), provided the efficiency and performance of the review is ensured. \\nThe minutes shall be provided by the Service Provider, containing, but not limited to: \\n- Demonstration of meeting objectives fulfilment (reporting, statements), \\n- Identification of deviations, \\n- Record of decisions / actions agreed between the Service Provider and the Purchaser during the review. \\n \\n*Project Review Meeting (PRM)  \\n* The Project review Meeting (PRM) is at the level of the Technical Deliverable Specification and associated \\ncatalogue and manages also middle term activities. The PRM is managed at Work-Package Leader or Head \\nOf level. The main objective of the PRM is to monitor technical activities from the project stand point (progress \\nand issues), namely: \\n \\n- Consolidation of data \\n- Monitor project risks and find solutions with the supplier, \\n- Review offshore activity / in situ resources status, \\n- Review and validate the supplier performance (OTD & OQD)  \\n- Review Airbus inputs data to supplier (workload visibility & clarity of requirements). \\n \\nTRM issues & risks can be inputs to the PRM. The PRM is managed on Monthly or Quarterly basis (maximum). \\n \\n** The Technical Review Meeting (TRM) scope is at the level of the Work Unit per catalogue and manages \\nshort term activities & deliverables at the Engineer or Work-Package Leader level. The TRM consists of \\noperational reviews and detailed technical reviews to follow-up WU deliverables. It is managed on regular \\nbasis, can be weekly. QRM: \\nQuality \\nReview \\nMeeting Service Provider to report \\nthe overall quality status \\n(based on its QAP, \\nAssessment & Audit, and \\nConcessions). Service Provider’s \\ncoordinator, BoD, \\nquality \\nrepresentatives. quarterly 2 days 5 days Online/ \\nOffline \\nCRM: \\nContractu\\nal Review \\nMeeting Technical / Quality / S/C \\nManagement / \\nProcurement. Purchaser’s buyer, \\nauthorised Service \\nProvider’s \\nemployee, s/c \\nmanager, BoD. quarterly 5days 5 days Online/ \\nOffline \\nFPM: \\nFinal \\nProject \\nMeeting Aims at freezing the \\nDeliverables Acceptance \\nStatus, reviewing lessons \\nlearnt and best practices, \\nreviewing closure plan \\n(stop of activities, secure \\nIS/IT decommissioning, \\nsecure \\narchiving/retention). Work package  \\nleaders or focal \\npoints from \\nPurchaser & \\nService Provider, \\ntechnical \\nrepresentatives  5 days after \\nservices \\ncompletion/ \\nrelease of the \\nlast \\ndeliverable  5 Days 5 Days Online/ \\nOffline  \\n \\n Technical Deliverable Specification Appendix F\\n \\n \\n© AIRBUS S.A.S. \\nDate: 19/02/2022 AIRBUS AMBER \\nReference_TDS_SP2103303  Page 13 of 432\\n \\n3.2 General Requirements Addendum \\n4 WORK PACKAGE ENABLING DATA \\nFree-text/WU description Content \\n \\nIn Sections 5 and 6, the service provider will be informed regarding: \\n- Nominated Purchaser contacts \\n- Description of the activities. Service details and types to be subcontracted \\n- List of expected deliverables with their description, acceptance criteria, Inputs, tools and documents \\nrequested, KPI’s, and planning including intermediate milestones expected if needed. \\n- Quantity & Volumes for information \\n- Level of security qualification \\n- Project operational plan (Reviews, schedule,) \\n \\nReminder: On-site Criteria  \\n \\nThe subcontracting activities can be performed on Airbus premises only if: \\n- Required specific tools are not available in the extended enterprise tool list \\n- Restrictive laws governing military programmes or processing of specific data/access \\n- Work has to be performed on specific areas such as in aircraft, helicopters, or test benches \\n- Work with hardware available on site only \\n- Restrictive criteria due to specific innovation programs / confidential projects  \\n \\n Technical Deliverable Description Appendix F\\n \\n \\n \\n© AIRBUS S.A.S. \\nDate: 19/02/2022 AIRBUS AMBER \\nReference_TDS_SP2103303  Page 14 of 432\\n \\n \\n5 SUBCONTRACTED  ACTIVITIES  DESCRIPTION  (WORK UNIT) \\n5.1 AIOEYS - Simulation platforms & Frameworks \\nThe sections 5.1.1 to 5.1.8 describes the Work units to be executed for platforms and frameworks activities \\n5.1.1 MODEL INTEGRATION - MINOR \\n \\nNominated Purchaser Contacts  \\nWork Package Focal Point: Pankaj BHUTANI,  HOG-AIOEYS, Airbus I ndia. pankaj.bhutani@airbus.com  \\nBatch No. \\nSWU_01 \\n \\nDescription  \\nThe Supplier shall provide support to AIOEYS in order to develop the software integration Minor work unit for platform applic ation under the responsibility of Airbus India Simulation \\nProduct Engineer (SPE). \\nThe following steps of activities need to be completed for the Model Integration Minor Work Unit of the Simulation application development as per the AIM. \\n● SCD Update/Verification for model to be integrated \\n● Check availability of model and related inputs in the model repository \\n● Collect the Model inputs like MICDs, Model library, data files, documentation etc. from Model repository \\n● Perform the MICD diff analysis. \\n● Perform the connections to be added/modified for the model to be integrated. \\n● Perform the model integration. \\n● Deliver the working simulation application into the filer. \\n● Perform the simulation application test. \\n \\nComplexity Criteria FTR Criteria Lead Time/ delivery Date \\nMinor Platform specific All the CRs should be correctly implemented. Acceptance criteria are \\nzero issues and no rejected delivery. T0 + 1 day or as defined during \\nKOM \\n \\n \\nComplexity Criteria FTR Criteria Lead Time/ delivery Date  \\n \\n Technical Deliverable Description Appendix F\\n \\n \\n \\n© AIRBUS S.A.S. \\nDate: 19/02/2022 AIRBUS AMBER \\nReference_TDS_SP2103303  Page 15 of 432\\n \\nMinor VSIM-I: up to 2 \\nmodels or packages \\nwith no interface \\nchanges/ up to 100 \\nconnection changes All the CRs should be correctly implemented. Acceptance criterions  \\nare zero issues , no regression, validated & delivered in both BLR & \\nTLS platforms (as applicable) T0 + 1 day or as defined during \\nKOM \\n \\nComplexity Criteria FTR Criteria Lead Time/ delivery Date \\nMinor SP AC0: up to 5 \\nmodels and up to 100 \\nconnection changes All the CRs should be correctly implemented. Acceptance criteria are \\nzero issues and no rejected delivery. T0 + 1 day or as defined during \\nKOM \\n \\nComplexity Criteria FTR Criteria Lead Time/ delivery Date \\nMinor VSIM-D validation \\nactivities, like TD/TF \\nexecution. \\nAlso suitable for \\nCPSP/DGWP/ALTO \\nframeworks update. Observations during validation shall be properly captured. \\nAll frameworks shall be correctly implemented. Acceptance criteria are \\nzero issues and no rejected delivery. T0 + 1 day or as defined during \\nKOM \\n \\n● NOTE: T0 is the start date of this WORK UNIT, refer to the KOM definition in the section above. \\n● Major issue is defined as which will impact the AIOEYS delivery date or the quality of the delivery to the end customer. And the delivery would be marked as REJECTED \\nDELIVERY from Airbus India. The re-work in this case needs to be done in 1 day and rework effort/any effort after the agreed delivery date (refer section above) cannot be billed \\nto Airbus India. \\n● Minor issues are defined as which can be fixed without any impact on delivery date and delivery quality from AIOEYS to the end customer. The re-work in this case needs to be \\ndone in 4 hours and rework effort/any effort after agreed delivery date (refer section above) cannot be billed to Airbus India. \\n● The decision to classify the issue as minor or major is at the discretion of AIOEYS SPE/SSPE. \\n● The table below indicates the change that could happen after input frozen window : \\nComplexity Criteria Number of Changes Input Frozen window \\nMinor Number of CRs  <=2 T0 + 1 \\nChange : New modification CR which is not indicated in previous CRs  or modification or update of current CR \\n \\nAssumptions: \\n● The Integration Manual is the master of the process & can change for improvements. Process steps must be bound to this document.  \\n● The time duration for any step is dependent on the AIM & can change during configuration. Intimation must be given when it changes & accordingly actions must be taken from \\nthe supplier to adhere to it. \\n● CR refers to any change request like Jira, DM, FT, etc. \\n \\nGeneral Acceptance Criteria  \\n \\n Technical Deliverable Description Appendix F\\n \\n \\n \\n© AIRBUS S.A.S. \\nDate: 19/02/2022 AIRBUS AMBER \\nReference_TDS_SP2103303  Page 16 of 432\\n \\nThe Service Provider shall deliver under the following criteria’s expectations to ensure their acceptance:  \\n● Compliance to specific process, method, technical referential, format \\n● Usage of templates \\n● Delivered on-time and on-quality \\n● Comprehensive description of the work performed \\n● Technical quality \\n● Completeness  \\n● Correctness  \\n● Technical agreement by Purchaser specialist  \\n● Open points, deviations identified  \\n● Changes identified  \\n● Integration of proof-reading sheets, review minutes with closed comments  \\n● Traceability in accordance with applicable referential \\n \\nGeneral Requirements \\nDOA related? No \\n \\nSecurity Classifications? Yes \\n \\nExport Control restrictions and licenses:  Yes \\nExport Control restrictions are applicable, and will be communicated through email by the Group manager to the Subcontracting Manager. \\n■ The tools used for the development cannot be off-shored, so the activity has to be performed on-site \\n■ In case of WFH the activities to be executed by connecting to airbus network / infrastructure \\n \\nLanguage Requirements : English \\nLocation of Work: Combined \\nThe foreseen locations to perform, entirely or partly, the activity is Bangalore, India. \\n \\nRationales for on-site or combined activity: \\n◻ Aircraft access |  ◻ Tool access |  ◻ Simulators & Test bench access   \\n◻ Data restricted to in-situ use only | ◻ Plateau (duration…) \\n \\nAirbus Group Inputs/Purchaser Furnished Material \\n- Requirements and specifications \\n- Geometries \\n- Data \\n- Models   \\n \\n Technical Deliverable Description Appendix F\\n \\n \\n \\n© AIRBUS S.A.S. \\nDate: 19/02/2022 AIRBUS AMBER \\nReference_TDS_SP2103303  Page 17 of 432\\n \\nDescription of the input  \\n(input ID: description)  Provided on \\n(date/milestone)  Provided by (Airbus \\ntechnical focal \\npoint/Siglum)  Exchange mode \\n \\n Input_ID1: SCD T0 SPE Mail/SVN/Filer \\nInput_ID2: Models, script, VCOM file, \\nconfiguration files, Packages Date agreed during \\nKOM SPE Mail/Filer/AMDB/ATPRO \\nInput_ID3: Previous and new application path \\nin filer/Configuration management tool T0 SPE Mail/SVN \\nInput_ID4 : Application configuration in \\nConfiguration management tool Date agreed during \\nKOM SPE Mail \\nInput_ID5: FTs/DMs/CRs to be treated in the \\nconcerned Release Date agreed during \\nKOM SPE Mail/Jira  \\nInput_ID6: Delivery location T0 SPE Mail/SVN  \\nInput_ID7 : Configuration Management of \\nintegration models Date agreed during \\nKOM SPE Mail/SVN  \\nInput_ID8: Rebounds from the end customer if \\nany When applicable  SPE Mail/SVN  \\n \\nAreas of Application \\nMain Applications:  SA, LR, A380, A350 (across multiple ATA Chapters) \\n \\nBatch No. Deliverable description & enabling data Signatory \\nlevel Quantity/Volume* per \\nTask Group  Activity shall be done as per … \\nDelivery \\ndate / \\nlead-time KPI P&M and \\nTechnical \\nReferenti\\nal Tools / \\nformats Release criteria \\n \\n \\nSWU_01 \\n \\n(Model Integration \\n– Minor) \\n 5.1.1_IN \\n5.1.1_EX Del_IDz1: Detailed analysis of \\nFTs/DMs/CRs  N/A \\nRefer to Section 5.1.12  Py1 MS word No inputs is requested \\nafter agreed date \\nT0 + 1 \\nday or \\nagreed \\nduring \\nthe KOM  FTR > 98%  \\nOTD > 97%  Del_IDz2: Status of FTs/DMs/CRs and \\nprogress N/A MS Excel Correct Status of DM  \\nDel_IDz3: MICD diff analysis and \\nconnections update for the application.  N/A NA Application launch is \\nOK and integration test \\nis OK with no \\nregression  \\n \\n Technical Deliverable Description Appendix F\\n \\n \\n \\n© AIRBUS S.A.S. \\nDate: 19/02/2022 AIRBUS AMBER \\nReference_TDS_SP2103303  Page 18 of 432\\n \\nDel_IDz4: All modification mentioned in \\nFTs/DMs/CRs agreed during KOM \\nshould be completed  N/A  All DMs modification \\nis working correctly \\nDel_IDz5: Launcher of all platforms for \\nall releases  N/A NA No report error during \\nlaunch \\nDel_IDz6: Application & integration \\nmodels configuration management files \\nare updated  N/A Configuration \\nManagement  Configuration delivery \\nwithout errors. \\nDel_IDz7: Application updates in the \\nsimulation portals and connection \\npublish. N/A Portals Configuration uploads \\nwithout any error and \\nvisible in portals \\nDel_IDz8: Change/Defect management \\nupdate – JIRA or any other mentioned in \\nAIM. N/A Jira All CRs update with \\nmodification \\ninformation and status \\n/ verification updated \\ncorrectly \\nDel_IDz9: Report of successful \\nlaunching and list of all modified files for \\nthe application.  N/A MS Excel Report consistent with \\nthe application file \\nchanges \\nDel_IDz10: Checklist/peer review sheet  N/A MS Excel All the points of the \\nchecklist are OK \\n \\nP&M and Technical Referential  \\n▪ Py1 = Adherence to A5456, A5457 for model handling or Change Request initiating  \\n▪  \\n  References: Delivery checklists, Process training documents as given in inputs  \\nTools and formats  \\nTy1 = sigma, mexico, mi-box, eshowflow, etc  \\nRelease Criteria  \\n▪ For each deliverable of this work unit, the release criteria is defined in the above table or will be discussed during the KOM.  \\nKPI \\n 𝑂𝑛 𝑇𝑖𝑚𝑒 𝐷𝑒𝑙𝑖𝑣𝑒𝑟𝑦  (𝑂𝑇𝐷)=\\u0be1௨\\u0be0\\u0bd5\\u0bd8\\u0be5  \\u0be2\\u0bd9 ௗ\\u0bd8\\u0bdf\\u0bdc௩\\u0bd8\\u0be5\\u0bdc\\u0bd8௦  \\u0be3\\u0be5\\u0be2௩\\u0bdcௗ\\u0bd8ௗ   ைேି்ூொ \\u0bd5௬ ௧\\u0bdb\\u0bd8 ௦௨\\u0be3\\u0be3\\u0bdf\\u0bdc\\u0bd8\\u0be5  \\u0bdc\\u0be1 ௧\\u0bdb\\u0bd8 \\u0be3\\u0bd8\\u0be5\\u0bdc\\u0be2ௗ\\n௧\\u0be2௧\\u0bd4\\u0bdf \\u0be1௨\\u0be0\\u0bd5\\u0bd8\\u0be5  \\u0be2\\u0bd9 ௗ\\u0bd8\\u0bdf\\u0bdc௩\\u0bd8\\u0be5\\u0bdc\\u0bd8௦  \\u0be3\\u0be5\\u0be2௩\\u0bdcௗ\\u0bd8ௗ  \\u0bd5௬ ௧\\u0bdb\\u0bd8 ௦௨\\u0be3\\u0be3\\u0bdf\\u0bdc\\u0bd8\\u0be5  \\u0bdc\\u0be1 ௧\\u0bdb\\u0bd8 \\u0be3\\u0bd8\\u0be5\\u0bdc\\u0be2ௗ 𝑥 100  \\n \\n Technical Deliverable Description Appendix F\\n \\n \\n \\n© AIRBUS S.A.S. \\nDate: 19/02/2022 AIRBUS AMBER \\nReference_TDS_SP2103303  Page 19 of 432\\n \\n \\n 𝑂𝑛 𝑄𝑢𝑎𝑙𝑖𝑡𝑦 𝐷𝑒𝑙𝑖𝑣𝑒𝑟𝑦  (𝑂𝑄𝐷)=\\u0be1௨\\u0be0\\u0bd5\\u0bd8\\u0be5  \\u0be2\\u0bd9 ௗ\\u0bd8\\u0bdf\\u0bdc௩\\u0bd8\\u0be5\\u0bdc\\u0bd8௦  \\u0bd4\\u0bd6\\u0bd6\\u0bd8\\u0be3௧\\u0bd8ௗ  \\u0bd5௬ \\u0bba\\u0bdc\\u0be5\\u0bd5௨௦ \\u0bdc\\u0be1 ௧\\u0bdb\\u0bd8 \\u0be3\\u0bd8\\u0be5\\u0bdc\\u0be2ௗ\\n௧\\u0be2௧\\u0bd4\\u0bdf \\u0be1௨\\u0be0\\u0bd5\\u0bd8\\u0be5  ௗ\\u0bd8\\u0bdf\\u0bdc௩\\u0bd8\\u0be5\\u0bdc\\u0bd8௦  \\u0be5\\u0bd8௩\\u0bdc\\u0bd8௪\\u0bd8ௗ  \\u0bd5௬ \\u0bba\\u0bdc\\u0be5\\u0bd5௨௦ \\u0bdc\\u0be1 ௧\\u0bdb\\u0bd8 \\u0be3\\u0bd8\\u0be5\\u0bdc\\u0be2ௗ 𝑥 100 \\n \\nOTD and OQD are expressed in percentage (%). \\n \\nPlease refer to UG1501913, UG1501941 for more information \\n \\nNote: *In case of Work Unit item definition column “quantity” is only a forecast and not contractually binding. \\nThe structure of the Work Units definition shall be represented in the technical and commercial offer from the Service Provider!  \\n5.1.2 MODEL INTEGRATION - MEDIUM \\nNominated Purchaser Contacts  \\nWork Package Focal Point: Pankaj BHUTANI,  HOG-AIOEYS, Airbus India. pankaj.bhutani@airbus.com  \\nBatch No. \\nSWU_02 \\nDescription  \\nThe Supplier shall provide support to AIOEYS in order to develop the software integration Medium work unit for platforms application under the responsibility of Airbus India the \\nSimulation Product Engineer (SPE). \\nThe following steps of activities need to be completed for the Model Integration Medium Work Unit of the Simulation application development as pe r the AIM.  \\nSCD Verification for model to be integrated \\nCheck availability of model and related inputs in the model repository \\nCollect the Model inputs like MICDs, Model library and documentation from Model repository \\nPerform the MICD diff analysis. \\nPerform the connections to be added/modified for the model to be integrated. \\nPerform the model integration. \\nDeliver the working simulation application into the filer. \\nPerform the simulation application test. \\n \\nComplexity Criteria FTR Criteria Lead Time/ delivery Date \\nMedium Platform specific All the CRs should be correctly implemented. Acceptance criteria are \\nzero issues and no rejected delivery. T0 + 3 day or as defined during \\nKOM \\n \\nComplexity Criteria FTR Criteria Lead Time/ delivery Date \\nMedium VSIM-I up to 5 \\nmodels or packages \\nwith no interface All the CRs should be correctly implemented. Acceptance criteria are \\nzero issues , no regression, validated & delivered in both BLR & TLS \\nplatforms (as applicable) T0 + 3 day or as defined during \\nKOM  \\n \\n Technical Deliverable Description Appendix F\\n \\n \\n \\n© AIRBUS S.A.S. \\nDate: 19/02/2022 AIRBUS AMBER \\nReference_TDS_SP2103303  Page 20 of 432\\n \\nchanges/ up to 400 \\nconnection changes \\n \\n \\nComplexity Criteria FTR Criteria Lead Time/ delivery Date \\nMedium SP AC0 up to 9 \\nmodels and up to 300 \\nconnection changes All the CRs should be correctly implemented. Acceptance criteria are \\nzero issues and no rejected delivery. T0 + 3 day or as defined during \\nKOM \\n \\nComplexity Criteria FTR Criteria Lead Time/ delivery Date \\nMedium VSIM-D: around 5 \\nsimple models or \\nPRIM / ENG package \\nupdates All the models shall be correctly integrated. Acceptance criteria are \\nzero issues and no rejected delivery. T0 + 3 day or as defined during \\nKOM \\n \\nNOTE: T0 is the start date of this WORK UNIT, refer KOM definition  in the section above. \\nMajor issue is defined as which will impact the AIOEYS delivery date or the quality of the delivery to end customer. And the delivery would be marked as REJECTED DELIVERY from \\nAirbus India. The re-work in this case needs to be done in 1 day and rework effort/any effort after agreed delivery date (refer section above) cannot be billed to Airbus India. \\nMinor issue is defined as which can be fixed without any impact in delivery date and delivery quality from AIOEYS to end customer. The re-work in this case needs to be done in 4 hours \\nand rework effort/any effort after agreed delivery date (refer section above) cannot be billed to Airbus India. \\n \\nThe decision to classify the issue as minor or major is at the discretion of AIOEYS SPE/SSPE. \\nThe below table indicates the change that could happen after input frozen window : \\nComplexity Criteria Number of Changes Input Frozen window \\nMedium Number of CRs  <=5 T0 + 2 \\n Change : New modification CR which is not indicated in previous CRs  or modification or update of current CR \\n \\nGeneral Acceptance Criteria \\nThe Service Provider shall deliver under the following criteria’s expectations to ensure their acceptance: \\n● Compliance to specific process, method, technical referential, format \\n● Usage of templates \\n● Delivered on-time and on-quality \\n● Comprehensive description of the work performed \\n● Technical quality \\n● Completeness  \\n● Correctness  \\n● Technical agreement by Purchaser specialist  \\n● Open points, deviations identified   \\n \\n Technical Deliverable Description Appendix F\\n \\n \\n \\n© AIRBUS S.A.S. \\nDate: 19/02/2022 AIRBUS AMBER \\nReference_TDS_SP2103303  Page 21 of 432\\n \\n● Changes identified  \\n● Integration of proof-reading sheets, review minutes with closed comments  \\n● Traceability in accordance with applicable referential \\n \\nGeneral Requirements \\nDOA related? No \\n \\nSecurity Classifications? Yes \\n \\nExport Control restrictions and licenses:  Yes \\nExport Control restrictions are applicable, and will be communicated through email by the Group manager to the Subcontracting Manager. \\n■ The tools used for the development cannot be off-shored, so the activity has to be performed on-site \\n■ In case of WFH the activities to be executed by connecting to airbus network / infrastructure \\n \\nLanguage Requirements : English \\nLocation of Work: Combined \\nThe foreseen locations to perform, entirely or partly, the activity is Bangalore, India. \\n \\nRationales for on-site or combined activity: \\n◻ Aircraft access |  ◻ Tool access |  ◻ Simulators & Test bench access   \\n◻ Data restricted to in-situ use only | ◻ Plateau (duration…)  \\n \\nAirbus Group Inputs/Purchaser Furnished Material \\n- Requirements and specifications \\n- Geometries \\n- Data \\n- Models  \\nDescription of the input  \\n(input ID: description)  Provided on  \\n(date/milestone)  Provided by (Airbus \\ntechnical focal \\npoint/Siglum)  Exchange mode  \\n \\nInput_ID1: SCD T0 SPE Mail/SVN \\nInput_ID2: MICD/Libraries/VCOM/Config \\nfiles/Packages KOM SPE Artifactory/AMDB/Mail/JIRA/Filer/SVN \\nInput_ID3: CR’s List / List of Connections (.lvi)  KOM SPE JIRA  \\n \\n Technical Deliverable Description Appendix F\\n \\n \\n \\n© AIRBUS S.A.S. \\nDate: 19/02/2022 AIRBUS AMBER \\nReference_TDS_SP2103303  Page 22 of 432\\n \\nInput_ID4 : Application/ALTO path  T0 SPE filer  \\nInput_ID5 : Validation Files/TR’s  T0/KOM SPE Filer/SVN \\nInput_ID6: Delivery Path T0 SPE Filer \\nInput_ID7: Configuration Management of \\nintegration models KOM SPE Mail/SVN \\nInput_ID8: SR’s if raised for support post \\ndelivery Need Basis  SPE JIRA/Mail \\n \\nAreas of Application \\nMain Applications:  SA/LR/A350/A380 \\n \\nBatch No. Deliverable description & enabling data Signatory level  Quantity/Volu\\nme* per Task \\nGroup  Activity shall be done as per … \\nDelivery date \\n/lead-time  KPI P&M and \\nTechnical \\nReferential Tools / \\nformats Release criteria \\n \\n \\nSWU_02 \\n \\n(Model Integration \\n- Medium) \\n  \\n \\n5.1.2_IN \\n5.1.2_EX Del_IDz1: Detailed analysis of \\nFTs/DMs/CRs  N/A \\nRefer to Section \\n5.1.12 Py1 MS \\nword No inputs is requested after \\nagreed date \\nT0 + 3 days \\nor agreed \\nduring the \\nKOM FTR > 98%  \\nOTD > 97%  Del_IDz2: Status of FTs/DMs/CRs and \\nprogress N/A MS \\nExcel Correct Status of DM \\nDel_IDz3: MICD diff analysis and \\nconnections update for the application.  N/A NA Application launch is OK \\nand integration test is OK \\nwith no regression \\nDel_IDz4: All modification mentioned in \\nFTs/DMs/CRs agreed during KOM \\nshould be completed  N/A  All DMs modification is \\nworking correctly \\nDel_IDz5: Launcher of all platforms for \\nall releases  N/A NA No report error during \\nlaunch \\nDel_IDz6: Application & integration \\nmodels configuration management files \\nare updated  N/A Configu\\nration \\nManage\\nment Configuration delivery \\nwithout errors.  \\n \\n Technical Deliverable Description Appendix F\\n \\n \\n \\n© AIRBUS S.A.S. \\nDate: 19/02/2022 AIRBUS AMBER \\nReference_TDS_SP2103303  Page 23 of 432\\n \\nDel_IDz7: Application updates in the \\nsimulation portals and connection \\npublish. N/A Portals Configuration uploads \\nwithout any error and \\nvisible in portals \\nDel_IDz8: Change/Defect management \\nupdate – JIRA or any other mentioned in \\nAIM. N/A Jira All CRs update with \\nmodification information \\nand status / verification \\nupdated correctly \\nDel_IDz9: Report of successful launching \\nand list of all modified files for the \\napplication.  N/A MS \\nExcel Report consistent with the \\napplication file changes \\nDel_IDz10: Checklist/peer review sheet  N/A MS \\nExcel All the points of the \\nchecklist are OK \\n \\nP&M and Technical Referential  \\n \\nPy1: A5456, A5457 for model handling or Change Request initiating  \\n \\nReferences: Delivery checklists, Process training documents( UG1501913, UG1501941 ) as given in inputs \\nTools and formats  \\nTy1 = sigma, mexico, mi-box, eshowflow, etc  \\nRelease Criteria  \\n▪ For each deliverable of this work unit, the release criteria is defined in the above table or will be discussed during the KOM.  \\nKPI \\n 𝑂𝑛 𝑇𝑖𝑚𝑒 𝐷𝑒𝑙𝑖𝑣𝑒𝑟𝑦  (𝑂𝑇𝐷)=\\u0be1௨\\u0be0\\u0bd5\\u0bd8\\u0be5  \\u0be2\\u0bd9 ௗ\\u0bd8\\u0bdf\\u0bdc௩\\u0bd8\\u0be5\\u0bdc\\u0bd8௦  \\u0be3\\u0be5\\u0be2௩\\u0bdcௗ\\u0bd8ௗ   ைேି்ூொ \\u0bd5௬ ௧\\u0bdb\\u0bd8 ௦௨\\u0be3\\u0be3\\u0bdf\\u0bdc\\u0bd8\\u0be5  \\u0bdc\\u0be1 ௧\\u0bdb\\u0bd8 \\u0be3\\u0bd8\\u0be5\\u0bdc\\u0be2ௗ\\n௧\\u0be2௧\\u0bd4\\u0bdf \\u0be1௨\\u0be0\\u0bd5\\u0bd8\\u0be5  \\u0be2\\u0bd9 ௗ\\u0bd8\\u0bdf\\u0bdc௩\\u0bd8\\u0be5\\u0bdc\\u0bd8௦  \\u0be3\\u0be5\\u0be2௩\\u0bdcௗ\\u0bd8ௗ  \\u0bd5௬ ௧\\u0bdb\\u0bd8 ௦௨\\u0be3\\u0be3\\u0bdf\\u0bdc\\u0bd8\\u0be5  \\u0bdc\\u0be1 ௧\\u0bdb\\u0bd8 \\u0be3\\u0bd8\\u0be5\\u0bdc\\u0be2ௗ 𝑥 100 \\n \\n 𝑂𝑛 𝑄𝑢𝑎𝑙𝑖𝑡𝑦 𝐷𝑒𝑙𝑖𝑣𝑒𝑟𝑦 (𝑂𝑄𝐷) =\\u0be1௨\\u0be0\\u0bd5\\u0bd8\\u0be5  \\u0be2\\u0bd9 ௗ\\u0bd8\\u0bdf\\u0bdc௩\\u0bd8\\u0be5\\u0bdc\\u0bd8௦  \\u0bd4\\u0bd6\\u0bd6\\u0bd8\\u0be3௧\\u0bd8ௗ  \\u0bd5௬ \\u0bba\\u0bdc\\u0be5\\u0bd5௨௦ \\u0bdc\\u0be1 ௧\\u0bdb\\u0bd8 \\u0be3\\u0bd8\\u0be5\\u0bdc\\u0be2ௗ\\n௧\\u0be2௧\\u0bd4\\u0bdf \\u0be1௨\\u0be0\\u0bd5\\u0bd8\\u0be5  ௗ\\u0bd8\\u0bdf\\u0bdc௩\\u0bd8\\u0be5\\u0bdc\\u0bd8௦  \\u0be5\\u0bd8௩\\u0bdc\\u0bd8௪\\u0bd8ௗ  \\u0bd5௬ \\u0bba\\u0bdc\\u0be5\\u0bd5௨௦ \\u0bdc\\u0be1 ௧\\u0bdb\\u0bd8 \\u0be3\\u0bd8\\u0be5\\u0bdc\\u0be2ௗ 𝑥 100 \\n \\nOTD and OQD are expressed in percentage (%). \\n \\nPlease refer to UG1501913, UG1501941 for more information \\n \\nNote: *In case of Work Unit item definition column “quantity” is only a forecast and not contractually binding. \\nThe structure of the Work Units definition shall be represented in the technical and commercial offer from the Service Provider!   \\n \\n Technical Deliverable Description Appendix F\\n \\n \\n \\n© AIRBUS S.A.S. \\nDate: 19/02/2022 AIRBUS AMBER \\nReference_TDS_SP2103303  Page 24 of 432\\n \\n5.1.3 MODEL INTEGRATION - HIGH \\nNominated Purchaser Contacts  \\nWork Package Focal Point: Pankaj BHUTANI,  HOG-AIOEYS, Airbus India. pankaj.bhutani@airbus.com  \\nBatch No. \\nSWU_03 \\nDescription  \\nThe Supplier shall provide support to AIOEYS in order to develop the Frameworks integration work unit for platforms applicati on under the responsibility of Airbus India \\nthe Simulation Product Engineer (SPE). \\n \\nThe following steps of activities need to be completed for the Frameworks integration Work Unit of the Simulation application development as per the AIM. \\nSCD Update/Verification for frameworks to be integrated. \\nCheck availability of frameworks and related inputs. \\nCollect the documentation for frameworks from frameworks repository. \\nUnderstand the changes and features of the frameworks to be integrated. \\nPerform the Frameworks integration. \\nDeliver the working simulation application into the filer. \\nPerform the simulation application test. \\n \\n \\nComplexity Criteria FTR Criteria Lead Time/ delivery Date \\nMajor Platform specific All the CRs should be correctly implemented. Acceptance criteria are \\nzero issues and no rejected delivery. T0 + 5 day or as defined during \\nKOM \\n \\nComplexity Criteria FTR Criteria Lead Time/ delivery Date \\nMajor VSIM_I more than \\n400 connection \\nchanges/new \\nmodel/package \\nintegration All the CRs should be correctly implemented. Acceptance criteria are \\nzero issues , no regression, validated & delivered in both BLR & TLS \\nplatforms (as applicable) T0 + 5 day or as defined during \\nKOM \\n \\nComplexity Criteria FTR Criteria Lead Time/ delivery Date \\nMajor SP AC0 Up to 12 \\nmodels and up to 450 \\nconnection changes All the CRs should be correctly implemented. Acceptance criteria are \\nzero issues and no rejected delivery. T0 + 5 day or as defined during \\nKOM \\n  \\n \\n Technical Deliverable Description Appendix F\\n \\n \\n \\n© AIRBUS S.A.S. \\nDate: 19/02/2022 AIRBUS AMBER \\nReference_TDS_SP2103303  Page 25 of 432\\n \\nComplexity Criteria FTR Criteria Lead Time/ delivery Date \\nMajor VSIM-D: around \\ncomplex 5 models All the models shall be correctly integrated. Acceptance criteria are \\nzero issues and no rejected delivery. T0 + 5 day or as defined during \\nKOM \\n \\nNOTE: T0 is the start date of this WORK UNIT, refer to the KOM definition in the section above.  \\nMajor issue is defined as which will impact the AIOEYS delivery date or the quality of the delivery to the end customer. And the delivery would be marked as \\nREJECTED DELIVERY from Airbus India. The re-work in this case needs to be done in 1 day and rework effort/any effort after the agreed delivery date (refer section \\nabove) cannot be billed to Airbus India. \\nMinor issues are defined as which can be fixed without any impact on delivery date and delivery quality from AIOEYS to the end customer. The re-work in this case \\nneeds to be done in 4 hours and rework effort/any effort after agreed delivery date (refer section above) cannot be billed to Airbus India. \\n \\nThe decision to classify the issue as minor or major is at the discretion of AIOEYS SPE/SSPE. \\n \\nThe table below indicates the change that could happen after input frozen window : \\nComplexity Criteria Number of Changes Input Frozen window \\nMajor Number of CRs  <=10 T0 + 4 \\n Change : New modification CR which is not indicated in previous CRs  or modification or update of current CR \\nGeneral Acceptance Criteria \\nThe Service Provider shall deliver under the following criteria’s expectations to ensure their acceptance:  \\n● Compliance to specific process, method, technical referential, format \\n● Usage of templates \\n● Delivered on-time and on-quality \\n● Comprehensive description of the work performed \\n● Technical quality \\n● Completeness  \\n● Correctness  \\n● Technical agreement by Purchaser specialist  \\n● Open points, deviations identified  \\n● Changes identified  \\n● Integration of proof-reading sheets, review minutes with closed comments  \\n● Traceability in accordance with applicable referential \\nGeneral Requirements \\nDOA related? No \\n \\nSecurity Classifications? Yes \\n \\n  \\n \\n Technical Deliverable Description Appendix F\\n \\n \\n \\n© AIRBUS S.A.S. \\nDate: 19/02/2022 AIRBUS AMBER \\nReference_TDS_SP2103303  Page 26 of 432\\n \\nExport Control restrictions and licenses:  Yes \\nExport Control restrictions are applicable, and will be communicated through email by the Group manager to the Subcontracting Manager. \\n■ The tools used for the development cannot be off-shored, so the activity has to be performed on-site \\n■ In case of WFH the activities to be executed by connecting to airbus network / infrastructure \\n \\nLanguage Requirements : English \\nLocation of Work: Combined \\nThe foreseen locations to perform, entirely or partly, the activity is Bangalore, India. \\n \\nRationales for on-site or combined activity: \\n◻ Aircraft access |  ◻ Tool access |  ◻ Simulators & Test bench access   \\n◻ Data restricted to in-situ use only |  ◻ Plateau (duration…)  \\n \\nAirbus Group Inputs/Purchaser Furnished Material \\n- Requirements and specifications \\n- Geometries \\n- Data \\n- Models  \\nDescription of the input  \\n(input ID: description)  Provided on  \\n(date/milestone)  Provided by (Airbus technical focal point/Siglum)  Exchange mode  \\n \\nInput_ID1: SCD T0 SPE Mail/SVN/Filer \\nInput_ID2: Frameworks details, scripts, \\nconfiguration files Date agreed during \\nKOM SPE Mail/Filer/AMDB/ATPRO \\nInput_ID3: Previous and new application path \\nin filer/Configuration management tool T0 SPE Mail/SVN \\nInput_ID4: Application configuration in \\nConfiguration management tool Date agreed during \\nKOM SPE Mail  \\nInput_ID5: FTs/DMs/CRs to be treated in the \\nconcerned Release Date agreed during \\nKOM SPE Mail/Jira  \\nInput_ID6: Delivery location T0 SPE Mail/SVN  \\nInput_ID7: Rebounds from the end customer if \\nany Date agreed during \\nKOM SPE Mail/SVN \\n \\nAreas of Application  \\n \\n Technical Deliverable Description Appendix F\\n \\n \\n \\n© AIRBUS S.A.S. \\nDate: 19/02/2022 AIRBUS AMBER \\nReference_TDS_SP2103303  Page 27 of 432\\n \\nMain Applications:  SA, LR, A380, A350 (across multiple ATA Chapters)  \\n \\nBatch No. Deliverable description & enabling data Signatory level  Quantity/Volum\\ne* per Task \\nGroup  Activity shall be done as per … \\nDelivery \\ndate/ lead-\\ntime KPI P&M and \\nTechnical \\nReferentia\\nl Tools / \\nformats Release criteria \\n \\n \\nSWU_03 \\n \\n(Model Integration \\n- High) \\n5.1.3_IN \\n5.1.3_EX Del_IDz1: Detailed analysis of \\nFTs/DMs/CRs  N/A \\nRefer to Section \\n5.1.12 Py1 MS word  No inputs is requested after \\nagreed date \\nT0 + 5 day \\nor agreed \\nduring the \\nKOM FTR > 98%  \\nOTD > 97%  Del_IDz2: Status of FTs/DMs/CRs and \\nprogress N/A MS Excel  Correct Status of DM \\nDel_IDz3: All modification mentioned in \\nFTs/DMs/CRs agreed during KOM should \\nbe completed  N/A  All DMs modification is \\nworking correctly \\nDel_IDz4: Launcher of all platforms for all \\nreleases N/A NA No report error during \\nlaunch \\nDel_IDz5: Application configuration \\nmanagement files are updated  N/A Configurat\\nion \\nManageme\\nnt Configuration delivery \\nwithout errors. \\nDel_IDz6: Application updates in the \\nsimulation portals and connection publish.  N/A Portals Configuration uploads \\nwithout any error and visible \\nin portals \\nDel_IDz7: Change/Defect management \\nupdate – JIRA or any other mentioned in \\nAIM N/A Jira All CRs update with \\nmodification information \\nand status / verification \\nupdated correctly \\nDel_IDz8: Report of successful launching \\nand list of all modified files for the \\napplication  N/A MS Excel  Report consistent with the \\napplication file changes \\nDel_IDz9: Checklist/peer review sheet  N/A MS Excel  All the points of the \\nchecklist are OK \\n \\nP&M and Technical Referential  \\n▪ Py1 = Adherence to A5456, A5457 for model handling or Change Request initiating   \\n \\n Technical Deliverable Description Appendix F\\n \\n \\n \\n© AIRBUS S.A.S. \\nDate: 19/02/2022 AIRBUS AMBER \\nReference_TDS_SP2103303  Page 28 of 432\\n \\n▪ References: Delivery checklists, Process training documents( UG1501913, UG1501941 ) as given in inputs  \\nTools and formats  \\nTy1 = sigma, mexico, mi -box, eshowflow, etc  \\nRelease Criteria  \\n▪ For each deliverable of this work unit, the release criteria is defined in the above table or will be discussed during the KOM.  \\nKPI \\n 𝑂𝑛 𝑇𝑖𝑚𝑒 𝐷𝑒𝑙𝑖𝑣𝑒𝑟𝑦  (𝑂𝑇𝐷)=\\u0be1௨\\u0be0\\u0bd5\\u0bd8\\u0be5  \\u0be2\\u0bd9 ௗ\\u0bd8\\u0bdf\\u0bdc௩\\u0bd8\\u0be5\\u0bdc\\u0bd8௦  \\u0be3\\u0be5\\u0be2௩\\u0bdcௗ\\u0bd8ௗ   ைேି்ூொ \\u0bd5௬ ௧\\u0bdb\\u0bd8 ௦௨\\u0be3\\u0be3\\u0bdf\\u0bdc\\u0bd8\\u0be5  \\u0bdc\\u0be1 ௧\\u0bdb\\u0bd8 \\u0be3\\u0bd8\\u0be5\\u0bdc\\u0be2ௗ\\n௧\\u0be2௧\\u0bd4\\u0bdf \\u0be1௨\\u0be0\\u0bd5\\u0bd8\\u0be5  \\u0be2\\u0bd9 ௗ\\u0bd8\\u0bdf\\u0bdc௩\\u0bd8\\u0be5\\u0bdc\\u0bd8௦  \\u0be3\\u0be5\\u0be2௩\\u0bdcௗ\\u0bd8ௗ  \\u0bd5௬ ௧\\u0bdb\\u0bd8 ௦௨\\u0be3\\u0be3\\u0bdf\\u0bdc\\u0bd8\\u0be5  \\u0bdc\\u0be1 ௧\\u0bdb\\u0bd8 \\u0be3\\u0bd8\\u0be5\\u0bdc\\u0be2ௗ 𝑥 100 \\n \\n 𝑂𝑛 𝑄𝑢𝑎𝑙𝑖𝑡𝑦 𝐷𝑒𝑙𝑖𝑣𝑒𝑟𝑦 (𝑂𝑄𝐷) =\\u0be1௨\\u0be0\\u0bd5\\u0bd8\\u0be5  \\u0be2\\u0bd9 ௗ\\u0bd8\\u0bdf\\u0bdc௩\\u0bd8\\u0be5\\u0bdc\\u0bd8௦  \\u0bd4\\u0bd6\\u0bd6\\u0bd8\\u0be3௧\\u0bd8ௗ  \\u0bd5௬ \\u0bba\\u0bdc\\u0be5\\u0bd5௨௦ \\u0bdc\\u0be1 ௧\\u0bdb\\u0bd8 \\u0be3\\u0bd8\\u0be5\\u0bdc\\u0be2ௗ\\n௧\\u0be2௧\\u0bd4\\u0bdf \\u0be1௨\\u0be0\\u0bd5\\u0bd8\\u0be5  ௗ\\u0bd8\\u0bdf\\u0bdc௩\\u0bd8\\u0be5\\u0bdc\\u0bd8௦  \\u0be5\\u0bd8௩\\u0bdc\\u0bd8௪\\u0bd8ௗ  \\u0bd5௬ \\u0bba\\u0bdc\\u0be5\\u0bd5௨௦ \\u0bdc\\u0be1 ௧\\u0bdb\\u0bd8 \\u0be3\\u0bd8\\u0be5\\u0bdc\\u0be2ௗ 𝑥 100 \\n \\nOTD and OQD are expressed in percentage (%). \\n \\nPlease refer to UG1501913, UG1501941 for more information \\n \\nNote: *In case of Work Unit item definition column “quantity” is only a forecast and not contractually binding. \\nThe structure of the Work Units definition shall be represented in the technical and commercial offer from the Service Provider!  \\n5.1.4 PLATFORM VALIDATION  \\n \\nNominated Purchaser Contacts  \\nWork Package Focal Point: Pankaj BHUTANI,HOG -AIOEYS, Airbus India. pankaj.bhutani@airbus.com  \\nBatch No. \\nSWU_04 \\nDescription  \\nThe Supplier shall provide support to AIOEYS in order to develop the Verification and Validation work unit for platforms application under the responsibility of Airbus \\nIndia the Simulation Product Engineer (SPE). \\n \\nThe following steps of activities need to be completed for the Verification and Validation Work Unit of the Simulation application development as per the AIM. \\nPerforming the verification tests for each of treated CR. \\nCreating the report for CR verification \\nPerforming the basic SVR check of the application and providing the report for the same. This should include the test results from a simple flight loop t est (Take off, cruise \\nand landing)  \\n \\n Technical Deliverable Description Appendix F\\n \\n \\n \\n© AIRBUS S.A.S. \\nDate: 19/02/2022 AIRBUS AMBER \\nReference_TDS_SP2103303  Page 29 of 432\\n \\nPerforming the General Tests (GT) and producing TR document. \\nUpdating the GT document whenever required in consultation with SPE. \\nIf any defects found during GT, corresponding CR needs to be raised in Jira (refer AIM) \\nThe limitations, anomalies observed should be clearly recorded in the TR \\nAny documentation related CRs to be treated. \\nRebounds from the end customer to be fixed if it is a rebound due to the work done in this work unit. \\nValidation must be performed in both Toulouse & Bangalore platforms (based on applicability) \\n \\nThe following is defined for the Verification and Validation work unit. \\n \\nCriteria FTR Criteria Lead Time/ delivery Date \\nTest Document execution Zero issues and no rejected delivery    T0 + 2 Day \\n \\nComplexity Criteria FTR Criteria Lead Time/ delivery \\nDate \\nNA Manual Validation (Frameworks specific) Proper validation of the tool as per steps \\nmentioned in TR should be completed. T0+2 days \\n \\nNOTE: T0 is t he start date of this WORK UNIT. In case of this WU is used for Frameworks tool , the manual test plan should be executed and  \\nthe TR document must be updated. Any specificities to be discussed in KOM. \\n \\nInput frozen window: Not applicable \\n \\nGeneral Acceptance Criteria \\nThe Service Provider shall deliver under the following criteria’s expectations to ensure their acceptance:  \\nCriteria that can be considered: \\n● Compliance to specific process, method, technical referential, format \\n● Usage of templates \\n● Delivered on-time and on-quality \\n● Comprehensive description of the work performed \\n● Technical quality \\n● Completeness  \\n● Correctness  \\n● Technical agreement by Purchaser specialist  \\n● Open points, deviations identified   \\n \\n Technical Deliverable Description Appendix F\\n \\n \\n \\n© AIRBUS S.A.S. \\nDate: 19/02/2022 AIRBUS AMBER \\nReference_TDS_SP2103303  Page 30 of 432\\n \\n● Changes identified  \\n● Integration of proof-reading sheets, review minutes with closed comments  \\n● Traceability in accordance with applicable referential \\nGeneral Requirements \\nDOA related? No \\n \\nSecurity Classifications? Yes \\n \\nExport Control restrictions and licenses:  Yes \\nExport Control restrictions are applicable, and will be communicated through email by the Group manager to the Subcontracting Manager. \\n■ The tools used for the development cannot be off-shored, so the activity has to be performed on-site \\n■ In case of WFH the activities to be executed by connecting to airbus network / infrastructure \\n \\nLanguage Requirements : English \\nLocation of Work: Combined \\nThe foreseen locations to perform, entirely or partly, the activity is Bangalore, India. \\n \\nRationales for on-site or combined activity: \\n◻ Aircraft access |  ◻ Tool access |  ◻ Simulators & Test bench access   \\n◻ Data restricted to in-situ use only |  ◻ Plateau (duration…)  \\n \\n \\nAirbus Group Inputs/Purchaser Furnished Material \\n- Requirements and specifications \\n- Geometries \\n- Data \\n- Models  \\nDescription of the input  \\n(input ID: description)  Provided on  \\n(date/milestone)  Provided by (Airbus \\ntechnical focal \\npoint/Siglum)  Exchange mode  \\n \\nInput_ID1: Test Documents  T0 SPE(AIOEYS)  Mail/SVN  \\nInput_ID2: Previous standard test results T0 SPE(AIOEYS) Mail/SVN \\nInput_ID3: Documentation CRs to be treated T0 SPE(AIOEYS)  Mail/SVN  \\nInput_ID4: Delivery location of the documents T0 SPE(AIOEYS) Mail/SVN '"
            ],
            "application/vnd.google.colaboratory.intrinsic+json": {
              "type": "string"
            }
          },
          "metadata": {},
          "execution_count": 26
        }
      ]
    },
    {
      "cell_type": "code",
      "source": [
        "pattern = r\"^\\d+(\\.\\d+)*\\s+[A-Z\\s()&/]+\"\n",
        "\n",
        "# Function to extract topics and their content\n",
        "def extract_topics(text):\n",
        "    matches = re.finditer(pattern, text, re.MULTILINE)\n",
        "    topics = []\n",
        "\n",
        "    # Get all matches and their starting positions\n",
        "    positions = [(match.start(), match.group()) for match in matches]\n",
        "\n",
        "    # Iterate through positions to extract content for each topic\n",
        "    for i in range(len(positions)):\n",
        "        start_pos = positions[i][0]\n",
        "        end_pos = positions[i + 1][0] if i + 1 < len(positions) else len(text)\n",
        "\n",
        "        # Extract the topic and its content\n",
        "        topic = positions[i][1]\n",
        "        content = text[start_pos:end_pos].strip()\n",
        "\n",
        "        # Append the topic and its associated content\n",
        "        topics.append((topic, content))\n",
        "\n",
        "    return topics\n",
        "\n",
        "# Extracting topics\n",
        "extracted_topics = extract_topics(extracted_text)\n",
        "\n",
        "# Print all extracted topics and their content\n",
        "for topic, content in extracted_topics:\n",
        "    print(f\"{content}\")"
      ],
      "metadata": {
        "id": "TXdzV72vCq0V"
      },
      "execution_count": null,
      "outputs": []
    },
    {
      "cell_type": "code",
      "source": [],
      "metadata": {
        "id": "9S4Yrm3fLjup"
      },
      "execution_count": null,
      "outputs": []
    },
    {
      "cell_type": "code",
      "source": [],
      "metadata": {
        "id": "kYC98MAALjrR"
      },
      "execution_count": null,
      "outputs": []
    },
    {
      "cell_type": "code",
      "source": [],
      "metadata": {
        "id": "UHaAWlEbLjpR"
      },
      "execution_count": null,
      "outputs": []
    },
    {
      "cell_type": "code",
      "source": [],
      "metadata": {
        "id": "7-3vUKGSDnPU"
      },
      "execution_count": null,
      "outputs": []
    },
    {
      "cell_type": "code",
      "source": [],
      "metadata": {
        "id": "J29UH0rcDnL0"
      },
      "execution_count": null,
      "outputs": []
    },
    {
      "cell_type": "code",
      "source": [],
      "metadata": {
        "id": "6OE2qt1LDnJk"
      },
      "execution_count": null,
      "outputs": []
    },
    {
      "cell_type": "code",
      "source": [],
      "metadata": {
        "id": "Tufiaio8Cqv7"
      },
      "execution_count": null,
      "outputs": []
    },
    {
      "cell_type": "code",
      "source": [],
      "metadata": {
        "id": "Sq84s9VkCqtv"
      },
      "execution_count": null,
      "outputs": []
    },
    {
      "cell_type": "code",
      "source": [],
      "metadata": {
        "id": "DhJolruJCqqT"
      },
      "execution_count": null,
      "outputs": []
    },
    {
      "cell_type": "code",
      "source": [
        "import pandas as pd\n",
        "import fitz\n",
        "import re\n",
        "\n",
        "def extract_text_from_pdf(pdf_path, start_page, end_page):\n",
        "    \"\"\" Extract text from the specified pages of a PDF. \"\"\"\n",
        "    text = \"\"\n",
        "    with fitz.open(pdf_path) as doc:\n",
        "        for page_num in range(start_page - 1, end_page):\n",
        "\n",
        "            if page_num < len(doc):\n",
        "                text += doc[page_num].get_text()\n",
        "    return text\n",
        "\n",
        "def extract_content_from_csv(csv_file, pdf_file):\n",
        "\n",
        "    df = pd.read_csv(csv_file)\n",
        "\n",
        "    contents = []\n",
        "\n",
        "    for i in range(len(df)):\n",
        "        current_level = df.loc[i, 'Level']\n",
        "        current_topic = df.loc[i, 'Topic']\n",
        "        current_page = df.loc[i, 'Page']\n",
        "\n",
        "        if i + 1 < len(df):\n",
        "            next_level = df.loc[i + 1, 'Level']\n",
        "            next_topic = df.loc[i + 1, 'Topic']\n",
        "            next_page = df.loc[i + 1, 'Page']\n",
        "        else:\n",
        "            next_level = None\n",
        "            next_topic = None\n",
        "            next_page = None\n",
        "\n",
        "\n",
        "        if next_page is not None and next_page == current_page:\n",
        "            extracted_text = extract_text_from_pdf(pdf_file, current_page, current_page)\n",
        "        else:\n",
        "            end_page = next_page if next_page is not None else current_page\n",
        "\n",
        "            extracted_text = extract_text_from_pdf(pdf_file, current_page, end_page)\n",
        "\n",
        "\n",
        "        start_index = re.search(re.escape(current_topic), extracted_text)\n",
        "\n",
        "        if start_index:\n",
        "\n",
        "            content_start = extracted_text[start_index.start():]\n",
        "\n",
        "            if next_topic:\n",
        "                end_index = re.search(re.escape(next_topic), content_start)\n",
        "                if end_index:\n",
        "                    content = content_start[:end_index.start()]\n",
        "                else:\n",
        "                    content = content_start\n",
        "\n",
        "            else:\n",
        "\n",
        "                content = content_start\n",
        "        else:\n",
        "            content = \"\"\n",
        "\n",
        "\n",
        "        contents.append(content.strip())\n",
        "\n",
        "\n",
        "    df['content'] = contents\n",
        "\n",
        "    return df\n",
        "\n",
        "\n",
        "csv_file = '/content/table_of_contents.csv'\n",
        "pdf_file = '/content/Technical Deliverable Specification_SnPS _SP2103303_V1 2 (1) (1).pdf'\n",
        "\n",
        "\n",
        "result_df = extract_content_from_csv(csv_file, pdf_file)\n",
        "\n",
        "\n",
        "print(result_df)\n"
      ],
      "metadata": {
        "id": "FHNWsxLYCqn_"
      },
      "execution_count": null,
      "outputs": []
    },
    {
      "cell_type": "code",
      "source": [
        "result_df"
      ],
      "metadata": {
        "id": "1aXr_59VR5GN"
      },
      "execution_count": null,
      "outputs": []
    },
    {
      "cell_type": "code",
      "source": [
        "result_df.sample(10)"
      ],
      "metadata": {
        "id": "MtTasYwcPeG0"
      },
      "execution_count": null,
      "outputs": []
    },
    {
      "cell_type": "code",
      "source": [],
      "metadata": {
        "id": "KDXZWA45Ppb2"
      },
      "execution_count": null,
      "outputs": []
    },
    {
      "cell_type": "code",
      "source": [],
      "metadata": {
        "id": "RnzpuKdUPpS5"
      },
      "execution_count": null,
      "outputs": []
    },
    {
      "cell_type": "code",
      "source": [
        "import csv\n",
        "import re\n",
        "import fitz\n",
        "\n",
        "def get_next_topic(reader, current_row):\n",
        "    for row in reader:\n",
        "        if row['Level'] == current_row['Level'] and row['Topic'] != current_row['Topic']:\n",
        "            return row['Topic']\n",
        "    return None\n",
        "\n",
        "def extract_content_until_next_topic(pdf_path, start_topic, next_topic, starting_page):\n",
        "    content = \"\"\n",
        "\n",
        "    # Regex to match various topic formats\n",
        "    topic_pattern = re.compile(r'^\\d+(\\.\\d+)*\\s+.*?$')\n",
        "\n",
        "    with fitz.open(pdf_path) as pdf:\n",
        "\n",
        "        for page_number in range(starting_page, pdf.page_count):\n",
        "            page = pdf[page_number]\n",
        "            text = page.get_text()\n",
        "            lines = text.split('\\n')\n",
        "            capturing = False\n",
        "\n",
        "            for line in lines:\n",
        "\n",
        "                if line.strip() == \"\":\n",
        "                    continue\n",
        "\n",
        "                if start_topic in line:\n",
        "                    capturing = True\n",
        "\n",
        "                if capturing:\n",
        "                    content += line + '\\n'\n",
        "\n",
        "                if next_topic and next_topic in line:\n",
        "                    return content.strip()\n",
        "\n",
        "                if capturing and topic_pattern.match(line) and line.strip() != start_topic:\n",
        "\n",
        "                    if next_topic and next_topic in line:\n",
        "                        return content.strip()\n",
        "\n",
        "    return content.strip()\n",
        "\n",
        "def update_csv_with_content(input_csv, pdf_path):\n",
        "\n",
        "    updated_entries = []\n",
        "\n",
        "    with open(input_csv, mode='r', encoding='utf-8') as file:\n",
        "        reader = csv.DictReader(file)\n",
        "        rows = list(reader)\n",
        "\n",
        "        for index, row in enumerate(rows):\n",
        "            level = row['Level']\n",
        "            topic = row['Topic']\n",
        "            page = int(row['Page']) - 1\n",
        "\n",
        "            next_topic = get_next_topic(rows, row)\n",
        "\n",
        "            content = extract_content_until_next_topic(pdf_path, topic, next_topic, page)\n",
        "\n",
        "            updated_entries.append({\n",
        "                \"Level\": level,\n",
        "                \"Topic\": topic,\n",
        "                \"Page\": row['Page'],\n",
        "                \"Content\": content\n",
        "            })\n",
        "\n",
        "    with open(input_csv, mode='w', newline='', encoding='utf-8') as file:\n",
        "        fieldnames = [\"Level\", \"Topic\", \"Page\", \"Content\"]\n",
        "        writer = csv.DictWriter(file, fieldnames=fieldnames)\n",
        "        writer.writeheader()\n",
        "        writer.writerows(updated_entries)\n",
        "\n",
        "input_csv = '/content/table_of_contents.csv'\n",
        "pdf_path = '/content/Technical Deliverable Specification_SnPS _SP2103303_V1 2 (1) (1).pdf'\n",
        "\n",
        "update_csv_with_content(input_csv, pdf_path)\n",
        "\n",
        "print(f\"Content extracted and added to '{input_csv}' successfully.\")"
      ],
      "metadata": {
        "id": "q6AJF5cht4hF"
      },
      "execution_count": null,
      "outputs": []
    },
    {
      "cell_type": "code",
      "source": [
        "df = pd.read_csv('/content/table_of_contents.csv')"
      ],
      "metadata": {
        "id": "Iym6qTcK6W_N"
      },
      "execution_count": null,
      "outputs": []
    },
    {
      "cell_type": "code",
      "source": [
        "df"
      ],
      "metadata": {
        "id": "UiVMY-Sj66-G"
      },
      "execution_count": null,
      "outputs": []
    },
    {
      "cell_type": "code",
      "source": [
        "df.iloc[0]['Content']"
      ],
      "metadata": {
        "id": "3MENAk37LpkF"
      },
      "execution_count": null,
      "outputs": []
    },
    {
      "cell_type": "code",
      "source": [
        "import csv\n",
        "import re\n",
        "import fitz\n",
        "\n",
        "def get_next_topic(reader, current_row):\n",
        "\n",
        "    for row in reader:\n",
        "        if row['Level'] == current_row['Level'] and row['Topic'] != current_row['Topic']:\n",
        "            return row['Topic']\n",
        "    return None\n",
        "\n",
        "def extract_content_until_next_topic(pdf_path, start_topic, next_topic, starting_page):\n",
        "\n",
        "    content = \"\"\n",
        "\n",
        "    # Regex to match various topic formats\n",
        "    topic_pattern = re.compile(r'^\\d+(\\.\\d+)*\\s+.*?$')\n",
        "\n",
        "    with fitz.open(pdf_path) as pdf:\n",
        "        for page_number in range(starting_page, pdf.page_count):\n",
        "            page = pdf[page_number]\n",
        "            text = page.get_text()\n",
        "            lines = text.split('\\n')\n",
        "            capturing = False\n",
        "\n",
        "            for line in lines:\n",
        "                if line.strip() == \"\":\n",
        "                    continue\n",
        "\n",
        "                if start_topic in line:\n",
        "                    capturing = True\n",
        "\n",
        "                if capturing:\n",
        "                    content += line.strip() + \" \"\n",
        "\n",
        "                if next_topic and next_topic in line:\n",
        "                    return content.strip()\n",
        "\n",
        "                if capturing and topic_pattern.match(line) and line.strip() != start_topic:\n",
        "\n",
        "                    if next_topic and next_topic in line:\n",
        "                        return content.strip()\n",
        "\n",
        "    return content.strip()\n",
        "\n",
        "def update_csv_with_content(input_csv, pdf_path):\n",
        "\n",
        "    updated_entries = []\n",
        "\n",
        "    with open(input_csv, mode='r', encoding='utf-8') as file:\n",
        "        reader = csv.DictReader(file)\n",
        "        rows = list(reader)\n",
        "        for index, row in enumerate(rows):\n",
        "            level = row['Level']\n",
        "            topic = row['Topic']\n",
        "            page = int(row['Page']) - 1\n",
        "\n",
        "            next_topic = get_next_topic(rows, row)\n",
        "\n",
        "            content = extract_content_until_next_topic(pdf_path, topic, next_topic, page)\n",
        "\n",
        "            updated_entries.append({\n",
        "                \"Level\": level,\n",
        "                \"Topic\": topic,\n",
        "                \"Page\": row['Page'],\n",
        "                \"Content\": content\n",
        "            })\n",
        "\n",
        "    with open(input_csv, mode='w', newline='', encoding='utf-8') as file:\n",
        "        fieldnames = [\"Level\", \"Topic\", \"Page\", \"Content\"]\n",
        "        writer = csv.DictWriter(file, fieldnames=fieldnames)\n",
        "        writer.writeheader()\n",
        "        writer.writerows(updated_entries)\n",
        "\n",
        "input_csv = '/content/table_of_contents.csv'\n",
        "pdf_path = '/content/Technical Deliverable Specification_SnPS _SP2103303_V1 2 (1) (1).pdf'\n",
        "\n",
        "update_csv_with_content(input_csv, pdf_path)\n",
        "\n",
        "print(f\"Content extracted and added to '{input_csv}' successfully.\")"
      ],
      "metadata": {
        "id": "R9PonsfP6-Sb"
      },
      "execution_count": null,
      "outputs": []
    },
    {
      "cell_type": "code",
      "source": [
        "df = pd.read_csv('/content/table_of_contents.csv')"
      ],
      "metadata": {
        "id": "_SiBsA1_9QCw"
      },
      "execution_count": null,
      "outputs": []
    },
    {
      "cell_type": "code",
      "source": [
        "df"
      ],
      "metadata": {
        "id": "y4JmegH79lfP"
      },
      "execution_count": null,
      "outputs": []
    },
    {
      "cell_type": "code",
      "source": [
        "df.iloc[0]['Content']"
      ],
      "metadata": {
        "id": "PNfk_hNZ9u9I"
      },
      "execution_count": null,
      "outputs": []
    },
    {
      "cell_type": "code",
      "source": [
        "import csv\n",
        "import re\n",
        "import fitz  # PyMuPDF\n",
        "\n",
        "def get_next_topic(reader, current_row):\n",
        "    \"\"\"Get the next topic and its level from the CSV reader.\"\"\"\n",
        "    for row in reader:\n",
        "        if row['Level'] == current_row['Level'] and row['Topic'] != current_row['Topic']:\n",
        "            return row['Topic'], row['Level'], int(row['Page']) - 1  # 0-based index\n",
        "    return None, None, None\n",
        "\n",
        "def extract_content_until_next_topic(pdf_path, start_topic, next_topic, starting_page):\n",
        "    \"\"\"Extract content from the PDF until the next topic is found.\"\"\"\n",
        "    content = \"\"\n",
        "\n",
        "    # Regex to match various topic formats\n",
        "    topic_pattern = re.compile(r'^\\d+(\\.\\d+)*\\s+.*?$')\n",
        "\n",
        "    with fitz.open(pdf_path) as pdf:\n",
        "        for page_number in range(starting_page, pdf.page_count):\n",
        "            page = pdf[page_number]\n",
        "            text = page.get_text()\n",
        "            lines = text.split('\\n')\n",
        "            capturing = False\n",
        "\n",
        "            for line in lines:\n",
        "                if line.strip() == \"\":\n",
        "                    continue\n",
        "\n",
        "                # Start capturing content when the start topic is found\n",
        "                if start_topic in line:\n",
        "                    capturing = True\n",
        "\n",
        "                # If capturing, append the line to content\n",
        "                if capturing:\n",
        "                    content += line.strip() + \" \"  # Use space for separation\n",
        "\n",
        "                # Stop capturing when the next topic is found\n",
        "                if next_topic and next_topic in line:\n",
        "                    return content.strip()\n",
        "\n",
        "                # Stop capturing if a new topic format line is encountered\n",
        "                if capturing and topic_pattern.match(line) and line.strip() != start_topic:\n",
        "                    return content.strip()\n",
        "\n",
        "    return content.strip()\n",
        "\n",
        "def update_csv_with_content(input_csv, pdf_path):\n",
        "    \"\"\"Update the CSV file with extracted content from the PDF.\"\"\"\n",
        "    updated_entries = []\n",
        "\n",
        "    with open(input_csv, mode='r', encoding='utf-8') as file:\n",
        "        reader = csv.DictReader(file)\n",
        "        rows = list(reader)  # Store all rows to determine the next topic\n",
        "\n",
        "        for index, row in enumerate(rows):\n",
        "            level = row['Level']\n",
        "            topic = row['Topic']\n",
        "            page = int(row['Page']) - 1  # Convert to 0-based index\n",
        "\n",
        "            next_topic, next_level, next_page = get_next_topic(rows, row)\n",
        "\n",
        "            content = extract_content_until_next_topic(pdf_path, topic, next_topic, page)\n",
        "\n",
        "            updated_entries.append({\n",
        "                \"Level\": level,\n",
        "                \"Topic\": topic,\n",
        "                \"Page\": row['Page'],\n",
        "                \"Content\": content if content else \"No content found\"  # Handle empty content\n",
        "            })\n",
        "\n",
        "    with open(input_csv, mode='w', newline='', encoding='utf-8') as file:\n",
        "        fieldnames = [\"Level\", \"Topic\", \"Page\", \"Content\"]\n",
        "        writer = csv.DictWriter(file, fieldnames=fieldnames)\n",
        "        writer.writeheader()\n",
        "        writer.writerows(updated_entries)\n",
        "\n",
        "input_csv = '/content/table_of_contents.csv'\n",
        "pdf_path = '/content/Technical Deliverable Specification_SnPS _SP2103303_V1 2 (1) (1).pdf'\n",
        "\n",
        "update_csv_with_content(input_csv, pdf_path)\n",
        "\n",
        "print(f\"Content extracted and added to '{input_csv}' successfully.\")"
      ],
      "metadata": {
        "id": "SEnMI85g90dg"
      },
      "execution_count": null,
      "outputs": []
    },
    {
      "cell_type": "code",
      "source": [],
      "metadata": {
        "id": "krrZbdTvSsNb"
      },
      "execution_count": null,
      "outputs": []
    },
    {
      "cell_type": "code",
      "source": [
        "df = pd.read_csv('/content/table_of_contents.csv')"
      ],
      "metadata": {
        "id": "mEVhgS3SMaYS"
      },
      "execution_count": null,
      "outputs": []
    },
    {
      "cell_type": "code",
      "source": [
        "df"
      ],
      "metadata": {
        "id": "q60re4H8PFKK"
      },
      "execution_count": null,
      "outputs": []
    },
    {
      "cell_type": "code",
      "source": [],
      "metadata": {
        "id": "os487lRDPFGq"
      },
      "execution_count": null,
      "outputs": []
    },
    {
      "cell_type": "code",
      "source": [
        "df.iloc[0]['Level']"
      ],
      "metadata": {
        "id": "GXpsxpe2PJPb"
      },
      "execution_count": null,
      "outputs": []
    },
    {
      "cell_type": "code",
      "source": [
        "df.iloc[0]['Topic']"
      ],
      "metadata": {
        "id": "uNIOUgzvPNs7"
      },
      "execution_count": null,
      "outputs": []
    },
    {
      "cell_type": "code",
      "source": [
        "page_number = int(df.iloc[0]['Page'])\n",
        "page_number"
      ],
      "metadata": {
        "id": "ZkMN4MhqPRXi"
      },
      "execution_count": null,
      "outputs": []
    },
    {
      "cell_type": "code",
      "source": [
        "with fitz.open(pdf_path) as pdf:\n",
        "  page = pdf[page_number - 1]\n",
        "  extracted_text = page.get_text()"
      ],
      "metadata": {
        "id": "uXk1YrQnPTW_"
      },
      "execution_count": null,
      "outputs": []
    },
    {
      "cell_type": "code",
      "source": [
        "print(extracted_text)"
      ],
      "metadata": {
        "id": "MBpmVb81j6rs"
      },
      "execution_count": null,
      "outputs": []
    },
    {
      "cell_type": "code",
      "source": [
        "extracted_text"
      ],
      "metadata": {
        "id": "gXzHKBE46EqI"
      },
      "execution_count": null,
      "outputs": []
    },
    {
      "cell_type": "code",
      "source": [
        "df"
      ],
      "metadata": {
        "id": "L9xMYqEo_BQe"
      },
      "execution_count": null,
      "outputs": []
    },
    {
      "cell_type": "code",
      "source": [
        "matches = re.finditer(r\"\\d+(\\.\\d+)*\\s+[A-Za-z\\s()&/]+\", extracted_text, re.MULTILINE)\n",
        "\n",
        "for matchNum, match in enumerate(matches, start=0):\n",
        "  if match.group() == df.iloc[0]['Topic']:\n",
        "    print(match.group())\n",
        "  else:\n",
        "    print(\"Match didn't found\")"
      ],
      "metadata": {
        "id": "nADH6crJ8EZ_"
      },
      "execution_count": null,
      "outputs": []
    },
    {
      "cell_type": "code",
      "source": [
        "import re\n",
        "\n",
        "pattern = r\"\\d+(\\.\\d+)*\\s+[A-Za-z\\s()&/]+\"\n",
        "matches = re.findall(pattern, extracted_text,re.MULTILINE)\n",
        "print(matches)"
      ],
      "metadata": {
        "id": "0aaf9j-hYRzZ"
      },
      "execution_count": null,
      "outputs": []
    },
    {
      "cell_type": "code",
      "source": [
        "# coding=utf8\n",
        "# the above tag defines encoding for this document and is for Python 2.x compatibility\n",
        "\n",
        "import re\n",
        "\n",
        "regex = r\"\\d+(\\.\\d+)*\\s+[A-Za-z\\s()&/]+\"\n",
        "\n",
        "test_str = \" \\\\n \\\\n \\\\nTechnical Deliverable Specification \\\\nAppendix F\\\\n \\\\n \\\\n© AIRBUS S.A.S. \\\\nDate: 19/02/2022 \\\\nAIRBUS AMBER \\\\nReference_TDS_SP2103303 \\\\nPage 10 of 432\\\\n \\\\n1 SUBCONTRACTED ACTIVITIES DESCRIPTION \\\\nThe subcontracting perimeter encompasses support to the Simulation and Physical System \\\\ndepartment activities in terms of fulfilling Work-units, Work-packages, or Skilled Resource \\\\nprovisions in Work-progress mode. Various groups in S&PS departments are: \\\\n\\\\uf0b7 \\\\nPhysical Systems Architecture (AIOEYP) \\\\n\\\\uf0b7 \\\\nAircraft Controls (AIOEYC) \\\\n\\\\uf0b7 \\\\nNavigation & Communication (AIOEYN) \\\\n\\\\uf0b7 \\\\nIndustrial Systems (AIOEYI) \\\\n\\\\uf0b7 \\\\nSimulation Platforms & Frameworks (AIOEYS) \\\\n\\\\uf0b7 \\\\nMaintenance (AIOEYH) \\\\n\\\\uf0b7 \\\\nSystems Modeling (AIOEYM) \\\\n2 RESPONSIBILITY EXERCISED ON DELIVERABLES AND CRITICALITY OF THE ACTIVITY \\\\n2.1 Design Organisation Approval (DOA) Requirements \\\\nNot Applicable \\\\n \\\\n2.2 Targeted Responsibility/Signatory Exercised on Deliverables \\\\n \\\\nThe paragraph and table below is ONLY Applicable to: AIRBUS COMMERCIAL AIRCRAFT \\\\nThe maximum Service Provider’s targeted responsibility / signatory exercised on deliverables is as follows: \\\\n \\\\n \\\\nDeliverables are \\\\nnon A/C related \\\\nDeliverables are A/C related \\\\n \\\\n \\\\nAuthoring \\\\nrefer to M1264 \\\\nControlled DOA Signature \\\\nrefer to A1020/M1020 \\\\nTargeted \\\\nresponsibility / \\\\nsignatory level \\\\nN/A \\\\nN/A \\\\nAuthoring \\\\nSignature \\\\nApprover \\\\nSignature \\\\nAuthorizer \\\\nSignature \\\\nAirworthiness Signature \\\\n☐ \\\\n☒ \\\\n☐ \\\\n☐ \\\\n☐ \\\\n☐ \\\\n \\\\nThe activity is \\\\nnot DOA related \\\\nThe activity is DOA related \\\\nTable 2-1. Targeted responsibility / signatory exercised on deliverables \\\\n \\\\n2.3 Criticality of the deliverables \\\\n \\\\nThe paragraph and table below is ONLY Applicable to: AIRBUS COMMERCIAL AIRCRAFT \\\\n \\\\n\"\n",
        "\n",
        "matches = re.finditer(regex, test_str, re.MULTILINE)\n",
        "\n",
        "for matchNum, match in enumerate(matches, start=1):\n",
        "\n",
        "    # print (\"Match {matchNum} was found at {start}-{end}: {match}\".format(matchNum = matchNum, start = match.start(), end = match.end(), match = match.group()))\n",
        "    print(match.group())\n",
        "\n",
        "    # for groupNum in range(0, len(match.groups())):\n",
        "    #     groupNum = groupNum + 1\n",
        "\n",
        "    #     print (\"Group {groupNum} found at {start}-{end}: {group}\".format(groupNum = groupNum, start = match.start(groupNum), end = match.end(groupNum), group = match.group(groupNum)))"
      ],
      "metadata": {
        "id": "NinT89Mu7aD_"
      },
      "execution_count": null,
      "outputs": []
    },
    {
      "cell_type": "code",
      "source": [
        "extracted_text.replace('\\n', ' ')"
      ],
      "metadata": {
        "id": "hHWTNPTOu-sG"
      },
      "execution_count": null,
      "outputs": []
    },
    {
      "cell_type": "code",
      "source": [
        "import fitz  # PyMuPDF\n",
        "import re\n",
        "import csv\n",
        "\n",
        "# Function to detect if a page is a TOC page based on keywords and formatting\n",
        "def is_toc_page(text):\n",
        "    toc_keywords = [\"TABLE OF CONTENTS\", \"CONTENTS\"]\n",
        "    has_toc_keywords = any(keyword.lower() in text.lower() for keyword in toc_keywords)\n",
        "    has_toc_format = (\n",
        "        len(re.findall(r'^\\d+(\\.\\d+)*\\s+.*\\d+$', text, re.MULTILINE)) > 0 or\n",
        "        len(re.findall(r'^\\d+(\\.\\d+)*\\s+[A-Z].*\\d*$', text, re.MULTILINE)) > 0\n",
        "    )\n",
        "    return has_toc_keywords or has_toc_format\n",
        "\n",
        "# Function to extract Level 1, Level 2, and Level 3 headings from TOC pages\n",
        "def extract_headings_from_toc(pdf_path):\n",
        "    try:\n",
        "        pdf_document = fitz.open(pdf_path)\n",
        "    except Exception as e:\n",
        "        print(f\"Error opening PDF file: {e}\")\n",
        "        return []\n",
        "\n",
        "    headings = []\n",
        "    current_level1 = None\n",
        "    current_level2 = None\n",
        "\n",
        "    # Process only the first 10 pages (or fewer if the document is shorter)\n",
        "    num_pages_to_check = min(10, len(pdf_document))\n",
        "\n",
        "    for page_num in range(num_pages_to_check):\n",
        "        page = pdf_document.load_page(page_num)\n",
        "        text = page.get_text(\"text\")\n",
        "\n",
        "        if is_toc_page(text):\n",
        "            lines = text.splitlines()\n",
        "            for line in lines:\n",
        "                # Adjusted regex patterns to match TOC formats with extra gaps\n",
        "                level1_pattern = r'^\\d+\\s+[A-Z].*\\d*$|^\\d+\\s{2,}[A-Z].*\\d*$'\n",
        "                level2_pattern = r'^\\d+\\.\\d+\\s+.*\\d*$|^\\d+\\.\\d+\\s{2,}.*\\d*$'\n",
        "                level3_pattern = r'^\\d+\\.\\d+\\.\\d+\\s+.*\\d*$|^\\d+\\.\\d+\\.\\d+\\s{2,}.*\\d*$'\n",
        "\n",
        "                # Extract Level 1 headings\n",
        "                if re.match(level1_pattern, line):\n",
        "                    current_level1 = line.strip()\n",
        "                    current_level2 = None  # Reset Level 2 when Level 1 changes\n",
        "                    headings.append({\"Level 1\": current_level1, \"Level 2\": \"\", \"Level 3\": \"\"})\n",
        "                # Extract Level 2 headings\n",
        "                elif re.match(level2_pattern, line):\n",
        "                    current_level2 = line.strip()\n",
        "                    headings.append({\"Level 1\": current_level1, \"Level 2\": current_level2, \"Level 3\": \"\"})\n",
        "                # Extract Level 3 headings\n",
        "                elif re.match(level3_pattern, line):\n",
        "                    headings.append({\"Level 1\": current_level1, \"Level 2\": current_level2, \"Level 3\": line.strip()})\n",
        "\n",
        "    return headings\n",
        "\n",
        "# Function to save the extracted headings to a CSV file with separate columns for levels\n",
        "def save_headings_to_csv(headings, output_csv):\n",
        "    if not headings:\n",
        "        print(\"No headings to save.\")\n",
        "        return\n",
        "    try:\n",
        "        with open(output_csv, mode='w', newline='') as file:\n",
        "            writer = csv.DictWriter(file, fieldnames=[\"Level 1\", \"Level 2\", \"Level 3\"])\n",
        "            writer.writeheader()\n",
        "            for heading in headings:\n",
        "                writer.writerow(heading)\n",
        "    except Exception as e:\n",
        "        print(f\"Error writing to CSV file: {e}\")\n",
        "\n",
        "# Path to the PDF file\n",
        "pdf_path = '/content/Technical Deliverable Specification_SnPS _SP2103303_V1 2 (1) (1).pdf'\n",
        "# Output CSV file path\n",
        "output_csv = 'extracted_headings1.csv'\n",
        "\n",
        "# Extract Level 1, Level 2, and Level 3 headings from the TOC\n",
        "headings = extract_headings_from_toc(pdf_path)\n",
        "\n",
        "# Save the extracted headings to a CSV file\n",
        "save_headings_to_csv(headings, output_csv)\n",
        "\n",
        "print(f\"Extracted headings saved to {output_csv}\")"
      ],
      "metadata": {
        "id": "Cu1q7ipn2x9Q"
      },
      "execution_count": null,
      "outputs": []
    },
    {
      "cell_type": "code",
      "source": [
        "df = pd.read_csv('/content/extracted_headings1.csv')"
      ],
      "metadata": {
        "id": "AMb-P8Y53psG"
      },
      "execution_count": null,
      "outputs": []
    },
    {
      "cell_type": "code",
      "source": [
        "df"
      ],
      "metadata": {
        "id": "CfJgJnwo30ho"
      },
      "execution_count": null,
      "outputs": []
    },
    {
      "cell_type": "code",
      "source": [
        "df.sample(10)"
      ],
      "metadata": {
        "id": "bd9TRy4T31h_"
      },
      "execution_count": null,
      "outputs": []
    },
    {
      "cell_type": "code",
      "source": [
        "df"
      ],
      "metadata": {
        "id": "VmTPvuPe4Kaw"
      },
      "execution_count": null,
      "outputs": []
    },
    {
      "cell_type": "code",
      "source": [
        "df.iloc[0]['Content']"
      ],
      "metadata": {
        "id": "8FwQKKP6Bor0"
      },
      "execution_count": null,
      "outputs": []
    },
    {
      "cell_type": "code",
      "source": [],
      "metadata": {
        "id": "i4foMWpjBrbr"
      },
      "execution_count": null,
      "outputs": []
    },
    {
      "cell_type": "code",
      "source": [],
      "metadata": {
        "id": "3wZZM-gMb_Ou"
      },
      "execution_count": null,
      "outputs": []
    },
    {
      "cell_type": "code",
      "source": [],
      "metadata": {
        "id": "bTLf8Swtb_Ld"
      },
      "execution_count": null,
      "outputs": []
    },
    {
      "cell_type": "code",
      "source": [],
      "metadata": {
        "id": "yJY5TRwnb_Gs"
      },
      "execution_count": null,
      "outputs": []
    },
    {
      "cell_type": "code",
      "source": [],
      "metadata": {
        "id": "GhE9nT9Jb_EA"
      },
      "execution_count": null,
      "outputs": []
    },
    {
      "source": [
        "!pip install pdfplumber --quiet\n"
      ],
      "cell_type": "code",
      "metadata": {
        "colab": {
          "base_uri": "https://localhost:8080/"
        },
        "id": "hGUjfWPscinj",
        "outputId": "57744c9b-d4c2-407d-aded-bacf87bc3363"
      },
      "execution_count": 12,
      "outputs": [
        {
          "output_type": "stream",
          "name": "stdout",
          "text": [
            "\u001b[2K     \u001b[90m━━━━━━━━━━━━━━━━━━━━━━━━━━━━━━━━━━━━━━━━\u001b[0m \u001b[32m42.0/42.0 kB\u001b[0m \u001b[31m1.8 MB/s\u001b[0m eta \u001b[36m0:00:00\u001b[0m\n",
            "\u001b[2K     \u001b[90m━━━━━━━━━━━━━━━━━━━━━━━━━━━━━━━━━━━━━━━━\u001b[0m \u001b[32m48.5/48.5 kB\u001b[0m \u001b[31m1.7 MB/s\u001b[0m eta \u001b[36m0:00:00\u001b[0m\n",
            "\u001b[2K   \u001b[90m━━━━━━━━━━━━━━━━━━━━━━━━━━━━━━━━━━━━━━━━\u001b[0m \u001b[32m59.2/59.2 kB\u001b[0m \u001b[31m3.2 MB/s\u001b[0m eta \u001b[36m0:00:00\u001b[0m\n",
            "\u001b[2K   \u001b[90m━━━━━━━━━━━━━━━━━━━━━━━━━━━━━━━━━━━━━━━━\u001b[0m \u001b[32m5.6/5.6 MB\u001b[0m \u001b[31m61.2 MB/s\u001b[0m eta \u001b[36m0:00:00\u001b[0m\n",
            "\u001b[2K   \u001b[90m━━━━━━━━━━━━━━━━━━━━━━━━━━━━━━━━━━━━━━━━\u001b[0m \u001b[32m2.8/2.8 MB\u001b[0m \u001b[31m44.1 MB/s\u001b[0m eta \u001b[36m0:00:00\u001b[0m\n",
            "\u001b[?25h"
          ]
        }
      ]
    },
    {
      "cell_type": "code",
      "source": [
        "import pdfplumber\n",
        "\n",
        "def extract_tables_from_pdf(pdf_path, end_page):\n",
        "    with pdfplumber.open(pdf_path) as pdf:\n",
        "        for page_number in range(min(end_page, len(pdf.pages))):\n",
        "            page = pdf.pages[page_number]\n",
        "            tables = page.extract_tables()\n",
        "            for table in tables:\n",
        "                # Process the table as needed\n",
        "                print(table)\n",
        "\n",
        "# Example usage\n",
        "extract_tables_from_pdf('/content/Technical Deliverable Specification_SnPS _SP2103303_V1 2 (1) (1).pdf', end_page=7)\n"
      ],
      "metadata": {
        "colab": {
          "base_uri": "https://localhost:8080/"
        },
        "id": "A49BmytMcdPu",
        "outputId": "d59305a0-2e07-4c41-a4c9-73d0df85359f"
      },
      "execution_count": 19,
      "outputs": [
        {
          "output_type": "stream",
          "name": "stdout",
          "text": [
            "[['Technical Deliverable Specification', 'SP2103303'], ['reference', None], ['', None]]\n",
            "[['Issue /', 'Date', 'Subject', 'Purchaser’s author', None], ['versio', None, None, 'FAMILY NAME, First', 'Phone'], ['n', None, None, 'name', 'Mail'], ['1.0.', '19/02/2022', 'Creation', 'VASHISTHA, Kartikey\\nRANGANATH, Pavan', '+91-80-66380199']]\n",
            "[['Requestors, Technical leaders / coordinators, technical contacts, persons in charge of specific means'], ['+91 80 66380282']]\n",
            "[['Guru Prasad Raghavendra,', None, None, None, None, None, 'HO Simulation & Physical System • AIOEY'], ['Nitin Mohan, <nitin.n.mohan@airbus.com >Subcontracting Manager, Senior Transversal Leader • AIOEO', None, None, None, None, None, None], ['Jegathambigai Balaji <jegathambigai.balaji@airbus.com> HO Engineering Quality • AIOEQ', None, None, None, None, None, None], ['Nitish-Saroj Kumar, nitish-saroj.kumar@airbus.com, HO Physical Systems Architecture AIOEYP', None, None, None, None, None, None], ['Susam Borthakur susam.borthakur@airbus.com, HO Aircraft Controls • AIOEYC', None, None, None, None, None, None], ['Praveena Slathia', '<praveena.slathia@airbus.com>', None, None, 'HO Navigation & Communication • AIOEYN', None, None], ['Ghati, Sayantan <', 'sayantan.ghati@airbus.com', None, '>HO Industrial Systems • AIOEYI', None, None, None], ['Pankaj BHUTANI <', None, 'pankaj.bhutani@airbus.com>', None, 'HO Simulation Platforms & Frameworks • AIOEYS', None, None], ['Veena Venugopal <', None, 'veena.venugopal@airbus.com', None, '>HO Maintenance • AIOEYH', None, None], ['Srivats Srinivasan <', None, 'srivats.srinivasan@airbus.com>', None, None, 'HO Systems Modeling • AIOEYM', None]]\n",
            "[['CLASSIFICATION', None, None, None, None, None, None, None], ['Company', None, 'Governmental/Defence', None, 'Export Control', None, 'Privacy (GDPR)', None], ['Airbus AMBER', 'x', 'OCCAR', '', 'Dual Use', 'x', 'Personal Data', ''], ['Airbus RED', '', 'Governmental', '', 'EAR', '', 'Personal Sensitive', None], [None, None, None, None, None, None, 'Data', None], ['Third Party', '', 'NATO', '', 'Military/', None, None, None], ['Classification', None, None, None, 'Assimilated', None, None, None], [None, None, 'National Military', '', None, None, None, None], [None, None, '(FR, DE, UK, ES)', None, None, None, None, None], [None, None, 'ITAR', '', None, None, None, None], [None, None, 'EAR600', '', None, None, None, None], [None, None, '', '', None, None, None, None]]\n",
            "[['MILITARY PROGRAM\\n◻'], ['specify the name(s):'], ['']]\n",
            "[['A/C', 'Aircraft'], ['ABD', 'AIRBUS Directives'], ['ACMS', 'Aircraft Condition Monitoring System'], ['A-D', 'Airbus Deutschland'], ['ADC', 'Aircraft Data Collection'], ['ADL', 'Applicable Documentation List'], ['ADSR', 'Aircraft Drawing System Rules'], ['AECI', 'Airbus Engineering Centre India'], ['A-F', 'Airbus France'], ['AI', 'Airbus India Operations'], ['AL', 'Activity Lead'], ['APID', 'Airbus Process instruction Deviation'], ['ARL', 'Applicable Requirements List'], ['ATD', 'Applicable Technical Document'], ['BAT', 'Business Acceptance Test'], ['BOM', 'Bill of material'], ['BOS', 'Business Operational Support'], ['CAD', 'Computer Aided Design'], ['CACAU', 'Case Configurator for ADC Usage'], ['CAM', 'Compliance Analysis Matrix'], ['CCGRL', 'Compliance Commitment on GRAMS Requirement List'], ['CCS', 'Change Control Sheet'], ['CDR', 'Critical Design Review'], ['CDS', 'Component Delivery Specification'], ['CILAT', 'Current Injection and Length Assumption Table'], ['CIRCE', 'Conception Informatisée et Rationalisée des Câblages Electriques'], ['CN', 'Change Note'], ['CoC', 'Centre of Competence'], ['CoE', 'Centre of Excellence'], ['CPPR', 'Capture Process product Request'], ['CR', 'Change request'], ['CRM', 'Contractual Review Meeting'], ['CTS', 'Customized Technical Specification'], ['DA', 'Drawing Assembly'], ['DAL', 'Development Assurance Level'], ['DAN', 'Delivery Acceptance Note'], ['DBD', 'Data Basis for Design'], ['DCN', 'Design change note'], ['DDP', 'Declaration of Design and Performance'], ['DDQC', 'Definition dossier quality check'], ['DDMS', 'Digital Design & Manufacturing Systems'], ['DES', 'Discrete Event Simulation'], ['DM', 'Data Management'], ['DMU', 'Digital Mock-Up'], ['DOA', 'Design Organization Approval'], ['DOORS', 'Dynamic Object Orientated Requirements System'], ['DQN', 'Design Queries Notes'], ['DRCL', 'Deliverable Release Checklist'], ['DRL', 'Documentation Requirement List'], ['DS', 'Design Solution'], ['DWG', 'Drawing'], ['EASA', 'European Aviation Safety Agency'], ['EBOM', 'Engineering Bill Of Materials'], ['ECM', 'Engineering Coordination Memo'], ['ECN', 'Engineering Change Note'], ['ECP', 'Engineering Change Proposal'], ['EETL', 'Applicable Tools List for Design Service providers']]\n",
            "[['EP', 'Enabling Platform'], ['ERHC', 'Electrical Routing and Harness Concept'], ['ESDCR', 'Extended Schematics Diagram Configured Repository'], ['EU', 'European Union'], ['FDIMU', 'Flight Data Interface and Management Unit'], ['FEM', 'Finite Element Models'], ['FP/FPWU', 'Fix Price Work Package'], ['FPM', 'Final Project Meeting'], ['FPQ', 'First Part Qualification'], ['FTA', 'First Technical Acceptance'], ['FTR', 'First Time Right'], ['FTS', 'File Transfer Service'], ['FSVS', 'Functional sizing, verification and support activities'], ['GAM', 'Global Architecture Mock-up'], ['GRAMS', 'General Requirements for Aero structure and Material Suppliers'], ['GRESS', 'General Requirements for Equipment and System Suppliers'], ['GRM', 'Geometric Reference Mock-up'], ['HMG', 'Harmonized Material Group'], ['HoV', 'Head of Version'], ['HW', 'Hardware'], ['IC', 'Installation Case'], ['ICT', 'Information and Communication Technology'], ['ICY', 'Interchangeability'], ['INCOSE', 'International Council on Systems Engineering'], ['IPT', 'Integrated Project Team'], ['J&T', 'Jigs & Tools'], ['KOR', 'Kick Off Review'], ['KPI', 'Key Performance Indicator'], ['LR', 'Long Range (A330 / A340)'], ['LSBM', 'Load Secure Batch Media'], ['LT', 'Lead time'], ['MAPIS', 'Material And Process, Interior & Structure'], ['MBOM', 'Manufacturing Bill Of Materials'], ['iMBSE', 'Industrial Model Based Systems Engineering'], ['MCA', 'Major Component Assembly'], ['ME Spec.', 'Manufacturing Engineering Specification'], ['MoM', 'Minutes of Meeting'], ['MTTR', 'Mean Time To Repair'], ['MTBF', 'Mean Time Before Failure'], ['MSN', 'Manufacturing Serial Number'], ['N/A', 'Not applicable'], ['NSPI', 'New Standard Part Introduction'], ['NDB', 'Navigation Database'], ['OPC', 'Operational Program Configuration'], ['OBS', 'Organization Breakdown Structure'], ['OTD', 'On Time Delivery'], ['OSAM', 'Overall System Architecture Model'], ['P&M', 'Processes and Methods'], ['PDB', 'Performance Database'], ['PDM', 'Product Data Management'], ['PDR', 'Preliminary Design Review'], ['PI', 'Product Increment'], ['PO', 'Purchase Order'], ['PLM', 'Product Lifecycle Management'], ['PPRDCA', 'Product Process Resource Data Centric Approach'], ['PQN', 'Process Query Note'], ['PQP', 'Project Quality Plan'], ['PRA', 'Particular Risk Analysis'], ['PRM', 'Progress Review Meeting'], ['PSA', 'Physical System Architecture'], ['PTS', 'Product Technical Specification'], ['PZ', 'Part Zone'], ['QAP', 'Quality Assurance Plan']]\n",
            "[['QRM', 'Quality Review Meeting'], ['RBE', 'Requirement Based Engineering'], ['RDF', 'Requirement Discrepancy Form'], ['RFC', 'Request For Change'], ['RFP', 'Request for Proposal'], ['RSDP', 'Reference Structure Design Principles'], ['S/C', 'Subcontracting / subcontractor'], ['SA', 'A320 family'], ['SAM', 'Subcontracting Acceptance Memo'], ['SDD', 'Software Description Dossier'], ['SFS', 'Secure File Storage'], ['sFMS', 'Simulated Flight Management System'], ['SNS', 'Secure Network Storage'], ['SI', 'System Installation'], ['SIDP', 'System Installation Design Principles'], ['SIIKDB', 'System Installation Industrial Knowledge database'], ['SIPT', 'Systems Installation Patterns & Tools'], ['SIRD', 'System Installation Requirement Document'], ['SLA', 'Service Level Agreement'], ['SP-AC0', 'Simulation Product Aircraft-0 (Simulator)'], ['SPAN', 'Supplier and Partners Airbus Network'], ['SPE', 'Simulation Product Engineer'], ['SR', 'Support/Service Request'], ['SRD', 'Software Requirements Document'], ['SSCI', 'Structure System Cabin Integration'], ['STES', 'Series Design Subcontracting'], ['SubWU', 'Sub Work Unit'], ['SVCP', 'Software Validation Control Plan'], ['SVN', 'Subversion'], ['SVR', 'Software Verification Report'], ['SW', 'Software'], ['TBC', 'To be confirmed'], ['TBD', 'To be decided/ defined'], ['TDD', 'Technical Design Directive'], ['TDP', 'Technical Data Package'], ['TDS', 'Technical Deliverable Specification'], ['TDU', 'Technical Definition Unit'], ['TDM', 'Technical Database Management'], ['TN', 'Technical Note'], ['TR', 'Tooling Register'], ['TrEsti', 'Treatment Estimation'], ['TRM', 'Technical Review Meeting'], ['TRS', 'Technical Repercussion Sheet'], ['UFP', 'Unit Fixed Price'], ['UI', 'User Interface'], ['UMS', 'User Modifiable Software'], ['UN', 'United Nations'], ['USA', 'United State of America'], ['V&V', 'Verification and Validation'], ['VPM', 'Virtual Product Management'], ['VR', 'Virtual reality'], ['VSIM-D', 'Versatile Simulator - Design'], ['VSIM-I', 'Versatile Simulator - Integration'], ['VSIM-T', 'Versatile Simulator - Training'], ['WB', 'Wide Body (A300 / A310)'], ['WBS', 'Work Breakdown Structure'], ['WD / FD', 'Wiring Diagram / Function Diagram'], ['WU', 'Work Unit']]\n"
          ]
        }
      ]
    },
    {
      "cell_type": "code",
      "source": [
        "import pdfplumber\n",
        "\n",
        "table_list = []\n",
        "def extract_tables_from_pdf(pdf_path, page):\n",
        "    with pdfplumber.open(pdf_path) as pdf:\n",
        "        if page <= len(pdf.pages):\n",
        "            page_obj = pdf.pages[page - 1]\n",
        "            tables = page_obj.extract_tables()\n",
        "            for table in tables:\n",
        "                # Process the table as needed\n",
        "                table_list.append(table)\n",
        "        else:\n",
        "            print(f\"Page {page} does not exist in the PDF.\")\n",
        "\n",
        "# Example usage\n",
        "extract_tables_from_pdf('/content/Technical Deliverable Specification_SnPS _SP2103303_V1 2 (1) (1).pdf', page=17)"
      ],
      "metadata": {
        "id": "oIBd2T5Gcobu"
      },
      "execution_count": 47,
      "outputs": []
    },
    {
      "cell_type": "code",
      "source": [
        "import pdfplumber\n",
        "import json\n",
        "\n",
        "def extract_tables_from_pdf(pdf_path, page):\n",
        "    with pdfplumber.open(pdf_path) as pdf:\n",
        "        if page <= len(pdf.pages):\n",
        "            page_obj = pdf.pages[page - 1]\n",
        "            tables = page_obj.extract_tables()\n",
        "            processed_tables = []\n",
        "            for table in tables:\n",
        "                processed_table = []\n",
        "                for row in table:\n",
        "                    # Remove None values and join the row into a single string\n",
        "                    filtered_row = [item for item in row if item is not None]\n",
        "                    processed_table.append(filtered_row)\n",
        "                processed_tables.append(processed_table)\n",
        "\n",
        "            # Convert the processed tables to JSON format\n",
        "            json_output = json.dumps(processed_tables, indent=4)\n",
        "            print(json_output)\n",
        "        else:\n",
        "            print(f\"Page {page} does not exist in the PDF.\")\n",
        "\n",
        "# Example usage\n",
        "extract_tables_from_pdf('/content/Technical Deliverable Specification_SnPS _SP2103303_V1 2 (1) (1).pdf', page=101)"
      ],
      "metadata": {
        "colab": {
          "base_uri": "https://localhost:8080/"
        },
        "id": "V5kQM3_ujFI5",
        "outputId": "517900fd-3e57-4186-e413-0b4c5f2c0d5e"
      },
      "execution_count": 84,
      "outputs": [
        {
          "output_type": "stream",
          "name": "stdout",
          "text": [
            "[\n",
            "    [\n",
            "        [\n",
            "            \"\"\n",
            "        ],\n",
            "        [\n",
            "            \"Batch No.\",\n",
            "            \"Deliverable description & enabling data\",\n",
            "            \"Signatory\\nlevel\",\n",
            "            \"Quantity/\\nVolume*\",\n",
            "            \"Activity shall be done as per \\u2026\",\n",
            "            \"Delivery date\",\n",
            "            \"KPI\"\n",
            "        ],\n",
            "        [\n",
            "            \"\",\n",
            "            \"P&M and\",\n",
            "            \"\",\n",
            "            \"Tools /\\nformats\",\n",
            "            \"Release\\ncriteria\"\n",
            "        ],\n",
            "        [\n",
            "            \"Technical\"\n",
            "        ],\n",
            "        [\n",
            "            \"Referenti\"\n",
            "        ],\n",
            "        [\n",
            "            \"al\"\n",
            "        ],\n",
            "        [\n",
            "            \"PWU_03\\n(A350 program\\n\\u2013 High\\ncomplexity)\",\n",
            "            \"5.4.1.3_IN\\n5.4.1.3_EX\",\n",
            "            \"Del_ID1: A350 program \\u2013 High\\ncomplexity\\n> 50 parts in assembly\\nCAD/PDM Validation & Verification,\\nSpecification Model Elaboration and\\n3D integration support, Supplier\\nFeedback, Equipment 3D models\\nand metadata for downstream\\nvalidation and integration\",\n",
            "            \"Author\",\n",
            "            \"Refer\\nSection\\n5.4.9\",\n",
            "            \"VxxD1300\\n0050\",\n",
            "            \"PDMLink\\nCC\",\n",
            "            \"PDM\\nrelease\",\n",
            "            \"24 hrs\",\n",
            "            \"95% on\\nTime\\n97% First\\ntime\\nRight\"\n",
            "        ],\n",
            "        [\n",
            "            \"\",\n",
            "            \"\",\n",
            "            \"\"\n",
            "        ],\n",
            "        [\n",
            "            \"P&M and Technical Referential\"\n",
            "        ],\n",
            "        [\n",
            "            \"\\uf0a7 X03RQ1002144_Supplier Guidelines_CATIA_V5\\n\\uf0a7 X03ME1107841 Supplier Guidelines CATIA V4\"\n",
            "        ],\n",
            "        [\n",
            "            \"\",\n",
            "            \"\",\n",
            "            \"\"\n",
            "        ],\n",
            "        [\n",
            "            \"Tools and formats\"\n",
            "        ],\n",
            "        [\n",
            "            \"Tool: PDMLinkCC, VPM, Format: CATIA V4, CATIA V5 R21\"\n",
            "        ],\n",
            "        [\n",
            "            \"\",\n",
            "            \"\",\n",
            "            \"\"\n",
            "        ],\n",
            "        [\n",
            "            \"Release Criteria\"\n",
            "        ],\n",
            "        [\n",
            "            \"\",\n",
            "            \"Successful status \\u2018Release\\u2019 of the Equipment Models in the PDM systems after validation of Equipment Responsible and Installation Designer.\",\n",
            "            \"\"\n",
            "        ],\n",
            "        [\n",
            "            \"Comparison of 2D Drawings and 3D CAD Models and Successful status \\u2018Release\\u2019 of the Equipment Models in the VPM after validation of Equipment\"\n",
            "        ],\n",
            "        [\n",
            "            \"Responsible and Installation Designer.\"\n",
            "        ],\n",
            "        [\n",
            "            \"\",\n",
            "            \"\",\n",
            "            \"\"\n",
            "        ],\n",
            "        [\n",
            "            \"KPI\"\n",
            "        ],\n",
            "        [\n",
            "            \"(cid:3041)(cid:3048)(cid:3040)(cid:3029)(cid:3032)(cid:3045) (cid:3042)(cid:3033) (cid:3031)(cid:3032)(cid:3039)(cid:3036)(cid:3049)(cid:3032)(cid:3045)(cid:3036)(cid:3032)(cid:3046) (cid:3043)(cid:3045)(cid:3042)(cid:3049)(cid:3036)(cid:3031)(cid:3032)(cid:3031) (cid:3016)(cid:3015)(cid:2879)(cid:3021)(cid:3010)(cid:3014)(cid:3006) (cid:3029)(cid:3052) (cid:3047)(cid:3035)(cid:3032) (cid:3046)(cid:3048)(cid:3043)(cid:3043)(cid:3039)(cid:3036)(cid:3032)(cid:3045) (cid:3036)(cid:3041) (cid:3047)(cid:3035)(cid:3032) (cid:3043)(cid:3032)(cid:3045)(cid:3036)(cid:3042)(cid:3031)\\n\\u25aa \\ud835\\udc42\\ud835\\udc5b \\ud835\\udc47\\ud835\\udc56\\ud835\\udc5a\\ud835\\udc52 \\ud835\\udc37\\ud835\\udc52\\ud835\\udc59\\ud835\\udc56\\ud835\\udc63\\ud835\\udc52\\ud835\\udc5f\\ud835\\udc66 (\\ud835\\udc42\\ud835\\udc47\\ud835\\udc37)= \\ud835\\udc65 100\\n(cid:3047)(cid:3042)(cid:3047)(cid:3028)(cid:3039) (cid:3041)(cid:3048)(cid:3040)(cid:3029)(cid:3032)(cid:3045) (cid:3042)(cid:3033) (cid:3031)(cid:3032)(cid:3039)(cid:3036)(cid:3049)(cid:3032)(cid:3045)(cid:3036)(cid:3032)(cid:3046) (cid:3043)(cid:3045)(cid:3042)(cid:3049)(cid:3036)(cid:3031)(cid:3032)(cid:3031) (cid:3029)(cid:3052) (cid:3047)(cid:3035)(cid:3032) (cid:3046)(cid:3048)(cid:3043)(cid:3043)(cid:3039)(cid:3036)(cid:3032)(cid:3045) (cid:3036)(cid:3041) (cid:3047)(cid:3035)(cid:3032) (cid:3043)(cid:3032)(cid:3045)(cid:3036)(cid:3042)(cid:3031)\\n(cid:3041)(cid:3048)(cid:3040)(cid:3029)(cid:3032)(cid:3045) (cid:3042)(cid:3033) (cid:3031)(cid:3032)(cid:3039)(cid:3036)(cid:3049)(cid:3032)(cid:3045)(cid:3036)(cid:3032)(cid:3046) (cid:3028)(cid:3030)(cid:3030)(cid:3032)(cid:3043)(cid:3047)(cid:3032)(cid:3031) (cid:3029)(cid:3052) (cid:3002)(cid:3036)(cid:3045)(cid:3029)(cid:3048)(cid:3046) (cid:3036)(cid:3041) (cid:3047)(cid:3035)(cid:3032) (cid:3043)(cid:3032)(cid:3045)(cid:3036)(cid:3042)(cid:3031)\\n\\u25aa \\ud835\\udc42\\ud835\\udc5b \\ud835\\udc44\\ud835\\udc62\\ud835\\udc4e\\ud835\\udc59\\ud835\\udc56\\ud835\\udc61\\ud835\\udc66 \\ud835\\udc37\\ud835\\udc52\\ud835\\udc59\\ud835\\udc56\\ud835\\udc63\\ud835\\udc52\\ud835\\udc5f\\ud835\\udc66 (\\ud835\\udc42\\ud835\\udc44\\ud835\\udc37)= \\ud835\\udc65 100\\n(cid:3047)(cid:3042)(cid:3047)(cid:3028)(cid:3039) (cid:3041)(cid:3048)(cid:3040)(cid:3029)(cid:3032)(cid:3045) (cid:3031)(cid:3032)(cid:3039)(cid:3036)(cid:3049)(cid:3032)(cid:3045)(cid:3036)(cid:3032)(cid:3046) (cid:3045)(cid:3032)(cid:3049)(cid:3036)(cid:3032)(cid:3050)(cid:3032)(cid:3031) (cid:3029)(cid:3052) (cid:3002)(cid:3036)(cid:3045)(cid:3029)(cid:3048)(cid:3046) (cid:3036)(cid:3041) (cid:3047)(cid:3035)(cid:3032) (cid:3043)(cid:3032)(cid:3045)(cid:3036)(cid:3042)(cid:3031)\\nOTD and OQD is expressed in percentage (%).\"\n",
            "        ]\n",
            "    ],\n",
            "    [\n",
            "        [\n",
            "            \"Signatory\"\n",
            "        ],\n",
            "        [\n",
            "            \"level\"\n",
            "        ]\n",
            "    ],\n",
            "    [\n",
            "        [\n",
            "            \"Quantity/\"\n",
            "        ],\n",
            "        [\n",
            "            \"Volume*\"\n",
            "        ]\n",
            "    ],\n",
            "    [\n",
            "        [\n",
            "            \"Tools /\"\n",
            "        ],\n",
            "        [\n",
            "            \"formats\"\n",
            "        ]\n",
            "    ],\n",
            "    [\n",
            "        [\n",
            "            \"Release\"\n",
            "        ],\n",
            "        [\n",
            "            \"criteria\"\n",
            "        ]\n",
            "    ]\n",
            "]\n"
          ]
        }
      ]
    },
    {
      "cell_type": "code",
      "source": [
        "import pdfplumber\n",
        "import json\n",
        "\n",
        "def extract_tables_from_pdf(pdf_path, page):\n",
        "    with pdfplumber.open(pdf_path) as pdf:\n",
        "        if page <= len(pdf.pages):\n",
        "            page_obj = pdf.pages[page - 1]\n",
        "            tables = page_obj.extract_tables()\n",
        "            processed_tables = []\n",
        "            for table in tables:\n",
        "                processed_table = []\n",
        "                current_row = []\n",
        "                for row in table:\n",
        "                    # Remove None values\n",
        "                    filtered_row = [item for item in row if item is not None]\n",
        "                    if not filtered_row:\n",
        "                        continue\n",
        "                    if current_row and len(filtered_row) < len(current_row):\n",
        "                        # Append to the last row if the current row is shorter\n",
        "                        current_row[-1] += ' ' + ' '.join(filtered_row)\n",
        "                    else:\n",
        "                        if current_row:\n",
        "                            processed_table.append(current_row)\n",
        "                        current_row = filtered_row\n",
        "                if current_row:\n",
        "                    processed_table.append(current_row)\n",
        "                processed_tables.append(processed_table)\n",
        "\n",
        "            # Convert the processed tables to JSON format\n",
        "            json_output = json.dumps(processed_tables, indent=4)\n",
        "            print(json_output)\n",
        "        else:\n",
        "            print(f\"Page {page} does not exist in the PDF.\")\n",
        "\n",
        "# Example usage\n",
        "extract_tables_from_pdf('/content/Technical Deliverable Specification_SnPS _SP2103303_V1 2 (1) (1).pdf', page=65)\n"
      ],
      "metadata": {
        "colab": {
          "base_uri": "https://localhost:8080/"
        },
        "id": "UOn50P3Ck461",
        "outputId": "803469f2-fb65-4fff-ee5d-3e09231978e2"
      },
      "execution_count": 66,
      "outputs": [
        {
          "output_type": "stream",
          "name": "stdout",
          "text": [
            "[\n",
            "    [\n",
            "        [\n",
            "            \"Batch No.\",\n",
            "            \"Deliverable description &\",\n",
            "            \"Signator\",\n",
            "            \"Quantity/Vol\",\n",
            "            \"Activity shall be done as per \\u2026\",\n",
            "            \"Delivery date / lead-time\",\n",
            "            \"KPI P&M and Tools / formats Release criteria ume* per enabling data y level Technical Task Group   Referentia  l\"\n",
            "        ],\n",
            "        [\n",
            "            \"MWU_04\",\n",
            "            \"5.2.4_IN\\n5.2.4_EX\",\n",
            "            \"Del_IDz1: Update\\nin Jira on the\\nstatus of test.\",\n",
            "            \"N/A\",\n",
            "            \"Refer\\nSection\\n5.2.12\",\n",
            "            \"As\\nmentioned\\nbelow\",\n",
            "            \"As mentioned\\nbelow\",\n",
            "            \"All the CRs should be\\ncorrectly implemented.\\nAcceptance criteria are\\nzero issues and no\\nrejected delivery.\",\n",
            "            \"Defined in Jira ticket.\",\n",
            "            \"OTD>97%, FTR>97%  P&M and Technical Referential \\u25aa Process: A5457, A5456 for model handling or Change Request initiating\\n\\u25aa References: Delivery checklists, Process training documents as given in inputs  Tools and formats \\u25aa Platform Validation \\u2013 depending on model and program, relevant platform testing needs to be done\\n\\u25aa SimWorks Loading of the model \\u2013 snapshot/officialized library.  Release Criteria As defined above  KPI (cid:3041)(cid:3048)(cid:3040)(cid:3029)(cid:3032)(cid:3045) (cid:3042)(cid:3033) (cid:3031)(cid:3032)(cid:3039)(cid:3036)(cid:3049)(cid:3032)(cid:3045)(cid:3036)(cid:3032)(cid:3046) (cid:3043)(cid:3045)(cid:3042)(cid:3049)(cid:3036)(cid:3031)(cid:3032)(cid:3031) (cid:3016)(cid:3015)(cid:2879)(cid:3021)(cid:3010)(cid:3014)(cid:3006) (cid:3029)(cid:3052) (cid:3047)(cid:3035)(cid:3032) (cid:3046)(cid:3048)(cid:3043)(cid:3043)(cid:3039)(cid:3036)(cid:3032)(cid:3045) (cid:3036)(cid:3041) (cid:3047)(cid:3035)(cid:3032) (cid:3043)(cid:3032)(cid:3045)(cid:3036)(cid:3042)(cid:3031)\\n\\ud835\\udc42\\ud835\\udc5b \\ud835\\udc47\\ud835\\udc56\\ud835\\udc5a\\ud835\\udc52 \\ud835\\udc37\\ud835\\udc52\\ud835\\udc59\\ud835\\udc56\\ud835\\udc63\\ud835\\udc52\\ud835\\udc5f\\ud835\\udc66 (\\ud835\\udc42\\ud835\\udc47\\ud835\\udc37)= \\ud835\\udc65 100\\n(cid:3047)(cid:3042)(cid:3047)(cid:3028)(cid:3039) (cid:3041)(cid:3048)(cid:3040)(cid:3029)(cid:3032)(cid:3045) (cid:3042)(cid:3033) (cid:3031)(cid:3032)(cid:3039)(cid:3036)(cid:3049)(cid:3032)(cid:3045)(cid:3036)(cid:3032)(cid:3046) (cid:3043)(cid:3045)(cid:3042)(cid:3049)(cid:3036)(cid:3031)(cid:3032)(cid:3031) (cid:3029)(cid:3052) (cid:3047)(cid:3035)(cid:3032) (cid:3046)(cid:3048)(cid:3043)(cid:3043)(cid:3039)(cid:3036)(cid:3032)(cid:3045) (cid:3036)(cid:3041) (cid:3047)(cid:3035)(cid:3032) (cid:3043)(cid:3032)(cid:3045)(cid:3036)(cid:3042)(cid:3031)\"\n",
            "        ]\n",
            "    ]\n",
            "]\n"
          ]
        }
      ]
    },
    {
      "source": [
        "import pdfplumber\n",
        "import json\n",
        "\n",
        "def extract_tables_from_pdf(pdf_path, page):\n",
        "    with pdfplumber.open(pdf_path) as pdf:\n",
        "        if page <= len(pdf.pages):\n",
        "            page_obj = pdf.pages[page - 1]\n",
        "            tables = page_obj.extract_tables()\n",
        "            processed_tables = []\n",
        "            for table in tables:\n",
        "                processed_table = []\n",
        "                current_row = []\n",
        "                for row in table:\n",
        "                    # Remove None values\n",
        "                    filtered_row = [item for item in row if item is not None]\n",
        "                    if not filtered_row:\n",
        "                        continue\n",
        "                    if current_row and len(filtered_row) < len(current_row):\n",
        "                        # Append to the last row if the current row is shorter\n",
        "                        current_row[-1] += ' ' + ' '.join(filtered_row)\n",
        "                    else:\n",
        "                        if current_row:\n",
        "                            processed_table.append(current_row)\n",
        "                        current_row = filtered_row\n",
        "                if current_row:\n",
        "                    processed_table.append(current_row)\n",
        "                processed_tables.append(processed_table)\n",
        "\n",
        "            # Convert the processed tables to JSON format\n",
        "            json_output = json.dumps(processed_tables, indent=4)\n",
        "            print(json_output)\n",
        "        else:\n",
        "            print(f\"Page {page} does not exist in the PDF.\")\n",
        "\n",
        "# Example usage\n",
        "extract_tables_from_pdf('/content/Technical Deliverable Specification_SnPS _SP2103303_V1 2 (1) (1).pdf', page=100)"
      ],
      "cell_type": "code",
      "metadata": {
        "colab": {
          "base_uri": "https://localhost:8080/"
        },
        "id": "tBqHuuw15ECX",
        "outputId": "080fe6da-4f13-4344-e2fe-02f788f6a364"
      },
      "execution_count": 82,
      "outputs": [
        {
          "output_type": "stream",
          "name": "stdout",
          "text": [
            "[\n",
            "    [\n",
            "        [\n",
            "            \"\",\n",
            "            \"Airbus Group Inputs/Purchaser Furnished Material\",\n",
            "            \" - Requirements and specifications\\n- Geometries\\n- Data\\n- Models\"\n",
            "        ],\n",
            "        [\n",
            "            \"Description of the input\\n(input ID, description)\",\n",
            "            \"Provided on\\n(date/milestone)\",\n",
            "            \"\",\n",
            "            \"Provided by (Airbus\",\n",
            "            \"\",\n",
            "            \"Exchange mode technical focal point/Siglum) Input_ID1, PDMLinkCC, PDM\\nTool for model management T0 AIOEYP Mail| shared folder | Meeting Input_ID2, DEX, input data folder T0 AIOEYP Mail| shared folder | Meeting Input_ID3, CATIA V5,CAD Editor T0 AIOEYP Mail| shared folder | Meeting Input_ID4, MEDUSA, Tracker,\\nKPI T0 AIOEYP Mail| shared folder | Meeting Input_ID5, PDMLinkSV,\\nConfiguration Management Tool T0 AIOEYP Mail| shared folder | Meeting Input_ID6,PDMLinkSSCI,\\nConfiguration Management Tool T0 AIOEYP Mail| shared folder | Meeting\"\n",
            "        ]\n",
            "    ],\n",
            "    [\n",
            "        [\n",
            "            \"Description of the input\"\n",
            "        ],\n",
            "        [\n",
            "            \"(input ID, description)\"\n",
            "        ]\n",
            "    ],\n",
            "    [\n",
            "        [\n",
            "            \"Provided on\"\n",
            "        ],\n",
            "        [\n",
            "            \"(date/milestone)\"\n",
            "        ]\n",
            "    ],\n",
            "    [\n",
            "        [\n",
            "            \"Exchange mode\"\n",
            "        ],\n",
            "        [\n",
            "            \"\"\n",
            "        ]\n",
            "    ],\n",
            "    [\n",
            "        [\n",
            "            \"\",\n",
            "            \"\",\n",
            "            \" Areas of Application Main Applications: A350\"\n",
            "        ]\n",
            "    ]\n",
            "]\n"
          ]
        }
      ]
    },
    {
      "cell_type": "code",
      "source": [],
      "metadata": {
        "id": "nbvYfdVb6azk"
      },
      "execution_count": null,
      "outputs": []
    }
  ]
}